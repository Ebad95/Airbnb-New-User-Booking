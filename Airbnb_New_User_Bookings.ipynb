{
  "nbformat": 4,
  "nbformat_minor": 0,
  "metadata": {
    "colab": {
      "name": "Airbnb_New_User_Bookings",
      "provenance": [],
      "collapsed_sections": [
        "_-NkS6TjMmIH",
        "CQkt_aD4Fhna",
        "MIGjhGrvFlUc",
        "EtOAk4QmLmCw",
        "EiYFH4_6B4tJ",
        "KHeWNXHZXc-8",
        "lSEhm7yDCAcC",
        "wRecNJq9CDSj",
        "v33a_7DWLa1H"
      ],
      "toc_visible": true
    },
    "kernelspec": {
      "display_name": "Python 3",
      "name": "python3"
    }
  },
  "cells": [
    {
      "cell_type": "markdown",
      "metadata": {
        "id": "_-NkS6TjMmIH"
      },
      "source": [
        "# Importing Required Libraries"
      ]
    },
    {
      "cell_type": "code",
      "metadata": {
        "id": "QG2YBynbBST7"
      },
      "source": [
        "import warnings\n",
        "warnings.filterwarnings('ignore')\n",
        "\n",
        "import numpy as np\n",
        "import seaborn as sns\n",
        "import pandas as pd\n",
        "import matplotlib.pyplot as plt\n",
        "\n",
        "%matplotlib inline\n",
        "\n",
        "from sklearn.linear_model import LogisticRegression\n",
        "from sklearn.neighbors import KNeighborsClassifier\n",
        "from sklearn.ensemble import RandomForestClassifier, StackingClassifier\n",
        "from xgboost import XGBClassifier, DMatrix\n",
        "import lightgbm as lgb\n",
        "\n",
        "from sklearn.model_selection import train_test_split, cross_val_score, cross_val_predict, StratifiedKFold\n",
        "from sklearn.metrics import accuracy_score, precision_score, recall_score, f1_score, balanced_accuracy_score\n",
        "from sklearn.model_selection import RandomizedSearchCV\n",
        "from sklearn.metrics import confusion_matrix, classification_report\n",
        "from sklearn.metrics import plot_roc_curve\n",
        "\n",
        "from imblearn.over_sampling import SMOTE\n",
        "from sklearn.utils import class_weight, resample\n",
        "\n",
        "import pickle"
      ],
      "execution_count": 2,
      "outputs": []
    },
    {
      "cell_type": "markdown",
      "metadata": {
        "id": "CQkt_aD4Fhna"
      },
      "source": [
        "# Loading Data"
      ]
    },
    {
      "cell_type": "code",
      "metadata": {
        "colab": {
          "base_uri": "https://localhost:8080/"
        },
        "id": "BNkL8OfDCQvJ",
        "outputId": "f94892c7-09d2-4f09-c977-59ae337ba6d6"
      },
      "source": [
        "from google.colab import drive\n",
        "drive.mount('/content/drive')"
      ],
      "execution_count": 3,
      "outputs": [
        {
          "output_type": "stream",
          "text": [
            "Mounted at /content/drive\n"
          ],
          "name": "stdout"
        }
      ]
    },
    {
      "cell_type": "code",
      "metadata": {
        "id": "OSIfowEUCdkF"
      },
      "source": [
        "age_gender_df = pd.read_csv(\"/content/drive/My Drive/DataSets/airbnb-new-user/age_gender_bkts.csv\")\n",
        "countries_df = pd.read_csv(\"/content/drive/My Drive/DataSets/airbnb-new-user/countries.csv\")\n",
        "sessions_df = pd.read_csv(\"/content/drive/My Drive/DataSets/airbnb-new-user/sessions.csv\")\n",
        "test_df = pd.read_csv(\"/content/drive/My Drive/DataSets/airbnb-new-user/test.csv\")\n",
        "train_df = pd.read_csv(\"/content/drive/My Drive/DataSets/airbnb-new-user/train.csv\")"
      ],
      "execution_count": 4,
      "outputs": []
    },
    {
      "cell_type": "markdown",
      "metadata": {
        "id": "MIGjhGrvFlUc"
      },
      "source": [
        "# EDA Begins"
      ]
    },
    {
      "cell_type": "markdown",
      "metadata": {
        "id": "9JFsT3Ngl6_I"
      },
      "source": [
        "## age_gender_bkts"
      ]
    },
    {
      "cell_type": "code",
      "metadata": {
        "colab": {
          "base_uri": "https://localhost:8080/",
          "height": 204
        },
        "id": "53wSV_ZWErWn",
        "outputId": "313bb400-80d2-456a-f13a-9c5da3f19e7e"
      },
      "source": [
        "age_gender_df.head()"
      ],
      "execution_count": 64,
      "outputs": [
        {
          "output_type": "execute_result",
          "data": {
            "text/html": [
              "<div>\n",
              "<style scoped>\n",
              "    .dataframe tbody tr th:only-of-type {\n",
              "        vertical-align: middle;\n",
              "    }\n",
              "\n",
              "    .dataframe tbody tr th {\n",
              "        vertical-align: top;\n",
              "    }\n",
              "\n",
              "    .dataframe thead th {\n",
              "        text-align: right;\n",
              "    }\n",
              "</style>\n",
              "<table border=\"1\" class=\"dataframe\">\n",
              "  <thead>\n",
              "    <tr style=\"text-align: right;\">\n",
              "      <th></th>\n",
              "      <th>age_bucket</th>\n",
              "      <th>country_destination</th>\n",
              "      <th>gender</th>\n",
              "      <th>population_in_thousands</th>\n",
              "      <th>year</th>\n",
              "    </tr>\n",
              "  </thead>\n",
              "  <tbody>\n",
              "    <tr>\n",
              "      <th>0</th>\n",
              "      <td>100+</td>\n",
              "      <td>AU</td>\n",
              "      <td>male</td>\n",
              "      <td>1.0</td>\n",
              "      <td>2015.0</td>\n",
              "    </tr>\n",
              "    <tr>\n",
              "      <th>1</th>\n",
              "      <td>95-99</td>\n",
              "      <td>AU</td>\n",
              "      <td>male</td>\n",
              "      <td>9.0</td>\n",
              "      <td>2015.0</td>\n",
              "    </tr>\n",
              "    <tr>\n",
              "      <th>2</th>\n",
              "      <td>90-94</td>\n",
              "      <td>AU</td>\n",
              "      <td>male</td>\n",
              "      <td>47.0</td>\n",
              "      <td>2015.0</td>\n",
              "    </tr>\n",
              "    <tr>\n",
              "      <th>3</th>\n",
              "      <td>85-89</td>\n",
              "      <td>AU</td>\n",
              "      <td>male</td>\n",
              "      <td>118.0</td>\n",
              "      <td>2015.0</td>\n",
              "    </tr>\n",
              "    <tr>\n",
              "      <th>4</th>\n",
              "      <td>80-84</td>\n",
              "      <td>AU</td>\n",
              "      <td>male</td>\n",
              "      <td>199.0</td>\n",
              "      <td>2015.0</td>\n",
              "    </tr>\n",
              "  </tbody>\n",
              "</table>\n",
              "</div>"
            ],
            "text/plain": [
              "  age_bucket country_destination gender  population_in_thousands    year\n",
              "0       100+                  AU   male                      1.0  2015.0\n",
              "1      95-99                  AU   male                      9.0  2015.0\n",
              "2      90-94                  AU   male                     47.0  2015.0\n",
              "3      85-89                  AU   male                    118.0  2015.0\n",
              "4      80-84                  AU   male                    199.0  2015.0"
            ]
          },
          "metadata": {
            "tags": []
          },
          "execution_count": 64
        }
      ]
    },
    {
      "cell_type": "code",
      "metadata": {
        "colab": {
          "base_uri": "https://localhost:8080/"
        },
        "id": "N77FiHFoFC7O",
        "outputId": "46be852c-6c70-4b92-d28f-a8b4ebab089f"
      },
      "source": [
        "age_gender_df.info()"
      ],
      "execution_count": 65,
      "outputs": [
        {
          "output_type": "stream",
          "text": [
            "<class 'pandas.core.frame.DataFrame'>\n",
            "RangeIndex: 420 entries, 0 to 419\n",
            "Data columns (total 5 columns):\n",
            " #   Column                   Non-Null Count  Dtype  \n",
            "---  ------                   --------------  -----  \n",
            " 0   age_bucket               420 non-null    object \n",
            " 1   country_destination      420 non-null    object \n",
            " 2   gender                   420 non-null    object \n",
            " 3   population_in_thousands  420 non-null    float64\n",
            " 4   year                     420 non-null    float64\n",
            "dtypes: float64(2), object(3)\n",
            "memory usage: 16.5+ KB\n"
          ],
          "name": "stdout"
        }
      ]
    },
    {
      "cell_type": "code",
      "metadata": {
        "id": "5AdMU-EMmHVM",
        "colab": {
          "base_uri": "https://localhost:8080/"
        },
        "outputId": "1486ef11-cffd-4d19-9cbb-7c1207a8c3de"
      },
      "source": [
        "age_gender_df[\"gender\"].value_counts()"
      ],
      "execution_count": 66,
      "outputs": [
        {
          "output_type": "execute_result",
          "data": {
            "text/plain": [
              "male      210\n",
              "female    210\n",
              "Name: gender, dtype: int64"
            ]
          },
          "metadata": {
            "tags": []
          },
          "execution_count": 66
        }
      ]
    },
    {
      "cell_type": "code",
      "metadata": {
        "id": "CrWRqq9BmZrj",
        "colab": {
          "base_uri": "https://localhost:8080/"
        },
        "outputId": "3591848a-a755-42bb-dc3c-5673751b4290"
      },
      "source": [
        "age_gender_df[\"country_destination\"].value_counts()"
      ],
      "execution_count": 67,
      "outputs": [
        {
          "output_type": "execute_result",
          "data": {
            "text/plain": [
              "ES    42\n",
              "US    42\n",
              "GB    42\n",
              "NL    42\n",
              "PT    42\n",
              "AU    42\n",
              "IT    42\n",
              "CA    42\n",
              "DE    42\n",
              "FR    42\n",
              "Name: country_destination, dtype: int64"
            ]
          },
          "metadata": {
            "tags": []
          },
          "execution_count": 67
        }
      ]
    },
    {
      "cell_type": "code",
      "metadata": {
        "id": "_m08loFJmfqM",
        "colab": {
          "base_uri": "https://localhost:8080/"
        },
        "outputId": "250c41cd-c367-4d72-a9a3-97ff7144bab8"
      },
      "source": [
        "age_gender_df[\"population_in_thousands\"].value_counts()"
      ],
      "execution_count": 68,
      "outputs": [
        {
          "output_type": "execute_result",
          "data": {
            "text/plain": [
              "3.0       6\n",
              "1.0       3\n",
              "9.0       3\n",
              "13.0      3\n",
              "19.0      2\n",
              "         ..\n",
              "405.0     1\n",
              "1166.0    1\n",
              "465.0     1\n",
              "2442.0    1\n",
              "1169.0    1\n",
              "Name: population_in_thousands, Length: 381, dtype: int64"
            ]
          },
          "metadata": {
            "tags": []
          },
          "execution_count": 68
        }
      ]
    },
    {
      "cell_type": "code",
      "metadata": {
        "id": "4A4-1Q3PnnIw",
        "colab": {
          "base_uri": "https://localhost:8080/"
        },
        "outputId": "479c5dcc-895d-4641-8ebb-dc87205fa3af"
      },
      "source": [
        "age_gender_df[\"age_bucket\"].value_counts()"
      ],
      "execution_count": 69,
      "outputs": [
        {
          "output_type": "execute_result",
          "data": {
            "text/plain": [
              "95-99    20\n",
              "70-74    20\n",
              "60-64    20\n",
              "5-9      20\n",
              "50-54    20\n",
              "40-44    20\n",
              "90-94    20\n",
              "65-69    20\n",
              "0-4      20\n",
              "100+     20\n",
              "15-19    20\n",
              "85-89    20\n",
              "80-84    20\n",
              "30-34    20\n",
              "20-24    20\n",
              "75-79    20\n",
              "45-49    20\n",
              "55-59    20\n",
              "35-39    20\n",
              "10-14    20\n",
              "25-29    20\n",
              "Name: age_bucket, dtype: int64"
            ]
          },
          "metadata": {
            "tags": []
          },
          "execution_count": 69
        }
      ]
    },
    {
      "cell_type": "code",
      "metadata": {
        "id": "QFzae_z_onk1",
        "colab": {
          "base_uri": "https://localhost:8080/",
          "height": 762
        },
        "outputId": "ce801705-e2c9-4ae2-d6e1-ceecc5f3223e"
      },
      "source": [
        "age_bkts_df = age_gender_df[[\"age_bucket\", \"population_in_thousands\"]]\n",
        "age_bkts_df = age_bkts_df.groupby(\"age_bucket\")\n",
        "age_bkts_df.describe()"
      ],
      "execution_count": 70,
      "outputs": [
        {
          "output_type": "execute_result",
          "data": {
            "text/html": [
              "<div>\n",
              "<style scoped>\n",
              "    .dataframe tbody tr th:only-of-type {\n",
              "        vertical-align: middle;\n",
              "    }\n",
              "\n",
              "    .dataframe tbody tr th {\n",
              "        vertical-align: top;\n",
              "    }\n",
              "\n",
              "    .dataframe thead tr th {\n",
              "        text-align: left;\n",
              "    }\n",
              "\n",
              "    .dataframe thead tr:last-of-type th {\n",
              "        text-align: right;\n",
              "    }\n",
              "</style>\n",
              "<table border=\"1\" class=\"dataframe\">\n",
              "  <thead>\n",
              "    <tr>\n",
              "      <th></th>\n",
              "      <th colspan=\"8\" halign=\"left\">population_in_thousands</th>\n",
              "    </tr>\n",
              "    <tr>\n",
              "      <th></th>\n",
              "      <th>count</th>\n",
              "      <th>mean</th>\n",
              "      <th>std</th>\n",
              "      <th>min</th>\n",
              "      <th>25%</th>\n",
              "      <th>50%</th>\n",
              "      <th>75%</th>\n",
              "      <th>max</th>\n",
              "    </tr>\n",
              "    <tr>\n",
              "      <th>age_bucket</th>\n",
              "      <th></th>\n",
              "      <th></th>\n",
              "      <th></th>\n",
              "      <th></th>\n",
              "      <th></th>\n",
              "      <th></th>\n",
              "      <th></th>\n",
              "      <th></th>\n",
              "    </tr>\n",
              "  </thead>\n",
              "  <tbody>\n",
              "    <tr>\n",
              "      <th>0-4</th>\n",
              "      <td>20.0</td>\n",
              "      <td>2139.30</td>\n",
              "      <td>2934.903676</td>\n",
              "      <td>225.0</td>\n",
              "      <td>813.25</td>\n",
              "      <td>1327.5</td>\n",
              "      <td>1900.50</td>\n",
              "      <td>10788.0</td>\n",
              "    </tr>\n",
              "    <tr>\n",
              "      <th>10-14</th>\n",
              "      <td>20.0</td>\n",
              "      <td>2112.20</td>\n",
              "      <td>2942.160531</td>\n",
              "      <td>269.0</td>\n",
              "      <td>734.00</td>\n",
              "      <td>1288.5</td>\n",
              "      <td>1823.00</td>\n",
              "      <td>10771.0</td>\n",
              "    </tr>\n",
              "    <tr>\n",
              "      <th>100+</th>\n",
              "      <td>20.0</td>\n",
              "      <td>8.75</td>\n",
              "      <td>13.587436</td>\n",
              "      <td>0.0</td>\n",
              "      <td>1.75</td>\n",
              "      <td>3.0</td>\n",
              "      <td>13.00</td>\n",
              "      <td>61.0</td>\n",
              "    </tr>\n",
              "    <tr>\n",
              "      <th>15-19</th>\n",
              "      <td>20.0</td>\n",
              "      <td>2167.35</td>\n",
              "      <td>3011.232066</td>\n",
              "      <td>266.0</td>\n",
              "      <td>760.25</td>\n",
              "      <td>1249.0</td>\n",
              "      <td>1930.50</td>\n",
              "      <td>11025.0</td>\n",
              "    </tr>\n",
              "    <tr>\n",
              "      <th>20-24</th>\n",
              "      <td>20.0</td>\n",
              "      <td>2304.15</td>\n",
              "      <td>3158.469487</td>\n",
              "      <td>275.0</td>\n",
              "      <td>811.75</td>\n",
              "      <td>1358.5</td>\n",
              "      <td>2045.25</td>\n",
              "      <td>11601.0</td>\n",
              "    </tr>\n",
              "    <tr>\n",
              "      <th>25-29</th>\n",
              "      <td>20.0</td>\n",
              "      <td>2386.05</td>\n",
              "      <td>3095.217422</td>\n",
              "      <td>299.0</td>\n",
              "      <td>884.00</td>\n",
              "      <td>1478.5</td>\n",
              "      <td>2144.75</td>\n",
              "      <td>11385.0</td>\n",
              "    </tr>\n",
              "    <tr>\n",
              "      <th>30-34</th>\n",
              "      <td>20.0</td>\n",
              "      <td>2420.40</td>\n",
              "      <td>2993.571066</td>\n",
              "      <td>362.0</td>\n",
              "      <td>877.00</td>\n",
              "      <td>1769.5</td>\n",
              "      <td>2131.50</td>\n",
              "      <td>10984.0</td>\n",
              "    </tr>\n",
              "    <tr>\n",
              "      <th>35-39</th>\n",
              "      <td>20.0</td>\n",
              "      <td>2362.70</td>\n",
              "      <td>2816.437188</td>\n",
              "      <td>414.0</td>\n",
              "      <td>800.00</td>\n",
              "      <td>1910.0</td>\n",
              "      <td>2117.00</td>\n",
              "      <td>10352.0</td>\n",
              "    </tr>\n",
              "    <tr>\n",
              "      <th>40-44</th>\n",
              "      <td>20.0</td>\n",
              "      <td>2458.50</td>\n",
              "      <td>2769.468969</td>\n",
              "      <td>416.0</td>\n",
              "      <td>833.50</td>\n",
              "      <td>2076.5</td>\n",
              "      <td>2415.25</td>\n",
              "      <td>10308.0</td>\n",
              "    </tr>\n",
              "    <tr>\n",
              "      <th>45-49</th>\n",
              "      <td>20.0</td>\n",
              "      <td>2593.20</td>\n",
              "      <td>2878.026382</td>\n",
              "      <td>386.0</td>\n",
              "      <td>789.25</td>\n",
              "      <td>2051.5</td>\n",
              "      <td>2477.00</td>\n",
              "      <td>10659.0</td>\n",
              "    </tr>\n",
              "    <tr>\n",
              "      <th>5-9</th>\n",
              "      <td>20.0</td>\n",
              "      <td>2123.85</td>\n",
              "      <td>2895.125145</td>\n",
              "      <td>250.0</td>\n",
              "      <td>774.25</td>\n",
              "      <td>1351.0</td>\n",
              "      <td>1913.25</td>\n",
              "      <td>10632.0</td>\n",
              "    </tr>\n",
              "    <tr>\n",
              "      <th>50-54</th>\n",
              "      <td>20.0</td>\n",
              "      <td>2650.75</td>\n",
              "      <td>3073.033969</td>\n",
              "      <td>378.0</td>\n",
              "      <td>793.00</td>\n",
              "      <td>1928.0</td>\n",
              "      <td>2334.75</td>\n",
              "      <td>11413.0</td>\n",
              "    </tr>\n",
              "    <tr>\n",
              "      <th>55-59</th>\n",
              "      <td>20.0</td>\n",
              "      <td>2444.10</td>\n",
              "      <td>3022.171525</td>\n",
              "      <td>343.0</td>\n",
              "      <td>732.75</td>\n",
              "      <td>1728.0</td>\n",
              "      <td>2083.00</td>\n",
              "      <td>11264.0</td>\n",
              "    </tr>\n",
              "    <tr>\n",
              "      <th>60-64</th>\n",
              "      <td>20.0</td>\n",
              "      <td>2171.35</td>\n",
              "      <td>2645.857960</td>\n",
              "      <td>308.0</td>\n",
              "      <td>654.00</td>\n",
              "      <td>1504.5</td>\n",
              "      <td>1934.50</td>\n",
              "      <td>10004.0</td>\n",
              "    </tr>\n",
              "    <tr>\n",
              "      <th>65-69</th>\n",
              "      <td>20.0</td>\n",
              "      <td>1909.80</td>\n",
              "      <td>2186.596866</td>\n",
              "      <td>267.0</td>\n",
              "      <td>587.50</td>\n",
              "      <td>1483.5</td>\n",
              "      <td>1916.00</td>\n",
              "      <td>8483.0</td>\n",
              "    </tr>\n",
              "    <tr>\n",
              "      <th>70-74</th>\n",
              "      <td>20.0</td>\n",
              "      <td>1464.30</td>\n",
              "      <td>1581.379148</td>\n",
              "      <td>214.0</td>\n",
              "      <td>432.25</td>\n",
              "      <td>1071.5</td>\n",
              "      <td>1458.25</td>\n",
              "      <td>6179.0</td>\n",
              "    </tr>\n",
              "    <tr>\n",
              "      <th>75-79</th>\n",
              "      <td>20.0</td>\n",
              "      <td>1185.20</td>\n",
              "      <td>1168.385508</td>\n",
              "      <td>177.0</td>\n",
              "      <td>328.00</td>\n",
              "      <td>912.0</td>\n",
              "      <td>1300.75</td>\n",
              "      <td>4532.0</td>\n",
              "    </tr>\n",
              "    <tr>\n",
              "      <th>80-84</th>\n",
              "      <td>20.0</td>\n",
              "      <td>854.05</td>\n",
              "      <td>823.311252</td>\n",
              "      <td>122.0</td>\n",
              "      <td>246.75</td>\n",
              "      <td>686.5</td>\n",
              "      <td>1046.25</td>\n",
              "      <td>3394.0</td>\n",
              "    </tr>\n",
              "    <tr>\n",
              "      <th>85-89</th>\n",
              "      <td>20.0</td>\n",
              "      <td>548.10</td>\n",
              "      <td>574.478977</td>\n",
              "      <td>59.0</td>\n",
              "      <td>172.00</td>\n",
              "      <td>385.0</td>\n",
              "      <td>661.00</td>\n",
              "      <td>2459.0</td>\n",
              "    </tr>\n",
              "    <tr>\n",
              "      <th>90-94</th>\n",
              "      <td>20.0</td>\n",
              "      <td>247.55</td>\n",
              "      <td>276.945268</td>\n",
              "      <td>19.0</td>\n",
              "      <td>68.75</td>\n",
              "      <td>153.5</td>\n",
              "      <td>341.50</td>\n",
              "      <td>1193.0</td>\n",
              "    </tr>\n",
              "    <tr>\n",
              "      <th>95-99</th>\n",
              "      <td>20.0</td>\n",
              "      <td>54.15</td>\n",
              "      <td>79.150938</td>\n",
              "      <td>3.0</td>\n",
              "      <td>14.50</td>\n",
              "      <td>23.5</td>\n",
              "      <td>73.00</td>\n",
              "      <td>361.0</td>\n",
              "    </tr>\n",
              "  </tbody>\n",
              "</table>\n",
              "</div>"
            ],
            "text/plain": [
              "           population_in_thousands           ...                  \n",
              "                             count     mean  ...      75%      max\n",
              "age_bucket                                   ...                  \n",
              "0-4                           20.0  2139.30  ...  1900.50  10788.0\n",
              "10-14                         20.0  2112.20  ...  1823.00  10771.0\n",
              "100+                          20.0     8.75  ...    13.00     61.0\n",
              "15-19                         20.0  2167.35  ...  1930.50  11025.0\n",
              "20-24                         20.0  2304.15  ...  2045.25  11601.0\n",
              "25-29                         20.0  2386.05  ...  2144.75  11385.0\n",
              "30-34                         20.0  2420.40  ...  2131.50  10984.0\n",
              "35-39                         20.0  2362.70  ...  2117.00  10352.0\n",
              "40-44                         20.0  2458.50  ...  2415.25  10308.0\n",
              "45-49                         20.0  2593.20  ...  2477.00  10659.0\n",
              "5-9                           20.0  2123.85  ...  1913.25  10632.0\n",
              "50-54                         20.0  2650.75  ...  2334.75  11413.0\n",
              "55-59                         20.0  2444.10  ...  2083.00  11264.0\n",
              "60-64                         20.0  2171.35  ...  1934.50  10004.0\n",
              "65-69                         20.0  1909.80  ...  1916.00   8483.0\n",
              "70-74                         20.0  1464.30  ...  1458.25   6179.0\n",
              "75-79                         20.0  1185.20  ...  1300.75   4532.0\n",
              "80-84                         20.0   854.05  ...  1046.25   3394.0\n",
              "85-89                         20.0   548.10  ...   661.00   2459.0\n",
              "90-94                         20.0   247.55  ...   341.50   1193.0\n",
              "95-99                         20.0    54.15  ...    73.00    361.0\n",
              "\n",
              "[21 rows x 8 columns]"
            ]
          },
          "metadata": {
            "tags": []
          },
          "execution_count": 70
        }
      ]
    },
    {
      "cell_type": "markdown",
      "metadata": {
        "id": "U3bBmsDhpNDb"
      },
      "source": [
        "From my observations on age_gender_bkts.csv, I conclude that it is just a random sample of the actual data. Most of the Columns have equal amount of value counts of different instances, the only column which has varying values is the `population_in_thousands` column and we found that most of the people that are into travelling have age less than 65 and the number continues to drop after 65."
      ]
    },
    {
      "cell_type": "markdown",
      "metadata": {
        "id": "TClxv4qBrclY"
      },
      "source": [
        "## countries"
      ]
    },
    {
      "cell_type": "code",
      "metadata": {
        "id": "kHqkKDV2rpvx",
        "colab": {
          "base_uri": "https://localhost:8080/",
          "height": 359
        },
        "outputId": "4efe1a4e-3c3f-43ac-e91e-1178cebcddb2"
      },
      "source": [
        "countries_df"
      ],
      "execution_count": 71,
      "outputs": [
        {
          "output_type": "execute_result",
          "data": {
            "text/html": [
              "<div>\n",
              "<style scoped>\n",
              "    .dataframe tbody tr th:only-of-type {\n",
              "        vertical-align: middle;\n",
              "    }\n",
              "\n",
              "    .dataframe tbody tr th {\n",
              "        vertical-align: top;\n",
              "    }\n",
              "\n",
              "    .dataframe thead th {\n",
              "        text-align: right;\n",
              "    }\n",
              "</style>\n",
              "<table border=\"1\" class=\"dataframe\">\n",
              "  <thead>\n",
              "    <tr style=\"text-align: right;\">\n",
              "      <th></th>\n",
              "      <th>country_destination</th>\n",
              "      <th>lat_destination</th>\n",
              "      <th>lng_destination</th>\n",
              "      <th>distance_km</th>\n",
              "      <th>destination_km2</th>\n",
              "      <th>destination_language</th>\n",
              "      <th>language_levenshtein_distance</th>\n",
              "    </tr>\n",
              "  </thead>\n",
              "  <tbody>\n",
              "    <tr>\n",
              "      <th>0</th>\n",
              "      <td>AU</td>\n",
              "      <td>-26.853388</td>\n",
              "      <td>133.275160</td>\n",
              "      <td>15297.7440</td>\n",
              "      <td>7741220.0</td>\n",
              "      <td>eng</td>\n",
              "      <td>0.00</td>\n",
              "    </tr>\n",
              "    <tr>\n",
              "      <th>1</th>\n",
              "      <td>CA</td>\n",
              "      <td>62.393303</td>\n",
              "      <td>-96.818146</td>\n",
              "      <td>2828.1333</td>\n",
              "      <td>9984670.0</td>\n",
              "      <td>eng</td>\n",
              "      <td>0.00</td>\n",
              "    </tr>\n",
              "    <tr>\n",
              "      <th>2</th>\n",
              "      <td>DE</td>\n",
              "      <td>51.165707</td>\n",
              "      <td>10.452764</td>\n",
              "      <td>7879.5680</td>\n",
              "      <td>357022.0</td>\n",
              "      <td>deu</td>\n",
              "      <td>72.61</td>\n",
              "    </tr>\n",
              "    <tr>\n",
              "      <th>3</th>\n",
              "      <td>ES</td>\n",
              "      <td>39.896027</td>\n",
              "      <td>-2.487694</td>\n",
              "      <td>7730.7240</td>\n",
              "      <td>505370.0</td>\n",
              "      <td>spa</td>\n",
              "      <td>92.25</td>\n",
              "    </tr>\n",
              "    <tr>\n",
              "      <th>4</th>\n",
              "      <td>FR</td>\n",
              "      <td>46.232193</td>\n",
              "      <td>2.209667</td>\n",
              "      <td>7682.9450</td>\n",
              "      <td>643801.0</td>\n",
              "      <td>fra</td>\n",
              "      <td>92.06</td>\n",
              "    </tr>\n",
              "    <tr>\n",
              "      <th>5</th>\n",
              "      <td>GB</td>\n",
              "      <td>54.633220</td>\n",
              "      <td>-3.432277</td>\n",
              "      <td>6883.6590</td>\n",
              "      <td>243610.0</td>\n",
              "      <td>eng</td>\n",
              "      <td>0.00</td>\n",
              "    </tr>\n",
              "    <tr>\n",
              "      <th>6</th>\n",
              "      <td>IT</td>\n",
              "      <td>41.873990</td>\n",
              "      <td>12.564167</td>\n",
              "      <td>8636.6310</td>\n",
              "      <td>301340.0</td>\n",
              "      <td>ita</td>\n",
              "      <td>89.40</td>\n",
              "    </tr>\n",
              "    <tr>\n",
              "      <th>7</th>\n",
              "      <td>NL</td>\n",
              "      <td>52.133057</td>\n",
              "      <td>5.295250</td>\n",
              "      <td>7524.3203</td>\n",
              "      <td>41543.0</td>\n",
              "      <td>nld</td>\n",
              "      <td>63.22</td>\n",
              "    </tr>\n",
              "    <tr>\n",
              "      <th>8</th>\n",
              "      <td>PT</td>\n",
              "      <td>39.553444</td>\n",
              "      <td>-7.839319</td>\n",
              "      <td>7355.2534</td>\n",
              "      <td>92090.0</td>\n",
              "      <td>por</td>\n",
              "      <td>95.45</td>\n",
              "    </tr>\n",
              "    <tr>\n",
              "      <th>9</th>\n",
              "      <td>US</td>\n",
              "      <td>36.966427</td>\n",
              "      <td>-95.844030</td>\n",
              "      <td>0.0000</td>\n",
              "      <td>9826675.0</td>\n",
              "      <td>eng</td>\n",
              "      <td>0.00</td>\n",
              "    </tr>\n",
              "  </tbody>\n",
              "</table>\n",
              "</div>"
            ],
            "text/plain": [
              "  country_destination  ...  language_levenshtein_distance\n",
              "0                  AU  ...                           0.00\n",
              "1                  CA  ...                           0.00\n",
              "2                  DE  ...                          72.61\n",
              "3                  ES  ...                          92.25\n",
              "4                  FR  ...                          92.06\n",
              "5                  GB  ...                           0.00\n",
              "6                  IT  ...                          89.40\n",
              "7                  NL  ...                          63.22\n",
              "8                  PT  ...                          95.45\n",
              "9                  US  ...                           0.00\n",
              "\n",
              "[10 rows x 7 columns]"
            ]
          },
          "metadata": {
            "tags": []
          },
          "execution_count": 71
        }
      ]
    },
    {
      "cell_type": "code",
      "metadata": {
        "id": "TKJL5WUzrrQy",
        "colab": {
          "base_uri": "https://localhost:8080/"
        },
        "outputId": "515f0aed-8221-4589-e3ba-bd43531f8ae8"
      },
      "source": [
        "countries_df.info()"
      ],
      "execution_count": 72,
      "outputs": [
        {
          "output_type": "stream",
          "text": [
            "<class 'pandas.core.frame.DataFrame'>\n",
            "RangeIndex: 10 entries, 0 to 9\n",
            "Data columns (total 7 columns):\n",
            " #   Column                         Non-Null Count  Dtype  \n",
            "---  ------                         --------------  -----  \n",
            " 0   country_destination            10 non-null     object \n",
            " 1   lat_destination                10 non-null     float64\n",
            " 2   lng_destination                10 non-null     float64\n",
            " 3   distance_km                    10 non-null     float64\n",
            " 4   destination_km2                10 non-null     float64\n",
            " 5   destination_language           10 non-null     object \n",
            " 6   language_levenshtein_distance  10 non-null     float64\n",
            "dtypes: float64(5), object(2)\n",
            "memory usage: 688.0+ bytes\n"
          ],
          "name": "stdout"
        }
      ]
    },
    {
      "cell_type": "code",
      "metadata": {
        "id": "8YuyF6oPsiyG",
        "colab": {
          "base_uri": "https://localhost:8080/",
          "height": 291
        },
        "outputId": "185496b4-7621-48ef-858b-0a513dba7a1e"
      },
      "source": [
        "countries_df[\"destination_language \"].value_counts().plot(kind=\"bar\", color=\"salmon\")\n"
      ],
      "execution_count": 73,
      "outputs": [
        {
          "output_type": "execute_result",
          "data": {
            "text/plain": [
              "<matplotlib.axes._subplots.AxesSubplot at 0x7fb7218eb9e8>"
            ]
          },
          "metadata": {
            "tags": []
          },
          "execution_count": 73
        },
        {
          "output_type": "display_data",
          "data": {
            "image/png": "[encoded data removed]",
            "text/plain": [
              "<Figure size 432x288 with 1 Axes>"
            ]
          },
          "metadata": {
            "tags": []
          }
        }
      ]
    },
    {
      "cell_type": "markdown",
      "metadata": {
        "id": "j_HL1sqEsUjM"
      },
      "source": [
        "* We can easily observe that most of destination countries have English as a common language, and thus people are visiting there more"
      ]
    },
    {
      "cell_type": "markdown",
      "metadata": {
        "id": "l_8RbMxatc3T"
      },
      "source": [
        "## sessions"
      ]
    },
    {
      "cell_type": "code",
      "metadata": {
        "id": "UlBTDt6dtqTi",
        "colab": {
          "base_uri": "https://localhost:8080/",
          "height": 204
        },
        "outputId": "a6f7db03-adf7-40ec-da76-2ea5189765d8"
      },
      "source": [
        "sessions_df.head()"
      ],
      "execution_count": 74,
      "outputs": [
        {
          "output_type": "execute_result",
          "data": {
            "text/html": [
              "<div>\n",
              "<style scoped>\n",
              "    .dataframe tbody tr th:only-of-type {\n",
              "        vertical-align: middle;\n",
              "    }\n",
              "\n",
              "    .dataframe tbody tr th {\n",
              "        vertical-align: top;\n",
              "    }\n",
              "\n",
              "    .dataframe thead th {\n",
              "        text-align: right;\n",
              "    }\n",
              "</style>\n",
              "<table border=\"1\" class=\"dataframe\">\n",
              "  <thead>\n",
              "    <tr style=\"text-align: right;\">\n",
              "      <th></th>\n",
              "      <th>user_id</th>\n",
              "      <th>action</th>\n",
              "      <th>action_type</th>\n",
              "      <th>action_detail</th>\n",
              "      <th>device_type</th>\n",
              "      <th>secs_elapsed</th>\n",
              "    </tr>\n",
              "  </thead>\n",
              "  <tbody>\n",
              "    <tr>\n",
              "      <th>0</th>\n",
              "      <td>d1mm9tcy42</td>\n",
              "      <td>lookup</td>\n",
              "      <td>NaN</td>\n",
              "      <td>NaN</td>\n",
              "      <td>Windows Desktop</td>\n",
              "      <td>319.0</td>\n",
              "    </tr>\n",
              "    <tr>\n",
              "      <th>1</th>\n",
              "      <td>d1mm9tcy42</td>\n",
              "      <td>search_results</td>\n",
              "      <td>click</td>\n",
              "      <td>view_search_results</td>\n",
              "      <td>Windows Desktop</td>\n",
              "      <td>67753.0</td>\n",
              "    </tr>\n",
              "    <tr>\n",
              "      <th>2</th>\n",
              "      <td>d1mm9tcy42</td>\n",
              "      <td>lookup</td>\n",
              "      <td>NaN</td>\n",
              "      <td>NaN</td>\n",
              "      <td>Windows Desktop</td>\n",
              "      <td>301.0</td>\n",
              "    </tr>\n",
              "    <tr>\n",
              "      <th>3</th>\n",
              "      <td>d1mm9tcy42</td>\n",
              "      <td>search_results</td>\n",
              "      <td>click</td>\n",
              "      <td>view_search_results</td>\n",
              "      <td>Windows Desktop</td>\n",
              "      <td>22141.0</td>\n",
              "    </tr>\n",
              "    <tr>\n",
              "      <th>4</th>\n",
              "      <td>d1mm9tcy42</td>\n",
              "      <td>lookup</td>\n",
              "      <td>NaN</td>\n",
              "      <td>NaN</td>\n",
              "      <td>Windows Desktop</td>\n",
              "      <td>435.0</td>\n",
              "    </tr>\n",
              "  </tbody>\n",
              "</table>\n",
              "</div>"
            ],
            "text/plain": [
              "      user_id          action  ...      device_type secs_elapsed\n",
              "0  d1mm9tcy42          lookup  ...  Windows Desktop        319.0\n",
              "1  d1mm9tcy42  search_results  ...  Windows Desktop      67753.0\n",
              "2  d1mm9tcy42          lookup  ...  Windows Desktop        301.0\n",
              "3  d1mm9tcy42  search_results  ...  Windows Desktop      22141.0\n",
              "4  d1mm9tcy42          lookup  ...  Windows Desktop        435.0\n",
              "\n",
              "[5 rows x 6 columns]"
            ]
          },
          "metadata": {
            "tags": []
          },
          "execution_count": 74
        }
      ]
    },
    {
      "cell_type": "code",
      "metadata": {
        "id": "IyrzHMC8trlL",
        "colab": {
          "base_uri": "https://localhost:8080/"
        },
        "outputId": "5b2d90a2-c8a9-4e16-e0ec-518f8205a979"
      },
      "source": [
        "action_series = pd.Series(sessions_df[\"action\"].value_counts()>5000)\n",
        "action_series = action_series[action_series==True]\n",
        "pd.DataFrame(action_series).T.columns"
      ],
      "execution_count": 75,
      "outputs": [
        {
          "output_type": "execute_result",
          "data": {
            "text/plain": [
              "Index(['show', 'index', 'search_results', 'personalize', 'search',\n",
              "       'ajax_refresh_subtotal', 'update', 'similar_listings',\n",
              "       'social_connections', 'reviews', 'active', 'similar_listings_v2',\n",
              "       'lookup', 'create', 'dashboard', 'header_userpic', 'collections',\n",
              "       'edit', 'campaigns', 'track_page_view', 'unavailabilities', 'qt2',\n",
              "       'notifications', 'confirm_email', 'requested', 'identity',\n",
              "       'ajax_check_dates', 'show_personalize', 'ask_question', 'listings',\n",
              "       'authenticate', 'calendar_tab_inner2', 'travel_plans_current',\n",
              "       'edit_verification', 'ajax_lwlb_contact', 'other_hosting_reviews_first',\n",
              "       'recommendations', 'impressions', 'manage_listing', 'click',\n",
              "       'complete_status', 'ajax_photo_widget_form_iframe',\n",
              "       'payment_instruments', 'message_to_host_focus', 'verify',\n",
              "       'payment_methods', 'cancellation_policies', 'callback', 'settings',\n",
              "       'custom_recommended_destinations', 'pending', 'profile_pic',\n",
              "       'populate_help_dropdown', 'message_to_host_change', 'ajax_image_upload',\n",
              "       'view', 'kba_update', 'references', 'my', 'ajax_get_referrals_amt',\n",
              "       'new', 'agree_terms_check', 'apply_reservation', 'connect',\n",
              "       'recommended_listings', 'faq', 'populate_from_facebook', 'account',\n",
              "       'available', 'jumio_token', 'qt_reply_v2', 'signup_login',\n",
              "       'request_new_confirm_email', 'kba', 'handle_vanity_url',\n",
              "       'coupon_field_focus', 'phone_number_widget', 'open_graph_setting',\n",
              "       'set_user', 'faq_category', 'apply_coupon_click', 'reviews_new',\n",
              "       'apply_coupon_error', 'apply_coupon_error_type',\n",
              "       'localization_settings', 'languages_multiselect', 'at_checkpoint',\n",
              "       'jumio_redirect', 'delete'],\n",
              "      dtype='object')"
            ]
          },
          "metadata": {
            "tags": []
          },
          "execution_count": 75
        }
      ]
    },
    {
      "cell_type": "code",
      "metadata": {
        "id": "xCe9vNjBuhgH",
        "colab": {
          "base_uri": "https://localhost:8080/"
        },
        "outputId": "dfe61a2f-ff18-412b-a3bb-589a207f370c"
      },
      "source": [
        "sessions_df[\"action_type\"].value_counts()"
      ],
      "execution_count": 76,
      "outputs": [
        {
          "output_type": "execute_result",
          "data": {
            "text/plain": [
              "view                3560902\n",
              "data                2103770\n",
              "click               1996183\n",
              "-unknown-           1031170\n",
              "submit               623357\n",
              "message_post          87103\n",
              "partner_callback      19132\n",
              "booking_request       18773\n",
              "modify                 1139\n",
              "booking_response          4\n",
              "Name: action_type, dtype: int64"
            ]
          },
          "metadata": {
            "tags": []
          },
          "execution_count": 76
        }
      ]
    },
    {
      "cell_type": "code",
      "metadata": {
        "id": "7MqiKO7bumdV",
        "colab": {
          "base_uri": "https://localhost:8080/"
        },
        "outputId": "645bb07a-6a89-4450-a1b3-d67efaacf95c"
      },
      "source": [
        "sessions_df[\"action_detail\"].value_counts()"
      ],
      "execution_count": 77,
      "outputs": [
        {
          "output_type": "execute_result",
          "data": {
            "text/plain": [
              "view_search_results         1776885\n",
              "p3                          1376550\n",
              "-unknown-                   1031141\n",
              "wishlist_content_update      706824\n",
              "user_profile                 656839\n",
              "                             ...   \n",
              "special_offer_field               3\n",
              "host_respond_page                 2\n",
              "host_refund_guest                 2\n",
              "tos_2014                          2\n",
              "host_standard_suspension          1\n",
              "Name: action_detail, Length: 155, dtype: int64"
            ]
          },
          "metadata": {
            "tags": []
          },
          "execution_count": 77
        }
      ]
    },
    {
      "cell_type": "code",
      "metadata": {
        "id": "dn50z1Utupra",
        "colab": {
          "base_uri": "https://localhost:8080/"
        },
        "outputId": "3a822129-a8ea-456f-8ea0-920ca822944c"
      },
      "source": [
        "sessions_df[\"device_type\"].value_counts()"
      ],
      "execution_count": 78,
      "outputs": [
        {
          "output_type": "execute_result",
          "data": {
            "text/plain": [
              "Mac Desktop                         3594286\n",
              "Windows Desktop                     2658539\n",
              "iPhone                              2105031\n",
              "Android Phone                        839637\n",
              "iPad Tablet                          683414\n",
              "Android App Unknown Phone/Tablet     273652\n",
              "-unknown-                            211279\n",
              "Tablet                               139886\n",
              "Linux Desktop                         28373\n",
              "Chromebook                            22348\n",
              "iPodtouch                              8198\n",
              "Windows Phone                          2047\n",
              "Blackberry                              979\n",
              "Opera Phone                              68\n",
              "Name: device_type, dtype: int64"
            ]
          },
          "metadata": {
            "tags": []
          },
          "execution_count": 78
        }
      ]
    },
    {
      "cell_type": "code",
      "metadata": {
        "id": "lLmaeFbCuvAK",
        "colab": {
          "base_uri": "https://localhost:8080/"
        },
        "outputId": "60ebc27c-eb65-4424-b700-a57979cab6d0"
      },
      "source": [
        "sessions_df.info()"
      ],
      "execution_count": 79,
      "outputs": [
        {
          "output_type": "stream",
          "text": [
            "<class 'pandas.core.frame.DataFrame'>\n",
            "RangeIndex: 10567737 entries, 0 to 10567736\n",
            "Data columns (total 6 columns):\n",
            " #   Column         Dtype  \n",
            "---  ------         -----  \n",
            " 0   user_id        object \n",
            " 1   action         object \n",
            " 2   action_type    object \n",
            " 3   action_detail  object \n",
            " 4   device_type    object \n",
            " 5   secs_elapsed   float64\n",
            "dtypes: float64(1), object(5)\n",
            "memory usage: 483.8+ MB\n"
          ],
          "name": "stdout"
        }
      ]
    },
    {
      "cell_type": "code",
      "metadata": {
        "id": "OiPQ_43BuyfI",
        "colab": {
          "base_uri": "https://localhost:8080/",
          "height": 744
        },
        "outputId": "b92b3ab6-1aa5-41a7-e677-6ad16b501b23"
      },
      "source": [
        "\n",
        "g = sns.catplot(\n",
        "    data=sessions_df, kind=\"bar\",\n",
        "    x=\"secs_elapsed\", y=\"action_type\",\n",
        "    height=10\n",
        ")"
      ],
      "execution_count": 80,
      "outputs": [
        {
          "output_type": "display_data",
          "data": {
            "image/png": "[encoded data removed]",
            "text/plain": [
              "<Figure size 720x720 with 1 Axes>"
            ]
          },
          "metadata": {
            "tags": []
          }
        }
      ]
    },
    {
      "cell_type": "markdown",
      "metadata": {
        "id": "3y0DfB1-2pqi"
      },
      "source": [
        "* Here we can observe that people who have actually made a booking have spent alost around 50000 (+/- 2000) seconds on Airbnb app"
      ]
    },
    {
      "cell_type": "markdown",
      "metadata": {
        "id": "mdOl987B8cV-"
      },
      "source": [
        "## train and test dataframes"
      ]
    },
    {
      "cell_type": "code",
      "metadata": {
        "id": "5JTtaFWR8mKl",
        "colab": {
          "base_uri": "https://localhost:8080/"
        },
        "outputId": "a63f23bf-7b2d-4ce6-d158-97477e76b8ca"
      },
      "source": [
        "train_df.info()"
      ],
      "execution_count": 81,
      "outputs": [
        {
          "output_type": "stream",
          "text": [
            "<class 'pandas.core.frame.DataFrame'>\n",
            "RangeIndex: 170137 entries, 0 to 170136\n",
            "Data columns (total 16 columns):\n",
            " #   Column                   Non-Null Count   Dtype  \n",
            "---  ------                   --------------   -----  \n",
            " 0   id                       170137 non-null  object \n",
            " 1   date_account_created     170137 non-null  object \n",
            " 2   timestamp_first_active   170137 non-null  int64  \n",
            " 3   date_first_booking       72330 non-null   object \n",
            " 4   gender                   170137 non-null  object \n",
            " 5   age                      101368 non-null  float64\n",
            " 6   signup_method            170137 non-null  object \n",
            " 7   signup_flow              170137 non-null  int64  \n",
            " 8   language                 170137 non-null  object \n",
            " 9   affiliate_channel        170137 non-null  object \n",
            " 10  affiliate_provider       170137 non-null  object \n",
            " 11  first_affiliate_tracked  164110 non-null  object \n",
            " 12  signup_app               170137 non-null  object \n",
            " 13  first_device_type        170137 non-null  object \n",
            " 14  first_browser            170137 non-null  object \n",
            " 15  country_destination      170137 non-null  object \n",
            "dtypes: float64(1), int64(2), object(13)\n",
            "memory usage: 20.8+ MB\n"
          ],
          "name": "stdout"
        }
      ]
    },
    {
      "cell_type": "code",
      "metadata": {
        "id": "o2BUGhvF8oLl",
        "colab": {
          "base_uri": "https://localhost:8080/"
        },
        "outputId": "815b873c-9886-4f87-9b3e-0729d903be57"
      },
      "source": [
        "test_df.info()"
      ],
      "execution_count": 82,
      "outputs": [
        {
          "output_type": "stream",
          "text": [
            "<class 'pandas.core.frame.DataFrame'>\n",
            "RangeIndex: 43314 entries, 0 to 43313\n",
            "Data columns (total 15 columns):\n",
            " #   Column                   Non-Null Count  Dtype  \n",
            "---  ------                   --------------  -----  \n",
            " 0   id                       43314 non-null  object \n",
            " 1   date_account_created     43314 non-null  object \n",
            " 2   timestamp_first_active   43314 non-null  int64  \n",
            " 3   date_first_booking       16578 non-null  object \n",
            " 4   gender                   43314 non-null  object \n",
            " 5   age                      24093 non-null  float64\n",
            " 6   signup_method            43314 non-null  object \n",
            " 7   signup_flow              43314 non-null  int64  \n",
            " 8   language                 43314 non-null  object \n",
            " 9   affiliate_channel        43314 non-null  object \n",
            " 10  affiliate_provider       43314 non-null  object \n",
            " 11  first_affiliate_tracked  43276 non-null  object \n",
            " 12  signup_app               43314 non-null  object \n",
            " 13  first_device_type        43314 non-null  object \n",
            " 14  first_browser            43314 non-null  object \n",
            "dtypes: float64(1), int64(2), object(12)\n",
            "memory usage: 5.0+ MB\n"
          ],
          "name": "stdout"
        }
      ]
    },
    {
      "cell_type": "code",
      "metadata": {
        "id": "fs37z61H85_p",
        "colab": {
          "base_uri": "https://localhost:8080/"
        },
        "outputId": "42e57e53-8bfa-451a-e3e4-364c20214f5d"
      },
      "source": [
        "country_dest = train_df[\"country_destination\"].values\n",
        "len(country_dest)"
      ],
      "execution_count": 83,
      "outputs": [
        {
          "output_type": "execute_result",
          "data": {
            "text/plain": [
              "170137"
            ]
          },
          "metadata": {
            "tags": []
          },
          "execution_count": 83
        }
      ]
    },
    {
      "cell_type": "code",
      "metadata": {
        "id": "GzCI-cj792yG"
      },
      "source": [
        "td = train_df.drop([\"country_destination\"], axis=1)"
      ],
      "execution_count": 11,
      "outputs": []
    },
    {
      "cell_type": "code",
      "metadata": {
        "id": "TbTjWSWy-J6Z",
        "colab": {
          "base_uri": "https://localhost:8080/",
          "height": 258
        },
        "outputId": "019fb9d1-23b6-4ff6-f095-85a2bce0076e"
      },
      "source": [
        "df = pd.concat((td, test_df), axis=0, ignore_index=True)\n",
        "df.head()"
      ],
      "execution_count": 12,
      "outputs": [
        {
          "output_type": "execute_result",
          "data": {
            "text/html": [
              "<div>\n",
              "<style scoped>\n",
              "    .dataframe tbody tr th:only-of-type {\n",
              "        vertical-align: middle;\n",
              "    }\n",
              "\n",
              "    .dataframe tbody tr th {\n",
              "        vertical-align: top;\n",
              "    }\n",
              "\n",
              "    .dataframe thead th {\n",
              "        text-align: right;\n",
              "    }\n",
              "</style>\n",
              "<table border=\"1\" class=\"dataframe\">\n",
              "  <thead>\n",
              "    <tr style=\"text-align: right;\">\n",
              "      <th></th>\n",
              "      <th>id</th>\n",
              "      <th>date_account_created</th>\n",
              "      <th>timestamp_first_active</th>\n",
              "      <th>date_first_booking</th>\n",
              "      <th>gender</th>\n",
              "      <th>age</th>\n",
              "      <th>signup_method</th>\n",
              "      <th>signup_flow</th>\n",
              "      <th>language</th>\n",
              "      <th>affiliate_channel</th>\n",
              "      <th>affiliate_provider</th>\n",
              "      <th>first_affiliate_tracked</th>\n",
              "      <th>signup_app</th>\n",
              "      <th>first_device_type</th>\n",
              "      <th>first_browser</th>\n",
              "    </tr>\n",
              "  </thead>\n",
              "  <tbody>\n",
              "    <tr>\n",
              "      <th>0</th>\n",
              "      <td>gxn3p5htnn</td>\n",
              "      <td>2010-06-28</td>\n",
              "      <td>20090319043255</td>\n",
              "      <td>NaN</td>\n",
              "      <td>-unknown-</td>\n",
              "      <td>NaN</td>\n",
              "      <td>facebook</td>\n",
              "      <td>0</td>\n",
              "      <td>en</td>\n",
              "      <td>direct</td>\n",
              "      <td>direct</td>\n",
              "      <td>untracked</td>\n",
              "      <td>Web</td>\n",
              "      <td>Mac Desktop</td>\n",
              "      <td>Chrome</td>\n",
              "    </tr>\n",
              "    <tr>\n",
              "      <th>1</th>\n",
              "      <td>820tgsjxq7</td>\n",
              "      <td>2011-05-25</td>\n",
              "      <td>20090523174809</td>\n",
              "      <td>NaN</td>\n",
              "      <td>MALE</td>\n",
              "      <td>38.0</td>\n",
              "      <td>facebook</td>\n",
              "      <td>0</td>\n",
              "      <td>en</td>\n",
              "      <td>seo</td>\n",
              "      <td>google</td>\n",
              "      <td>untracked</td>\n",
              "      <td>Web</td>\n",
              "      <td>Mac Desktop</td>\n",
              "      <td>Chrome</td>\n",
              "    </tr>\n",
              "    <tr>\n",
              "      <th>2</th>\n",
              "      <td>4ft3gnwmtx</td>\n",
              "      <td>2010-09-28</td>\n",
              "      <td>20090609231247</td>\n",
              "      <td>2010-08-02</td>\n",
              "      <td>FEMALE</td>\n",
              "      <td>56.0</td>\n",
              "      <td>basic</td>\n",
              "      <td>3</td>\n",
              "      <td>en</td>\n",
              "      <td>direct</td>\n",
              "      <td>direct</td>\n",
              "      <td>untracked</td>\n",
              "      <td>Web</td>\n",
              "      <td>Windows Desktop</td>\n",
              "      <td>IE</td>\n",
              "    </tr>\n",
              "    <tr>\n",
              "      <th>3</th>\n",
              "      <td>bjjt8pjhuk</td>\n",
              "      <td>2011-12-05</td>\n",
              "      <td>20091031060129</td>\n",
              "      <td>2012-09-08</td>\n",
              "      <td>FEMALE</td>\n",
              "      <td>42.0</td>\n",
              "      <td>facebook</td>\n",
              "      <td>0</td>\n",
              "      <td>en</td>\n",
              "      <td>direct</td>\n",
              "      <td>direct</td>\n",
              "      <td>untracked</td>\n",
              "      <td>Web</td>\n",
              "      <td>Mac Desktop</td>\n",
              "      <td>Firefox</td>\n",
              "    </tr>\n",
              "    <tr>\n",
              "      <th>4</th>\n",
              "      <td>87mebub9p4</td>\n",
              "      <td>2010-09-14</td>\n",
              "      <td>20091208061105</td>\n",
              "      <td>2010-02-18</td>\n",
              "      <td>-unknown-</td>\n",
              "      <td>41.0</td>\n",
              "      <td>basic</td>\n",
              "      <td>0</td>\n",
              "      <td>en</td>\n",
              "      <td>direct</td>\n",
              "      <td>direct</td>\n",
              "      <td>untracked</td>\n",
              "      <td>Web</td>\n",
              "      <td>Mac Desktop</td>\n",
              "      <td>Chrome</td>\n",
              "    </tr>\n",
              "  </tbody>\n",
              "</table>\n",
              "</div>"
            ],
            "text/plain": [
              "           id date_account_created  ...  first_device_type first_browser\n",
              "0  gxn3p5htnn           2010-06-28  ...        Mac Desktop        Chrome\n",
              "1  820tgsjxq7           2011-05-25  ...        Mac Desktop        Chrome\n",
              "2  4ft3gnwmtx           2010-09-28  ...    Windows Desktop            IE\n",
              "3  bjjt8pjhuk           2011-12-05  ...        Mac Desktop       Firefox\n",
              "4  87mebub9p4           2010-09-14  ...        Mac Desktop        Chrome\n",
              "\n",
              "[5 rows x 15 columns]"
            ]
          },
          "metadata": {
            "tags": []
          },
          "execution_count": 12
        }
      ]
    },
    {
      "cell_type": "code",
      "metadata": {
        "id": "rtJvsc7S-bMR"
      },
      "source": [
        "df.drop([\"id\"], axis=1, inplace=True)"
      ],
      "execution_count": 86,
      "outputs": []
    },
    {
      "cell_type": "code",
      "metadata": {
        "id": "eTiq2pGi-qQt",
        "colab": {
          "base_uri": "https://localhost:8080/"
        },
        "outputId": "c9eeba3c-b474-421f-9375-56f9f849c754"
      },
      "source": [
        "df.info()"
      ],
      "execution_count": 87,
      "outputs": [
        {
          "output_type": "stream",
          "text": [
            "<class 'pandas.core.frame.DataFrame'>\n",
            "RangeIndex: 213451 entries, 0 to 213450\n",
            "Data columns (total 14 columns):\n",
            " #   Column                   Non-Null Count   Dtype  \n",
            "---  ------                   --------------   -----  \n",
            " 0   date_account_created     213451 non-null  object \n",
            " 1   timestamp_first_active   213451 non-null  int64  \n",
            " 2   date_first_booking       88908 non-null   object \n",
            " 3   gender                   213451 non-null  object \n",
            " 4   age                      125461 non-null  float64\n",
            " 5   signup_method            213451 non-null  object \n",
            " 6   signup_flow              213451 non-null  int64  \n",
            " 7   language                 213451 non-null  object \n",
            " 8   affiliate_channel        213451 non-null  object \n",
            " 9   affiliate_provider       213451 non-null  object \n",
            " 10  first_affiliate_tracked  207386 non-null  object \n",
            " 11  signup_app               213451 non-null  object \n",
            " 12  first_device_type        213451 non-null  object \n",
            " 13  first_browser            213451 non-null  object \n",
            "dtypes: float64(1), int64(2), object(11)\n",
            "memory usage: 22.8+ MB\n"
          ],
          "name": "stdout"
        }
      ]
    },
    {
      "cell_type": "code",
      "metadata": {
        "id": "9JAzZfdH-vRF",
        "colab": {
          "base_uri": "https://localhost:8080/"
        },
        "outputId": "56f1c545-9ea8-4877-bc40-c7459c3f30a6"
      },
      "source": [
        "df.isna().sum()"
      ],
      "execution_count": 88,
      "outputs": [
        {
          "output_type": "execute_result",
          "data": {
            "text/plain": [
              "date_account_created            0\n",
              "timestamp_first_active          0\n",
              "date_first_booking         124543\n",
              "gender                          0\n",
              "age                         87990\n",
              "signup_method                   0\n",
              "signup_flow                     0\n",
              "language                        0\n",
              "affiliate_channel               0\n",
              "affiliate_provider              0\n",
              "first_affiliate_tracked      6065\n",
              "signup_app                      0\n",
              "first_device_type               0\n",
              "first_browser                   0\n",
              "dtype: int64"
            ]
          },
          "metadata": {
            "tags": []
          },
          "execution_count": 88
        }
      ]
    },
    {
      "cell_type": "code",
      "metadata": {
        "id": "B44NjDd5-07q"
      },
      "source": [
        "# Filling Missing Values\n",
        "df[\"date_first_booking\"].fillna(\"Not Booked\", inplace=True)"
      ],
      "execution_count": 89,
      "outputs": []
    },
    {
      "cell_type": "code",
      "metadata": {
        "id": "B6n-nqgcAGZX"
      },
      "source": [
        "df[\"age\"].fillna(df[\"age\"].median(), inplace=True)"
      ],
      "execution_count": 90,
      "outputs": []
    },
    {
      "cell_type": "code",
      "metadata": {
        "id": "1LxJRZZkAP4D",
        "colab": {
          "base_uri": "https://localhost:8080/"
        },
        "outputId": "58346a6a-345c-4db3-a86d-7b20cf888141"
      },
      "source": [
        "df.isna().sum()"
      ],
      "execution_count": 91,
      "outputs": [
        {
          "output_type": "execute_result",
          "data": {
            "text/plain": [
              "date_account_created          0\n",
              "timestamp_first_active        0\n",
              "date_first_booking            0\n",
              "gender                        0\n",
              "age                           0\n",
              "signup_method                 0\n",
              "signup_flow                   0\n",
              "language                      0\n",
              "affiliate_channel             0\n",
              "affiliate_provider            0\n",
              "first_affiliate_tracked    6065\n",
              "signup_app                    0\n",
              "first_device_type             0\n",
              "first_browser                 0\n",
              "dtype: int64"
            ]
          },
          "metadata": {
            "tags": []
          },
          "execution_count": 91
        }
      ]
    },
    {
      "cell_type": "code",
      "metadata": {
        "id": "OyLnywMTAoIf"
      },
      "source": [
        "df.dropna(inplace=True)"
      ],
      "execution_count": 92,
      "outputs": []
    },
    {
      "cell_type": "code",
      "metadata": {
        "id": "Tt713Fs5As_5",
        "colab": {
          "base_uri": "https://localhost:8080/"
        },
        "outputId": "35cc4fef-9a6a-463d-fb97-bc089de834f4"
      },
      "source": [
        "df.isna().sum()"
      ],
      "execution_count": 93,
      "outputs": [
        {
          "output_type": "execute_result",
          "data": {
            "text/plain": [
              "date_account_created       0\n",
              "timestamp_first_active     0\n",
              "date_first_booking         0\n",
              "gender                     0\n",
              "age                        0\n",
              "signup_method              0\n",
              "signup_flow                0\n",
              "language                   0\n",
              "affiliate_channel          0\n",
              "affiliate_provider         0\n",
              "first_affiliate_tracked    0\n",
              "signup_app                 0\n",
              "first_device_type          0\n",
              "first_browser              0\n",
              "dtype: int64"
            ]
          },
          "metadata": {
            "tags": []
          },
          "execution_count": 93
        }
      ]
    },
    {
      "cell_type": "code",
      "metadata": {
        "id": "qMSY2DdlAw_9",
        "colab": {
          "base_uri": "https://localhost:8080/"
        },
        "outputId": "24e1e52f-141b-42e6-f170-a5316a19dc9b"
      },
      "source": [
        "df.info()"
      ],
      "execution_count": 94,
      "outputs": [
        {
          "output_type": "stream",
          "text": [
            "<class 'pandas.core.frame.DataFrame'>\n",
            "Int64Index: 207386 entries, 0 to 213450\n",
            "Data columns (total 14 columns):\n",
            " #   Column                   Non-Null Count   Dtype  \n",
            "---  ------                   --------------   -----  \n",
            " 0   date_account_created     207386 non-null  object \n",
            " 1   timestamp_first_active   207386 non-null  int64  \n",
            " 2   date_first_booking       207386 non-null  object \n",
            " 3   gender                   207386 non-null  object \n",
            " 4   age                      207386 non-null  float64\n",
            " 5   signup_method            207386 non-null  object \n",
            " 6   signup_flow              207386 non-null  int64  \n",
            " 7   language                 207386 non-null  object \n",
            " 8   affiliate_channel        207386 non-null  object \n",
            " 9   affiliate_provider       207386 non-null  object \n",
            " 10  first_affiliate_tracked  207386 non-null  object \n",
            " 11  signup_app               207386 non-null  object \n",
            " 12  first_device_type        207386 non-null  object \n",
            " 13  first_browser            207386 non-null  object \n",
            "dtypes: float64(1), int64(2), object(11)\n",
            "memory usage: 23.7+ MB\n"
          ],
          "name": "stdout"
        }
      ]
    },
    {
      "cell_type": "code",
      "metadata": {
        "id": "4qbXsXSQAyuF",
        "colab": {
          "base_uri": "https://localhost:8080/",
          "height": 279
        },
        "outputId": "cc72013a-5e48-416d-9de1-7db7ef685606"
      },
      "source": [
        "g = sns.countplot(x=\"gender\",\n",
        "    data=df, hue=\"gender\")"
      ],
      "execution_count": 95,
      "outputs": [
        {
          "output_type": "display_data",
          "data": {
            "image/png": "[encoded data removed]",
            "text/plain": [
              "<Figure size 432x288 with 1 Axes>"
            ]
          },
          "metadata": {
            "tags": []
          }
        }
      ]
    },
    {
      "cell_type": "markdown",
      "metadata": {
        "id": "KYJEVkVgE7Po"
      },
      "source": [
        "* Most of the people haven't disclosed their Gender\n",
        "* Users who have signed up and have selected a gender are mostly Female"
      ]
    },
    {
      "cell_type": "code",
      "metadata": {
        "id": "tFkA7DxjDxxR",
        "colab": {
          "base_uri": "https://localhost:8080/"
        },
        "outputId": "4a1e2f51-0109-46ce-a72c-e4368334ac10"
      },
      "source": [
        "df[\"signup_method\"].value_counts()"
      ],
      "execution_count": 96,
      "outputs": [
        {
          "output_type": "execute_result",
          "data": {
            "text/plain": [
              "basic       148297\n",
              "facebook     58543\n",
              "google         546\n",
              "Name: signup_method, dtype: int64"
            ]
          },
          "metadata": {
            "tags": []
          },
          "execution_count": 96
        }
      ]
    },
    {
      "cell_type": "code",
      "metadata": {
        "id": "Yv-Ml9WRFbiT",
        "colab": {
          "base_uri": "https://localhost:8080/",
          "height": 280
        },
        "outputId": "cdf657de-e370-4762-e306-0edfd226053b"
      },
      "source": [
        "# sns.set_theme(style=\"darkgrid\")\n",
        "ax = sns.countplot(x=\"signup_method\", hue='gender', data=df)"
      ],
      "execution_count": 97,
      "outputs": [
        {
          "output_type": "display_data",
          "data": {
            "image/png": "[encoded data removed]",
            "text/plain": [
              "<Figure size 432x288 with 1 Axes>"
            ]
          },
          "metadata": {
            "tags": []
          }
        }
      ]
    },
    {
      "cell_type": "code",
      "metadata": {
        "id": "Be4dMKM69y0-",
        "colab": {
          "base_uri": "https://localhost:8080/"
        },
        "outputId": "8ffa1682-71db-4f2a-d2dd-9ff461524fca"
      },
      "source": [
        "df['signup_flow'].value_counts()"
      ],
      "execution_count": 98,
      "outputs": [
        {
          "output_type": "execute_result",
          "data": {
            "text/plain": [
              "0     163180\n",
              "25     13739\n",
              "12      8910\n",
              "3       7604\n",
              "2       5571\n",
              "24      3989\n",
              "23      2801\n",
              "1        848\n",
              "6        244\n",
              "8        237\n",
              "21       196\n",
              "5         32\n",
              "20        14\n",
              "16         9\n",
              "15         9\n",
              "10         2\n",
              "4          1\n",
              "Name: signup_flow, dtype: int64"
            ]
          },
          "metadata": {
            "tags": []
          },
          "execution_count": 98
        }
      ]
    },
    {
      "cell_type": "code",
      "metadata": {
        "id": "Zm5paDrm99tc",
        "colab": {
          "base_uri": "https://localhost:8080/",
          "height": 280
        },
        "outputId": "4afcdd4f-66ce-4cce-e075-525244caf6e2"
      },
      "source": [
        "ax = sns.countplot(x=\"signup_flow\", data=df)"
      ],
      "execution_count": 99,
      "outputs": [
        {
          "output_type": "display_data",
          "data": {
            "image/png": "[encoded data removed]",
            "text/plain": [
              "<Figure size 432x288 with 1 Axes>"
            ]
          },
          "metadata": {
            "tags": []
          }
        }
      ]
    },
    {
      "cell_type": "markdown",
      "metadata": {
        "id": "_jdTAyIB-Aaj"
      },
      "source": [
        "* Most of the people tend to reach directly on the website"
      ]
    },
    {
      "cell_type": "code",
      "metadata": {
        "id": "TUMo76V4-I8i",
        "colab": {
          "base_uri": "https://localhost:8080/",
          "height": 279
        },
        "outputId": "828fd37a-94fc-495b-96a3-2ebf6d909f9c"
      },
      "source": [
        "ax = sns.countplot(y=\"affiliate_channel\", data=df)"
      ],
      "execution_count": 100,
      "outputs": [
        {
          "output_type": "display_data",
          "data": {
            "image/png": "[encoded data removed]",
            "text/plain": [
              "<Figure size 432x288 with 1 Axes>"
            ]
          },
          "metadata": {
            "tags": []
          }
        }
      ]
    },
    {
      "cell_type": "code",
      "metadata": {
        "id": "MAgRixe4-Mtz",
        "colab": {
          "base_uri": "https://localhost:8080/",
          "height": 283
        },
        "outputId": "fd2e7098-3359-497c-a1df-5bca715cc4da"
      },
      "source": [
        "ax = sns.countplot(x=\"signup_app\", hue='gender', data=df)"
      ],
      "execution_count": 101,
      "outputs": [
        {
          "output_type": "display_data",
          "data": {
            "image/png": "[encoded data removed]",
            "text/plain": [
              "<Figure size 432x288 with 1 Axes>"
            ]
          },
          "metadata": {
            "tags": []
          }
        }
      ]
    },
    {
      "cell_type": "markdown",
      "metadata": {
        "id": "XyDlDWQ_-U_O"
      },
      "source": [
        "* Most of the people access Airbnb's website directly on thier desktop or laptop rather than using mobile app or on mobile browser"
      ]
    },
    {
      "cell_type": "code",
      "metadata": {
        "id": "mtsSpRuO-lJq",
        "colab": {
          "base_uri": "https://localhost:8080/",
          "height": 279
        },
        "outputId": "1dbb3b19-7ddb-4800-f922-d706d19d08f4"
      },
      "source": [
        "ax = sns.countplot(y=\"first_device_type\", hue='gender', data=df)"
      ],
      "execution_count": 102,
      "outputs": [
        {
          "output_type": "display_data",
          "data": {
            "image/png": "[encoded data removed]",
            "text/plain": [
              "<Figure size 432x288 with 1 Axes>"
            ]
          },
          "metadata": {
            "tags": []
          }
        }
      ]
    },
    {
      "cell_type": "markdown",
      "metadata": {
        "id": "HxXmKq8Z-oww"
      },
      "source": [
        "* Either it's mobile phone or desktop most of the people that have accessed Airbnb is through respective Apple Products"
      ]
    },
    {
      "cell_type": "code",
      "metadata": {
        "id": "KziUI5je-0-Z",
        "colab": {
          "base_uri": "https://localhost:8080/",
          "height": 552
        },
        "outputId": "8bc78591-1009-48e4-99c1-333ca857a17c"
      },
      "source": [
        "fig, ax = plt.subplots(figsize=(15,9))\n",
        "sns.countplot(x='country_destination', data=train_df, hue='gender');"
      ],
      "execution_count": 6,
      "outputs": [
        {
          "output_type": "display_data",
          "data": {
            "image/png": "[encoded data removed]",
            "text/plain": [
              "<Figure size 1080x648 with 1 Axes>"
            ]
          },
          "metadata": {
            "tags": [],
            "needs_background": "light"
          }
        }
      ]
    },
    {
      "cell_type": "markdown",
      "metadata": {
        "id": "JPzFz7JI_6kQ"
      },
      "source": [
        "* Most of the people that visits Airbnb don't make any bookings.\n",
        "* The First Favourite choice is USA, maybe because most of the users are from USA and they prefer to travel in their own country"
      ]
    },
    {
      "cell_type": "code",
      "metadata": {
        "id": "g-PDqexb_wPO",
        "colab": {
          "base_uri": "https://localhost:8080/"
        },
        "outputId": "1adafc52-fb64-4f81-9cf2-084f7cdd49e9"
      },
      "source": [
        "df['date_first_active'] = pd.to_datetime((df['timestamp_first_active'] // 1000000), format='%Y%m%d')\n",
        "df['date_first_active']"
      ],
      "execution_count": 13,
      "outputs": [
        {
          "output_type": "execute_result",
          "data": {
            "text/plain": [
              "0        2009-03-19\n",
              "1        2009-05-23\n",
              "2        2009-06-09\n",
              "3        2009-10-31\n",
              "4        2009-12-08\n",
              "            ...    \n",
              "213446   2014-06-30\n",
              "213447   2014-06-30\n",
              "213448   2014-06-30\n",
              "213449   2014-06-30\n",
              "213450   2014-06-30\n",
              "Name: date_first_active, Length: 213451, dtype: datetime64[ns]"
            ]
          },
          "metadata": {
            "tags": []
          },
          "execution_count": 13
        }
      ]
    },
    {
      "cell_type": "code",
      "metadata": {
        "id": "ELfbpF1p-9aP",
        "colab": {
          "base_uri": "https://localhost:8080/"
        },
        "outputId": "7530577b-562d-474d-e586-754eb890edf3"
      },
      "source": [
        "df['date_first_active_month'] = df['date_first_active'].dt.month\n",
        "df['date_first_active_month']"
      ],
      "execution_count": 14,
      "outputs": [
        {
          "output_type": "execute_result",
          "data": {
            "text/plain": [
              "0          3\n",
              "1          5\n",
              "2          6\n",
              "3         10\n",
              "4         12\n",
              "          ..\n",
              "213446     6\n",
              "213447     6\n",
              "213448     6\n",
              "213449     6\n",
              "213450     6\n",
              "Name: date_first_active_month, Length: 213451, dtype: int64"
            ]
          },
          "metadata": {
            "tags": []
          },
          "execution_count": 14
        }
      ]
    },
    {
      "cell_type": "code",
      "metadata": {
        "id": "Pn8VT77O_tO-",
        "colab": {
          "base_uri": "https://localhost:8080/",
          "height": 280
        },
        "outputId": "95ace350-c894-4e0c-ef91-6a74b0119ff5"
      },
      "source": [
        "sns.countplot(x='date_first_active_month', data=df);"
      ],
      "execution_count": 15,
      "outputs": [
        {
          "output_type": "display_data",
          "data": {
            "image/png": "[encoded data removed]",
            "text/plain": [
              "<Figure size 432x288 with 1 Axes>"
            ]
          },
          "metadata": {
            "tags": [],
            "needs_background": "light"
          }
        }
      ]
    },
    {
      "cell_type": "code",
      "metadata": {
        "id": "jAM5dezR_1J3",
        "colab": {
          "base_uri": "https://localhost:8080/",
          "height": 280
        },
        "outputId": "4ad30982-df2f-42c6-ff01-2316ca70dfff"
      },
      "source": [
        "df['date_account_created_new'] = pd.to_datetime(df['date_account_created'])\n",
        "df['date_account_created_month'] = df['date_account_created_new'].dt.month\n",
        "sns.countplot(x='date_account_created_month', data=df);"
      ],
      "execution_count": 16,
      "outputs": [
        {
          "output_type": "display_data",
          "data": {
            "image/png": "[encoded data removed]",
            "text/plain": [
              "<Figure size 432x288 with 1 Axes>"
            ]
          },
          "metadata": {
            "tags": [],
            "needs_background": "light"
          }
        }
      ]
    },
    {
      "cell_type": "markdown",
      "metadata": {
        "id": "lQ7jbzDCApNV"
      },
      "source": [
        "* Here, we can observe that people usually create ther accounts in March and next favourite month is January\n",
        "* Next, we can see that the people usually signup in the month of March\n",
        "* Also people usually first remain active in the month of March\n",
        "* And then most of the bookings are also made in the month of March that is the month in which they signed up\n",
        "* From this we can also infer that people mostly made booking as soon as they signed up, which is also their first month active "
      ]
    },
    {
      "cell_type": "code",
      "metadata": {
        "id": "Cm4R7ndbBhRH",
        "colab": {
          "base_uri": "https://localhost:8080/"
        },
        "outputId": "9e8ac6b7-6e19-4013-8178-ccf0021af761"
      },
      "source": [
        "df.age.describe()"
      ],
      "execution_count": 18,
      "outputs": [
        {
          "output_type": "execute_result",
          "data": {
            "text/plain": [
              "count    125461.000000\n",
              "mean         49.668335\n",
              "std         155.666612\n",
              "min           1.000000\n",
              "25%          28.000000\n",
              "50%          34.000000\n",
              "75%          43.000000\n",
              "max        2014.000000\n",
              "Name: age, dtype: float64"
            ]
          },
          "metadata": {
            "tags": []
          },
          "execution_count": 18
        }
      ]
    },
    {
      "cell_type": "code",
      "metadata": {
        "id": "t6i74od4DmOV",
        "colab": {
          "base_uri": "https://localhost:8080/"
        },
        "outputId": "85eb688c-fb97-4bd5-f17e-e50f74fb4d5a"
      },
      "source": [
        "# Outliers in age\n",
        "df.isna().sum()"
      ],
      "execution_count": 19,
      "outputs": [
        {
          "output_type": "execute_result",
          "data": {
            "text/plain": [
              "id                                 0\n",
              "date_account_created               0\n",
              "timestamp_first_active             0\n",
              "date_first_booking            124543\n",
              "gender                             0\n",
              "age                            87990\n",
              "signup_method                      0\n",
              "signup_flow                        0\n",
              "language                           0\n",
              "affiliate_channel                  0\n",
              "affiliate_provider                 0\n",
              "first_affiliate_tracked         6065\n",
              "signup_app                         0\n",
              "first_device_type                  0\n",
              "first_browser                      0\n",
              "date_first_active                  0\n",
              "date_first_active_month            0\n",
              "date_account_created_new           0\n",
              "date_account_created_month         0\n",
              "dtype: int64"
            ]
          },
          "metadata": {
            "tags": []
          },
          "execution_count": 19
        }
      ]
    },
    {
      "cell_type": "code",
      "metadata": {
        "id": "GQhrTop3EFMZ"
      },
      "source": [
        "train_df['age'] = train_df['age'].apply(lambda x: train_df['age'].median() if x>95 else x)"
      ],
      "execution_count": 28,
      "outputs": []
    },
    {
      "cell_type": "code",
      "metadata": {
        "id": "7Uu-IZgKDupv",
        "colab": {
          "base_uri": "https://localhost:8080/",
          "height": 497
        },
        "outputId": "0613337a-4225-4a4f-ff92-238e21eeeb4f"
      },
      "source": [
        "sns.set_style(\"whitegrid\")\n",
        "fig, ax = plt.subplots(figsize=(10,8))\n",
        "sns.distplot(df[\"age\"], color=\"salmon\")\n",
        "plt.xlabel(\"Age Distribution\");"
      ],
      "execution_count": 21,
      "outputs": [
        {
          "output_type": "display_data",
          "data": {
            "image/png": "[encoded data removed]",
            "text/plain": [
              "<Figure size 720x576 with 1 Axes>"
            ]
          },
          "metadata": {
            "tags": []
          }
        }
      ]
    },
    {
      "cell_type": "markdown",
      "metadata": {
        "id": "f0yeHcmwEdac"
      },
      "source": [
        "* Most of the people who are using Airbnb are lying between an age range from 20-48"
      ]
    },
    {
      "cell_type": "code",
      "metadata": {
        "id": "O9tCC42wFDj5",
        "colab": {
          "base_uri": "https://localhost:8080/",
          "height": 593
        },
        "outputId": "80c42dd9-19a8-4057-96bf-2ca8f406847d"
      },
      "source": [
        "df['date_account_created_new'] = pd.to_datetime(df['date_account_created'])\n",
        "df['date_first_active_new'] = pd.to_datetime((df.timestamp_first_active // 1000000), format='%Y%m%d')\n",
        "df['date_account_created_month'] = df.date_account_created_new.dt.month\n",
        "df['date_account_created_year'] = df.date_account_created_new.dt.year\n",
        "\n",
        "fig, ax = plt.subplots()\n",
        "fig.set_size_inches(12, 9)\n",
        "\n",
        "df['booked'] = train_df.country_destination.apply(lambda x:1 if x!='NDF' else 0 )\n",
        "destination_percentage = df.groupby(['date_account_created_year','date_account_created_month']).booked.sum() / df.shape[0] * 100\n",
        "destination_percentage.plot(kind='bar',color=\"green\")\n",
        "plt.xlabel('Year wise and Month wise Travel Percentage')\n",
        "plt.ylabel('Percentage');"
      ],
      "execution_count": 23,
      "outputs": [
        {
          "output_type": "display_data",
          "data": {
            "image/png": "[encoded data removed]",
            "text/plain": [
              "<Figure size 864x648 with 1 Axes>"
            ]
          },
          "metadata": {
            "tags": []
          }
        }
      ]
    },
    {
      "cell_type": "markdown",
      "metadata": {
        "id": "9X_MFHyAHC_n"
      },
      "source": [
        "* Here we can observe that from 2010 to 2014, bookings on Airbnb follow a general trend\n",
        "* People start making bookings from the month of July and then peak happens in August and it starts declining afterwards\n",
        "* And the same trend follows every year\n",
        "* Its like travelling during Summer Holidays."
      ]
    },
    {
      "cell_type": "code",
      "metadata": {
        "id": "QT0fOk4IJPYs",
        "colab": {
          "base_uri": "https://localhost:8080/",
          "height": 606
        },
        "outputId": "aaf9dcb9-330b-4ec5-d1ff-d98d396ac596"
      },
      "source": [
        "fig, ax = plt.subplots()\n",
        "fig.set_size_inches(15, 10)\n",
        "\n",
        "data_without_NDF = train_df[train_df['country_destination']!='NDF']\n",
        "\n",
        "sns.boxplot(x='country_destination', y='age', data=data_without_NDF)\n",
        "plt.xlabel('Destination Country')\n",
        "plt.ylabel('Age of Users');"
      ],
      "execution_count": 29,
      "outputs": [
        {
          "output_type": "display_data",
          "data": {
            "image/png": "[encoded data removed]",
            "text/plain": [
              "<Figure size 1080x720 with 1 Axes>"
            ]
          },
          "metadata": {
            "tags": []
          }
        }
      ]
    },
    {
      "cell_type": "markdown",
      "metadata": {
        "id": "bqxXjFqxKIAI"
      },
      "source": [
        "* Older people generally prefer to travel to Great Britain\n",
        "* Most of the People in their 20's prefer travelling to different European countries, that might be because there is a culture of European trip after Graduation\n",
        "* Most prople who are below 20 arbooking in US itself.\n",
        "* Since here US, GB, Australia adn other European countries are present therefore, I guess `other` might mean Asian Countries.\n"
      ]
    },
    {
      "cell_type": "markdown",
      "metadata": {
        "id": "EtOAk4QmLmCw"
      },
      "source": [
        "# Data Pre Processing"
      ]
    },
    {
      "cell_type": "code",
      "metadata": {
        "id": "4sKVDWKPMjFA"
      },
      "source": [
        "test_df = pd.read_csv(\"/content/drive/My Drive/DataSets/airbnb-new-user/test.csv\")\n",
        "train_df = pd.read_csv(\"/content/drive/My Drive/DataSets/airbnb-new-user/train.csv\")"
      ],
      "execution_count": null,
      "outputs": []
    },
    {
      "cell_type": "code",
      "metadata": {
        "colab": {
          "base_uri": "https://localhost:8080/"
        },
        "id": "TDVvUP6ilahn",
        "outputId": "c67c8b30-638b-4b9e-9c29-f4b55b458332"
      },
      "source": [
        "train_df.head()"
      ],
      "execution_count": null,
      "outputs": [
        {
          "output_type": "execute_result",
          "data": {
            "text/html": [
              "<div>\n",
              "<style scoped>\n",
              "    .dataframe tbody tr th:only-of-type {\n",
              "        vertical-align: middle;\n",
              "    }\n",
              "\n",
              "    .dataframe tbody tr th {\n",
              "        vertical-align: top;\n",
              "    }\n",
              "\n",
              "    .dataframe thead th {\n",
              "        text-align: right;\n",
              "    }\n",
              "</style>\n",
              "<table border=\"1\" class=\"dataframe\">\n",
              "  <thead>\n",
              "    <tr style=\"text-align: right;\">\n",
              "      <th></th>\n",
              "      <th>id</th>\n",
              "      <th>date_account_created</th>\n",
              "      <th>timestamp_first_active</th>\n",
              "      <th>date_first_booking</th>\n",
              "      <th>gender</th>\n",
              "      <th>age</th>\n",
              "      <th>signup_method</th>\n",
              "      <th>signup_flow</th>\n",
              "      <th>language</th>\n",
              "      <th>affiliate_channel</th>\n",
              "      <th>affiliate_provider</th>\n",
              "      <th>first_affiliate_tracked</th>\n",
              "      <th>signup_app</th>\n",
              "      <th>first_device_type</th>\n",
              "      <th>first_browser</th>\n",
              "      <th>country_destination</th>\n",
              "    </tr>\n",
              "  </thead>\n",
              "  <tbody>\n",
              "    <tr>\n",
              "      <th>0</th>\n",
              "      <td>gxn3p5htnn</td>\n",
              "      <td>2010-06-28</td>\n",
              "      <td>20090319043255</td>\n",
              "      <td>NaN</td>\n",
              "      <td>-unknown-</td>\n",
              "      <td>NaN</td>\n",
              "      <td>facebook</td>\n",
              "      <td>0</td>\n",
              "      <td>en</td>\n",
              "      <td>direct</td>\n",
              "      <td>direct</td>\n",
              "      <td>untracked</td>\n",
              "      <td>Web</td>\n",
              "      <td>Mac Desktop</td>\n",
              "      <td>Chrome</td>\n",
              "      <td>NDF</td>\n",
              "    </tr>\n",
              "    <tr>\n",
              "      <th>1</th>\n",
              "      <td>820tgsjxq7</td>\n",
              "      <td>2011-05-25</td>\n",
              "      <td>20090523174809</td>\n",
              "      <td>NaN</td>\n",
              "      <td>MALE</td>\n",
              "      <td>38.0</td>\n",
              "      <td>facebook</td>\n",
              "      <td>0</td>\n",
              "      <td>en</td>\n",
              "      <td>seo</td>\n",
              "      <td>google</td>\n",
              "      <td>untracked</td>\n",
              "      <td>Web</td>\n",
              "      <td>Mac Desktop</td>\n",
              "      <td>Chrome</td>\n",
              "      <td>NDF</td>\n",
              "    </tr>\n",
              "    <tr>\n",
              "      <th>2</th>\n",
              "      <td>4ft3gnwmtx</td>\n",
              "      <td>2010-09-28</td>\n",
              "      <td>20090609231247</td>\n",
              "      <td>2010-08-02</td>\n",
              "      <td>FEMALE</td>\n",
              "      <td>56.0</td>\n",
              "      <td>basic</td>\n",
              "      <td>3</td>\n",
              "      <td>en</td>\n",
              "      <td>direct</td>\n",
              "      <td>direct</td>\n",
              "      <td>untracked</td>\n",
              "      <td>Web</td>\n",
              "      <td>Windows Desktop</td>\n",
              "      <td>IE</td>\n",
              "      <td>US</td>\n",
              "    </tr>\n",
              "    <tr>\n",
              "      <th>3</th>\n",
              "      <td>bjjt8pjhuk</td>\n",
              "      <td>2011-12-05</td>\n",
              "      <td>20091031060129</td>\n",
              "      <td>2012-09-08</td>\n",
              "      <td>FEMALE</td>\n",
              "      <td>42.0</td>\n",
              "      <td>facebook</td>\n",
              "      <td>0</td>\n",
              "      <td>en</td>\n",
              "      <td>direct</td>\n",
              "      <td>direct</td>\n",
              "      <td>untracked</td>\n",
              "      <td>Web</td>\n",
              "      <td>Mac Desktop</td>\n",
              "      <td>Firefox</td>\n",
              "      <td>other</td>\n",
              "    </tr>\n",
              "    <tr>\n",
              "      <th>4</th>\n",
              "      <td>87mebub9p4</td>\n",
              "      <td>2010-09-14</td>\n",
              "      <td>20091208061105</td>\n",
              "      <td>2010-02-18</td>\n",
              "      <td>-unknown-</td>\n",
              "      <td>41.0</td>\n",
              "      <td>basic</td>\n",
              "      <td>0</td>\n",
              "      <td>en</td>\n",
              "      <td>direct</td>\n",
              "      <td>direct</td>\n",
              "      <td>untracked</td>\n",
              "      <td>Web</td>\n",
              "      <td>Mac Desktop</td>\n",
              "      <td>Chrome</td>\n",
              "      <td>US</td>\n",
              "    </tr>\n",
              "  </tbody>\n",
              "</table>\n",
              "</div>"
            ],
            "text/plain": [
              "           id date_account_created  ...  first_browser country_destination\n",
              "0  gxn3p5htnn           2010-06-28  ...         Chrome                 NDF\n",
              "1  820tgsjxq7           2011-05-25  ...         Chrome                 NDF\n",
              "2  4ft3gnwmtx           2010-09-28  ...             IE                  US\n",
              "3  bjjt8pjhuk           2011-12-05  ...        Firefox               other\n",
              "4  87mebub9p4           2010-09-14  ...         Chrome                  US\n",
              "\n",
              "[5 rows x 16 columns]"
            ]
          },
          "metadata": {
            "tags": []
          },
          "execution_count": 4
        }
      ]
    },
    {
      "cell_type": "code",
      "metadata": {
        "colab": {
          "base_uri": "https://localhost:8080/"
        },
        "id": "5fgp5Qpylhht",
        "outputId": "8c0455b8-4e1c-48c2-ed72-234c4f3dff21"
      },
      "source": [
        "test_df.head()"
      ],
      "execution_count": null,
      "outputs": [
        {
          "output_type": "execute_result",
          "data": {
            "text/html": [
              "<div>\n",
              "<style scoped>\n",
              "    .dataframe tbody tr th:only-of-type {\n",
              "        vertical-align: middle;\n",
              "    }\n",
              "\n",
              "    .dataframe tbody tr th {\n",
              "        vertical-align: top;\n",
              "    }\n",
              "\n",
              "    .dataframe thead th {\n",
              "        text-align: right;\n",
              "    }\n",
              "</style>\n",
              "<table border=\"1\" class=\"dataframe\">\n",
              "  <thead>\n",
              "    <tr style=\"text-align: right;\">\n",
              "      <th></th>\n",
              "      <th>id</th>\n",
              "      <th>date_account_created</th>\n",
              "      <th>timestamp_first_active</th>\n",
              "      <th>date_first_booking</th>\n",
              "      <th>gender</th>\n",
              "      <th>age</th>\n",
              "      <th>signup_method</th>\n",
              "      <th>signup_flow</th>\n",
              "      <th>language</th>\n",
              "      <th>affiliate_channel</th>\n",
              "      <th>affiliate_provider</th>\n",
              "      <th>first_affiliate_tracked</th>\n",
              "      <th>signup_app</th>\n",
              "      <th>first_device_type</th>\n",
              "      <th>first_browser</th>\n",
              "    </tr>\n",
              "  </thead>\n",
              "  <tbody>\n",
              "    <tr>\n",
              "      <th>0</th>\n",
              "      <td>f3g7ae12j0</td>\n",
              "      <td>2014-04-01</td>\n",
              "      <td>20140401000102</td>\n",
              "      <td>NaN</td>\n",
              "      <td>-unknown-</td>\n",
              "      <td>NaN</td>\n",
              "      <td>basic</td>\n",
              "      <td>0</td>\n",
              "      <td>en</td>\n",
              "      <td>direct</td>\n",
              "      <td>direct</td>\n",
              "      <td>untracked</td>\n",
              "      <td>Web</td>\n",
              "      <td>Mac Desktop</td>\n",
              "      <td>Safari</td>\n",
              "    </tr>\n",
              "    <tr>\n",
              "      <th>1</th>\n",
              "      <td>ks0uq0sd8x</td>\n",
              "      <td>2014-04-01</td>\n",
              "      <td>20140401000319</td>\n",
              "      <td>2014-04-01</td>\n",
              "      <td>MALE</td>\n",
              "      <td>22.0</td>\n",
              "      <td>facebook</td>\n",
              "      <td>12</td>\n",
              "      <td>en</td>\n",
              "      <td>api</td>\n",
              "      <td>other</td>\n",
              "      <td>untracked</td>\n",
              "      <td>iOS</td>\n",
              "      <td>iPhone</td>\n",
              "      <td>Mobile Safari</td>\n",
              "    </tr>\n",
              "    <tr>\n",
              "      <th>2</th>\n",
              "      <td>8w236a1unv</td>\n",
              "      <td>2014-04-01</td>\n",
              "      <td>20140401000343</td>\n",
              "      <td>NaN</td>\n",
              "      <td>MALE</td>\n",
              "      <td>36.0</td>\n",
              "      <td>basic</td>\n",
              "      <td>0</td>\n",
              "      <td>en</td>\n",
              "      <td>sem-non-brand</td>\n",
              "      <td>google</td>\n",
              "      <td>omg</td>\n",
              "      <td>Web</td>\n",
              "      <td>Mac Desktop</td>\n",
              "      <td>Safari</td>\n",
              "    </tr>\n",
              "    <tr>\n",
              "      <th>3</th>\n",
              "      <td>vd221xgcu6</td>\n",
              "      <td>2014-04-01</td>\n",
              "      <td>20140401000519</td>\n",
              "      <td>2014-04-01</td>\n",
              "      <td>MALE</td>\n",
              "      <td>52.0</td>\n",
              "      <td>basic</td>\n",
              "      <td>0</td>\n",
              "      <td>en</td>\n",
              "      <td>sem-brand</td>\n",
              "      <td>google</td>\n",
              "      <td>omg</td>\n",
              "      <td>Web</td>\n",
              "      <td>Windows Desktop</td>\n",
              "      <td>Chrome</td>\n",
              "    </tr>\n",
              "    <tr>\n",
              "      <th>4</th>\n",
              "      <td>bt5x8x87wu</td>\n",
              "      <td>2014-04-01</td>\n",
              "      <td>20140401000730</td>\n",
              "      <td>2014-04-01</td>\n",
              "      <td>MALE</td>\n",
              "      <td>51.0</td>\n",
              "      <td>basic</td>\n",
              "      <td>0</td>\n",
              "      <td>en</td>\n",
              "      <td>seo</td>\n",
              "      <td>google</td>\n",
              "      <td>linked</td>\n",
              "      <td>Web</td>\n",
              "      <td>Windows Desktop</td>\n",
              "      <td>Chrome</td>\n",
              "    </tr>\n",
              "  </tbody>\n",
              "</table>\n",
              "</div>"
            ],
            "text/plain": [
              "           id date_account_created  ...  first_device_type  first_browser\n",
              "0  f3g7ae12j0           2014-04-01  ...        Mac Desktop         Safari\n",
              "1  ks0uq0sd8x           2014-04-01  ...             iPhone  Mobile Safari\n",
              "2  8w236a1unv           2014-04-01  ...        Mac Desktop         Safari\n",
              "3  vd221xgcu6           2014-04-01  ...    Windows Desktop         Chrome\n",
              "4  bt5x8x87wu           2014-04-01  ...    Windows Desktop         Chrome\n",
              "\n",
              "[5 rows x 15 columns]"
            ]
          },
          "metadata": {
            "tags": []
          },
          "execution_count": 5
        }
      ]
    },
    {
      "cell_type": "markdown",
      "metadata": {
        "id": "3D3x21nylmH7"
      },
      "source": [
        "* Removing `id` Column from both of the Dataframes"
      ]
    },
    {
      "cell_type": "code",
      "metadata": {
        "id": "YwYk-l9Bz2gh"
      },
      "source": [
        "train_df.drop(\"id\", axis=1, inplace=True)\n",
        "test_df.drop(\"id\", axis=1, inplace=True)"
      ],
      "execution_count": null,
      "outputs": []
    },
    {
      "cell_type": "code",
      "metadata": {
        "colab": {
          "base_uri": "https://localhost:8080/"
        },
        "id": "GedDTX0HimTU",
        "outputId": "d7f4bab4-d43d-47ca-ac19-4510ca1e0845"
      },
      "source": [
        "train_df.info()"
      ],
      "execution_count": null,
      "outputs": [
        {
          "output_type": "stream",
          "text": [
            "<class 'pandas.core.frame.DataFrame'>\n",
            "RangeIndex: 170137 entries, 0 to 170136\n",
            "Data columns (total 15 columns):\n",
            " #   Column                   Non-Null Count   Dtype  \n",
            "---  ------                   --------------   -----  \n",
            " 0   date_account_created     170137 non-null  object \n",
            " 1   timestamp_first_active   170137 non-null  int64  \n",
            " 2   date_first_booking       72330 non-null   object \n",
            " 3   gender                   170137 non-null  object \n",
            " 4   age                      101368 non-null  float64\n",
            " 5   signup_method            170137 non-null  object \n",
            " 6   signup_flow              170137 non-null  int64  \n",
            " 7   language                 170137 non-null  object \n",
            " 8   affiliate_channel        170137 non-null  object \n",
            " 9   affiliate_provider       170137 non-null  object \n",
            " 10  first_affiliate_tracked  164110 non-null  object \n",
            " 11  signup_app               170137 non-null  object \n",
            " 12  first_device_type        170137 non-null  object \n",
            " 13  first_browser            170137 non-null  object \n",
            " 14  country_destination      170137 non-null  object \n",
            "dtypes: float64(1), int64(2), object(12)\n",
            "memory usage: 19.5+ MB\n"
          ],
          "name": "stdout"
        }
      ]
    },
    {
      "cell_type": "code",
      "metadata": {
        "colab": {
          "base_uri": "https://localhost:8080/"
        },
        "id": "gcslfoOyl0vS",
        "outputId": "d53f4436-3b9a-424b-901d-95769bcb8514"
      },
      "source": [
        "test_df.info()"
      ],
      "execution_count": null,
      "outputs": [
        {
          "output_type": "stream",
          "text": [
            "<class 'pandas.core.frame.DataFrame'>\n",
            "RangeIndex: 43314 entries, 0 to 43313\n",
            "Data columns (total 14 columns):\n",
            " #   Column                   Non-Null Count  Dtype  \n",
            "---  ------                   --------------  -----  \n",
            " 0   date_account_created     43314 non-null  object \n",
            " 1   timestamp_first_active   43314 non-null  int64  \n",
            " 2   date_first_booking       16578 non-null  object \n",
            " 3   gender                   43314 non-null  object \n",
            " 4   age                      24093 non-null  float64\n",
            " 5   signup_method            43314 non-null  object \n",
            " 6   signup_flow              43314 non-null  int64  \n",
            " 7   language                 43314 non-null  object \n",
            " 8   affiliate_channel        43314 non-null  object \n",
            " 9   affiliate_provider       43314 non-null  object \n",
            " 10  first_affiliate_tracked  43276 non-null  object \n",
            " 11  signup_app               43314 non-null  object \n",
            " 12  first_device_type        43314 non-null  object \n",
            " 13  first_browser            43314 non-null  object \n",
            "dtypes: float64(1), int64(2), object(11)\n",
            "memory usage: 4.6+ MB\n"
          ],
          "name": "stdout"
        }
      ]
    },
    {
      "cell_type": "code",
      "metadata": {
        "colab": {
          "base_uri": "https://localhost:8080/"
        },
        "id": "2EXzOfTjVVav",
        "outputId": "ad367add-c9e6-4bce-f33f-d7273a0b6e00"
      },
      "source": [
        "train_df.head(10)"
      ],
      "execution_count": null,
      "outputs": [
        {
          "output_type": "execute_result",
          "data": {
            "text/html": [
              "<div>\n",
              "<style scoped>\n",
              "    .dataframe tbody tr th:only-of-type {\n",
              "        vertical-align: middle;\n",
              "    }\n",
              "\n",
              "    .dataframe tbody tr th {\n",
              "        vertical-align: top;\n",
              "    }\n",
              "\n",
              "    .dataframe thead th {\n",
              "        text-align: right;\n",
              "    }\n",
              "</style>\n",
              "<table border=\"1\" class=\"dataframe\">\n",
              "  <thead>\n",
              "    <tr style=\"text-align: right;\">\n",
              "      <th></th>\n",
              "      <th>date_account_created</th>\n",
              "      <th>timestamp_first_active</th>\n",
              "      <th>date_first_booking</th>\n",
              "      <th>gender</th>\n",
              "      <th>age</th>\n",
              "      <th>signup_method</th>\n",
              "      <th>signup_flow</th>\n",
              "      <th>language</th>\n",
              "      <th>affiliate_channel</th>\n",
              "      <th>affiliate_provider</th>\n",
              "      <th>first_affiliate_tracked</th>\n",
              "      <th>signup_app</th>\n",
              "      <th>first_device_type</th>\n",
              "      <th>first_browser</th>\n",
              "      <th>country_destination</th>\n",
              "    </tr>\n",
              "  </thead>\n",
              "  <tbody>\n",
              "    <tr>\n",
              "      <th>0</th>\n",
              "      <td>2010-06-28</td>\n",
              "      <td>20090319043255</td>\n",
              "      <td>NaN</td>\n",
              "      <td>-unknown-</td>\n",
              "      <td>NaN</td>\n",
              "      <td>facebook</td>\n",
              "      <td>0</td>\n",
              "      <td>en</td>\n",
              "      <td>direct</td>\n",
              "      <td>direct</td>\n",
              "      <td>untracked</td>\n",
              "      <td>Web</td>\n",
              "      <td>Mac Desktop</td>\n",
              "      <td>Chrome</td>\n",
              "      <td>NDF</td>\n",
              "    </tr>\n",
              "    <tr>\n",
              "      <th>1</th>\n",
              "      <td>2011-05-25</td>\n",
              "      <td>20090523174809</td>\n",
              "      <td>NaN</td>\n",
              "      <td>MALE</td>\n",
              "      <td>38.0</td>\n",
              "      <td>facebook</td>\n",
              "      <td>0</td>\n",
              "      <td>en</td>\n",
              "      <td>seo</td>\n",
              "      <td>google</td>\n",
              "      <td>untracked</td>\n",
              "      <td>Web</td>\n",
              "      <td>Mac Desktop</td>\n",
              "      <td>Chrome</td>\n",
              "      <td>NDF</td>\n",
              "    </tr>\n",
              "    <tr>\n",
              "      <th>2</th>\n",
              "      <td>2010-09-28</td>\n",
              "      <td>20090609231247</td>\n",
              "      <td>2010-08-02</td>\n",
              "      <td>FEMALE</td>\n",
              "      <td>56.0</td>\n",
              "      <td>basic</td>\n",
              "      <td>3</td>\n",
              "      <td>en</td>\n",
              "      <td>direct</td>\n",
              "      <td>direct</td>\n",
              "      <td>untracked</td>\n",
              "      <td>Web</td>\n",
              "      <td>Windows Desktop</td>\n",
              "      <td>IE</td>\n",
              "      <td>US</td>\n",
              "    </tr>\n",
              "    <tr>\n",
              "      <th>3</th>\n",
              "      <td>2011-12-05</td>\n",
              "      <td>20091031060129</td>\n",
              "      <td>2012-09-08</td>\n",
              "      <td>FEMALE</td>\n",
              "      <td>42.0</td>\n",
              "      <td>facebook</td>\n",
              "      <td>0</td>\n",
              "      <td>en</td>\n",
              "      <td>direct</td>\n",
              "      <td>direct</td>\n",
              "      <td>untracked</td>\n",
              "      <td>Web</td>\n",
              "      <td>Mac Desktop</td>\n",
              "      <td>Firefox</td>\n",
              "      <td>other</td>\n",
              "    </tr>\n",
              "    <tr>\n",
              "      <th>4</th>\n",
              "      <td>2010-09-14</td>\n",
              "      <td>20091208061105</td>\n",
              "      <td>2010-02-18</td>\n",
              "      <td>-unknown-</td>\n",
              "      <td>41.0</td>\n",
              "      <td>basic</td>\n",
              "      <td>0</td>\n",
              "      <td>en</td>\n",
              "      <td>direct</td>\n",
              "      <td>direct</td>\n",
              "      <td>untracked</td>\n",
              "      <td>Web</td>\n",
              "      <td>Mac Desktop</td>\n",
              "      <td>Chrome</td>\n",
              "      <td>US</td>\n",
              "    </tr>\n",
              "    <tr>\n",
              "      <th>5</th>\n",
              "      <td>2010-01-01</td>\n",
              "      <td>20100101215619</td>\n",
              "      <td>2010-01-02</td>\n",
              "      <td>-unknown-</td>\n",
              "      <td>NaN</td>\n",
              "      <td>basic</td>\n",
              "      <td>0</td>\n",
              "      <td>en</td>\n",
              "      <td>other</td>\n",
              "      <td>other</td>\n",
              "      <td>omg</td>\n",
              "      <td>Web</td>\n",
              "      <td>Mac Desktop</td>\n",
              "      <td>Chrome</td>\n",
              "      <td>US</td>\n",
              "    </tr>\n",
              "    <tr>\n",
              "      <th>6</th>\n",
              "      <td>2010-01-02</td>\n",
              "      <td>20100102012558</td>\n",
              "      <td>2010-01-05</td>\n",
              "      <td>FEMALE</td>\n",
              "      <td>46.0</td>\n",
              "      <td>basic</td>\n",
              "      <td>0</td>\n",
              "      <td>en</td>\n",
              "      <td>other</td>\n",
              "      <td>craigslist</td>\n",
              "      <td>untracked</td>\n",
              "      <td>Web</td>\n",
              "      <td>Mac Desktop</td>\n",
              "      <td>Safari</td>\n",
              "      <td>US</td>\n",
              "    </tr>\n",
              "    <tr>\n",
              "      <th>7</th>\n",
              "      <td>2010-01-03</td>\n",
              "      <td>20100103191905</td>\n",
              "      <td>2010-01-13</td>\n",
              "      <td>FEMALE</td>\n",
              "      <td>47.0</td>\n",
              "      <td>basic</td>\n",
              "      <td>0</td>\n",
              "      <td>en</td>\n",
              "      <td>direct</td>\n",
              "      <td>direct</td>\n",
              "      <td>omg</td>\n",
              "      <td>Web</td>\n",
              "      <td>Mac Desktop</td>\n",
              "      <td>Safari</td>\n",
              "      <td>US</td>\n",
              "    </tr>\n",
              "    <tr>\n",
              "      <th>8</th>\n",
              "      <td>2010-01-04</td>\n",
              "      <td>20100104004211</td>\n",
              "      <td>2010-07-29</td>\n",
              "      <td>FEMALE</td>\n",
              "      <td>50.0</td>\n",
              "      <td>basic</td>\n",
              "      <td>0</td>\n",
              "      <td>en</td>\n",
              "      <td>other</td>\n",
              "      <td>craigslist</td>\n",
              "      <td>untracked</td>\n",
              "      <td>Web</td>\n",
              "      <td>Mac Desktop</td>\n",
              "      <td>Safari</td>\n",
              "      <td>US</td>\n",
              "    </tr>\n",
              "    <tr>\n",
              "      <th>9</th>\n",
              "      <td>2010-01-04</td>\n",
              "      <td>20100104023758</td>\n",
              "      <td>2010-01-04</td>\n",
              "      <td>-unknown-</td>\n",
              "      <td>46.0</td>\n",
              "      <td>basic</td>\n",
              "      <td>0</td>\n",
              "      <td>en</td>\n",
              "      <td>other</td>\n",
              "      <td>craigslist</td>\n",
              "      <td>omg</td>\n",
              "      <td>Web</td>\n",
              "      <td>Mac Desktop</td>\n",
              "      <td>Firefox</td>\n",
              "      <td>US</td>\n",
              "    </tr>\n",
              "  </tbody>\n",
              "</table>\n",
              "</div>"
            ],
            "text/plain": [
              "  date_account_created  ...  country_destination\n",
              "0           2010-06-28  ...                  NDF\n",
              "1           2011-05-25  ...                  NDF\n",
              "2           2010-09-28  ...                   US\n",
              "3           2011-12-05  ...                other\n",
              "4           2010-09-14  ...                   US\n",
              "5           2010-01-01  ...                   US\n",
              "6           2010-01-02  ...                   US\n",
              "7           2010-01-03  ...                   US\n",
              "8           2010-01-04  ...                   US\n",
              "9           2010-01-04  ...                   US\n",
              "\n",
              "[10 rows x 15 columns]"
            ]
          },
          "metadata": {
            "tags": []
          },
          "execution_count": 9
        }
      ]
    },
    {
      "cell_type": "code",
      "metadata": {
        "colab": {
          "base_uri": "https://localhost:8080/"
        },
        "id": "xn_wOIz7Vl3W",
        "outputId": "68351775-f091-4425-ef21-3dc979628baa"
      },
      "source": [
        "train_df.isna().sum()"
      ],
      "execution_count": null,
      "outputs": [
        {
          "output_type": "execute_result",
          "data": {
            "text/plain": [
              "date_account_created           0\n",
              "timestamp_first_active         0\n",
              "date_first_booking         97807\n",
              "gender                         0\n",
              "age                        68769\n",
              "signup_method                  0\n",
              "signup_flow                    0\n",
              "language                       0\n",
              "affiliate_channel              0\n",
              "affiliate_provider             0\n",
              "first_affiliate_tracked     6027\n",
              "signup_app                     0\n",
              "first_device_type              0\n",
              "first_browser                  0\n",
              "country_destination            0\n",
              "dtype: int64"
            ]
          },
          "metadata": {
            "tags": []
          },
          "execution_count": 10
        }
      ]
    },
    {
      "cell_type": "code",
      "metadata": {
        "colab": {
          "base_uri": "https://localhost:8080/"
        },
        "id": "DZo8xfGaDS9Q",
        "outputId": "c68e9dcd-9041-4bef-cf58-dc35db01b836"
      },
      "source": [
        "test_df.isna().sum()"
      ],
      "execution_count": null,
      "outputs": [
        {
          "output_type": "execute_result",
          "data": {
            "text/plain": [
              "date_account_created           0\n",
              "timestamp_first_active         0\n",
              "date_first_booking         26736\n",
              "gender                         0\n",
              "age                        19221\n",
              "signup_method                  0\n",
              "signup_flow                    0\n",
              "language                       0\n",
              "affiliate_channel              0\n",
              "affiliate_provider             0\n",
              "first_affiliate_tracked       38\n",
              "signup_app                     0\n",
              "first_device_type              0\n",
              "first_browser                  0\n",
              "dtype: int64"
            ]
          },
          "metadata": {
            "tags": []
          },
          "execution_count": 11
        }
      ]
    },
    {
      "cell_type": "code",
      "metadata": {
        "colab": {
          "base_uri": "https://localhost:8080/"
        },
        "id": "v9fwrFAPV5ig",
        "outputId": "9e22f2e2-6471-4f95-a7e4-84b507397097"
      },
      "source": [
        "df = train_df[[\"date_first_booking\", \"country_destination\"]]\n",
        "df"
      ],
      "execution_count": null,
      "outputs": [
        {
          "output_type": "execute_result",
          "data": {
            "text/html": [
              "<div>\n",
              "<style scoped>\n",
              "    .dataframe tbody tr th:only-of-type {\n",
              "        vertical-align: middle;\n",
              "    }\n",
              "\n",
              "    .dataframe tbody tr th {\n",
              "        vertical-align: top;\n",
              "    }\n",
              "\n",
              "    .dataframe thead th {\n",
              "        text-align: right;\n",
              "    }\n",
              "</style>\n",
              "<table border=\"1\" class=\"dataframe\">\n",
              "  <thead>\n",
              "    <tr style=\"text-align: right;\">\n",
              "      <th></th>\n",
              "      <th>date_first_booking</th>\n",
              "      <th>country_destination</th>\n",
              "    </tr>\n",
              "  </thead>\n",
              "  <tbody>\n",
              "    <tr>\n",
              "      <th>0</th>\n",
              "      <td>NaN</td>\n",
              "      <td>NDF</td>\n",
              "    </tr>\n",
              "    <tr>\n",
              "      <th>1</th>\n",
              "      <td>NaN</td>\n",
              "      <td>NDF</td>\n",
              "    </tr>\n",
              "    <tr>\n",
              "      <th>2</th>\n",
              "      <td>2010-08-02</td>\n",
              "      <td>US</td>\n",
              "    </tr>\n",
              "    <tr>\n",
              "      <th>3</th>\n",
              "      <td>2012-09-08</td>\n",
              "      <td>other</td>\n",
              "    </tr>\n",
              "    <tr>\n",
              "      <th>4</th>\n",
              "      <td>2010-02-18</td>\n",
              "      <td>US</td>\n",
              "    </tr>\n",
              "    <tr>\n",
              "      <th>...</th>\n",
              "      <td>...</td>\n",
              "      <td>...</td>\n",
              "    </tr>\n",
              "    <tr>\n",
              "      <th>170132</th>\n",
              "      <td>NaN</td>\n",
              "      <td>NDF</td>\n",
              "    </tr>\n",
              "    <tr>\n",
              "      <th>170133</th>\n",
              "      <td>NaN</td>\n",
              "      <td>NDF</td>\n",
              "    </tr>\n",
              "    <tr>\n",
              "      <th>170134</th>\n",
              "      <td>2014-04-01</td>\n",
              "      <td>CA</td>\n",
              "    </tr>\n",
              "    <tr>\n",
              "      <th>170135</th>\n",
              "      <td>NaN</td>\n",
              "      <td>NDF</td>\n",
              "    </tr>\n",
              "    <tr>\n",
              "      <th>170136</th>\n",
              "      <td>NaN</td>\n",
              "      <td>NDF</td>\n",
              "    </tr>\n",
              "  </tbody>\n",
              "</table>\n",
              "<p>170137 rows × 2 columns</p>\n",
              "</div>"
            ],
            "text/plain": [
              "       date_first_booking country_destination\n",
              "0                     NaN                 NDF\n",
              "1                     NaN                 NDF\n",
              "2              2010-08-02                  US\n",
              "3              2012-09-08               other\n",
              "4              2010-02-18                  US\n",
              "...                   ...                 ...\n",
              "170132                NaN                 NDF\n",
              "170133                NaN                 NDF\n",
              "170134         2014-04-01                  CA\n",
              "170135                NaN                 NDF\n",
              "170136                NaN                 NDF\n",
              "\n",
              "[170137 rows x 2 columns]"
            ]
          },
          "metadata": {
            "tags": []
          },
          "execution_count": 12
        }
      ]
    },
    {
      "cell_type": "code",
      "metadata": {
        "colab": {
          "base_uri": "https://localhost:8080/"
        },
        "id": "FpPkCAJghHNe",
        "outputId": "ae7269dc-6235-48c6-d5ca-764eb0919df3"
      },
      "source": [
        "df.info()"
      ],
      "execution_count": null,
      "outputs": [
        {
          "output_type": "stream",
          "text": [
            "<class 'pandas.core.frame.DataFrame'>\n",
            "RangeIndex: 170137 entries, 0 to 170136\n",
            "Data columns (total 2 columns):\n",
            " #   Column               Non-Null Count   Dtype \n",
            "---  ------               --------------   ----- \n",
            " 0   date_first_booking   72330 non-null   object\n",
            " 1   country_destination  170137 non-null  object\n",
            "dtypes: object(2)\n",
            "memory usage: 2.6+ MB\n"
          ],
          "name": "stdout"
        }
      ]
    },
    {
      "cell_type": "code",
      "metadata": {
        "colab": {
          "base_uri": "https://localhost:8080/"
        },
        "id": "5VznEjrtdrGb",
        "outputId": "5a1a12e6-7c52-4430-e295-e350207fd87d"
      },
      "source": [
        "df[df[\"country_destination\"]==\"NDF\"]"
      ],
      "execution_count": null,
      "outputs": [
        {
          "output_type": "execute_result",
          "data": {
            "text/html": [
              "<div>\n",
              "<style scoped>\n",
              "    .dataframe tbody tr th:only-of-type {\n",
              "        vertical-align: middle;\n",
              "    }\n",
              "\n",
              "    .dataframe tbody tr th {\n",
              "        vertical-align: top;\n",
              "    }\n",
              "\n",
              "    .dataframe thead th {\n",
              "        text-align: right;\n",
              "    }\n",
              "</style>\n",
              "<table border=\"1\" class=\"dataframe\">\n",
              "  <thead>\n",
              "    <tr style=\"text-align: right;\">\n",
              "      <th></th>\n",
              "      <th>date_first_booking</th>\n",
              "      <th>country_destination</th>\n",
              "    </tr>\n",
              "  </thead>\n",
              "  <tbody>\n",
              "    <tr>\n",
              "      <th>0</th>\n",
              "      <td>NaN</td>\n",
              "      <td>NDF</td>\n",
              "    </tr>\n",
              "    <tr>\n",
              "      <th>1</th>\n",
              "      <td>NaN</td>\n",
              "      <td>NDF</td>\n",
              "    </tr>\n",
              "    <tr>\n",
              "      <th>11</th>\n",
              "      <td>NaN</td>\n",
              "      <td>NDF</td>\n",
              "    </tr>\n",
              "    <tr>\n",
              "      <th>13</th>\n",
              "      <td>NaN</td>\n",
              "      <td>NDF</td>\n",
              "    </tr>\n",
              "    <tr>\n",
              "      <th>14</th>\n",
              "      <td>NaN</td>\n",
              "      <td>NDF</td>\n",
              "    </tr>\n",
              "    <tr>\n",
              "      <th>...</th>\n",
              "      <td>...</td>\n",
              "      <td>...</td>\n",
              "    </tr>\n",
              "    <tr>\n",
              "      <th>170131</th>\n",
              "      <td>NaN</td>\n",
              "      <td>NDF</td>\n",
              "    </tr>\n",
              "    <tr>\n",
              "      <th>170132</th>\n",
              "      <td>NaN</td>\n",
              "      <td>NDF</td>\n",
              "    </tr>\n",
              "    <tr>\n",
              "      <th>170133</th>\n",
              "      <td>NaN</td>\n",
              "      <td>NDF</td>\n",
              "    </tr>\n",
              "    <tr>\n",
              "      <th>170135</th>\n",
              "      <td>NaN</td>\n",
              "      <td>NDF</td>\n",
              "    </tr>\n",
              "    <tr>\n",
              "      <th>170136</th>\n",
              "      <td>NaN</td>\n",
              "      <td>NDF</td>\n",
              "    </tr>\n",
              "  </tbody>\n",
              "</table>\n",
              "<p>97807 rows × 2 columns</p>\n",
              "</div>"
            ],
            "text/plain": [
              "       date_first_booking country_destination\n",
              "0                     NaN                 NDF\n",
              "1                     NaN                 NDF\n",
              "11                    NaN                 NDF\n",
              "13                    NaN                 NDF\n",
              "14                    NaN                 NDF\n",
              "...                   ...                 ...\n",
              "170131                NaN                 NDF\n",
              "170132                NaN                 NDF\n",
              "170133                NaN                 NDF\n",
              "170135                NaN                 NDF\n",
              "170136                NaN                 NDF\n",
              "\n",
              "[97807 rows x 2 columns]"
            ]
          },
          "metadata": {
            "tags": []
          },
          "execution_count": 14
        }
      ]
    },
    {
      "cell_type": "markdown",
      "metadata": {
        "id": "CfzRD83ud_IN"
      },
      "source": [
        "* Here we can observe that those values of column `date_first_booking` are Null where `country_destination` is NDF (No Destination Found).\n",
        "* This means that no booking was done."
      ]
    },
    {
      "cell_type": "code",
      "metadata": {
        "colab": {
          "base_uri": "https://localhost:8080/"
        },
        "id": "nu3N4mAFe3PX",
        "outputId": "454885fa-5305-4542-a28d-676854629835"
      },
      "source": [
        "df = train_df\n",
        "df.head(20)"
      ],
      "execution_count": null,
      "outputs": [
        {
          "output_type": "execute_result",
          "data": {
            "text/html": [
              "<div>\n",
              "<style scoped>\n",
              "    .dataframe tbody tr th:only-of-type {\n",
              "        vertical-align: middle;\n",
              "    }\n",
              "\n",
              "    .dataframe tbody tr th {\n",
              "        vertical-align: top;\n",
              "    }\n",
              "\n",
              "    .dataframe thead th {\n",
              "        text-align: right;\n",
              "    }\n",
              "</style>\n",
              "<table border=\"1\" class=\"dataframe\">\n",
              "  <thead>\n",
              "    <tr style=\"text-align: right;\">\n",
              "      <th></th>\n",
              "      <th>date_account_created</th>\n",
              "      <th>timestamp_first_active</th>\n",
              "      <th>date_first_booking</th>\n",
              "      <th>gender</th>\n",
              "      <th>age</th>\n",
              "      <th>signup_method</th>\n",
              "      <th>signup_flow</th>\n",
              "      <th>language</th>\n",
              "      <th>affiliate_channel</th>\n",
              "      <th>affiliate_provider</th>\n",
              "      <th>first_affiliate_tracked</th>\n",
              "      <th>signup_app</th>\n",
              "      <th>first_device_type</th>\n",
              "      <th>first_browser</th>\n",
              "      <th>country_destination</th>\n",
              "    </tr>\n",
              "  </thead>\n",
              "  <tbody>\n",
              "    <tr>\n",
              "      <th>0</th>\n",
              "      <td>2010-06-28</td>\n",
              "      <td>20090319043255</td>\n",
              "      <td>NaN</td>\n",
              "      <td>-unknown-</td>\n",
              "      <td>NaN</td>\n",
              "      <td>facebook</td>\n",
              "      <td>0</td>\n",
              "      <td>en</td>\n",
              "      <td>direct</td>\n",
              "      <td>direct</td>\n",
              "      <td>untracked</td>\n",
              "      <td>Web</td>\n",
              "      <td>Mac Desktop</td>\n",
              "      <td>Chrome</td>\n",
              "      <td>NDF</td>\n",
              "    </tr>\n",
              "    <tr>\n",
              "      <th>1</th>\n",
              "      <td>2011-05-25</td>\n",
              "      <td>20090523174809</td>\n",
              "      <td>NaN</td>\n",
              "      <td>MALE</td>\n",
              "      <td>38.0</td>\n",
              "      <td>facebook</td>\n",
              "      <td>0</td>\n",
              "      <td>en</td>\n",
              "      <td>seo</td>\n",
              "      <td>google</td>\n",
              "      <td>untracked</td>\n",
              "      <td>Web</td>\n",
              "      <td>Mac Desktop</td>\n",
              "      <td>Chrome</td>\n",
              "      <td>NDF</td>\n",
              "    </tr>\n",
              "    <tr>\n",
              "      <th>2</th>\n",
              "      <td>2010-09-28</td>\n",
              "      <td>20090609231247</td>\n",
              "      <td>2010-08-02</td>\n",
              "      <td>FEMALE</td>\n",
              "      <td>56.0</td>\n",
              "      <td>basic</td>\n",
              "      <td>3</td>\n",
              "      <td>en</td>\n",
              "      <td>direct</td>\n",
              "      <td>direct</td>\n",
              "      <td>untracked</td>\n",
              "      <td>Web</td>\n",
              "      <td>Windows Desktop</td>\n",
              "      <td>IE</td>\n",
              "      <td>US</td>\n",
              "    </tr>\n",
              "    <tr>\n",
              "      <th>3</th>\n",
              "      <td>2011-12-05</td>\n",
              "      <td>20091031060129</td>\n",
              "      <td>2012-09-08</td>\n",
              "      <td>FEMALE</td>\n",
              "      <td>42.0</td>\n",
              "      <td>facebook</td>\n",
              "      <td>0</td>\n",
              "      <td>en</td>\n",
              "      <td>direct</td>\n",
              "      <td>direct</td>\n",
              "      <td>untracked</td>\n",
              "      <td>Web</td>\n",
              "      <td>Mac Desktop</td>\n",
              "      <td>Firefox</td>\n",
              "      <td>other</td>\n",
              "    </tr>\n",
              "    <tr>\n",
              "      <th>4</th>\n",
              "      <td>2010-09-14</td>\n",
              "      <td>20091208061105</td>\n",
              "      <td>2010-02-18</td>\n",
              "      <td>-unknown-</td>\n",
              "      <td>41.0</td>\n",
              "      <td>basic</td>\n",
              "      <td>0</td>\n",
              "      <td>en</td>\n",
              "      <td>direct</td>\n",
              "      <td>direct</td>\n",
              "      <td>untracked</td>\n",
              "      <td>Web</td>\n",
              "      <td>Mac Desktop</td>\n",
              "      <td>Chrome</td>\n",
              "      <td>US</td>\n",
              "    </tr>\n",
              "    <tr>\n",
              "      <th>5</th>\n",
              "      <td>2010-01-01</td>\n",
              "      <td>20100101215619</td>\n",
              "      <td>2010-01-02</td>\n",
              "      <td>-unknown-</td>\n",
              "      <td>NaN</td>\n",
              "      <td>basic</td>\n",
              "      <td>0</td>\n",
              "      <td>en</td>\n",
              "      <td>other</td>\n",
              "      <td>other</td>\n",
              "      <td>omg</td>\n",
              "      <td>Web</td>\n",
              "      <td>Mac Desktop</td>\n",
              "      <td>Chrome</td>\n",
              "      <td>US</td>\n",
              "    </tr>\n",
              "    <tr>\n",
              "      <th>6</th>\n",
              "      <td>2010-01-02</td>\n",
              "      <td>20100102012558</td>\n",
              "      <td>2010-01-05</td>\n",
              "      <td>FEMALE</td>\n",
              "      <td>46.0</td>\n",
              "      <td>basic</td>\n",
              "      <td>0</td>\n",
              "      <td>en</td>\n",
              "      <td>other</td>\n",
              "      <td>craigslist</td>\n",
              "      <td>untracked</td>\n",
              "      <td>Web</td>\n",
              "      <td>Mac Desktop</td>\n",
              "      <td>Safari</td>\n",
              "      <td>US</td>\n",
              "    </tr>\n",
              "    <tr>\n",
              "      <th>7</th>\n",
              "      <td>2010-01-03</td>\n",
              "      <td>20100103191905</td>\n",
              "      <td>2010-01-13</td>\n",
              "      <td>FEMALE</td>\n",
              "      <td>47.0</td>\n",
              "      <td>basic</td>\n",
              "      <td>0</td>\n",
              "      <td>en</td>\n",
              "      <td>direct</td>\n",
              "      <td>direct</td>\n",
              "      <td>omg</td>\n",
              "      <td>Web</td>\n",
              "      <td>Mac Desktop</td>\n",
              "      <td>Safari</td>\n",
              "      <td>US</td>\n",
              "    </tr>\n",
              "    <tr>\n",
              "      <th>8</th>\n",
              "      <td>2010-01-04</td>\n",
              "      <td>20100104004211</td>\n",
              "      <td>2010-07-29</td>\n",
              "      <td>FEMALE</td>\n",
              "      <td>50.0</td>\n",
              "      <td>basic</td>\n",
              "      <td>0</td>\n",
              "      <td>en</td>\n",
              "      <td>other</td>\n",
              "      <td>craigslist</td>\n",
              "      <td>untracked</td>\n",
              "      <td>Web</td>\n",
              "      <td>Mac Desktop</td>\n",
              "      <td>Safari</td>\n",
              "      <td>US</td>\n",
              "    </tr>\n",
              "    <tr>\n",
              "      <th>9</th>\n",
              "      <td>2010-01-04</td>\n",
              "      <td>20100104023758</td>\n",
              "      <td>2010-01-04</td>\n",
              "      <td>-unknown-</td>\n",
              "      <td>46.0</td>\n",
              "      <td>basic</td>\n",
              "      <td>0</td>\n",
              "      <td>en</td>\n",
              "      <td>other</td>\n",
              "      <td>craigslist</td>\n",
              "      <td>omg</td>\n",
              "      <td>Web</td>\n",
              "      <td>Mac Desktop</td>\n",
              "      <td>Firefox</td>\n",
              "      <td>US</td>\n",
              "    </tr>\n",
              "    <tr>\n",
              "      <th>10</th>\n",
              "      <td>2010-01-04</td>\n",
              "      <td>20100104194251</td>\n",
              "      <td>2010-01-06</td>\n",
              "      <td>FEMALE</td>\n",
              "      <td>36.0</td>\n",
              "      <td>basic</td>\n",
              "      <td>0</td>\n",
              "      <td>en</td>\n",
              "      <td>other</td>\n",
              "      <td>craigslist</td>\n",
              "      <td>untracked</td>\n",
              "      <td>Web</td>\n",
              "      <td>Mac Desktop</td>\n",
              "      <td>Firefox</td>\n",
              "      <td>US</td>\n",
              "    </tr>\n",
              "    <tr>\n",
              "      <th>11</th>\n",
              "      <td>2010-01-05</td>\n",
              "      <td>20100105051812</td>\n",
              "      <td>NaN</td>\n",
              "      <td>FEMALE</td>\n",
              "      <td>47.0</td>\n",
              "      <td>basic</td>\n",
              "      <td>0</td>\n",
              "      <td>en</td>\n",
              "      <td>other</td>\n",
              "      <td>craigslist</td>\n",
              "      <td>untracked</td>\n",
              "      <td>Web</td>\n",
              "      <td>iPhone</td>\n",
              "      <td>-unknown-</td>\n",
              "      <td>NDF</td>\n",
              "    </tr>\n",
              "    <tr>\n",
              "      <th>12</th>\n",
              "      <td>2010-01-05</td>\n",
              "      <td>20100105060859</td>\n",
              "      <td>2010-01-18</td>\n",
              "      <td>-unknown-</td>\n",
              "      <td>NaN</td>\n",
              "      <td>basic</td>\n",
              "      <td>0</td>\n",
              "      <td>en</td>\n",
              "      <td>direct</td>\n",
              "      <td>direct</td>\n",
              "      <td>NaN</td>\n",
              "      <td>Web</td>\n",
              "      <td>Other/Unknown</td>\n",
              "      <td>-unknown-</td>\n",
              "      <td>FR</td>\n",
              "    </tr>\n",
              "    <tr>\n",
              "      <th>13</th>\n",
              "      <td>2010-01-05</td>\n",
              "      <td>20100105083259</td>\n",
              "      <td>NaN</td>\n",
              "      <td>FEMALE</td>\n",
              "      <td>37.0</td>\n",
              "      <td>basic</td>\n",
              "      <td>0</td>\n",
              "      <td>en</td>\n",
              "      <td>other</td>\n",
              "      <td>craigslist</td>\n",
              "      <td>linked</td>\n",
              "      <td>Web</td>\n",
              "      <td>Mac Desktop</td>\n",
              "      <td>Firefox</td>\n",
              "      <td>NDF</td>\n",
              "    </tr>\n",
              "    <tr>\n",
              "      <th>14</th>\n",
              "      <td>2010-01-07</td>\n",
              "      <td>20100107055820</td>\n",
              "      <td>NaN</td>\n",
              "      <td>FEMALE</td>\n",
              "      <td>36.0</td>\n",
              "      <td>basic</td>\n",
              "      <td>0</td>\n",
              "      <td>en</td>\n",
              "      <td>other</td>\n",
              "      <td>craigslist</td>\n",
              "      <td>untracked</td>\n",
              "      <td>Web</td>\n",
              "      <td>iPhone</td>\n",
              "      <td>Mobile Safari</td>\n",
              "      <td>NDF</td>\n",
              "    </tr>\n",
              "    <tr>\n",
              "      <th>15</th>\n",
              "      <td>2010-01-07</td>\n",
              "      <td>20100107204555</td>\n",
              "      <td>2010-01-08</td>\n",
              "      <td>FEMALE</td>\n",
              "      <td>33.0</td>\n",
              "      <td>basic</td>\n",
              "      <td>0</td>\n",
              "      <td>en</td>\n",
              "      <td>direct</td>\n",
              "      <td>direct</td>\n",
              "      <td>untracked</td>\n",
              "      <td>Web</td>\n",
              "      <td>Windows Desktop</td>\n",
              "      <td>Chrome</td>\n",
              "      <td>CA</td>\n",
              "    </tr>\n",
              "    <tr>\n",
              "      <th>16</th>\n",
              "      <td>2010-01-07</td>\n",
              "      <td>20100107215125</td>\n",
              "      <td>NaN</td>\n",
              "      <td>-unknown-</td>\n",
              "      <td>NaN</td>\n",
              "      <td>basic</td>\n",
              "      <td>0</td>\n",
              "      <td>en</td>\n",
              "      <td>other</td>\n",
              "      <td>craigslist</td>\n",
              "      <td>NaN</td>\n",
              "      <td>Web</td>\n",
              "      <td>Other/Unknown</td>\n",
              "      <td>-unknown-</td>\n",
              "      <td>NDF</td>\n",
              "    </tr>\n",
              "    <tr>\n",
              "      <th>17</th>\n",
              "      <td>2010-01-07</td>\n",
              "      <td>20100107224625</td>\n",
              "      <td>2010-01-09</td>\n",
              "      <td>-unknown-</td>\n",
              "      <td>31.0</td>\n",
              "      <td>basic</td>\n",
              "      <td>0</td>\n",
              "      <td>en</td>\n",
              "      <td>other</td>\n",
              "      <td>craigslist</td>\n",
              "      <td>NaN</td>\n",
              "      <td>Web</td>\n",
              "      <td>Other/Unknown</td>\n",
              "      <td>-unknown-</td>\n",
              "      <td>US</td>\n",
              "    </tr>\n",
              "    <tr>\n",
              "      <th>18</th>\n",
              "      <td>2010-01-08</td>\n",
              "      <td>20100108015641</td>\n",
              "      <td>NaN</td>\n",
              "      <td>-unknown-</td>\n",
              "      <td>NaN</td>\n",
              "      <td>basic</td>\n",
              "      <td>0</td>\n",
              "      <td>en</td>\n",
              "      <td>seo</td>\n",
              "      <td>facebook</td>\n",
              "      <td>NaN</td>\n",
              "      <td>Web</td>\n",
              "      <td>Other/Unknown</td>\n",
              "      <td>-unknown-</td>\n",
              "      <td>NDF</td>\n",
              "    </tr>\n",
              "    <tr>\n",
              "      <th>19</th>\n",
              "      <td>2010-01-10</td>\n",
              "      <td>20100110010817</td>\n",
              "      <td>2010-01-10</td>\n",
              "      <td>FEMALE</td>\n",
              "      <td>29.0</td>\n",
              "      <td>basic</td>\n",
              "      <td>0</td>\n",
              "      <td>en</td>\n",
              "      <td>direct</td>\n",
              "      <td>direct</td>\n",
              "      <td>untracked</td>\n",
              "      <td>Web</td>\n",
              "      <td>Mac Desktop</td>\n",
              "      <td>Chrome</td>\n",
              "      <td>FR</td>\n",
              "    </tr>\n",
              "  </tbody>\n",
              "</table>\n",
              "</div>"
            ],
            "text/plain": [
              "   date_account_created  ...  country_destination\n",
              "0            2010-06-28  ...                  NDF\n",
              "1            2011-05-25  ...                  NDF\n",
              "2            2010-09-28  ...                   US\n",
              "3            2011-12-05  ...                other\n",
              "4            2010-09-14  ...                   US\n",
              "5            2010-01-01  ...                   US\n",
              "6            2010-01-02  ...                   US\n",
              "7            2010-01-03  ...                   US\n",
              "8            2010-01-04  ...                   US\n",
              "9            2010-01-04  ...                   US\n",
              "10           2010-01-04  ...                   US\n",
              "11           2010-01-05  ...                  NDF\n",
              "12           2010-01-05  ...                   FR\n",
              "13           2010-01-05  ...                  NDF\n",
              "14           2010-01-07  ...                  NDF\n",
              "15           2010-01-07  ...                   CA\n",
              "16           2010-01-07  ...                  NDF\n",
              "17           2010-01-07  ...                   US\n",
              "18           2010-01-08  ...                  NDF\n",
              "19           2010-01-10  ...                   FR\n",
              "\n",
              "[20 rows x 15 columns]"
            ]
          },
          "metadata": {
            "tags": []
          },
          "execution_count": 15
        }
      ]
    },
    {
      "cell_type": "code",
      "metadata": {
        "colab": {
          "base_uri": "https://localhost:8080/"
        },
        "id": "mcT2uAtoj3dE",
        "outputId": "54649c8f-25a6-4a1a-a1e0-ae87b98d12f4"
      },
      "source": [
        "df.info()"
      ],
      "execution_count": null,
      "outputs": [
        {
          "output_type": "stream",
          "text": [
            "<class 'pandas.core.frame.DataFrame'>\n",
            "RangeIndex: 170137 entries, 0 to 170136\n",
            "Data columns (total 15 columns):\n",
            " #   Column                   Non-Null Count   Dtype  \n",
            "---  ------                   --------------   -----  \n",
            " 0   date_account_created     170137 non-null  object \n",
            " 1   timestamp_first_active   170137 non-null  int64  \n",
            " 2   date_first_booking       72330 non-null   object \n",
            " 3   gender                   170137 non-null  object \n",
            " 4   age                      101368 non-null  float64\n",
            " 5   signup_method            170137 non-null  object \n",
            " 6   signup_flow              170137 non-null  int64  \n",
            " 7   language                 170137 non-null  object \n",
            " 8   affiliate_channel        170137 non-null  object \n",
            " 9   affiliate_provider       170137 non-null  object \n",
            " 10  first_affiliate_tracked  164110 non-null  object \n",
            " 11  signup_app               170137 non-null  object \n",
            " 12  first_device_type        170137 non-null  object \n",
            " 13  first_browser            170137 non-null  object \n",
            " 14  country_destination      170137 non-null  object \n",
            "dtypes: float64(1), int64(2), object(12)\n",
            "memory usage: 19.5+ MB\n"
          ],
          "name": "stdout"
        }
      ]
    },
    {
      "cell_type": "markdown",
      "metadata": {
        "id": "-I0ImjTPj_K8"
      },
      "source": [
        "* Since coumns `date_account_created` and `timestamp_first_active` are closely related, infact almost same, so we can drop one of those."
      ]
    },
    {
      "cell_type": "code",
      "metadata": {
        "id": "DhobQdN2kUuH"
      },
      "source": [
        "df.drop(\"timestamp_first_active\", axis=1, inplace=True)\n",
        "test_df.drop(\"timestamp_first_active\", axis=1, inplace=True)"
      ],
      "execution_count": null,
      "outputs": []
    },
    {
      "cell_type": "code",
      "metadata": {
        "colab": {
          "base_uri": "https://localhost:8080/"
        },
        "id": "bVvLcG00jQfn",
        "outputId": "85b40786-f352-448e-886d-deb408da16cf"
      },
      "source": [
        "test_df.info()"
      ],
      "execution_count": null,
      "outputs": [
        {
          "output_type": "stream",
          "text": [
            "<class 'pandas.core.frame.DataFrame'>\n",
            "RangeIndex: 43314 entries, 0 to 43313\n",
            "Data columns (total 13 columns):\n",
            " #   Column                   Non-Null Count  Dtype  \n",
            "---  ------                   --------------  -----  \n",
            " 0   date_account_created     43314 non-null  object \n",
            " 1   date_first_booking       16578 non-null  object \n",
            " 2   gender                   43314 non-null  object \n",
            " 3   age                      24093 non-null  float64\n",
            " 4   signup_method            43314 non-null  object \n",
            " 5   signup_flow              43314 non-null  int64  \n",
            " 6   language                 43314 non-null  object \n",
            " 7   affiliate_channel        43314 non-null  object \n",
            " 8   affiliate_provider       43314 non-null  object \n",
            " 9   first_affiliate_tracked  43276 non-null  object \n",
            " 10  signup_app               43314 non-null  object \n",
            " 11  first_device_type        43314 non-null  object \n",
            " 12  first_browser            43314 non-null  object \n",
            "dtypes: float64(1), int64(1), object(11)\n",
            "memory usage: 4.3+ MB\n"
          ],
          "name": "stdout"
        }
      ]
    },
    {
      "cell_type": "markdown",
      "metadata": {
        "id": "74YOqpdIkWbP"
      },
      "source": [
        "* Columns `affiliate_channel` and `affiliate_provider` are conveying the same thing.\n",
        "* Column `affiliate_provider` is providing more precise information so we retain this one and drop the other\n",
        "\n",
        "\n"
      ]
    },
    {
      "cell_type": "code",
      "metadata": {
        "id": "oot44Qg6m6wT"
      },
      "source": [
        "df.drop(\"affiliate_channel\", axis=1, inplace=True)\n",
        "test_df.drop(\"affiliate_channel\", axis=1, inplace=True)"
      ],
      "execution_count": null,
      "outputs": []
    },
    {
      "cell_type": "code",
      "metadata": {
        "colab": {
          "base_uri": "https://localhost:8080/"
        },
        "id": "ZHCQFapKnCVC",
        "outputId": "c7d905b2-3e87-4bf2-a677-c429f25c33ec"
      },
      "source": [
        "df.isna().sum()"
      ],
      "execution_count": null,
      "outputs": [
        {
          "output_type": "execute_result",
          "data": {
            "text/plain": [
              "date_account_created           0\n",
              "date_first_booking         97807\n",
              "gender                         0\n",
              "age                        68769\n",
              "signup_method                  0\n",
              "signup_flow                    0\n",
              "language                       0\n",
              "affiliate_provider             0\n",
              "first_affiliate_tracked     6027\n",
              "signup_app                     0\n",
              "first_device_type              0\n",
              "first_browser                  0\n",
              "country_destination            0\n",
              "dtype: int64"
            ]
          },
          "metadata": {
            "tags": []
          },
          "execution_count": 20
        }
      ]
    },
    {
      "cell_type": "code",
      "metadata": {
        "colab": {
          "base_uri": "https://localhost:8080/"
        },
        "id": "J4VSuHF_johS",
        "outputId": "024a4b35-9280-40e6-d34d-7f70703903d9"
      },
      "source": [
        "test_df.info()"
      ],
      "execution_count": null,
      "outputs": [
        {
          "output_type": "stream",
          "text": [
            "<class 'pandas.core.frame.DataFrame'>\n",
            "RangeIndex: 43314 entries, 0 to 43313\n",
            "Data columns (total 12 columns):\n",
            " #   Column                   Non-Null Count  Dtype  \n",
            "---  ------                   --------------  -----  \n",
            " 0   date_account_created     43314 non-null  object \n",
            " 1   date_first_booking       16578 non-null  object \n",
            " 2   gender                   43314 non-null  object \n",
            " 3   age                      24093 non-null  float64\n",
            " 4   signup_method            43314 non-null  object \n",
            " 5   signup_flow              43314 non-null  int64  \n",
            " 6   language                 43314 non-null  object \n",
            " 7   affiliate_provider       43314 non-null  object \n",
            " 8   first_affiliate_tracked  43276 non-null  object \n",
            " 9   signup_app               43314 non-null  object \n",
            " 10  first_device_type        43314 non-null  object \n",
            " 11  first_browser            43314 non-null  object \n",
            "dtypes: float64(1), int64(1), object(10)\n",
            "memory usage: 4.0+ MB\n"
          ],
          "name": "stdout"
        }
      ]
    },
    {
      "cell_type": "code",
      "metadata": {
        "colab": {
          "base_uri": "https://localhost:8080/"
        },
        "id": "zWfJrvJonQvC",
        "outputId": "56aac34c-a8e9-4e5a-b58a-b634a61589d9"
      },
      "source": [
        "df[\"first_affiliate_tracked\"].value_counts()"
      ],
      "execution_count": null,
      "outputs": [
        {
          "output_type": "execute_result",
          "data": {
            "text/plain": [
              "untracked        85964\n",
              "linked           37983\n",
              "omg              33106\n",
              "tracked-other     5771\n",
              "product           1156\n",
              "marketing          115\n",
              "local ops           15\n",
              "Name: first_affiliate_tracked, dtype: int64"
            ]
          },
          "metadata": {
            "tags": []
          },
          "execution_count": 22
        }
      ]
    },
    {
      "cell_type": "markdown",
      "metadata": {
        "id": "cWZEEwVInm95"
      },
      "source": [
        "* In `first_affiliate_tracked` there are missing values and also we have many values as `untracked`.\n",
        "* So we impute the missing values with `untracked` itself."
      ]
    },
    {
      "cell_type": "code",
      "metadata": {
        "colab": {
          "base_uri": "https://localhost:8080/"
        },
        "id": "0Nl3PjTrn_mY",
        "outputId": "27acf9c8-9b14-4aea-8433-f3075bdbe581"
      },
      "source": [
        "df[\"first_affiliate_tracked\"].fillna(value=\"untracked\", inplace=True)\n",
        "test_df[\"first_affiliate_tracked\"].fillna(value=\"untracked\", inplace=True)\n",
        "df[\"first_affiliate_tracked\"].value_counts()"
      ],
      "execution_count": null,
      "outputs": [
        {
          "output_type": "execute_result",
          "data": {
            "text/plain": [
              "untracked        91991\n",
              "linked           37983\n",
              "omg              33106\n",
              "tracked-other     5771\n",
              "product           1156\n",
              "marketing          115\n",
              "local ops           15\n",
              "Name: first_affiliate_tracked, dtype: int64"
            ]
          },
          "metadata": {
            "tags": []
          },
          "execution_count": 23
        }
      ]
    },
    {
      "cell_type": "code",
      "metadata": {
        "colab": {
          "base_uri": "https://localhost:8080/"
        },
        "id": "GDdw5OPPoiVG",
        "outputId": "1f85f21d-76a8-4e63-e8a6-d00ee115df58"
      },
      "source": [
        "df.isna().sum()"
      ],
      "execution_count": null,
      "outputs": [
        {
          "output_type": "execute_result",
          "data": {
            "text/plain": [
              "date_account_created           0\n",
              "date_first_booking         97807\n",
              "gender                         0\n",
              "age                        68769\n",
              "signup_method                  0\n",
              "signup_flow                    0\n",
              "language                       0\n",
              "affiliate_provider             0\n",
              "first_affiliate_tracked        0\n",
              "signup_app                     0\n",
              "first_device_type              0\n",
              "first_browser                  0\n",
              "country_destination            0\n",
              "dtype: int64"
            ]
          },
          "metadata": {
            "tags": []
          },
          "execution_count": 24
        }
      ]
    },
    {
      "cell_type": "markdown",
      "metadata": {
        "id": "D0jXJ2dEoo9Y"
      },
      "source": [
        "* We will impute the missing values in `age` column with the median value."
      ]
    },
    {
      "cell_type": "code",
      "metadata": {
        "colab": {
          "base_uri": "https://localhost:8080/"
        },
        "id": "BAJrruVwpIqT",
        "outputId": "c42b2e74-b8ce-4058-a292-9f767abb73fd"
      },
      "source": [
        "df[\"age\"].describe()"
      ],
      "execution_count": null,
      "outputs": [
        {
          "output_type": "execute_result",
          "data": {
            "text/plain": [
              "count    101368.000000\n",
              "mean         52.028224\n",
              "std         167.877942\n",
              "min           1.000000\n",
              "25%          29.000000\n",
              "50%          34.000000\n",
              "75%          43.000000\n",
              "max        2014.000000\n",
              "Name: age, dtype: float64"
            ]
          },
          "metadata": {
            "tags": []
          },
          "execution_count": 25
        }
      ]
    },
    {
      "cell_type": "code",
      "metadata": {
        "colab": {
          "base_uri": "https://localhost:8080/"
        },
        "id": "xj_IbEFBpLPO",
        "outputId": "61174cc7-2ed5-4648-9c22-ac31c86e5947"
      },
      "source": [
        "df[\"age\"].median()"
      ],
      "execution_count": null,
      "outputs": [
        {
          "output_type": "execute_result",
          "data": {
            "text/plain": [
              "34.0"
            ]
          },
          "metadata": {
            "tags": []
          },
          "execution_count": 26
        }
      ]
    },
    {
      "cell_type": "code",
      "metadata": {
        "colab": {
          "base_uri": "https://localhost:8080/"
        },
        "id": "IGJayXB6pi4d",
        "outputId": "1e5e0028-4f1d-48ff-f82f-450c17a0a944"
      },
      "source": [
        "df[\"age\"].fillna(value=34, inplace=True)\n",
        "test_df[\"age\"].fillna(value=34, inplace=True)\n",
        "df[\"age\"].describe()"
      ],
      "execution_count": null,
      "outputs": [
        {
          "output_type": "execute_result",
          "data": {
            "text/plain": [
              "count    170137.000000\n",
              "mean         44.741256\n",
              "std         129.883411\n",
              "min           1.000000\n",
              "25%          32.000000\n",
              "50%          34.000000\n",
              "75%          36.000000\n",
              "max        2014.000000\n",
              "Name: age, dtype: float64"
            ]
          },
          "metadata": {
            "tags": []
          },
          "execution_count": 27
        }
      ]
    },
    {
      "cell_type": "code",
      "metadata": {
        "colab": {
          "base_uri": "https://localhost:8080/"
        },
        "id": "j1uHF-FlDroV",
        "outputId": "c4dd2382-cf7d-4b22-bb75-5640f515cd64"
      },
      "source": [
        "test_df[\"age\"].describe()"
      ],
      "execution_count": null,
      "outputs": [
        {
          "output_type": "execute_result",
          "data": {
            "text/plain": [
              "count    43314.000000\n",
              "mean        37.192501\n",
              "std         64.598645\n",
              "min          1.000000\n",
              "25%         31.000000\n",
              "50%         34.000000\n",
              "75%         34.000000\n",
              "max       2014.000000\n",
              "Name: age, dtype: float64"
            ]
          },
          "metadata": {
            "tags": []
          },
          "execution_count": 28
        }
      ]
    },
    {
      "cell_type": "markdown",
      "metadata": {
        "id": "-Fi5BHvsK_PG"
      },
      "source": [
        "* Now we'll handle outliers in age Column.\n",
        "* As we can see that there is an age value as min as 1 and as max as 2014.\n",
        "* We'll replace all values below 12 to 12 and values greater than 99 to 99"
      ]
    },
    {
      "cell_type": "code",
      "metadata": {
        "id": "ff_4EFLlLcUK"
      },
      "source": [
        "df['age'] = df['age'].apply(lambda x: 12 if x<12 else x)\n",
        "df['age'] = df['age'].apply(lambda x: 99 if x>99 else x)\n",
        "\n",
        "test_df['age'] = test_df['age'].apply(lambda x: 12 if x<12 else x)\n",
        "test_df['age'] = test_df['age'].apply(lambda x: 99 if x>99 else x)"
      ],
      "execution_count": null,
      "outputs": []
    },
    {
      "cell_type": "code",
      "metadata": {
        "colab": {
          "base_uri": "https://localhost:8080/"
        },
        "id": "ld5gwexrPGIw",
        "outputId": "e416c4a2-96f3-41ea-f0b3-43372bb3af1b"
      },
      "source": [
        "df[\"age\"].describe()"
      ],
      "execution_count": null,
      "outputs": [
        {
          "output_type": "execute_result",
          "data": {
            "text/plain": [
              "count    170137.000000\n",
              "mean         36.450560\n",
              "std          11.314506\n",
              "min          12.000000\n",
              "25%          32.000000\n",
              "50%          34.000000\n",
              "75%          36.000000\n",
              "max          99.000000\n",
              "Name: age, dtype: float64"
            ]
          },
          "metadata": {
            "tags": []
          },
          "execution_count": 30
        }
      ]
    },
    {
      "cell_type": "code",
      "metadata": {
        "colab": {
          "base_uri": "https://localhost:8080/"
        },
        "id": "Ai8lc54nj1qA",
        "outputId": "fe422243-357f-4ac3-bd6b-a9557fc44cfe"
      },
      "source": [
        "test_df[\"age\"].describe()"
      ],
      "execution_count": null,
      "outputs": [
        {
          "output_type": "execute_result",
          "data": {
            "text/plain": [
              "count    43314.000000\n",
              "mean        35.134691\n",
              "std         10.414952\n",
              "min         12.000000\n",
              "25%         31.000000\n",
              "50%         34.000000\n",
              "75%         34.000000\n",
              "max         99.000000\n",
              "Name: age, dtype: float64"
            ]
          },
          "metadata": {
            "tags": []
          },
          "execution_count": 31
        }
      ]
    },
    {
      "cell_type": "code",
      "metadata": {
        "colab": {
          "base_uri": "https://localhost:8080/"
        },
        "id": "R4D-ggjvp9tU",
        "outputId": "b7fe4ce0-a7c6-4d05-c720-0a0fb0a6cc7c"
      },
      "source": [
        "df.isna().sum()"
      ],
      "execution_count": null,
      "outputs": [
        {
          "output_type": "execute_result",
          "data": {
            "text/plain": [
              "date_account_created           0\n",
              "date_first_booking         97807\n",
              "gender                         0\n",
              "age                            0\n",
              "signup_method                  0\n",
              "signup_flow                    0\n",
              "language                       0\n",
              "affiliate_provider             0\n",
              "first_affiliate_tracked        0\n",
              "signup_app                     0\n",
              "first_device_type              0\n",
              "first_browser                  0\n",
              "country_destination            0\n",
              "dtype: int64"
            ]
          },
          "metadata": {
            "tags": []
          },
          "execution_count": 32
        }
      ]
    },
    {
      "cell_type": "code",
      "metadata": {
        "colab": {
          "base_uri": "https://localhost:8080/"
        },
        "id": "dC8VzmqgD-l7",
        "outputId": "e7819d8b-0daa-4f46-fff3-d93da9ae7709"
      },
      "source": [
        "test_df.isna().sum()"
      ],
      "execution_count": null,
      "outputs": [
        {
          "output_type": "execute_result",
          "data": {
            "text/plain": [
              "date_account_created           0\n",
              "date_first_booking         26736\n",
              "gender                         0\n",
              "age                            0\n",
              "signup_method                  0\n",
              "signup_flow                    0\n",
              "language                       0\n",
              "affiliate_provider             0\n",
              "first_affiliate_tracked        0\n",
              "signup_app                     0\n",
              "first_device_type              0\n",
              "first_browser                  0\n",
              "dtype: int64"
            ]
          },
          "metadata": {
            "tags": []
          },
          "execution_count": 33
        }
      ]
    },
    {
      "cell_type": "code",
      "metadata": {
        "colab": {
          "base_uri": "https://localhost:8080/"
        },
        "id": "9cbED2dsqO3M",
        "outputId": "a887aca4-ebc7-4173-9752-ae4c2d18129e"
      },
      "source": [
        "df.head()"
      ],
      "execution_count": null,
      "outputs": [
        {
          "output_type": "execute_result",
          "data": {
            "text/html": [
              "<div>\n",
              "<style scoped>\n",
              "    .dataframe tbody tr th:only-of-type {\n",
              "        vertical-align: middle;\n",
              "    }\n",
              "\n",
              "    .dataframe tbody tr th {\n",
              "        vertical-align: top;\n",
              "    }\n",
              "\n",
              "    .dataframe thead th {\n",
              "        text-align: right;\n",
              "    }\n",
              "</style>\n",
              "<table border=\"1\" class=\"dataframe\">\n",
              "  <thead>\n",
              "    <tr style=\"text-align: right;\">\n",
              "      <th></th>\n",
              "      <th>date_account_created</th>\n",
              "      <th>date_first_booking</th>\n",
              "      <th>gender</th>\n",
              "      <th>age</th>\n",
              "      <th>signup_method</th>\n",
              "      <th>signup_flow</th>\n",
              "      <th>language</th>\n",
              "      <th>affiliate_provider</th>\n",
              "      <th>first_affiliate_tracked</th>\n",
              "      <th>signup_app</th>\n",
              "      <th>first_device_type</th>\n",
              "      <th>first_browser</th>\n",
              "      <th>country_destination</th>\n",
              "    </tr>\n",
              "  </thead>\n",
              "  <tbody>\n",
              "    <tr>\n",
              "      <th>0</th>\n",
              "      <td>2010-06-28</td>\n",
              "      <td>NaN</td>\n",
              "      <td>-unknown-</td>\n",
              "      <td>34.0</td>\n",
              "      <td>facebook</td>\n",
              "      <td>0</td>\n",
              "      <td>en</td>\n",
              "      <td>direct</td>\n",
              "      <td>untracked</td>\n",
              "      <td>Web</td>\n",
              "      <td>Mac Desktop</td>\n",
              "      <td>Chrome</td>\n",
              "      <td>NDF</td>\n",
              "    </tr>\n",
              "    <tr>\n",
              "      <th>1</th>\n",
              "      <td>2011-05-25</td>\n",
              "      <td>NaN</td>\n",
              "      <td>MALE</td>\n",
              "      <td>38.0</td>\n",
              "      <td>facebook</td>\n",
              "      <td>0</td>\n",
              "      <td>en</td>\n",
              "      <td>google</td>\n",
              "      <td>untracked</td>\n",
              "      <td>Web</td>\n",
              "      <td>Mac Desktop</td>\n",
              "      <td>Chrome</td>\n",
              "      <td>NDF</td>\n",
              "    </tr>\n",
              "    <tr>\n",
              "      <th>2</th>\n",
              "      <td>2010-09-28</td>\n",
              "      <td>2010-08-02</td>\n",
              "      <td>FEMALE</td>\n",
              "      <td>56.0</td>\n",
              "      <td>basic</td>\n",
              "      <td>3</td>\n",
              "      <td>en</td>\n",
              "      <td>direct</td>\n",
              "      <td>untracked</td>\n",
              "      <td>Web</td>\n",
              "      <td>Windows Desktop</td>\n",
              "      <td>IE</td>\n",
              "      <td>US</td>\n",
              "    </tr>\n",
              "    <tr>\n",
              "      <th>3</th>\n",
              "      <td>2011-12-05</td>\n",
              "      <td>2012-09-08</td>\n",
              "      <td>FEMALE</td>\n",
              "      <td>42.0</td>\n",
              "      <td>facebook</td>\n",
              "      <td>0</td>\n",
              "      <td>en</td>\n",
              "      <td>direct</td>\n",
              "      <td>untracked</td>\n",
              "      <td>Web</td>\n",
              "      <td>Mac Desktop</td>\n",
              "      <td>Firefox</td>\n",
              "      <td>other</td>\n",
              "    </tr>\n",
              "    <tr>\n",
              "      <th>4</th>\n",
              "      <td>2010-09-14</td>\n",
              "      <td>2010-02-18</td>\n",
              "      <td>-unknown-</td>\n",
              "      <td>41.0</td>\n",
              "      <td>basic</td>\n",
              "      <td>0</td>\n",
              "      <td>en</td>\n",
              "      <td>direct</td>\n",
              "      <td>untracked</td>\n",
              "      <td>Web</td>\n",
              "      <td>Mac Desktop</td>\n",
              "      <td>Chrome</td>\n",
              "      <td>US</td>\n",
              "    </tr>\n",
              "  </tbody>\n",
              "</table>\n",
              "</div>"
            ],
            "text/plain": [
              "  date_account_created date_first_booking  ... first_browser  country_destination\n",
              "0           2010-06-28                NaN  ...        Chrome                  NDF\n",
              "1           2011-05-25                NaN  ...        Chrome                  NDF\n",
              "2           2010-09-28         2010-08-02  ...            IE                   US\n",
              "3           2011-12-05         2012-09-08  ...       Firefox                other\n",
              "4           2010-09-14         2010-02-18  ...        Chrome                   US\n",
              "\n",
              "[5 rows x 13 columns]"
            ]
          },
          "metadata": {
            "tags": []
          },
          "execution_count": 34
        }
      ]
    },
    {
      "cell_type": "markdown",
      "metadata": {
        "id": "oYCxUk5KISjj"
      },
      "source": [
        "* Now we have to impute values of `date_first_booking` column.\n",
        "* Since the NaN is at those places where people haven't selected a destination country and it is a date field, so we will impute this column with a random constant date, so there isn't any problem in further preprocessing and encoding."
      ]
    },
    {
      "cell_type": "code",
      "metadata": {
        "id": "v34dJNmNI66Z"
      },
      "source": [
        "df[\"date_first_booking\"].fillna(value=\"2000-01-01\", inplace=True)\n",
        "test_df[\"date_first_booking\"].fillna(value=\"2000-01-01\", inplace=True)"
      ],
      "execution_count": null,
      "outputs": []
    },
    {
      "cell_type": "code",
      "metadata": {
        "colab": {
          "base_uri": "https://localhost:8080/"
        },
        "id": "1ad4ZFryJYNj",
        "outputId": "4ca6611b-0c46-46d7-92f6-28a2ea348b27"
      },
      "source": [
        "df.info()"
      ],
      "execution_count": null,
      "outputs": [
        {
          "output_type": "stream",
          "text": [
            "<class 'pandas.core.frame.DataFrame'>\n",
            "RangeIndex: 170137 entries, 0 to 170136\n",
            "Data columns (total 13 columns):\n",
            " #   Column                   Non-Null Count   Dtype  \n",
            "---  ------                   --------------   -----  \n",
            " 0   date_account_created     170137 non-null  object \n",
            " 1   date_first_booking       170137 non-null  object \n",
            " 2   gender                   170137 non-null  object \n",
            " 3   age                      170137 non-null  float64\n",
            " 4   signup_method            170137 non-null  object \n",
            " 5   signup_flow              170137 non-null  int64  \n",
            " 6   language                 170137 non-null  object \n",
            " 7   affiliate_provider       170137 non-null  object \n",
            " 8   first_affiliate_tracked  170137 non-null  object \n",
            " 9   signup_app               170137 non-null  object \n",
            " 10  first_device_type        170137 non-null  object \n",
            " 11  first_browser            170137 non-null  object \n",
            " 12  country_destination      170137 non-null  object \n",
            "dtypes: float64(1), int64(1), object(11)\n",
            "memory usage: 16.9+ MB\n"
          ],
          "name": "stdout"
        }
      ]
    },
    {
      "cell_type": "code",
      "metadata": {
        "colab": {
          "base_uri": "https://localhost:8080/"
        },
        "id": "_U-FV_YiEIr6",
        "outputId": "fa22924a-8df5-43d3-9cfe-a6ec6a6496f8"
      },
      "source": [
        "test_df.info()"
      ],
      "execution_count": null,
      "outputs": [
        {
          "output_type": "stream",
          "text": [
            "<class 'pandas.core.frame.DataFrame'>\n",
            "RangeIndex: 43314 entries, 0 to 43313\n",
            "Data columns (total 12 columns):\n",
            " #   Column                   Non-Null Count  Dtype  \n",
            "---  ------                   --------------  -----  \n",
            " 0   date_account_created     43314 non-null  object \n",
            " 1   date_first_booking       43314 non-null  object \n",
            " 2   gender                   43314 non-null  object \n",
            " 3   age                      43314 non-null  float64\n",
            " 4   signup_method            43314 non-null  object \n",
            " 5   signup_flow              43314 non-null  int64  \n",
            " 6   language                 43314 non-null  object \n",
            " 7   affiliate_provider       43314 non-null  object \n",
            " 8   first_affiliate_tracked  43314 non-null  object \n",
            " 9   signup_app               43314 non-null  object \n",
            " 10  first_device_type        43314 non-null  object \n",
            " 11  first_browser            43314 non-null  object \n",
            "dtypes: float64(1), int64(1), object(10)\n",
            "memory usage: 4.0+ MB\n"
          ],
          "name": "stdout"
        }
      ]
    },
    {
      "cell_type": "code",
      "metadata": {
        "colab": {
          "base_uri": "https://localhost:8080/"
        },
        "id": "B9dwNE_PKvbH",
        "outputId": "5ae3dc1a-8692-4e37-9d20-14f2fe719bbc"
      },
      "source": [
        "df.head()"
      ],
      "execution_count": null,
      "outputs": [
        {
          "output_type": "execute_result",
          "data": {
            "text/html": [
              "<div>\n",
              "<style scoped>\n",
              "    .dataframe tbody tr th:only-of-type {\n",
              "        vertical-align: middle;\n",
              "    }\n",
              "\n",
              "    .dataframe tbody tr th {\n",
              "        vertical-align: top;\n",
              "    }\n",
              "\n",
              "    .dataframe thead th {\n",
              "        text-align: right;\n",
              "    }\n",
              "</style>\n",
              "<table border=\"1\" class=\"dataframe\">\n",
              "  <thead>\n",
              "    <tr style=\"text-align: right;\">\n",
              "      <th></th>\n",
              "      <th>date_account_created</th>\n",
              "      <th>date_first_booking</th>\n",
              "      <th>gender</th>\n",
              "      <th>age</th>\n",
              "      <th>signup_method</th>\n",
              "      <th>signup_flow</th>\n",
              "      <th>language</th>\n",
              "      <th>affiliate_provider</th>\n",
              "      <th>first_affiliate_tracked</th>\n",
              "      <th>signup_app</th>\n",
              "      <th>first_device_type</th>\n",
              "      <th>first_browser</th>\n",
              "      <th>country_destination</th>\n",
              "    </tr>\n",
              "  </thead>\n",
              "  <tbody>\n",
              "    <tr>\n",
              "      <th>0</th>\n",
              "      <td>2010-06-28</td>\n",
              "      <td>2000-01-01</td>\n",
              "      <td>-unknown-</td>\n",
              "      <td>34.0</td>\n",
              "      <td>facebook</td>\n",
              "      <td>0</td>\n",
              "      <td>en</td>\n",
              "      <td>direct</td>\n",
              "      <td>untracked</td>\n",
              "      <td>Web</td>\n",
              "      <td>Mac Desktop</td>\n",
              "      <td>Chrome</td>\n",
              "      <td>NDF</td>\n",
              "    </tr>\n",
              "    <tr>\n",
              "      <th>1</th>\n",
              "      <td>2011-05-25</td>\n",
              "      <td>2000-01-01</td>\n",
              "      <td>MALE</td>\n",
              "      <td>38.0</td>\n",
              "      <td>facebook</td>\n",
              "      <td>0</td>\n",
              "      <td>en</td>\n",
              "      <td>google</td>\n",
              "      <td>untracked</td>\n",
              "      <td>Web</td>\n",
              "      <td>Mac Desktop</td>\n",
              "      <td>Chrome</td>\n",
              "      <td>NDF</td>\n",
              "    </tr>\n",
              "    <tr>\n",
              "      <th>2</th>\n",
              "      <td>2010-09-28</td>\n",
              "      <td>2010-08-02</td>\n",
              "      <td>FEMALE</td>\n",
              "      <td>56.0</td>\n",
              "      <td>basic</td>\n",
              "      <td>3</td>\n",
              "      <td>en</td>\n",
              "      <td>direct</td>\n",
              "      <td>untracked</td>\n",
              "      <td>Web</td>\n",
              "      <td>Windows Desktop</td>\n",
              "      <td>IE</td>\n",
              "      <td>US</td>\n",
              "    </tr>\n",
              "    <tr>\n",
              "      <th>3</th>\n",
              "      <td>2011-12-05</td>\n",
              "      <td>2012-09-08</td>\n",
              "      <td>FEMALE</td>\n",
              "      <td>42.0</td>\n",
              "      <td>facebook</td>\n",
              "      <td>0</td>\n",
              "      <td>en</td>\n",
              "      <td>direct</td>\n",
              "      <td>untracked</td>\n",
              "      <td>Web</td>\n",
              "      <td>Mac Desktop</td>\n",
              "      <td>Firefox</td>\n",
              "      <td>other</td>\n",
              "    </tr>\n",
              "    <tr>\n",
              "      <th>4</th>\n",
              "      <td>2010-09-14</td>\n",
              "      <td>2010-02-18</td>\n",
              "      <td>-unknown-</td>\n",
              "      <td>41.0</td>\n",
              "      <td>basic</td>\n",
              "      <td>0</td>\n",
              "      <td>en</td>\n",
              "      <td>direct</td>\n",
              "      <td>untracked</td>\n",
              "      <td>Web</td>\n",
              "      <td>Mac Desktop</td>\n",
              "      <td>Chrome</td>\n",
              "      <td>US</td>\n",
              "    </tr>\n",
              "  </tbody>\n",
              "</table>\n",
              "</div>"
            ],
            "text/plain": [
              "  date_account_created date_first_booking  ... first_browser  country_destination\n",
              "0           2010-06-28         2000-01-01  ...        Chrome                  NDF\n",
              "1           2011-05-25         2000-01-01  ...        Chrome                  NDF\n",
              "2           2010-09-28         2010-08-02  ...            IE                   US\n",
              "3           2011-12-05         2012-09-08  ...       Firefox                other\n",
              "4           2010-09-14         2010-02-18  ...        Chrome                   US\n",
              "\n",
              "[5 rows x 13 columns]"
            ]
          },
          "metadata": {
            "tags": []
          },
          "execution_count": 38
        }
      ]
    },
    {
      "cell_type": "markdown",
      "metadata": {
        "id": "CwTyAW9TKwX0"
      },
      "source": [
        "* Now we'll process those columns which contains date, and extract Year, Month and Day from it."
      ]
    },
    {
      "cell_type": "code",
      "metadata": {
        "id": "vU4ws89QQkOq"
      },
      "source": [
        "df_new = df\n",
        "df_new['date_account_created'] = pd.to_datetime(df_new['date_account_created'])\n",
        "df_new['date_first_booking'] = pd.to_datetime(df_new['date_first_booking'])\n",
        "\n",
        "test_df['date_account_created'] = pd.to_datetime(test_df['date_account_created'])\n",
        "test_df['date_first_booking'] = pd.to_datetime(test_df['date_first_booking'])"
      ],
      "execution_count": null,
      "outputs": []
    },
    {
      "cell_type": "code",
      "metadata": {
        "colab": {
          "base_uri": "https://localhost:8080/"
        },
        "id": "LrWae11JRZzO",
        "outputId": "876304d3-fc51-4d76-ed88-97dbe7de980f"
      },
      "source": [
        "df_new.info()"
      ],
      "execution_count": null,
      "outputs": [
        {
          "output_type": "stream",
          "text": [
            "<class 'pandas.core.frame.DataFrame'>\n",
            "RangeIndex: 170137 entries, 0 to 170136\n",
            "Data columns (total 13 columns):\n",
            " #   Column                   Non-Null Count   Dtype         \n",
            "---  ------                   --------------   -----         \n",
            " 0   date_account_created     170137 non-null  datetime64[ns]\n",
            " 1   date_first_booking       170137 non-null  datetime64[ns]\n",
            " 2   gender                   170137 non-null  object        \n",
            " 3   age                      170137 non-null  float64       \n",
            " 4   signup_method            170137 non-null  object        \n",
            " 5   signup_flow              170137 non-null  int64         \n",
            " 6   language                 170137 non-null  object        \n",
            " 7   affiliate_provider       170137 non-null  object        \n",
            " 8   first_affiliate_tracked  170137 non-null  object        \n",
            " 9   signup_app               170137 non-null  object        \n",
            " 10  first_device_type        170137 non-null  object        \n",
            " 11  first_browser            170137 non-null  object        \n",
            " 12  country_destination      170137 non-null  object        \n",
            "dtypes: datetime64[ns](2), float64(1), int64(1), object(9)\n",
            "memory usage: 16.9+ MB\n"
          ],
          "name": "stdout"
        }
      ]
    },
    {
      "cell_type": "code",
      "metadata": {
        "colab": {
          "base_uri": "https://localhost:8080/"
        },
        "id": "G8skt1ZTkAo7",
        "outputId": "6e8a4cbb-c2e1-44b9-ff26-907637acff70"
      },
      "source": [
        "test_df.info()"
      ],
      "execution_count": null,
      "outputs": [
        {
          "output_type": "stream",
          "text": [
            "<class 'pandas.core.frame.DataFrame'>\n",
            "RangeIndex: 43314 entries, 0 to 43313\n",
            "Data columns (total 12 columns):\n",
            " #   Column                   Non-Null Count  Dtype         \n",
            "---  ------                   --------------  -----         \n",
            " 0   date_account_created     43314 non-null  datetime64[ns]\n",
            " 1   date_first_booking       43314 non-null  datetime64[ns]\n",
            " 2   gender                   43314 non-null  object        \n",
            " 3   age                      43314 non-null  float64       \n",
            " 4   signup_method            43314 non-null  object        \n",
            " 5   signup_flow              43314 non-null  int64         \n",
            " 6   language                 43314 non-null  object        \n",
            " 7   affiliate_provider       43314 non-null  object        \n",
            " 8   first_affiliate_tracked  43314 non-null  object        \n",
            " 9   signup_app               43314 non-null  object        \n",
            " 10  first_device_type        43314 non-null  object        \n",
            " 11  first_browser            43314 non-null  object        \n",
            "dtypes: datetime64[ns](2), float64(1), int64(1), object(8)\n",
            "memory usage: 4.0+ MB\n"
          ],
          "name": "stdout"
        }
      ]
    },
    {
      "cell_type": "code",
      "metadata": {
        "colab": {
          "base_uri": "https://localhost:8080/"
        },
        "id": "V6apcjwfRhVF",
        "outputId": "76a09514-e7f4-4d42-cb17-c6b829eecea0"
      },
      "source": [
        "df_new[\"account_created_year\"] = df_new[\"date_account_created\"].dt.year\n",
        "df_new[\"account_created_month\"] = df_new[\"date_account_created\"].dt.month\n",
        "df_new[\"account_created_day\"] = df_new[\"date_account_created\"].dt.day\n",
        "\n",
        "test_df[\"account_created_year\"] = test_df[\"date_account_created\"].dt.year\n",
        "test_df[\"account_created_month\"] = test_df[\"date_account_created\"].dt.month\n",
        "test_df[\"account_created_day\"] = test_df[\"date_account_created\"].dt.day\n",
        "\n",
        "df_new[\"first_booking_year\"] = df_new[\"date_first_booking\"].dt.year\n",
        "df_new[\"first_booking_month\"] = df_new[\"date_first_booking\"].dt.month\n",
        "df_new[\"first_booking_day\"] = df_new[\"date_first_booking\"].dt.day\n",
        "\n",
        "test_df[\"first_booking_year\"] = test_df[\"date_first_booking\"].dt.year\n",
        "test_df[\"first_booking_month\"] = test_df[\"date_first_booking\"].dt.month\n",
        "test_df[\"first_booking_day\"] = test_df[\"date_first_booking\"].dt.day\n",
        "\n",
        "df_new.drop(\"date_first_booking\", axis=1, inplace=True)\n",
        "df_new.drop(\"date_account_created\", axis=1, inplace=True)\n",
        "\n",
        "test_df.drop(\"date_first_booking\", axis=1, inplace=True)\n",
        "test_df.drop(\"date_account_created\", axis=1, inplace=True)\n",
        "\n",
        "df_new.head(10)"
      ],
      "execution_count": null,
      "outputs": [
        {
          "output_type": "execute_result",
          "data": {
            "text/html": [
              "<div>\n",
              "<style scoped>\n",
              "    .dataframe tbody tr th:only-of-type {\n",
              "        vertical-align: middle;\n",
              "    }\n",
              "\n",
              "    .dataframe tbody tr th {\n",
              "        vertical-align: top;\n",
              "    }\n",
              "\n",
              "    .dataframe thead th {\n",
              "        text-align: right;\n",
              "    }\n",
              "</style>\n",
              "<table border=\"1\" class=\"dataframe\">\n",
              "  <thead>\n",
              "    <tr style=\"text-align: right;\">\n",
              "      <th></th>\n",
              "      <th>gender</th>\n",
              "      <th>age</th>\n",
              "      <th>signup_method</th>\n",
              "      <th>signup_flow</th>\n",
              "      <th>language</th>\n",
              "      <th>affiliate_provider</th>\n",
              "      <th>first_affiliate_tracked</th>\n",
              "      <th>signup_app</th>\n",
              "      <th>first_device_type</th>\n",
              "      <th>first_browser</th>\n",
              "      <th>country_destination</th>\n",
              "      <th>account_created_year</th>\n",
              "      <th>account_created_month</th>\n",
              "      <th>account_created_day</th>\n",
              "      <th>first_booking_year</th>\n",
              "      <th>first_booking_month</th>\n",
              "      <th>first_booking_day</th>\n",
              "    </tr>\n",
              "  </thead>\n",
              "  <tbody>\n",
              "    <tr>\n",
              "      <th>0</th>\n",
              "      <td>-unknown-</td>\n",
              "      <td>34.0</td>\n",
              "      <td>facebook</td>\n",
              "      <td>0</td>\n",
              "      <td>en</td>\n",
              "      <td>direct</td>\n",
              "      <td>untracked</td>\n",
              "      <td>Web</td>\n",
              "      <td>Mac Desktop</td>\n",
              "      <td>Chrome</td>\n",
              "      <td>NDF</td>\n",
              "      <td>2010</td>\n",
              "      <td>6</td>\n",
              "      <td>28</td>\n",
              "      <td>2000</td>\n",
              "      <td>1</td>\n",
              "      <td>1</td>\n",
              "    </tr>\n",
              "    <tr>\n",
              "      <th>1</th>\n",
              "      <td>MALE</td>\n",
              "      <td>38.0</td>\n",
              "      <td>facebook</td>\n",
              "      <td>0</td>\n",
              "      <td>en</td>\n",
              "      <td>google</td>\n",
              "      <td>untracked</td>\n",
              "      <td>Web</td>\n",
              "      <td>Mac Desktop</td>\n",
              "      <td>Chrome</td>\n",
              "      <td>NDF</td>\n",
              "      <td>2011</td>\n",
              "      <td>5</td>\n",
              "      <td>25</td>\n",
              "      <td>2000</td>\n",
              "      <td>1</td>\n",
              "      <td>1</td>\n",
              "    </tr>\n",
              "    <tr>\n",
              "      <th>2</th>\n",
              "      <td>FEMALE</td>\n",
              "      <td>56.0</td>\n",
              "      <td>basic</td>\n",
              "      <td>3</td>\n",
              "      <td>en</td>\n",
              "      <td>direct</td>\n",
              "      <td>untracked</td>\n",
              "      <td>Web</td>\n",
              "      <td>Windows Desktop</td>\n",
              "      <td>IE</td>\n",
              "      <td>US</td>\n",
              "      <td>2010</td>\n",
              "      <td>9</td>\n",
              "      <td>28</td>\n",
              "      <td>2010</td>\n",
              "      <td>8</td>\n",
              "      <td>2</td>\n",
              "    </tr>\n",
              "    <tr>\n",
              "      <th>3</th>\n",
              "      <td>FEMALE</td>\n",
              "      <td>42.0</td>\n",
              "      <td>facebook</td>\n",
              "      <td>0</td>\n",
              "      <td>en</td>\n",
              "      <td>direct</td>\n",
              "      <td>untracked</td>\n",
              "      <td>Web</td>\n",
              "      <td>Mac Desktop</td>\n",
              "      <td>Firefox</td>\n",
              "      <td>other</td>\n",
              "      <td>2011</td>\n",
              "      <td>12</td>\n",
              "      <td>5</td>\n",
              "      <td>2012</td>\n",
              "      <td>9</td>\n",
              "      <td>8</td>\n",
              "    </tr>\n",
              "    <tr>\n",
              "      <th>4</th>\n",
              "      <td>-unknown-</td>\n",
              "      <td>41.0</td>\n",
              "      <td>basic</td>\n",
              "      <td>0</td>\n",
              "      <td>en</td>\n",
              "      <td>direct</td>\n",
              "      <td>untracked</td>\n",
              "      <td>Web</td>\n",
              "      <td>Mac Desktop</td>\n",
              "      <td>Chrome</td>\n",
              "      <td>US</td>\n",
              "      <td>2010</td>\n",
              "      <td>9</td>\n",
              "      <td>14</td>\n",
              "      <td>2010</td>\n",
              "      <td>2</td>\n",
              "      <td>18</td>\n",
              "    </tr>\n",
              "    <tr>\n",
              "      <th>5</th>\n",
              "      <td>-unknown-</td>\n",
              "      <td>34.0</td>\n",
              "      <td>basic</td>\n",
              "      <td>0</td>\n",
              "      <td>en</td>\n",
              "      <td>other</td>\n",
              "      <td>omg</td>\n",
              "      <td>Web</td>\n",
              "      <td>Mac Desktop</td>\n",
              "      <td>Chrome</td>\n",
              "      <td>US</td>\n",
              "      <td>2010</td>\n",
              "      <td>1</td>\n",
              "      <td>1</td>\n",
              "      <td>2010</td>\n",
              "      <td>1</td>\n",
              "      <td>2</td>\n",
              "    </tr>\n",
              "    <tr>\n",
              "      <th>6</th>\n",
              "      <td>FEMALE</td>\n",
              "      <td>46.0</td>\n",
              "      <td>basic</td>\n",
              "      <td>0</td>\n",
              "      <td>en</td>\n",
              "      <td>craigslist</td>\n",
              "      <td>untracked</td>\n",
              "      <td>Web</td>\n",
              "      <td>Mac Desktop</td>\n",
              "      <td>Safari</td>\n",
              "      <td>US</td>\n",
              "      <td>2010</td>\n",
              "      <td>1</td>\n",
              "      <td>2</td>\n",
              "      <td>2010</td>\n",
              "      <td>1</td>\n",
              "      <td>5</td>\n",
              "    </tr>\n",
              "    <tr>\n",
              "      <th>7</th>\n",
              "      <td>FEMALE</td>\n",
              "      <td>47.0</td>\n",
              "      <td>basic</td>\n",
              "      <td>0</td>\n",
              "      <td>en</td>\n",
              "      <td>direct</td>\n",
              "      <td>omg</td>\n",
              "      <td>Web</td>\n",
              "      <td>Mac Desktop</td>\n",
              "      <td>Safari</td>\n",
              "      <td>US</td>\n",
              "      <td>2010</td>\n",
              "      <td>1</td>\n",
              "      <td>3</td>\n",
              "      <td>2010</td>\n",
              "      <td>1</td>\n",
              "      <td>13</td>\n",
              "    </tr>\n",
              "    <tr>\n",
              "      <th>8</th>\n",
              "      <td>FEMALE</td>\n",
              "      <td>50.0</td>\n",
              "      <td>basic</td>\n",
              "      <td>0</td>\n",
              "      <td>en</td>\n",
              "      <td>craigslist</td>\n",
              "      <td>untracked</td>\n",
              "      <td>Web</td>\n",
              "      <td>Mac Desktop</td>\n",
              "      <td>Safari</td>\n",
              "      <td>US</td>\n",
              "      <td>2010</td>\n",
              "      <td>1</td>\n",
              "      <td>4</td>\n",
              "      <td>2010</td>\n",
              "      <td>7</td>\n",
              "      <td>29</td>\n",
              "    </tr>\n",
              "    <tr>\n",
              "      <th>9</th>\n",
              "      <td>-unknown-</td>\n",
              "      <td>46.0</td>\n",
              "      <td>basic</td>\n",
              "      <td>0</td>\n",
              "      <td>en</td>\n",
              "      <td>craigslist</td>\n",
              "      <td>omg</td>\n",
              "      <td>Web</td>\n",
              "      <td>Mac Desktop</td>\n",
              "      <td>Firefox</td>\n",
              "      <td>US</td>\n",
              "      <td>2010</td>\n",
              "      <td>1</td>\n",
              "      <td>4</td>\n",
              "      <td>2010</td>\n",
              "      <td>1</td>\n",
              "      <td>4</td>\n",
              "    </tr>\n",
              "  </tbody>\n",
              "</table>\n",
              "</div>"
            ],
            "text/plain": [
              "      gender   age  ... first_booking_month  first_booking_day\n",
              "0  -unknown-  34.0  ...                   1                  1\n",
              "1       MALE  38.0  ...                   1                  1\n",
              "2     FEMALE  56.0  ...                   8                  2\n",
              "3     FEMALE  42.0  ...                   9                  8\n",
              "4  -unknown-  41.0  ...                   2                 18\n",
              "5  -unknown-  34.0  ...                   1                  2\n",
              "6     FEMALE  46.0  ...                   1                  5\n",
              "7     FEMALE  47.0  ...                   1                 13\n",
              "8     FEMALE  50.0  ...                   7                 29\n",
              "9  -unknown-  46.0  ...                   1                  4\n",
              "\n",
              "[10 rows x 17 columns]"
            ]
          },
          "metadata": {
            "tags": []
          },
          "execution_count": 42
        }
      ]
    },
    {
      "cell_type": "code",
      "metadata": {
        "colab": {
          "base_uri": "https://localhost:8080/"
        },
        "id": "KkkIBgDikKP2",
        "outputId": "fe9c0aa0-7a4a-4d1f-d913-dbb0882f410e"
      },
      "source": [
        "test_df.info()"
      ],
      "execution_count": null,
      "outputs": [
        {
          "output_type": "stream",
          "text": [
            "<class 'pandas.core.frame.DataFrame'>\n",
            "RangeIndex: 43314 entries, 0 to 43313\n",
            "Data columns (total 16 columns):\n",
            " #   Column                   Non-Null Count  Dtype  \n",
            "---  ------                   --------------  -----  \n",
            " 0   gender                   43314 non-null  object \n",
            " 1   age                      43314 non-null  float64\n",
            " 2   signup_method            43314 non-null  object \n",
            " 3   signup_flow              43314 non-null  int64  \n",
            " 4   language                 43314 non-null  object \n",
            " 5   affiliate_provider       43314 non-null  object \n",
            " 6   first_affiliate_tracked  43314 non-null  object \n",
            " 7   signup_app               43314 non-null  object \n",
            " 8   first_device_type        43314 non-null  object \n",
            " 9   first_browser            43314 non-null  object \n",
            " 10  account_created_year     43314 non-null  int64  \n",
            " 11  account_created_month    43314 non-null  int64  \n",
            " 12  account_created_day      43314 non-null  int64  \n",
            " 13  first_booking_year       43314 non-null  int64  \n",
            " 14  first_booking_month      43314 non-null  int64  \n",
            " 15  first_booking_day        43314 non-null  int64  \n",
            "dtypes: float64(1), int64(7), object(8)\n",
            "memory usage: 5.3+ MB\n"
          ],
          "name": "stdout"
        }
      ]
    },
    {
      "cell_type": "markdown",
      "metadata": {
        "id": "6NUCTwbeYO6O"
      },
      "source": [
        "* Features like `month` and `day` are cyclical in nature.\n",
        "* To preserve their cyclical nature we'll map these values to a circle, so that the 12th month is close to 1st month and last day of the month is closer to the first day of the next month and we preserve this information."
      ]
    },
    {
      "cell_type": "code",
      "metadata": {
        "colab": {
          "base_uri": "https://localhost:8080/"
        },
        "id": "-fQZ1uXKa8i0",
        "outputId": "616a575f-0765-4ad5-a824-2d0eecb25bcb"
      },
      "source": [
        "print(df_new[\"account_created_month\"].unique())\n",
        "print(df_new[\"account_created_day\"].unique())\n",
        "print(df_new[\"first_booking_month\"].unique())\n",
        "print(df_new[\"first_booking_day\"].unique())"
      ],
      "execution_count": null,
      "outputs": [
        {
          "output_type": "stream",
          "text": [
            "[ 6  5  9 12  1  2  3  4 11  7  8 10]\n",
            "[28 25  5 14  1  2  3  4  7  8 10 11 12 13 15 16 19 21 23 24 26 27 29 30\n",
            " 31  6  9 17 18 20 22]\n",
            "[ 1  8  9  2  7 12  3  6  4  5 10 11]\n",
            "[ 1  2  8 18  5 13 29  4  6  9 10 11 15 22 19 24 21  3 27 25 26 30 28 31\n",
            " 12 20  7 16 17 23 14]\n"
          ],
          "name": "stdout"
        }
      ]
    },
    {
      "cell_type": "code",
      "metadata": {
        "id": "9KlzJohoc1jy"
      },
      "source": [
        "df_new[\"account_created_month_sin\"] = np.sin((df_new[\"account_created_month\"])*(2.*np.pi/12))\n",
        "df_new[\"account_created_month_cos\"] = np.cos((df_new[\"account_created_month\"])*(2.*np.pi/12))\n",
        "\n",
        "df_new[\"account_created_day_sin\"] = np.sin((df_new[\"account_created_day\"])*(2.*np.pi/31))\n",
        "df_new[\"account_created_day_cos\"] = np.cos((df_new[\"account_created_day\"])*(2.*np.pi/31))\n",
        "\n",
        "df_new[\"first_booking_month_sin\"] = np.sin((df_new[\"first_booking_month\"])*(2.*np.pi/12))\n",
        "df_new[\"first_booking_month_cos\"] = np.cos((df_new[\"first_booking_month\"])*(2.*np.pi/12))\n",
        "\n",
        "df_new[\"first_booking_day_sin\"] = np.sin((df_new[\"first_booking_day\"])*(2.*np.pi/31))\n",
        "df_new[\"first_booking_day_cos\"] = np.cos((df_new[\"first_booking_day\"])*(2.*np.pi/31))\n",
        "\n",
        "\n",
        "test_df[\"account_created_month_sin\"] = np.sin((test_df[\"account_created_month\"])*(2.*np.pi/12))\n",
        "test_df[\"account_created_month_cos\"] = np.cos((test_df[\"account_created_month\"])*(2.*np.pi/12))\n",
        "\n",
        "test_df[\"account_created_day_sin\"] = np.sin((test_df[\"account_created_day\"])*(2.*np.pi/31))\n",
        "test_df[\"account_created_day_cos\"] = np.cos((test_df[\"account_created_day\"])*(2.*np.pi/31))\n",
        "\n",
        "test_df[\"first_booking_month_sin\"] = np.sin((test_df[\"first_booking_month\"])*(2.*np.pi/12))\n",
        "test_df[\"first_booking_month_cos\"] = np.cos((test_df[\"first_booking_month\"])*(2.*np.pi/12))\n",
        "\n",
        "test_df[\"first_booking_day_sin\"] = np.sin((test_df[\"first_booking_day\"])*(2.*np.pi/31))\n",
        "test_df[\"first_booking_day_cos\"] = np.cos((test_df[\"first_booking_day\"])*(2.*np.pi/31))"
      ],
      "execution_count": null,
      "outputs": []
    },
    {
      "cell_type": "code",
      "metadata": {
        "colab": {
          "base_uri": "https://localhost:8080/"
        },
        "id": "e80BMIR6Stoo",
        "outputId": "17b7ba1f-3813-4169-b2e3-2982bac2333f"
      },
      "source": [
        "df_new.info()"
      ],
      "execution_count": null,
      "outputs": [
        {
          "output_type": "stream",
          "text": [
            "<class 'pandas.core.frame.DataFrame'>\n",
            "RangeIndex: 170137 entries, 0 to 170136\n",
            "Data columns (total 25 columns):\n",
            " #   Column                     Non-Null Count   Dtype  \n",
            "---  ------                     --------------   -----  \n",
            " 0   gender                     170137 non-null  object \n",
            " 1   age                        170137 non-null  float64\n",
            " 2   signup_method              170137 non-null  object \n",
            " 3   signup_flow                170137 non-null  int64  \n",
            " 4   language                   170137 non-null  object \n",
            " 5   affiliate_provider         170137 non-null  object \n",
            " 6   first_affiliate_tracked    170137 non-null  object \n",
            " 7   signup_app                 170137 non-null  object \n",
            " 8   first_device_type          170137 non-null  object \n",
            " 9   first_browser              170137 non-null  object \n",
            " 10  country_destination        170137 non-null  object \n",
            " 11  account_created_year       170137 non-null  int64  \n",
            " 12  account_created_month      170137 non-null  int64  \n",
            " 13  account_created_day        170137 non-null  int64  \n",
            " 14  first_booking_year         170137 non-null  int64  \n",
            " 15  first_booking_month        170137 non-null  int64  \n",
            " 16  first_booking_day          170137 non-null  int64  \n",
            " 17  account_created_month_sin  170137 non-null  float64\n",
            " 18  account_created_month_cos  170137 non-null  float64\n",
            " 19  account_created_day_sin    170137 non-null  float64\n",
            " 20  account_created_day_cos    170137 non-null  float64\n",
            " 21  first_booking_month_sin    170137 non-null  float64\n",
            " 22  first_booking_month_cos    170137 non-null  float64\n",
            " 23  first_booking_day_sin      170137 non-null  float64\n",
            " 24  first_booking_day_cos      170137 non-null  float64\n",
            "dtypes: float64(9), int64(7), object(9)\n",
            "memory usage: 32.5+ MB\n"
          ],
          "name": "stdout"
        }
      ]
    },
    {
      "cell_type": "code",
      "metadata": {
        "colab": {
          "base_uri": "https://localhost:8080/"
        },
        "id": "JzdzbDsYkczl",
        "outputId": "3b3ec515-7302-4f9c-e4ab-7724a408fb0d"
      },
      "source": [
        "test_df.info()"
      ],
      "execution_count": null,
      "outputs": [
        {
          "output_type": "stream",
          "text": [
            "<class 'pandas.core.frame.DataFrame'>\n",
            "RangeIndex: 43314 entries, 0 to 43313\n",
            "Data columns (total 24 columns):\n",
            " #   Column                     Non-Null Count  Dtype  \n",
            "---  ------                     --------------  -----  \n",
            " 0   gender                     43314 non-null  object \n",
            " 1   age                        43314 non-null  float64\n",
            " 2   signup_method              43314 non-null  object \n",
            " 3   signup_flow                43314 non-null  int64  \n",
            " 4   language                   43314 non-null  object \n",
            " 5   affiliate_provider         43314 non-null  object \n",
            " 6   first_affiliate_tracked    43314 non-null  object \n",
            " 7   signup_app                 43314 non-null  object \n",
            " 8   first_device_type          43314 non-null  object \n",
            " 9   first_browser              43314 non-null  object \n",
            " 10  account_created_year       43314 non-null  int64  \n",
            " 11  account_created_month      43314 non-null  int64  \n",
            " 12  account_created_day        43314 non-null  int64  \n",
            " 13  first_booking_year         43314 non-null  int64  \n",
            " 14  first_booking_month        43314 non-null  int64  \n",
            " 15  first_booking_day          43314 non-null  int64  \n",
            " 16  account_created_month_sin  43314 non-null  float64\n",
            " 17  account_created_month_cos  43314 non-null  float64\n",
            " 18  account_created_day_sin    43314 non-null  float64\n",
            " 19  account_created_day_cos    43314 non-null  float64\n",
            " 20  first_booking_month_sin    43314 non-null  float64\n",
            " 21  first_booking_month_cos    43314 non-null  float64\n",
            " 22  first_booking_day_sin      43314 non-null  float64\n",
            " 23  first_booking_day_cos      43314 non-null  float64\n",
            "dtypes: float64(9), int64(7), object(8)\n",
            "memory usage: 7.9+ MB\n"
          ],
          "name": "stdout"
        }
      ]
    },
    {
      "cell_type": "code",
      "metadata": {
        "colab": {
          "base_uri": "https://localhost:8080/"
        },
        "id": "UMIh1dJ0evcO",
        "outputId": "7b5af146-fcc7-48da-d530-9d38bf8c77cd"
      },
      "source": [
        "df_new.head(10)"
      ],
      "execution_count": null,
      "outputs": [
        {
          "output_type": "execute_result",
          "data": {
            "text/html": [
              "<div>\n",
              "<style scoped>\n",
              "    .dataframe tbody tr th:only-of-type {\n",
              "        vertical-align: middle;\n",
              "    }\n",
              "\n",
              "    .dataframe tbody tr th {\n",
              "        vertical-align: top;\n",
              "    }\n",
              "\n",
              "    .dataframe thead th {\n",
              "        text-align: right;\n",
              "    }\n",
              "</style>\n",
              "<table border=\"1\" class=\"dataframe\">\n",
              "  <thead>\n",
              "    <tr style=\"text-align: right;\">\n",
              "      <th></th>\n",
              "      <th>gender</th>\n",
              "      <th>age</th>\n",
              "      <th>signup_method</th>\n",
              "      <th>signup_flow</th>\n",
              "      <th>language</th>\n",
              "      <th>affiliate_provider</th>\n",
              "      <th>first_affiliate_tracked</th>\n",
              "      <th>signup_app</th>\n",
              "      <th>first_device_type</th>\n",
              "      <th>first_browser</th>\n",
              "      <th>country_destination</th>\n",
              "      <th>account_created_year</th>\n",
              "      <th>account_created_month</th>\n",
              "      <th>account_created_day</th>\n",
              "      <th>first_booking_year</th>\n",
              "      <th>first_booking_month</th>\n",
              "      <th>first_booking_day</th>\n",
              "      <th>account_created_month_sin</th>\n",
              "      <th>account_created_month_cos</th>\n",
              "      <th>account_created_day_sin</th>\n",
              "      <th>account_created_day_cos</th>\n",
              "      <th>first_booking_month_sin</th>\n",
              "      <th>first_booking_month_cos</th>\n",
              "      <th>first_booking_day_sin</th>\n",
              "      <th>first_booking_day_cos</th>\n",
              "    </tr>\n",
              "  </thead>\n",
              "  <tbody>\n",
              "    <tr>\n",
              "      <th>0</th>\n",
              "      <td>-unknown-</td>\n",
              "      <td>34.0</td>\n",
              "      <td>facebook</td>\n",
              "      <td>0</td>\n",
              "      <td>en</td>\n",
              "      <td>direct</td>\n",
              "      <td>untracked</td>\n",
              "      <td>Web</td>\n",
              "      <td>Mac Desktop</td>\n",
              "      <td>Chrome</td>\n",
              "      <td>NDF</td>\n",
              "      <td>2010</td>\n",
              "      <td>6</td>\n",
              "      <td>28</td>\n",
              "      <td>2000</td>\n",
              "      <td>1</td>\n",
              "      <td>1</td>\n",
              "      <td>1.224647e-16</td>\n",
              "      <td>-1.000000e+00</td>\n",
              "      <td>-0.571268</td>\n",
              "      <td>0.820763</td>\n",
              "      <td>0.500000</td>\n",
              "      <td>8.660254e-01</td>\n",
              "      <td>0.201299</td>\n",
              "      <td>0.979530</td>\n",
              "    </tr>\n",
              "    <tr>\n",
              "      <th>1</th>\n",
              "      <td>MALE</td>\n",
              "      <td>38.0</td>\n",
              "      <td>facebook</td>\n",
              "      <td>0</td>\n",
              "      <td>en</td>\n",
              "      <td>google</td>\n",
              "      <td>untracked</td>\n",
              "      <td>Web</td>\n",
              "      <td>Mac Desktop</td>\n",
              "      <td>Chrome</td>\n",
              "      <td>NDF</td>\n",
              "      <td>2011</td>\n",
              "      <td>5</td>\n",
              "      <td>25</td>\n",
              "      <td>2000</td>\n",
              "      <td>1</td>\n",
              "      <td>1</td>\n",
              "      <td>5.000000e-01</td>\n",
              "      <td>-8.660254e-01</td>\n",
              "      <td>-0.937752</td>\n",
              "      <td>0.347305</td>\n",
              "      <td>0.500000</td>\n",
              "      <td>8.660254e-01</td>\n",
              "      <td>0.201299</td>\n",
              "      <td>0.979530</td>\n",
              "    </tr>\n",
              "    <tr>\n",
              "      <th>2</th>\n",
              "      <td>FEMALE</td>\n",
              "      <td>56.0</td>\n",
              "      <td>basic</td>\n",
              "      <td>3</td>\n",
              "      <td>en</td>\n",
              "      <td>direct</td>\n",
              "      <td>untracked</td>\n",
              "      <td>Web</td>\n",
              "      <td>Windows Desktop</td>\n",
              "      <td>IE</td>\n",
              "      <td>US</td>\n",
              "      <td>2010</td>\n",
              "      <td>9</td>\n",
              "      <td>28</td>\n",
              "      <td>2010</td>\n",
              "      <td>8</td>\n",
              "      <td>2</td>\n",
              "      <td>-1.000000e+00</td>\n",
              "      <td>-1.836970e-16</td>\n",
              "      <td>-0.571268</td>\n",
              "      <td>0.820763</td>\n",
              "      <td>-0.866025</td>\n",
              "      <td>-5.000000e-01</td>\n",
              "      <td>0.394356</td>\n",
              "      <td>0.918958</td>\n",
              "    </tr>\n",
              "    <tr>\n",
              "      <th>3</th>\n",
              "      <td>FEMALE</td>\n",
              "      <td>42.0</td>\n",
              "      <td>facebook</td>\n",
              "      <td>0</td>\n",
              "      <td>en</td>\n",
              "      <td>direct</td>\n",
              "      <td>untracked</td>\n",
              "      <td>Web</td>\n",
              "      <td>Mac Desktop</td>\n",
              "      <td>Firefox</td>\n",
              "      <td>other</td>\n",
              "      <td>2011</td>\n",
              "      <td>12</td>\n",
              "      <td>5</td>\n",
              "      <td>2012</td>\n",
              "      <td>9</td>\n",
              "      <td>8</td>\n",
              "      <td>-2.449294e-16</td>\n",
              "      <td>1.000000e+00</td>\n",
              "      <td>0.848644</td>\n",
              "      <td>0.528964</td>\n",
              "      <td>-1.000000</td>\n",
              "      <td>-1.836970e-16</td>\n",
              "      <td>0.998717</td>\n",
              "      <td>-0.050649</td>\n",
              "    </tr>\n",
              "    <tr>\n",
              "      <th>4</th>\n",
              "      <td>-unknown-</td>\n",
              "      <td>41.0</td>\n",
              "      <td>basic</td>\n",
              "      <td>0</td>\n",
              "      <td>en</td>\n",
              "      <td>direct</td>\n",
              "      <td>untracked</td>\n",
              "      <td>Web</td>\n",
              "      <td>Mac Desktop</td>\n",
              "      <td>Chrome</td>\n",
              "      <td>US</td>\n",
              "      <td>2010</td>\n",
              "      <td>9</td>\n",
              "      <td>14</td>\n",
              "      <td>2010</td>\n",
              "      <td>2</td>\n",
              "      <td>18</td>\n",
              "      <td>-1.000000e+00</td>\n",
              "      <td>-1.836970e-16</td>\n",
              "      <td>0.299363</td>\n",
              "      <td>-0.954139</td>\n",
              "      <td>0.866025</td>\n",
              "      <td>5.000000e-01</td>\n",
              "      <td>-0.485302</td>\n",
              "      <td>-0.874347</td>\n",
              "    </tr>\n",
              "    <tr>\n",
              "      <th>5</th>\n",
              "      <td>-unknown-</td>\n",
              "      <td>34.0</td>\n",
              "      <td>basic</td>\n",
              "      <td>0</td>\n",
              "      <td>en</td>\n",
              "      <td>other</td>\n",
              "      <td>omg</td>\n",
              "      <td>Web</td>\n",
              "      <td>Mac Desktop</td>\n",
              "      <td>Chrome</td>\n",
              "      <td>US</td>\n",
              "      <td>2010</td>\n",
              "      <td>1</td>\n",
              "      <td>1</td>\n",
              "      <td>2010</td>\n",
              "      <td>1</td>\n",
              "      <td>2</td>\n",
              "      <td>5.000000e-01</td>\n",
              "      <td>8.660254e-01</td>\n",
              "      <td>0.201299</td>\n",
              "      <td>0.979530</td>\n",
              "      <td>0.500000</td>\n",
              "      <td>8.660254e-01</td>\n",
              "      <td>0.394356</td>\n",
              "      <td>0.918958</td>\n",
              "    </tr>\n",
              "    <tr>\n",
              "      <th>6</th>\n",
              "      <td>FEMALE</td>\n",
              "      <td>46.0</td>\n",
              "      <td>basic</td>\n",
              "      <td>0</td>\n",
              "      <td>en</td>\n",
              "      <td>craigslist</td>\n",
              "      <td>untracked</td>\n",
              "      <td>Web</td>\n",
              "      <td>Mac Desktop</td>\n",
              "      <td>Safari</td>\n",
              "      <td>US</td>\n",
              "      <td>2010</td>\n",
              "      <td>1</td>\n",
              "      <td>2</td>\n",
              "      <td>2010</td>\n",
              "      <td>1</td>\n",
              "      <td>5</td>\n",
              "      <td>5.000000e-01</td>\n",
              "      <td>8.660254e-01</td>\n",
              "      <td>0.394356</td>\n",
              "      <td>0.918958</td>\n",
              "      <td>0.500000</td>\n",
              "      <td>8.660254e-01</td>\n",
              "      <td>0.848644</td>\n",
              "      <td>0.528964</td>\n",
              "    </tr>\n",
              "    <tr>\n",
              "      <th>7</th>\n",
              "      <td>FEMALE</td>\n",
              "      <td>47.0</td>\n",
              "      <td>basic</td>\n",
              "      <td>0</td>\n",
              "      <td>en</td>\n",
              "      <td>direct</td>\n",
              "      <td>omg</td>\n",
              "      <td>Web</td>\n",
              "      <td>Mac Desktop</td>\n",
              "      <td>Safari</td>\n",
              "      <td>US</td>\n",
              "      <td>2010</td>\n",
              "      <td>1</td>\n",
              "      <td>3</td>\n",
              "      <td>2010</td>\n",
              "      <td>1</td>\n",
              "      <td>13</td>\n",
              "      <td>5.000000e-01</td>\n",
              "      <td>8.660254e-01</td>\n",
              "      <td>0.571268</td>\n",
              "      <td>0.820763</td>\n",
              "      <td>0.500000</td>\n",
              "      <td>8.660254e-01</td>\n",
              "      <td>0.485302</td>\n",
              "      <td>-0.874347</td>\n",
              "    </tr>\n",
              "    <tr>\n",
              "      <th>8</th>\n",
              "      <td>FEMALE</td>\n",
              "      <td>50.0</td>\n",
              "      <td>basic</td>\n",
              "      <td>0</td>\n",
              "      <td>en</td>\n",
              "      <td>craigslist</td>\n",
              "      <td>untracked</td>\n",
              "      <td>Web</td>\n",
              "      <td>Mac Desktop</td>\n",
              "      <td>Safari</td>\n",
              "      <td>US</td>\n",
              "      <td>2010</td>\n",
              "      <td>1</td>\n",
              "      <td>4</td>\n",
              "      <td>2010</td>\n",
              "      <td>7</td>\n",
              "      <td>29</td>\n",
              "      <td>5.000000e-01</td>\n",
              "      <td>8.660254e-01</td>\n",
              "      <td>0.724793</td>\n",
              "      <td>0.688967</td>\n",
              "      <td>-0.500000</td>\n",
              "      <td>-8.660254e-01</td>\n",
              "      <td>-0.394356</td>\n",
              "      <td>0.918958</td>\n",
              "    </tr>\n",
              "    <tr>\n",
              "      <th>9</th>\n",
              "      <td>-unknown-</td>\n",
              "      <td>46.0</td>\n",
              "      <td>basic</td>\n",
              "      <td>0</td>\n",
              "      <td>en</td>\n",
              "      <td>craigslist</td>\n",
              "      <td>omg</td>\n",
              "      <td>Web</td>\n",
              "      <td>Mac Desktop</td>\n",
              "      <td>Firefox</td>\n",
              "      <td>US</td>\n",
              "      <td>2010</td>\n",
              "      <td>1</td>\n",
              "      <td>4</td>\n",
              "      <td>2010</td>\n",
              "      <td>1</td>\n",
              "      <td>4</td>\n",
              "      <td>5.000000e-01</td>\n",
              "      <td>8.660254e-01</td>\n",
              "      <td>0.724793</td>\n",
              "      <td>0.688967</td>\n",
              "      <td>0.500000</td>\n",
              "      <td>8.660254e-01</td>\n",
              "      <td>0.724793</td>\n",
              "      <td>0.688967</td>\n",
              "    </tr>\n",
              "  </tbody>\n",
              "</table>\n",
              "</div>"
            ],
            "text/plain": [
              "      gender   age  ... first_booking_day_sin  first_booking_day_cos\n",
              "0  -unknown-  34.0  ...              0.201299               0.979530\n",
              "1       MALE  38.0  ...              0.201299               0.979530\n",
              "2     FEMALE  56.0  ...              0.394356               0.918958\n",
              "3     FEMALE  42.0  ...              0.998717              -0.050649\n",
              "4  -unknown-  41.0  ...             -0.485302              -0.874347\n",
              "5  -unknown-  34.0  ...              0.394356               0.918958\n",
              "6     FEMALE  46.0  ...              0.848644               0.528964\n",
              "7     FEMALE  47.0  ...              0.485302              -0.874347\n",
              "8     FEMALE  50.0  ...             -0.394356               0.918958\n",
              "9  -unknown-  46.0  ...              0.724793               0.688967\n",
              "\n",
              "[10 rows x 25 columns]"
            ]
          },
          "metadata": {
            "tags": []
          },
          "execution_count": 48
        }
      ]
    },
    {
      "cell_type": "markdown",
      "metadata": {
        "id": "eb6xNoAke2mJ"
      },
      "source": [
        "* Dropping day and month columns"
      ]
    },
    {
      "cell_type": "code",
      "metadata": {
        "id": "ZdcPOEHfe8zP"
      },
      "source": [
        "df_new.drop(\"first_booking_month\", axis=1, inplace=True)\n",
        "df_new.drop(\"first_booking_day\", axis=1, inplace=True)\n",
        "df_new.drop(\"account_created_month\", axis=1, inplace=True)\n",
        "df_new.drop(\"account_created_day\", axis=1, inplace=True)\n",
        "\n",
        "test_df.drop(\"first_booking_month\", axis=1, inplace=True)\n",
        "test_df.drop(\"first_booking_day\", axis=1, inplace=True)\n",
        "test_df.drop(\"account_created_month\", axis=1, inplace=True)\n",
        "test_df.drop(\"account_created_day\", axis=1, inplace=True)"
      ],
      "execution_count": null,
      "outputs": []
    },
    {
      "cell_type": "code",
      "metadata": {
        "colab": {
          "base_uri": "https://localhost:8080/"
        },
        "id": "I4-w8HbPVOK5",
        "outputId": "ca086f78-26a9-4700-8012-fc6f2930fad3"
      },
      "source": [
        "test_df.info()"
      ],
      "execution_count": null,
      "outputs": [
        {
          "output_type": "stream",
          "text": [
            "<class 'pandas.core.frame.DataFrame'>\n",
            "RangeIndex: 43314 entries, 0 to 43313\n",
            "Data columns (total 20 columns):\n",
            " #   Column                     Non-Null Count  Dtype  \n",
            "---  ------                     --------------  -----  \n",
            " 0   gender                     43314 non-null  object \n",
            " 1   age                        43314 non-null  float64\n",
            " 2   signup_method              43314 non-null  object \n",
            " 3   signup_flow                43314 non-null  int64  \n",
            " 4   language                   43314 non-null  object \n",
            " 5   affiliate_provider         43314 non-null  object \n",
            " 6   first_affiliate_tracked    43314 non-null  object \n",
            " 7   signup_app                 43314 non-null  object \n",
            " 8   first_device_type          43314 non-null  object \n",
            " 9   first_browser              43314 non-null  object \n",
            " 10  account_created_year       43314 non-null  int64  \n",
            " 11  first_booking_year         43314 non-null  int64  \n",
            " 12  account_created_month_sin  43314 non-null  float64\n",
            " 13  account_created_month_cos  43314 non-null  float64\n",
            " 14  account_created_day_sin    43314 non-null  float64\n",
            " 15  account_created_day_cos    43314 non-null  float64\n",
            " 16  first_booking_month_sin    43314 non-null  float64\n",
            " 17  first_booking_month_cos    43314 non-null  float64\n",
            " 18  first_booking_day_sin      43314 non-null  float64\n",
            " 19  first_booking_day_cos      43314 non-null  float64\n",
            "dtypes: float64(9), int64(3), object(8)\n",
            "memory usage: 6.6+ MB\n"
          ],
          "name": "stdout"
        }
      ]
    },
    {
      "cell_type": "code",
      "metadata": {
        "colab": {
          "base_uri": "https://localhost:8080/"
        },
        "id": "o8Nd98oxkozn",
        "outputId": "cc67b173-de09-49a5-c35b-707a3b104b69"
      },
      "source": [
        "df_new.info()"
      ],
      "execution_count": null,
      "outputs": [
        {
          "output_type": "stream",
          "text": [
            "<class 'pandas.core.frame.DataFrame'>\n",
            "RangeIndex: 170137 entries, 0 to 170136\n",
            "Data columns (total 21 columns):\n",
            " #   Column                     Non-Null Count   Dtype  \n",
            "---  ------                     --------------   -----  \n",
            " 0   gender                     170137 non-null  object \n",
            " 1   age                        170137 non-null  float64\n",
            " 2   signup_method              170137 non-null  object \n",
            " 3   signup_flow                170137 non-null  int64  \n",
            " 4   language                   170137 non-null  object \n",
            " 5   affiliate_provider         170137 non-null  object \n",
            " 6   first_affiliate_tracked    170137 non-null  object \n",
            " 7   signup_app                 170137 non-null  object \n",
            " 8   first_device_type          170137 non-null  object \n",
            " 9   first_browser              170137 non-null  object \n",
            " 10  country_destination        170137 non-null  object \n",
            " 11  account_created_year       170137 non-null  int64  \n",
            " 12  first_booking_year         170137 non-null  int64  \n",
            " 13  account_created_month_sin  170137 non-null  float64\n",
            " 14  account_created_month_cos  170137 non-null  float64\n",
            " 15  account_created_day_sin    170137 non-null  float64\n",
            " 16  account_created_day_cos    170137 non-null  float64\n",
            " 17  first_booking_month_sin    170137 non-null  float64\n",
            " 18  first_booking_month_cos    170137 non-null  float64\n",
            " 19  first_booking_day_sin      170137 non-null  float64\n",
            " 20  first_booking_day_cos      170137 non-null  float64\n",
            "dtypes: float64(9), int64(3), object(9)\n",
            "memory usage: 27.3+ MB\n"
          ],
          "name": "stdout"
        }
      ]
    },
    {
      "cell_type": "markdown",
      "metadata": {
        "id": "0gO5cy8Mn1zo"
      },
      "source": [
        "* There might be some categories present in test data but not in train data and vice versa.\n",
        "* So encoding them separately may result in dataframes of different dimensions\n",
        "* Therefore we'll merge them, one-hot encode and then split the again"
      ]
    },
    {
      "cell_type": "code",
      "metadata": {
        "colab": {
          "base_uri": "https://localhost:8080/"
        },
        "id": "-y40EaJ2xBAN",
        "outputId": "77008f46-f3bb-4d00-a2e6-b22a6cc2bd00"
      },
      "source": [
        "train_len = len(df_new)\n",
        "train_len"
      ],
      "execution_count": null,
      "outputs": [
        {
          "output_type": "execute_result",
          "data": {
            "text/plain": [
              "170137"
            ]
          },
          "metadata": {
            "tags": []
          },
          "execution_count": 52
        }
      ]
    },
    {
      "cell_type": "code",
      "metadata": {
        "id": "e75E5pxtwo-G"
      },
      "source": [
        "temp_df = df_new.drop(\"country_destination\", axis=1)"
      ],
      "execution_count": null,
      "outputs": []
    },
    {
      "cell_type": "code",
      "metadata": {
        "id": "fUg4se16wZVz"
      },
      "source": [
        "dataset = pd.concat([temp_df, test_df])"
      ],
      "execution_count": null,
      "outputs": []
    },
    {
      "cell_type": "code",
      "metadata": {
        "id": "kMXlLB5ng2G0"
      },
      "source": [
        "dummy = pd.get_dummies(dataset[[\"gender\", \"signup_method\", \"language\", \"affiliate_provider\", \"first_affiliate_tracked\", \"signup_app\",\n",
        "                           \"first_device_type\", \"first_browser\"]])"
      ],
      "execution_count": null,
      "outputs": []
    },
    {
      "cell_type": "code",
      "metadata": {
        "colab": {
          "base_uri": "https://localhost:8080/"
        },
        "id": "39QkBZmYkz6P",
        "outputId": "7914c49c-9784-4657-8a85-8b14bf1eb61c"
      },
      "source": [
        "dummy.shape"
      ],
      "execution_count": null,
      "outputs": [
        {
          "output_type": "execute_result",
          "data": {
            "text/plain": [
              "(213451, 122)"
            ]
          },
          "metadata": {
            "tags": []
          },
          "execution_count": 56
        }
      ]
    },
    {
      "cell_type": "code",
      "metadata": {
        "id": "WqI6qbfwjFUJ"
      },
      "source": [
        "dataset.drop([\"gender\", \"signup_method\", \"language\", \"affiliate_provider\", \"first_affiliate_tracked\", \"signup_app\",\n",
        "                           \"first_device_type\", \"first_browser\"], axis=1, inplace=True)"
      ],
      "execution_count": null,
      "outputs": []
    },
    {
      "cell_type": "code",
      "metadata": {
        "id": "VS6bXjnYjo5W"
      },
      "source": [
        "dataset = pd.concat([dataset, dummy], axis=1)"
      ],
      "execution_count": null,
      "outputs": []
    },
    {
      "cell_type": "code",
      "metadata": {
        "colab": {
          "base_uri": "https://localhost:8080/"
        },
        "id": "pf5GVQ-JyO2r",
        "outputId": "aa625450-88a1-45f6-d49c-2ce6b826dc05"
      },
      "source": [
        "dataset.shape"
      ],
      "execution_count": null,
      "outputs": [
        {
          "output_type": "execute_result",
          "data": {
            "text/plain": [
              "(213451, 134)"
            ]
          },
          "metadata": {
            "tags": []
          },
          "execution_count": 59
        }
      ]
    },
    {
      "cell_type": "code",
      "metadata": {
        "id": "rv5IIGXjxY5V"
      },
      "source": [
        "train = dataset[:train_len]\n",
        "test = dataset[train_len:]"
      ],
      "execution_count": null,
      "outputs": []
    },
    {
      "cell_type": "code",
      "metadata": {
        "colab": {
          "base_uri": "https://localhost:8080/"
        },
        "id": "diqXPNYmFgZx",
        "outputId": "ac0e3e28-0bdc-44c4-8f5b-c17178c28139"
      },
      "source": [
        "print(train.shape)\n",
        "print(test.shape)"
      ],
      "execution_count": null,
      "outputs": [
        {
          "output_type": "stream",
          "text": [
            "(170137, 134)\n",
            "(43314, 134)\n"
          ],
          "name": "stdout"
        }
      ]
    },
    {
      "cell_type": "code",
      "metadata": {
        "colab": {
          "base_uri": "https://localhost:8080/"
        },
        "id": "-_NWkRTt9uSb",
        "outputId": "bf7c6a19-139f-49c8-a1f7-0d0bf681ff0d"
      },
      "source": [
        "test"
      ],
      "execution_count": null,
      "outputs": [
        {
          "output_type": "execute_result",
          "data": {
            "text/html": [
              "<div>\n",
              "<style scoped>\n",
              "    .dataframe tbody tr th:only-of-type {\n",
              "        vertical-align: middle;\n",
              "    }\n",
              "\n",
              "    .dataframe tbody tr th {\n",
              "        vertical-align: top;\n",
              "    }\n",
              "\n",
              "    .dataframe thead th {\n",
              "        text-align: right;\n",
              "    }\n",
              "</style>\n",
              "<table border=\"1\" class=\"dataframe\">\n",
              "  <thead>\n",
              "    <tr style=\"text-align: right;\">\n",
              "      <th></th>\n",
              "      <th>age</th>\n",
              "      <th>signup_flow</th>\n",
              "      <th>account_created_year</th>\n",
              "      <th>first_booking_year</th>\n",
              "      <th>account_created_month_sin</th>\n",
              "      <th>account_created_month_cos</th>\n",
              "      <th>account_created_day_sin</th>\n",
              "      <th>account_created_day_cos</th>\n",
              "      <th>first_booking_month_sin</th>\n",
              "      <th>first_booking_month_cos</th>\n",
              "      <th>first_booking_day_sin</th>\n",
              "      <th>first_booking_day_cos</th>\n",
              "      <th>gender_-unknown-</th>\n",
              "      <th>gender_FEMALE</th>\n",
              "      <th>gender_MALE</th>\n",
              "      <th>gender_OTHER</th>\n",
              "      <th>signup_method_basic</th>\n",
              "      <th>signup_method_facebook</th>\n",
              "      <th>signup_method_google</th>\n",
              "      <th>language_ca</th>\n",
              "      <th>language_cs</th>\n",
              "      <th>language_da</th>\n",
              "      <th>language_de</th>\n",
              "      <th>language_el</th>\n",
              "      <th>language_en</th>\n",
              "      <th>language_es</th>\n",
              "      <th>language_fi</th>\n",
              "      <th>language_fr</th>\n",
              "      <th>language_hr</th>\n",
              "      <th>language_hu</th>\n",
              "      <th>language_id</th>\n",
              "      <th>language_is</th>\n",
              "      <th>language_it</th>\n",
              "      <th>language_ja</th>\n",
              "      <th>language_ko</th>\n",
              "      <th>language_nl</th>\n",
              "      <th>language_no</th>\n",
              "      <th>language_pl</th>\n",
              "      <th>language_pt</th>\n",
              "      <th>language_ru</th>\n",
              "      <th>...</th>\n",
              "      <th>first_browser_Comodo Dragon</th>\n",
              "      <th>first_browser_Conkeror</th>\n",
              "      <th>first_browser_CoolNovo</th>\n",
              "      <th>first_browser_Crazy Browser</th>\n",
              "      <th>first_browser_Epic</th>\n",
              "      <th>first_browser_Firefox</th>\n",
              "      <th>first_browser_Flock</th>\n",
              "      <th>first_browser_Google Earth</th>\n",
              "      <th>first_browser_Googlebot</th>\n",
              "      <th>first_browser_IE</th>\n",
              "      <th>first_browser_IE Mobile</th>\n",
              "      <th>first_browser_IceDragon</th>\n",
              "      <th>first_browser_IceWeasel</th>\n",
              "      <th>first_browser_Iron</th>\n",
              "      <th>first_browser_Kindle Browser</th>\n",
              "      <th>first_browser_Maxthon</th>\n",
              "      <th>first_browser_Mobile Firefox</th>\n",
              "      <th>first_browser_Mobile Safari</th>\n",
              "      <th>first_browser_Mozilla</th>\n",
              "      <th>first_browser_NetNewsWire</th>\n",
              "      <th>first_browser_OmniWeb</th>\n",
              "      <th>first_browser_Opera</th>\n",
              "      <th>first_browser_Opera Mini</th>\n",
              "      <th>first_browser_Opera Mobile</th>\n",
              "      <th>first_browser_Outlook 2007</th>\n",
              "      <th>first_browser_PS Vita browser</th>\n",
              "      <th>first_browser_Pale Moon</th>\n",
              "      <th>first_browser_Palm Pre web browser</th>\n",
              "      <th>first_browser_RockMelt</th>\n",
              "      <th>first_browser_Safari</th>\n",
              "      <th>first_browser_SeaMonkey</th>\n",
              "      <th>first_browser_Silk</th>\n",
              "      <th>first_browser_SiteKiosk</th>\n",
              "      <th>first_browser_SlimBrowser</th>\n",
              "      <th>first_browser_Sogou Explorer</th>\n",
              "      <th>first_browser_Stainless</th>\n",
              "      <th>first_browser_TenFourFox</th>\n",
              "      <th>first_browser_TheWorld Browser</th>\n",
              "      <th>first_browser_Yandex.Browser</th>\n",
              "      <th>first_browser_wOSBrowser</th>\n",
              "    </tr>\n",
              "  </thead>\n",
              "  <tbody>\n",
              "    <tr>\n",
              "      <th>0</th>\n",
              "      <td>34.0</td>\n",
              "      <td>0</td>\n",
              "      <td>2014</td>\n",
              "      <td>2000</td>\n",
              "      <td>8.660254e-01</td>\n",
              "      <td>-0.5</td>\n",
              "      <td>0.201299</td>\n",
              "      <td>0.97953</td>\n",
              "      <td>0.500000</td>\n",
              "      <td>0.866025</td>\n",
              "      <td>0.201299</td>\n",
              "      <td>0.97953</td>\n",
              "      <td>1</td>\n",
              "      <td>0</td>\n",
              "      <td>0</td>\n",
              "      <td>0</td>\n",
              "      <td>1</td>\n",
              "      <td>0</td>\n",
              "      <td>0</td>\n",
              "      <td>0</td>\n",
              "      <td>0</td>\n",
              "      <td>0</td>\n",
              "      <td>0</td>\n",
              "      <td>0</td>\n",
              "      <td>1</td>\n",
              "      <td>0</td>\n",
              "      <td>0</td>\n",
              "      <td>0</td>\n",
              "      <td>0</td>\n",
              "      <td>0</td>\n",
              "      <td>0</td>\n",
              "      <td>0</td>\n",
              "      <td>0</td>\n",
              "      <td>0</td>\n",
              "      <td>0</td>\n",
              "      <td>0</td>\n",
              "      <td>0</td>\n",
              "      <td>0</td>\n",
              "      <td>0</td>\n",
              "      <td>0</td>\n",
              "      <td>...</td>\n",
              "      <td>0</td>\n",
              "      <td>0</td>\n",
              "      <td>0</td>\n",
              "      <td>0</td>\n",
              "      <td>0</td>\n",
              "      <td>0</td>\n",
              "      <td>0</td>\n",
              "      <td>0</td>\n",
              "      <td>0</td>\n",
              "      <td>0</td>\n",
              "      <td>0</td>\n",
              "      <td>0</td>\n",
              "      <td>0</td>\n",
              "      <td>0</td>\n",
              "      <td>0</td>\n",
              "      <td>0</td>\n",
              "      <td>0</td>\n",
              "      <td>0</td>\n",
              "      <td>0</td>\n",
              "      <td>0</td>\n",
              "      <td>0</td>\n",
              "      <td>0</td>\n",
              "      <td>0</td>\n",
              "      <td>0</td>\n",
              "      <td>0</td>\n",
              "      <td>0</td>\n",
              "      <td>0</td>\n",
              "      <td>0</td>\n",
              "      <td>0</td>\n",
              "      <td>1</td>\n",
              "      <td>0</td>\n",
              "      <td>0</td>\n",
              "      <td>0</td>\n",
              "      <td>0</td>\n",
              "      <td>0</td>\n",
              "      <td>0</td>\n",
              "      <td>0</td>\n",
              "      <td>0</td>\n",
              "      <td>0</td>\n",
              "      <td>0</td>\n",
              "    </tr>\n",
              "    <tr>\n",
              "      <th>1</th>\n",
              "      <td>22.0</td>\n",
              "      <td>12</td>\n",
              "      <td>2014</td>\n",
              "      <td>2014</td>\n",
              "      <td>8.660254e-01</td>\n",
              "      <td>-0.5</td>\n",
              "      <td>0.201299</td>\n",
              "      <td>0.97953</td>\n",
              "      <td>0.866025</td>\n",
              "      <td>-0.500000</td>\n",
              "      <td>0.201299</td>\n",
              "      <td>0.97953</td>\n",
              "      <td>0</td>\n",
              "      <td>0</td>\n",
              "      <td>1</td>\n",
              "      <td>0</td>\n",
              "      <td>0</td>\n",
              "      <td>1</td>\n",
              "      <td>0</td>\n",
              "      <td>0</td>\n",
              "      <td>0</td>\n",
              "      <td>0</td>\n",
              "      <td>0</td>\n",
              "      <td>0</td>\n",
              "      <td>1</td>\n",
              "      <td>0</td>\n",
              "      <td>0</td>\n",
              "      <td>0</td>\n",
              "      <td>0</td>\n",
              "      <td>0</td>\n",
              "      <td>0</td>\n",
              "      <td>0</td>\n",
              "      <td>0</td>\n",
              "      <td>0</td>\n",
              "      <td>0</td>\n",
              "      <td>0</td>\n",
              "      <td>0</td>\n",
              "      <td>0</td>\n",
              "      <td>0</td>\n",
              "      <td>0</td>\n",
              "      <td>...</td>\n",
              "      <td>0</td>\n",
              "      <td>0</td>\n",
              "      <td>0</td>\n",
              "      <td>0</td>\n",
              "      <td>0</td>\n",
              "      <td>0</td>\n",
              "      <td>0</td>\n",
              "      <td>0</td>\n",
              "      <td>0</td>\n",
              "      <td>0</td>\n",
              "      <td>0</td>\n",
              "      <td>0</td>\n",
              "      <td>0</td>\n",
              "      <td>0</td>\n",
              "      <td>0</td>\n",
              "      <td>0</td>\n",
              "      <td>0</td>\n",
              "      <td>1</td>\n",
              "      <td>0</td>\n",
              "      <td>0</td>\n",
              "      <td>0</td>\n",
              "      <td>0</td>\n",
              "      <td>0</td>\n",
              "      <td>0</td>\n",
              "      <td>0</td>\n",
              "      <td>0</td>\n",
              "      <td>0</td>\n",
              "      <td>0</td>\n",
              "      <td>0</td>\n",
              "      <td>0</td>\n",
              "      <td>0</td>\n",
              "      <td>0</td>\n",
              "      <td>0</td>\n",
              "      <td>0</td>\n",
              "      <td>0</td>\n",
              "      <td>0</td>\n",
              "      <td>0</td>\n",
              "      <td>0</td>\n",
              "      <td>0</td>\n",
              "      <td>0</td>\n",
              "    </tr>\n",
              "    <tr>\n",
              "      <th>2</th>\n",
              "      <td>36.0</td>\n",
              "      <td>0</td>\n",
              "      <td>2014</td>\n",
              "      <td>2000</td>\n",
              "      <td>8.660254e-01</td>\n",
              "      <td>-0.5</td>\n",
              "      <td>0.201299</td>\n",
              "      <td>0.97953</td>\n",
              "      <td>0.500000</td>\n",
              "      <td>0.866025</td>\n",
              "      <td>0.201299</td>\n",
              "      <td>0.97953</td>\n",
              "      <td>0</td>\n",
              "      <td>0</td>\n",
              "      <td>1</td>\n",
              "      <td>0</td>\n",
              "      <td>1</td>\n",
              "      <td>0</td>\n",
              "      <td>0</td>\n",
              "      <td>0</td>\n",
              "      <td>0</td>\n",
              "      <td>0</td>\n",
              "      <td>0</td>\n",
              "      <td>0</td>\n",
              "      <td>1</td>\n",
              "      <td>0</td>\n",
              "      <td>0</td>\n",
              "      <td>0</td>\n",
              "      <td>0</td>\n",
              "      <td>0</td>\n",
              "      <td>0</td>\n",
              "      <td>0</td>\n",
              "      <td>0</td>\n",
              "      <td>0</td>\n",
              "      <td>0</td>\n",
              "      <td>0</td>\n",
              "      <td>0</td>\n",
              "      <td>0</td>\n",
              "      <td>0</td>\n",
              "      <td>0</td>\n",
              "      <td>...</td>\n",
              "      <td>0</td>\n",
              "      <td>0</td>\n",
              "      <td>0</td>\n",
              "      <td>0</td>\n",
              "      <td>0</td>\n",
              "      <td>0</td>\n",
              "      <td>0</td>\n",
              "      <td>0</td>\n",
              "      <td>0</td>\n",
              "      <td>0</td>\n",
              "      <td>0</td>\n",
              "      <td>0</td>\n",
              "      <td>0</td>\n",
              "      <td>0</td>\n",
              "      <td>0</td>\n",
              "      <td>0</td>\n",
              "      <td>0</td>\n",
              "      <td>0</td>\n",
              "      <td>0</td>\n",
              "      <td>0</td>\n",
              "      <td>0</td>\n",
              "      <td>0</td>\n",
              "      <td>0</td>\n",
              "      <td>0</td>\n",
              "      <td>0</td>\n",
              "      <td>0</td>\n",
              "      <td>0</td>\n",
              "      <td>0</td>\n",
              "      <td>0</td>\n",
              "      <td>1</td>\n",
              "      <td>0</td>\n",
              "      <td>0</td>\n",
              "      <td>0</td>\n",
              "      <td>0</td>\n",
              "      <td>0</td>\n",
              "      <td>0</td>\n",
              "      <td>0</td>\n",
              "      <td>0</td>\n",
              "      <td>0</td>\n",
              "      <td>0</td>\n",
              "    </tr>\n",
              "    <tr>\n",
              "      <th>3</th>\n",
              "      <td>52.0</td>\n",
              "      <td>0</td>\n",
              "      <td>2014</td>\n",
              "      <td>2014</td>\n",
              "      <td>8.660254e-01</td>\n",
              "      <td>-0.5</td>\n",
              "      <td>0.201299</td>\n",
              "      <td>0.97953</td>\n",
              "      <td>0.866025</td>\n",
              "      <td>-0.500000</td>\n",
              "      <td>0.201299</td>\n",
              "      <td>0.97953</td>\n",
              "      <td>0</td>\n",
              "      <td>0</td>\n",
              "      <td>1</td>\n",
              "      <td>0</td>\n",
              "      <td>1</td>\n",
              "      <td>0</td>\n",
              "      <td>0</td>\n",
              "      <td>0</td>\n",
              "      <td>0</td>\n",
              "      <td>0</td>\n",
              "      <td>0</td>\n",
              "      <td>0</td>\n",
              "      <td>1</td>\n",
              "      <td>0</td>\n",
              "      <td>0</td>\n",
              "      <td>0</td>\n",
              "      <td>0</td>\n",
              "      <td>0</td>\n",
              "      <td>0</td>\n",
              "      <td>0</td>\n",
              "      <td>0</td>\n",
              "      <td>0</td>\n",
              "      <td>0</td>\n",
              "      <td>0</td>\n",
              "      <td>0</td>\n",
              "      <td>0</td>\n",
              "      <td>0</td>\n",
              "      <td>0</td>\n",
              "      <td>...</td>\n",
              "      <td>0</td>\n",
              "      <td>0</td>\n",
              "      <td>0</td>\n",
              "      <td>0</td>\n",
              "      <td>0</td>\n",
              "      <td>0</td>\n",
              "      <td>0</td>\n",
              "      <td>0</td>\n",
              "      <td>0</td>\n",
              "      <td>0</td>\n",
              "      <td>0</td>\n",
              "      <td>0</td>\n",
              "      <td>0</td>\n",
              "      <td>0</td>\n",
              "      <td>0</td>\n",
              "      <td>0</td>\n",
              "      <td>0</td>\n",
              "      <td>0</td>\n",
              "      <td>0</td>\n",
              "      <td>0</td>\n",
              "      <td>0</td>\n",
              "      <td>0</td>\n",
              "      <td>0</td>\n",
              "      <td>0</td>\n",
              "      <td>0</td>\n",
              "      <td>0</td>\n",
              "      <td>0</td>\n",
              "      <td>0</td>\n",
              "      <td>0</td>\n",
              "      <td>0</td>\n",
              "      <td>0</td>\n",
              "      <td>0</td>\n",
              "      <td>0</td>\n",
              "      <td>0</td>\n",
              "      <td>0</td>\n",
              "      <td>0</td>\n",
              "      <td>0</td>\n",
              "      <td>0</td>\n",
              "      <td>0</td>\n",
              "      <td>0</td>\n",
              "    </tr>\n",
              "    <tr>\n",
              "      <th>4</th>\n",
              "      <td>51.0</td>\n",
              "      <td>0</td>\n",
              "      <td>2014</td>\n",
              "      <td>2014</td>\n",
              "      <td>8.660254e-01</td>\n",
              "      <td>-0.5</td>\n",
              "      <td>0.201299</td>\n",
              "      <td>0.97953</td>\n",
              "      <td>0.866025</td>\n",
              "      <td>-0.500000</td>\n",
              "      <td>0.201299</td>\n",
              "      <td>0.97953</td>\n",
              "      <td>0</td>\n",
              "      <td>0</td>\n",
              "      <td>1</td>\n",
              "      <td>0</td>\n",
              "      <td>1</td>\n",
              "      <td>0</td>\n",
              "      <td>0</td>\n",
              "      <td>0</td>\n",
              "      <td>0</td>\n",
              "      <td>0</td>\n",
              "      <td>0</td>\n",
              "      <td>0</td>\n",
              "      <td>1</td>\n",
              "      <td>0</td>\n",
              "      <td>0</td>\n",
              "      <td>0</td>\n",
              "      <td>0</td>\n",
              "      <td>0</td>\n",
              "      <td>0</td>\n",
              "      <td>0</td>\n",
              "      <td>0</td>\n",
              "      <td>0</td>\n",
              "      <td>0</td>\n",
              "      <td>0</td>\n",
              "      <td>0</td>\n",
              "      <td>0</td>\n",
              "      <td>0</td>\n",
              "      <td>0</td>\n",
              "      <td>...</td>\n",
              "      <td>0</td>\n",
              "      <td>0</td>\n",
              "      <td>0</td>\n",
              "      <td>0</td>\n",
              "      <td>0</td>\n",
              "      <td>0</td>\n",
              "      <td>0</td>\n",
              "      <td>0</td>\n",
              "      <td>0</td>\n",
              "      <td>0</td>\n",
              "      <td>0</td>\n",
              "      <td>0</td>\n",
              "      <td>0</td>\n",
              "      <td>0</td>\n",
              "      <td>0</td>\n",
              "      <td>0</td>\n",
              "      <td>0</td>\n",
              "      <td>0</td>\n",
              "      <td>0</td>\n",
              "      <td>0</td>\n",
              "      <td>0</td>\n",
              "      <td>0</td>\n",
              "      <td>0</td>\n",
              "      <td>0</td>\n",
              "      <td>0</td>\n",
              "      <td>0</td>\n",
              "      <td>0</td>\n",
              "      <td>0</td>\n",
              "      <td>0</td>\n",
              "      <td>0</td>\n",
              "      <td>0</td>\n",
              "      <td>0</td>\n",
              "      <td>0</td>\n",
              "      <td>0</td>\n",
              "      <td>0</td>\n",
              "      <td>0</td>\n",
              "      <td>0</td>\n",
              "      <td>0</td>\n",
              "      <td>0</td>\n",
              "      <td>0</td>\n",
              "    </tr>\n",
              "    <tr>\n",
              "      <th>...</th>\n",
              "      <td>...</td>\n",
              "      <td>...</td>\n",
              "      <td>...</td>\n",
              "      <td>...</td>\n",
              "      <td>...</td>\n",
              "      <td>...</td>\n",
              "      <td>...</td>\n",
              "      <td>...</td>\n",
              "      <td>...</td>\n",
              "      <td>...</td>\n",
              "      <td>...</td>\n",
              "      <td>...</td>\n",
              "      <td>...</td>\n",
              "      <td>...</td>\n",
              "      <td>...</td>\n",
              "      <td>...</td>\n",
              "      <td>...</td>\n",
              "      <td>...</td>\n",
              "      <td>...</td>\n",
              "      <td>...</td>\n",
              "      <td>...</td>\n",
              "      <td>...</td>\n",
              "      <td>...</td>\n",
              "      <td>...</td>\n",
              "      <td>...</td>\n",
              "      <td>...</td>\n",
              "      <td>...</td>\n",
              "      <td>...</td>\n",
              "      <td>...</td>\n",
              "      <td>...</td>\n",
              "      <td>...</td>\n",
              "      <td>...</td>\n",
              "      <td>...</td>\n",
              "      <td>...</td>\n",
              "      <td>...</td>\n",
              "      <td>...</td>\n",
              "      <td>...</td>\n",
              "      <td>...</td>\n",
              "      <td>...</td>\n",
              "      <td>...</td>\n",
              "      <td>...</td>\n",
              "      <td>...</td>\n",
              "      <td>...</td>\n",
              "      <td>...</td>\n",
              "      <td>...</td>\n",
              "      <td>...</td>\n",
              "      <td>...</td>\n",
              "      <td>...</td>\n",
              "      <td>...</td>\n",
              "      <td>...</td>\n",
              "      <td>...</td>\n",
              "      <td>...</td>\n",
              "      <td>...</td>\n",
              "      <td>...</td>\n",
              "      <td>...</td>\n",
              "      <td>...</td>\n",
              "      <td>...</td>\n",
              "      <td>...</td>\n",
              "      <td>...</td>\n",
              "      <td>...</td>\n",
              "      <td>...</td>\n",
              "      <td>...</td>\n",
              "      <td>...</td>\n",
              "      <td>...</td>\n",
              "      <td>...</td>\n",
              "      <td>...</td>\n",
              "      <td>...</td>\n",
              "      <td>...</td>\n",
              "      <td>...</td>\n",
              "      <td>...</td>\n",
              "      <td>...</td>\n",
              "      <td>...</td>\n",
              "      <td>...</td>\n",
              "      <td>...</td>\n",
              "      <td>...</td>\n",
              "      <td>...</td>\n",
              "      <td>...</td>\n",
              "      <td>...</td>\n",
              "      <td>...</td>\n",
              "      <td>...</td>\n",
              "      <td>...</td>\n",
              "    </tr>\n",
              "    <tr>\n",
              "      <th>43309</th>\n",
              "      <td>32.0</td>\n",
              "      <td>0</td>\n",
              "      <td>2014</td>\n",
              "      <td>2000</td>\n",
              "      <td>1.224647e-16</td>\n",
              "      <td>-1.0</td>\n",
              "      <td>-0.201299</td>\n",
              "      <td>0.97953</td>\n",
              "      <td>0.500000</td>\n",
              "      <td>0.866025</td>\n",
              "      <td>0.201299</td>\n",
              "      <td>0.97953</td>\n",
              "      <td>0</td>\n",
              "      <td>0</td>\n",
              "      <td>1</td>\n",
              "      <td>0</td>\n",
              "      <td>1</td>\n",
              "      <td>0</td>\n",
              "      <td>0</td>\n",
              "      <td>0</td>\n",
              "      <td>0</td>\n",
              "      <td>0</td>\n",
              "      <td>0</td>\n",
              "      <td>0</td>\n",
              "      <td>1</td>\n",
              "      <td>0</td>\n",
              "      <td>0</td>\n",
              "      <td>0</td>\n",
              "      <td>0</td>\n",
              "      <td>0</td>\n",
              "      <td>0</td>\n",
              "      <td>0</td>\n",
              "      <td>0</td>\n",
              "      <td>0</td>\n",
              "      <td>0</td>\n",
              "      <td>0</td>\n",
              "      <td>0</td>\n",
              "      <td>0</td>\n",
              "      <td>0</td>\n",
              "      <td>0</td>\n",
              "      <td>...</td>\n",
              "      <td>0</td>\n",
              "      <td>0</td>\n",
              "      <td>0</td>\n",
              "      <td>0</td>\n",
              "      <td>0</td>\n",
              "      <td>0</td>\n",
              "      <td>0</td>\n",
              "      <td>0</td>\n",
              "      <td>0</td>\n",
              "      <td>0</td>\n",
              "      <td>0</td>\n",
              "      <td>0</td>\n",
              "      <td>0</td>\n",
              "      <td>0</td>\n",
              "      <td>0</td>\n",
              "      <td>0</td>\n",
              "      <td>0</td>\n",
              "      <td>0</td>\n",
              "      <td>0</td>\n",
              "      <td>0</td>\n",
              "      <td>0</td>\n",
              "      <td>0</td>\n",
              "      <td>0</td>\n",
              "      <td>0</td>\n",
              "      <td>0</td>\n",
              "      <td>0</td>\n",
              "      <td>0</td>\n",
              "      <td>0</td>\n",
              "      <td>0</td>\n",
              "      <td>1</td>\n",
              "      <td>0</td>\n",
              "      <td>0</td>\n",
              "      <td>0</td>\n",
              "      <td>0</td>\n",
              "      <td>0</td>\n",
              "      <td>0</td>\n",
              "      <td>0</td>\n",
              "      <td>0</td>\n",
              "      <td>0</td>\n",
              "      <td>0</td>\n",
              "    </tr>\n",
              "    <tr>\n",
              "      <th>43310</th>\n",
              "      <td>34.0</td>\n",
              "      <td>0</td>\n",
              "      <td>2014</td>\n",
              "      <td>2000</td>\n",
              "      <td>1.224647e-16</td>\n",
              "      <td>-1.0</td>\n",
              "      <td>-0.201299</td>\n",
              "      <td>0.97953</td>\n",
              "      <td>0.500000</td>\n",
              "      <td>0.866025</td>\n",
              "      <td>0.201299</td>\n",
              "      <td>0.97953</td>\n",
              "      <td>1</td>\n",
              "      <td>0</td>\n",
              "      <td>0</td>\n",
              "      <td>0</td>\n",
              "      <td>1</td>\n",
              "      <td>0</td>\n",
              "      <td>0</td>\n",
              "      <td>0</td>\n",
              "      <td>0</td>\n",
              "      <td>0</td>\n",
              "      <td>0</td>\n",
              "      <td>0</td>\n",
              "      <td>1</td>\n",
              "      <td>0</td>\n",
              "      <td>0</td>\n",
              "      <td>0</td>\n",
              "      <td>0</td>\n",
              "      <td>0</td>\n",
              "      <td>0</td>\n",
              "      <td>0</td>\n",
              "      <td>0</td>\n",
              "      <td>0</td>\n",
              "      <td>0</td>\n",
              "      <td>0</td>\n",
              "      <td>0</td>\n",
              "      <td>0</td>\n",
              "      <td>0</td>\n",
              "      <td>0</td>\n",
              "      <td>...</td>\n",
              "      <td>0</td>\n",
              "      <td>0</td>\n",
              "      <td>0</td>\n",
              "      <td>0</td>\n",
              "      <td>0</td>\n",
              "      <td>0</td>\n",
              "      <td>0</td>\n",
              "      <td>0</td>\n",
              "      <td>0</td>\n",
              "      <td>0</td>\n",
              "      <td>0</td>\n",
              "      <td>0</td>\n",
              "      <td>0</td>\n",
              "      <td>0</td>\n",
              "      <td>0</td>\n",
              "      <td>0</td>\n",
              "      <td>0</td>\n",
              "      <td>0</td>\n",
              "      <td>0</td>\n",
              "      <td>0</td>\n",
              "      <td>0</td>\n",
              "      <td>0</td>\n",
              "      <td>0</td>\n",
              "      <td>0</td>\n",
              "      <td>0</td>\n",
              "      <td>0</td>\n",
              "      <td>0</td>\n",
              "      <td>0</td>\n",
              "      <td>0</td>\n",
              "      <td>0</td>\n",
              "      <td>0</td>\n",
              "      <td>0</td>\n",
              "      <td>0</td>\n",
              "      <td>0</td>\n",
              "      <td>0</td>\n",
              "      <td>0</td>\n",
              "      <td>0</td>\n",
              "      <td>0</td>\n",
              "      <td>0</td>\n",
              "      <td>0</td>\n",
              "    </tr>\n",
              "    <tr>\n",
              "      <th>43311</th>\n",
              "      <td>32.0</td>\n",
              "      <td>0</td>\n",
              "      <td>2014</td>\n",
              "      <td>2000</td>\n",
              "      <td>1.224647e-16</td>\n",
              "      <td>-1.0</td>\n",
              "      <td>-0.201299</td>\n",
              "      <td>0.97953</td>\n",
              "      <td>0.500000</td>\n",
              "      <td>0.866025</td>\n",
              "      <td>0.201299</td>\n",
              "      <td>0.97953</td>\n",
              "      <td>1</td>\n",
              "      <td>0</td>\n",
              "      <td>0</td>\n",
              "      <td>0</td>\n",
              "      <td>1</td>\n",
              "      <td>0</td>\n",
              "      <td>0</td>\n",
              "      <td>0</td>\n",
              "      <td>0</td>\n",
              "      <td>0</td>\n",
              "      <td>0</td>\n",
              "      <td>0</td>\n",
              "      <td>1</td>\n",
              "      <td>0</td>\n",
              "      <td>0</td>\n",
              "      <td>0</td>\n",
              "      <td>0</td>\n",
              "      <td>0</td>\n",
              "      <td>0</td>\n",
              "      <td>0</td>\n",
              "      <td>0</td>\n",
              "      <td>0</td>\n",
              "      <td>0</td>\n",
              "      <td>0</td>\n",
              "      <td>0</td>\n",
              "      <td>0</td>\n",
              "      <td>0</td>\n",
              "      <td>0</td>\n",
              "      <td>...</td>\n",
              "      <td>0</td>\n",
              "      <td>0</td>\n",
              "      <td>0</td>\n",
              "      <td>0</td>\n",
              "      <td>0</td>\n",
              "      <td>1</td>\n",
              "      <td>0</td>\n",
              "      <td>0</td>\n",
              "      <td>0</td>\n",
              "      <td>0</td>\n",
              "      <td>0</td>\n",
              "      <td>0</td>\n",
              "      <td>0</td>\n",
              "      <td>0</td>\n",
              "      <td>0</td>\n",
              "      <td>0</td>\n",
              "      <td>0</td>\n",
              "      <td>0</td>\n",
              "      <td>0</td>\n",
              "      <td>0</td>\n",
              "      <td>0</td>\n",
              "      <td>0</td>\n",
              "      <td>0</td>\n",
              "      <td>0</td>\n",
              "      <td>0</td>\n",
              "      <td>0</td>\n",
              "      <td>0</td>\n",
              "      <td>0</td>\n",
              "      <td>0</td>\n",
              "      <td>0</td>\n",
              "      <td>0</td>\n",
              "      <td>0</td>\n",
              "      <td>0</td>\n",
              "      <td>0</td>\n",
              "      <td>0</td>\n",
              "      <td>0</td>\n",
              "      <td>0</td>\n",
              "      <td>0</td>\n",
              "      <td>0</td>\n",
              "      <td>0</td>\n",
              "    </tr>\n",
              "    <tr>\n",
              "      <th>43312</th>\n",
              "      <td>34.0</td>\n",
              "      <td>25</td>\n",
              "      <td>2014</td>\n",
              "      <td>2000</td>\n",
              "      <td>1.224647e-16</td>\n",
              "      <td>-1.0</td>\n",
              "      <td>-0.201299</td>\n",
              "      <td>0.97953</td>\n",
              "      <td>0.500000</td>\n",
              "      <td>0.866025</td>\n",
              "      <td>0.201299</td>\n",
              "      <td>0.97953</td>\n",
              "      <td>1</td>\n",
              "      <td>0</td>\n",
              "      <td>0</td>\n",
              "      <td>0</td>\n",
              "      <td>1</td>\n",
              "      <td>0</td>\n",
              "      <td>0</td>\n",
              "      <td>0</td>\n",
              "      <td>0</td>\n",
              "      <td>0</td>\n",
              "      <td>0</td>\n",
              "      <td>0</td>\n",
              "      <td>1</td>\n",
              "      <td>0</td>\n",
              "      <td>0</td>\n",
              "      <td>0</td>\n",
              "      <td>0</td>\n",
              "      <td>0</td>\n",
              "      <td>0</td>\n",
              "      <td>0</td>\n",
              "      <td>0</td>\n",
              "      <td>0</td>\n",
              "      <td>0</td>\n",
              "      <td>0</td>\n",
              "      <td>0</td>\n",
              "      <td>0</td>\n",
              "      <td>0</td>\n",
              "      <td>0</td>\n",
              "      <td>...</td>\n",
              "      <td>0</td>\n",
              "      <td>0</td>\n",
              "      <td>0</td>\n",
              "      <td>0</td>\n",
              "      <td>0</td>\n",
              "      <td>0</td>\n",
              "      <td>0</td>\n",
              "      <td>0</td>\n",
              "      <td>0</td>\n",
              "      <td>0</td>\n",
              "      <td>0</td>\n",
              "      <td>0</td>\n",
              "      <td>0</td>\n",
              "      <td>0</td>\n",
              "      <td>0</td>\n",
              "      <td>0</td>\n",
              "      <td>0</td>\n",
              "      <td>1</td>\n",
              "      <td>0</td>\n",
              "      <td>0</td>\n",
              "      <td>0</td>\n",
              "      <td>0</td>\n",
              "      <td>0</td>\n",
              "      <td>0</td>\n",
              "      <td>0</td>\n",
              "      <td>0</td>\n",
              "      <td>0</td>\n",
              "      <td>0</td>\n",
              "      <td>0</td>\n",
              "      <td>0</td>\n",
              "      <td>0</td>\n",
              "      <td>0</td>\n",
              "      <td>0</td>\n",
              "      <td>0</td>\n",
              "      <td>0</td>\n",
              "      <td>0</td>\n",
              "      <td>0</td>\n",
              "      <td>0</td>\n",
              "      <td>0</td>\n",
              "      <td>0</td>\n",
              "    </tr>\n",
              "    <tr>\n",
              "      <th>43313</th>\n",
              "      <td>34.0</td>\n",
              "      <td>25</td>\n",
              "      <td>2014</td>\n",
              "      <td>2000</td>\n",
              "      <td>1.224647e-16</td>\n",
              "      <td>-1.0</td>\n",
              "      <td>-0.201299</td>\n",
              "      <td>0.97953</td>\n",
              "      <td>0.500000</td>\n",
              "      <td>0.866025</td>\n",
              "      <td>0.201299</td>\n",
              "      <td>0.97953</td>\n",
              "      <td>1</td>\n",
              "      <td>0</td>\n",
              "      <td>0</td>\n",
              "      <td>0</td>\n",
              "      <td>1</td>\n",
              "      <td>0</td>\n",
              "      <td>0</td>\n",
              "      <td>0</td>\n",
              "      <td>0</td>\n",
              "      <td>0</td>\n",
              "      <td>0</td>\n",
              "      <td>0</td>\n",
              "      <td>1</td>\n",
              "      <td>0</td>\n",
              "      <td>0</td>\n",
              "      <td>0</td>\n",
              "      <td>0</td>\n",
              "      <td>0</td>\n",
              "      <td>0</td>\n",
              "      <td>0</td>\n",
              "      <td>0</td>\n",
              "      <td>0</td>\n",
              "      <td>0</td>\n",
              "      <td>0</td>\n",
              "      <td>0</td>\n",
              "      <td>0</td>\n",
              "      <td>0</td>\n",
              "      <td>0</td>\n",
              "      <td>...</td>\n",
              "      <td>0</td>\n",
              "      <td>0</td>\n",
              "      <td>0</td>\n",
              "      <td>0</td>\n",
              "      <td>0</td>\n",
              "      <td>0</td>\n",
              "      <td>0</td>\n",
              "      <td>0</td>\n",
              "      <td>0</td>\n",
              "      <td>0</td>\n",
              "      <td>0</td>\n",
              "      <td>0</td>\n",
              "      <td>0</td>\n",
              "      <td>0</td>\n",
              "      <td>0</td>\n",
              "      <td>0</td>\n",
              "      <td>0</td>\n",
              "      <td>0</td>\n",
              "      <td>0</td>\n",
              "      <td>0</td>\n",
              "      <td>0</td>\n",
              "      <td>0</td>\n",
              "      <td>0</td>\n",
              "      <td>0</td>\n",
              "      <td>0</td>\n",
              "      <td>0</td>\n",
              "      <td>0</td>\n",
              "      <td>0</td>\n",
              "      <td>0</td>\n",
              "      <td>0</td>\n",
              "      <td>0</td>\n",
              "      <td>0</td>\n",
              "      <td>0</td>\n",
              "      <td>0</td>\n",
              "      <td>0</td>\n",
              "      <td>0</td>\n",
              "      <td>0</td>\n",
              "      <td>0</td>\n",
              "      <td>0</td>\n",
              "      <td>0</td>\n",
              "    </tr>\n",
              "  </tbody>\n",
              "</table>\n",
              "<p>43314 rows × 134 columns</p>\n",
              "</div>"
            ],
            "text/plain": [
              "        age  ...  first_browser_wOSBrowser\n",
              "0      34.0  ...                         0\n",
              "1      22.0  ...                         0\n",
              "2      36.0  ...                         0\n",
              "3      52.0  ...                         0\n",
              "4      51.0  ...                         0\n",
              "...     ...  ...                       ...\n",
              "43309  32.0  ...                         0\n",
              "43310  34.0  ...                         0\n",
              "43311  32.0  ...                         0\n",
              "43312  34.0  ...                         0\n",
              "43313  34.0  ...                         0\n",
              "\n",
              "[43314 rows x 134 columns]"
            ]
          },
          "metadata": {
            "tags": []
          },
          "execution_count": 62
        }
      ]
    },
    {
      "cell_type": "markdown",
      "metadata": {
        "id": "YE_ESPozkZHk"
      },
      "source": [
        "* Mapping Destination Values to Numeric value\n",
        "* `{\n",
        "    'NDF' : 0,\n",
        "    'US' : 1,\n",
        "    'other' : 2,\n",
        "    'FR' : 3,\n",
        "    'CA' : 4,\n",
        "    'GB' : 5,\n",
        "    'ES' : 6,\n",
        "    'IT' : 7,\n",
        "    'PT' : 8,\n",
        "    'NL' : 9,\n",
        "    'DE' : 10,\n",
        "    'AU' : 11,\n",
        "}`"
      ]
    },
    {
      "cell_type": "code",
      "metadata": {
        "colab": {
          "base_uri": "https://localhost:8080/"
        },
        "id": "Oju1tB3qDYWr",
        "outputId": "f2b388f1-7622-4feb-9e4d-660149d9e29e"
      },
      "source": [
        "country_encoding = { 'NDF' : 0, 'US' : 1, 'other' : 2, 'FR' : 3, 'CA' : 4, 'GB' : 5, 'ES' : 6, 'IT' : 7, \n",
        "                    'PT' : 8, 'NL' : 9, 'DE' : 10, 'AU' : 11}\n",
        "\n",
        "new = df_new.loc[:, \"country_destination\"]\n",
        "new = new.to_frame()\n",
        "for data in [new]:\n",
        "    data['country_destination'] = data['country_destination'].apply(lambda x: country_encoding[x])\n",
        "data"
      ],
      "execution_count": null,
      "outputs": [
        {
          "output_type": "execute_result",
          "data": {
            "text/html": [
              "<div>\n",
              "<style scoped>\n",
              "    .dataframe tbody tr th:only-of-type {\n",
              "        vertical-align: middle;\n",
              "    }\n",
              "\n",
              "    .dataframe tbody tr th {\n",
              "        vertical-align: top;\n",
              "    }\n",
              "\n",
              "    .dataframe thead th {\n",
              "        text-align: right;\n",
              "    }\n",
              "</style>\n",
              "<table border=\"1\" class=\"dataframe\">\n",
              "  <thead>\n",
              "    <tr style=\"text-align: right;\">\n",
              "      <th></th>\n",
              "      <th>country_destination</th>\n",
              "    </tr>\n",
              "  </thead>\n",
              "  <tbody>\n",
              "    <tr>\n",
              "      <th>0</th>\n",
              "      <td>0</td>\n",
              "    </tr>\n",
              "    <tr>\n",
              "      <th>1</th>\n",
              "      <td>0</td>\n",
              "    </tr>\n",
              "    <tr>\n",
              "      <th>2</th>\n",
              "      <td>1</td>\n",
              "    </tr>\n",
              "    <tr>\n",
              "      <th>3</th>\n",
              "      <td>2</td>\n",
              "    </tr>\n",
              "    <tr>\n",
              "      <th>4</th>\n",
              "      <td>1</td>\n",
              "    </tr>\n",
              "    <tr>\n",
              "      <th>...</th>\n",
              "      <td>...</td>\n",
              "    </tr>\n",
              "    <tr>\n",
              "      <th>170132</th>\n",
              "      <td>0</td>\n",
              "    </tr>\n",
              "    <tr>\n",
              "      <th>170133</th>\n",
              "      <td>0</td>\n",
              "    </tr>\n",
              "    <tr>\n",
              "      <th>170134</th>\n",
              "      <td>4</td>\n",
              "    </tr>\n",
              "    <tr>\n",
              "      <th>170135</th>\n",
              "      <td>0</td>\n",
              "    </tr>\n",
              "    <tr>\n",
              "      <th>170136</th>\n",
              "      <td>0</td>\n",
              "    </tr>\n",
              "  </tbody>\n",
              "</table>\n",
              "<p>170137 rows × 1 columns</p>\n",
              "</div>"
            ],
            "text/plain": [
              "        country_destination\n",
              "0                         0\n",
              "1                         0\n",
              "2                         1\n",
              "3                         2\n",
              "4                         1\n",
              "...                     ...\n",
              "170132                    0\n",
              "170133                    0\n",
              "170134                    4\n",
              "170135                    0\n",
              "170136                    0\n",
              "\n",
              "[170137 rows x 1 columns]"
            ]
          },
          "metadata": {
            "tags": []
          },
          "execution_count": 63
        }
      ]
    },
    {
      "cell_type": "code",
      "metadata": {
        "id": "Q0jbVoIczopd"
      },
      "source": [
        "train = pd.concat([train, data], axis=1)"
      ],
      "execution_count": null,
      "outputs": []
    },
    {
      "cell_type": "code",
      "metadata": {
        "colab": {
          "base_uri": "https://localhost:8080/"
        },
        "id": "KaZTholNzx6U",
        "outputId": "940e4527-7348-4d9a-e3e4-c65a220754fb"
      },
      "source": [
        "train"
      ],
      "execution_count": null,
      "outputs": [
        {
          "output_type": "execute_result",
          "data": {
            "text/html": [
              "<div>\n",
              "<style scoped>\n",
              "    .dataframe tbody tr th:only-of-type {\n",
              "        vertical-align: middle;\n",
              "    }\n",
              "\n",
              "    .dataframe tbody tr th {\n",
              "        vertical-align: top;\n",
              "    }\n",
              "\n",
              "    .dataframe thead th {\n",
              "        text-align: right;\n",
              "    }\n",
              "</style>\n",
              "<table border=\"1\" class=\"dataframe\">\n",
              "  <thead>\n",
              "    <tr style=\"text-align: right;\">\n",
              "      <th></th>\n",
              "      <th>age</th>\n",
              "      <th>signup_flow</th>\n",
              "      <th>account_created_year</th>\n",
              "      <th>first_booking_year</th>\n",
              "      <th>account_created_month_sin</th>\n",
              "      <th>account_created_month_cos</th>\n",
              "      <th>account_created_day_sin</th>\n",
              "      <th>account_created_day_cos</th>\n",
              "      <th>first_booking_month_sin</th>\n",
              "      <th>first_booking_month_cos</th>\n",
              "      <th>first_booking_day_sin</th>\n",
              "      <th>first_booking_day_cos</th>\n",
              "      <th>gender_-unknown-</th>\n",
              "      <th>gender_FEMALE</th>\n",
              "      <th>gender_MALE</th>\n",
              "      <th>gender_OTHER</th>\n",
              "      <th>signup_method_basic</th>\n",
              "      <th>signup_method_facebook</th>\n",
              "      <th>signup_method_google</th>\n",
              "      <th>language_ca</th>\n",
              "      <th>language_cs</th>\n",
              "      <th>language_da</th>\n",
              "      <th>language_de</th>\n",
              "      <th>language_el</th>\n",
              "      <th>language_en</th>\n",
              "      <th>language_es</th>\n",
              "      <th>language_fi</th>\n",
              "      <th>language_fr</th>\n",
              "      <th>language_hr</th>\n",
              "      <th>language_hu</th>\n",
              "      <th>language_id</th>\n",
              "      <th>language_is</th>\n",
              "      <th>language_it</th>\n",
              "      <th>language_ja</th>\n",
              "      <th>language_ko</th>\n",
              "      <th>language_nl</th>\n",
              "      <th>language_no</th>\n",
              "      <th>language_pl</th>\n",
              "      <th>language_pt</th>\n",
              "      <th>language_ru</th>\n",
              "      <th>...</th>\n",
              "      <th>first_browser_Conkeror</th>\n",
              "      <th>first_browser_CoolNovo</th>\n",
              "      <th>first_browser_Crazy Browser</th>\n",
              "      <th>first_browser_Epic</th>\n",
              "      <th>first_browser_Firefox</th>\n",
              "      <th>first_browser_Flock</th>\n",
              "      <th>first_browser_Google Earth</th>\n",
              "      <th>first_browser_Googlebot</th>\n",
              "      <th>first_browser_IE</th>\n",
              "      <th>first_browser_IE Mobile</th>\n",
              "      <th>first_browser_IceDragon</th>\n",
              "      <th>first_browser_IceWeasel</th>\n",
              "      <th>first_browser_Iron</th>\n",
              "      <th>first_browser_Kindle Browser</th>\n",
              "      <th>first_browser_Maxthon</th>\n",
              "      <th>first_browser_Mobile Firefox</th>\n",
              "      <th>first_browser_Mobile Safari</th>\n",
              "      <th>first_browser_Mozilla</th>\n",
              "      <th>first_browser_NetNewsWire</th>\n",
              "      <th>first_browser_OmniWeb</th>\n",
              "      <th>first_browser_Opera</th>\n",
              "      <th>first_browser_Opera Mini</th>\n",
              "      <th>first_browser_Opera Mobile</th>\n",
              "      <th>first_browser_Outlook 2007</th>\n",
              "      <th>first_browser_PS Vita browser</th>\n",
              "      <th>first_browser_Pale Moon</th>\n",
              "      <th>first_browser_Palm Pre web browser</th>\n",
              "      <th>first_browser_RockMelt</th>\n",
              "      <th>first_browser_Safari</th>\n",
              "      <th>first_browser_SeaMonkey</th>\n",
              "      <th>first_browser_Silk</th>\n",
              "      <th>first_browser_SiteKiosk</th>\n",
              "      <th>first_browser_SlimBrowser</th>\n",
              "      <th>first_browser_Sogou Explorer</th>\n",
              "      <th>first_browser_Stainless</th>\n",
              "      <th>first_browser_TenFourFox</th>\n",
              "      <th>first_browser_TheWorld Browser</th>\n",
              "      <th>first_browser_Yandex.Browser</th>\n",
              "      <th>first_browser_wOSBrowser</th>\n",
              "      <th>country_destination</th>\n",
              "    </tr>\n",
              "  </thead>\n",
              "  <tbody>\n",
              "    <tr>\n",
              "      <th>0</th>\n",
              "      <td>34.0</td>\n",
              "      <td>0</td>\n",
              "      <td>2010</td>\n",
              "      <td>2000</td>\n",
              "      <td>1.224647e-16</td>\n",
              "      <td>-1.000000e+00</td>\n",
              "      <td>-5.712682e-01</td>\n",
              "      <td>0.820763</td>\n",
              "      <td>0.500000</td>\n",
              "      <td>8.660254e-01</td>\n",
              "      <td>0.201299</td>\n",
              "      <td>0.979530</td>\n",
              "      <td>1</td>\n",
              "      <td>0</td>\n",
              "      <td>0</td>\n",
              "      <td>0</td>\n",
              "      <td>0</td>\n",
              "      <td>1</td>\n",
              "      <td>0</td>\n",
              "      <td>0</td>\n",
              "      <td>0</td>\n",
              "      <td>0</td>\n",
              "      <td>0</td>\n",
              "      <td>0</td>\n",
              "      <td>1</td>\n",
              "      <td>0</td>\n",
              "      <td>0</td>\n",
              "      <td>0</td>\n",
              "      <td>0</td>\n",
              "      <td>0</td>\n",
              "      <td>0</td>\n",
              "      <td>0</td>\n",
              "      <td>0</td>\n",
              "      <td>0</td>\n",
              "      <td>0</td>\n",
              "      <td>0</td>\n",
              "      <td>0</td>\n",
              "      <td>0</td>\n",
              "      <td>0</td>\n",
              "      <td>0</td>\n",
              "      <td>...</td>\n",
              "      <td>0</td>\n",
              "      <td>0</td>\n",
              "      <td>0</td>\n",
              "      <td>0</td>\n",
              "      <td>0</td>\n",
              "      <td>0</td>\n",
              "      <td>0</td>\n",
              "      <td>0</td>\n",
              "      <td>0</td>\n",
              "      <td>0</td>\n",
              "      <td>0</td>\n",
              "      <td>0</td>\n",
              "      <td>0</td>\n",
              "      <td>0</td>\n",
              "      <td>0</td>\n",
              "      <td>0</td>\n",
              "      <td>0</td>\n",
              "      <td>0</td>\n",
              "      <td>0</td>\n",
              "      <td>0</td>\n",
              "      <td>0</td>\n",
              "      <td>0</td>\n",
              "      <td>0</td>\n",
              "      <td>0</td>\n",
              "      <td>0</td>\n",
              "      <td>0</td>\n",
              "      <td>0</td>\n",
              "      <td>0</td>\n",
              "      <td>0</td>\n",
              "      <td>0</td>\n",
              "      <td>0</td>\n",
              "      <td>0</td>\n",
              "      <td>0</td>\n",
              "      <td>0</td>\n",
              "      <td>0</td>\n",
              "      <td>0</td>\n",
              "      <td>0</td>\n",
              "      <td>0</td>\n",
              "      <td>0</td>\n",
              "      <td>0</td>\n",
              "    </tr>\n",
              "    <tr>\n",
              "      <th>1</th>\n",
              "      <td>38.0</td>\n",
              "      <td>0</td>\n",
              "      <td>2011</td>\n",
              "      <td>2000</td>\n",
              "      <td>5.000000e-01</td>\n",
              "      <td>-8.660254e-01</td>\n",
              "      <td>-9.377521e-01</td>\n",
              "      <td>0.347305</td>\n",
              "      <td>0.500000</td>\n",
              "      <td>8.660254e-01</td>\n",
              "      <td>0.201299</td>\n",
              "      <td>0.979530</td>\n",
              "      <td>0</td>\n",
              "      <td>0</td>\n",
              "      <td>1</td>\n",
              "      <td>0</td>\n",
              "      <td>0</td>\n",
              "      <td>1</td>\n",
              "      <td>0</td>\n",
              "      <td>0</td>\n",
              "      <td>0</td>\n",
              "      <td>0</td>\n",
              "      <td>0</td>\n",
              "      <td>0</td>\n",
              "      <td>1</td>\n",
              "      <td>0</td>\n",
              "      <td>0</td>\n",
              "      <td>0</td>\n",
              "      <td>0</td>\n",
              "      <td>0</td>\n",
              "      <td>0</td>\n",
              "      <td>0</td>\n",
              "      <td>0</td>\n",
              "      <td>0</td>\n",
              "      <td>0</td>\n",
              "      <td>0</td>\n",
              "      <td>0</td>\n",
              "      <td>0</td>\n",
              "      <td>0</td>\n",
              "      <td>0</td>\n",
              "      <td>...</td>\n",
              "      <td>0</td>\n",
              "      <td>0</td>\n",
              "      <td>0</td>\n",
              "      <td>0</td>\n",
              "      <td>0</td>\n",
              "      <td>0</td>\n",
              "      <td>0</td>\n",
              "      <td>0</td>\n",
              "      <td>0</td>\n",
              "      <td>0</td>\n",
              "      <td>0</td>\n",
              "      <td>0</td>\n",
              "      <td>0</td>\n",
              "      <td>0</td>\n",
              "      <td>0</td>\n",
              "      <td>0</td>\n",
              "      <td>0</td>\n",
              "      <td>0</td>\n",
              "      <td>0</td>\n",
              "      <td>0</td>\n",
              "      <td>0</td>\n",
              "      <td>0</td>\n",
              "      <td>0</td>\n",
              "      <td>0</td>\n",
              "      <td>0</td>\n",
              "      <td>0</td>\n",
              "      <td>0</td>\n",
              "      <td>0</td>\n",
              "      <td>0</td>\n",
              "      <td>0</td>\n",
              "      <td>0</td>\n",
              "      <td>0</td>\n",
              "      <td>0</td>\n",
              "      <td>0</td>\n",
              "      <td>0</td>\n",
              "      <td>0</td>\n",
              "      <td>0</td>\n",
              "      <td>0</td>\n",
              "      <td>0</td>\n",
              "      <td>0</td>\n",
              "    </tr>\n",
              "    <tr>\n",
              "      <th>2</th>\n",
              "      <td>56.0</td>\n",
              "      <td>3</td>\n",
              "      <td>2010</td>\n",
              "      <td>2010</td>\n",
              "      <td>-1.000000e+00</td>\n",
              "      <td>-1.836970e-16</td>\n",
              "      <td>-5.712682e-01</td>\n",
              "      <td>0.820763</td>\n",
              "      <td>-0.866025</td>\n",
              "      <td>-5.000000e-01</td>\n",
              "      <td>0.394356</td>\n",
              "      <td>0.918958</td>\n",
              "      <td>0</td>\n",
              "      <td>1</td>\n",
              "      <td>0</td>\n",
              "      <td>0</td>\n",
              "      <td>1</td>\n",
              "      <td>0</td>\n",
              "      <td>0</td>\n",
              "      <td>0</td>\n",
              "      <td>0</td>\n",
              "      <td>0</td>\n",
              "      <td>0</td>\n",
              "      <td>0</td>\n",
              "      <td>1</td>\n",
              "      <td>0</td>\n",
              "      <td>0</td>\n",
              "      <td>0</td>\n",
              "      <td>0</td>\n",
              "      <td>0</td>\n",
              "      <td>0</td>\n",
              "      <td>0</td>\n",
              "      <td>0</td>\n",
              "      <td>0</td>\n",
              "      <td>0</td>\n",
              "      <td>0</td>\n",
              "      <td>0</td>\n",
              "      <td>0</td>\n",
              "      <td>0</td>\n",
              "      <td>0</td>\n",
              "      <td>...</td>\n",
              "      <td>0</td>\n",
              "      <td>0</td>\n",
              "      <td>0</td>\n",
              "      <td>0</td>\n",
              "      <td>0</td>\n",
              "      <td>0</td>\n",
              "      <td>0</td>\n",
              "      <td>0</td>\n",
              "      <td>1</td>\n",
              "      <td>0</td>\n",
              "      <td>0</td>\n",
              "      <td>0</td>\n",
              "      <td>0</td>\n",
              "      <td>0</td>\n",
              "      <td>0</td>\n",
              "      <td>0</td>\n",
              "      <td>0</td>\n",
              "      <td>0</td>\n",
              "      <td>0</td>\n",
              "      <td>0</td>\n",
              "      <td>0</td>\n",
              "      <td>0</td>\n",
              "      <td>0</td>\n",
              "      <td>0</td>\n",
              "      <td>0</td>\n",
              "      <td>0</td>\n",
              "      <td>0</td>\n",
              "      <td>0</td>\n",
              "      <td>0</td>\n",
              "      <td>0</td>\n",
              "      <td>0</td>\n",
              "      <td>0</td>\n",
              "      <td>0</td>\n",
              "      <td>0</td>\n",
              "      <td>0</td>\n",
              "      <td>0</td>\n",
              "      <td>0</td>\n",
              "      <td>0</td>\n",
              "      <td>0</td>\n",
              "      <td>1</td>\n",
              "    </tr>\n",
              "    <tr>\n",
              "      <th>3</th>\n",
              "      <td>42.0</td>\n",
              "      <td>0</td>\n",
              "      <td>2011</td>\n",
              "      <td>2012</td>\n",
              "      <td>-2.449294e-16</td>\n",
              "      <td>1.000000e+00</td>\n",
              "      <td>8.486443e-01</td>\n",
              "      <td>0.528964</td>\n",
              "      <td>-1.000000</td>\n",
              "      <td>-1.836970e-16</td>\n",
              "      <td>0.998717</td>\n",
              "      <td>-0.050649</td>\n",
              "      <td>0</td>\n",
              "      <td>1</td>\n",
              "      <td>0</td>\n",
              "      <td>0</td>\n",
              "      <td>0</td>\n",
              "      <td>1</td>\n",
              "      <td>0</td>\n",
              "      <td>0</td>\n",
              "      <td>0</td>\n",
              "      <td>0</td>\n",
              "      <td>0</td>\n",
              "      <td>0</td>\n",
              "      <td>1</td>\n",
              "      <td>0</td>\n",
              "      <td>0</td>\n",
              "      <td>0</td>\n",
              "      <td>0</td>\n",
              "      <td>0</td>\n",
              "      <td>0</td>\n",
              "      <td>0</td>\n",
              "      <td>0</td>\n",
              "      <td>0</td>\n",
              "      <td>0</td>\n",
              "      <td>0</td>\n",
              "      <td>0</td>\n",
              "      <td>0</td>\n",
              "      <td>0</td>\n",
              "      <td>0</td>\n",
              "      <td>...</td>\n",
              "      <td>0</td>\n",
              "      <td>0</td>\n",
              "      <td>0</td>\n",
              "      <td>0</td>\n",
              "      <td>1</td>\n",
              "      <td>0</td>\n",
              "      <td>0</td>\n",
              "      <td>0</td>\n",
              "      <td>0</td>\n",
              "      <td>0</td>\n",
              "      <td>0</td>\n",
              "      <td>0</td>\n",
              "      <td>0</td>\n",
              "      <td>0</td>\n",
              "      <td>0</td>\n",
              "      <td>0</td>\n",
              "      <td>0</td>\n",
              "      <td>0</td>\n",
              "      <td>0</td>\n",
              "      <td>0</td>\n",
              "      <td>0</td>\n",
              "      <td>0</td>\n",
              "      <td>0</td>\n",
              "      <td>0</td>\n",
              "      <td>0</td>\n",
              "      <td>0</td>\n",
              "      <td>0</td>\n",
              "      <td>0</td>\n",
              "      <td>0</td>\n",
              "      <td>0</td>\n",
              "      <td>0</td>\n",
              "      <td>0</td>\n",
              "      <td>0</td>\n",
              "      <td>0</td>\n",
              "      <td>0</td>\n",
              "      <td>0</td>\n",
              "      <td>0</td>\n",
              "      <td>0</td>\n",
              "      <td>0</td>\n",
              "      <td>2</td>\n",
              "    </tr>\n",
              "    <tr>\n",
              "      <th>4</th>\n",
              "      <td>41.0</td>\n",
              "      <td>0</td>\n",
              "      <td>2010</td>\n",
              "      <td>2010</td>\n",
              "      <td>-1.000000e+00</td>\n",
              "      <td>-1.836970e-16</td>\n",
              "      <td>2.993631e-01</td>\n",
              "      <td>-0.954139</td>\n",
              "      <td>0.866025</td>\n",
              "      <td>5.000000e-01</td>\n",
              "      <td>-0.485302</td>\n",
              "      <td>-0.874347</td>\n",
              "      <td>1</td>\n",
              "      <td>0</td>\n",
              "      <td>0</td>\n",
              "      <td>0</td>\n",
              "      <td>1</td>\n",
              "      <td>0</td>\n",
              "      <td>0</td>\n",
              "      <td>0</td>\n",
              "      <td>0</td>\n",
              "      <td>0</td>\n",
              "      <td>0</td>\n",
              "      <td>0</td>\n",
              "      <td>1</td>\n",
              "      <td>0</td>\n",
              "      <td>0</td>\n",
              "      <td>0</td>\n",
              "      <td>0</td>\n",
              "      <td>0</td>\n",
              "      <td>0</td>\n",
              "      <td>0</td>\n",
              "      <td>0</td>\n",
              "      <td>0</td>\n",
              "      <td>0</td>\n",
              "      <td>0</td>\n",
              "      <td>0</td>\n",
              "      <td>0</td>\n",
              "      <td>0</td>\n",
              "      <td>0</td>\n",
              "      <td>...</td>\n",
              "      <td>0</td>\n",
              "      <td>0</td>\n",
              "      <td>0</td>\n",
              "      <td>0</td>\n",
              "      <td>0</td>\n",
              "      <td>0</td>\n",
              "      <td>0</td>\n",
              "      <td>0</td>\n",
              "      <td>0</td>\n",
              "      <td>0</td>\n",
              "      <td>0</td>\n",
              "      <td>0</td>\n",
              "      <td>0</td>\n",
              "      <td>0</td>\n",
              "      <td>0</td>\n",
              "      <td>0</td>\n",
              "      <td>0</td>\n",
              "      <td>0</td>\n",
              "      <td>0</td>\n",
              "      <td>0</td>\n",
              "      <td>0</td>\n",
              "      <td>0</td>\n",
              "      <td>0</td>\n",
              "      <td>0</td>\n",
              "      <td>0</td>\n",
              "      <td>0</td>\n",
              "      <td>0</td>\n",
              "      <td>0</td>\n",
              "      <td>0</td>\n",
              "      <td>0</td>\n",
              "      <td>0</td>\n",
              "      <td>0</td>\n",
              "      <td>0</td>\n",
              "      <td>0</td>\n",
              "      <td>0</td>\n",
              "      <td>0</td>\n",
              "      <td>0</td>\n",
              "      <td>0</td>\n",
              "      <td>0</td>\n",
              "      <td>1</td>\n",
              "    </tr>\n",
              "    <tr>\n",
              "      <th>...</th>\n",
              "      <td>...</td>\n",
              "      <td>...</td>\n",
              "      <td>...</td>\n",
              "      <td>...</td>\n",
              "      <td>...</td>\n",
              "      <td>...</td>\n",
              "      <td>...</td>\n",
              "      <td>...</td>\n",
              "      <td>...</td>\n",
              "      <td>...</td>\n",
              "      <td>...</td>\n",
              "      <td>...</td>\n",
              "      <td>...</td>\n",
              "      <td>...</td>\n",
              "      <td>...</td>\n",
              "      <td>...</td>\n",
              "      <td>...</td>\n",
              "      <td>...</td>\n",
              "      <td>...</td>\n",
              "      <td>...</td>\n",
              "      <td>...</td>\n",
              "      <td>...</td>\n",
              "      <td>...</td>\n",
              "      <td>...</td>\n",
              "      <td>...</td>\n",
              "      <td>...</td>\n",
              "      <td>...</td>\n",
              "      <td>...</td>\n",
              "      <td>...</td>\n",
              "      <td>...</td>\n",
              "      <td>...</td>\n",
              "      <td>...</td>\n",
              "      <td>...</td>\n",
              "      <td>...</td>\n",
              "      <td>...</td>\n",
              "      <td>...</td>\n",
              "      <td>...</td>\n",
              "      <td>...</td>\n",
              "      <td>...</td>\n",
              "      <td>...</td>\n",
              "      <td>...</td>\n",
              "      <td>...</td>\n",
              "      <td>...</td>\n",
              "      <td>...</td>\n",
              "      <td>...</td>\n",
              "      <td>...</td>\n",
              "      <td>...</td>\n",
              "      <td>...</td>\n",
              "      <td>...</td>\n",
              "      <td>...</td>\n",
              "      <td>...</td>\n",
              "      <td>...</td>\n",
              "      <td>...</td>\n",
              "      <td>...</td>\n",
              "      <td>...</td>\n",
              "      <td>...</td>\n",
              "      <td>...</td>\n",
              "      <td>...</td>\n",
              "      <td>...</td>\n",
              "      <td>...</td>\n",
              "      <td>...</td>\n",
              "      <td>...</td>\n",
              "      <td>...</td>\n",
              "      <td>...</td>\n",
              "      <td>...</td>\n",
              "      <td>...</td>\n",
              "      <td>...</td>\n",
              "      <td>...</td>\n",
              "      <td>...</td>\n",
              "      <td>...</td>\n",
              "      <td>...</td>\n",
              "      <td>...</td>\n",
              "      <td>...</td>\n",
              "      <td>...</td>\n",
              "      <td>...</td>\n",
              "      <td>...</td>\n",
              "      <td>...</td>\n",
              "      <td>...</td>\n",
              "      <td>...</td>\n",
              "      <td>...</td>\n",
              "      <td>...</td>\n",
              "    </tr>\n",
              "    <tr>\n",
              "      <th>170132</th>\n",
              "      <td>34.0</td>\n",
              "      <td>0</td>\n",
              "      <td>2014</td>\n",
              "      <td>2000</td>\n",
              "      <td>1.000000e+00</td>\n",
              "      <td>6.123234e-17</td>\n",
              "      <td>-2.449294e-16</td>\n",
              "      <td>1.000000</td>\n",
              "      <td>0.500000</td>\n",
              "      <td>8.660254e-01</td>\n",
              "      <td>0.201299</td>\n",
              "      <td>0.979530</td>\n",
              "      <td>1</td>\n",
              "      <td>0</td>\n",
              "      <td>0</td>\n",
              "      <td>0</td>\n",
              "      <td>1</td>\n",
              "      <td>0</td>\n",
              "      <td>0</td>\n",
              "      <td>0</td>\n",
              "      <td>0</td>\n",
              "      <td>0</td>\n",
              "      <td>0</td>\n",
              "      <td>0</td>\n",
              "      <td>1</td>\n",
              "      <td>0</td>\n",
              "      <td>0</td>\n",
              "      <td>0</td>\n",
              "      <td>0</td>\n",
              "      <td>0</td>\n",
              "      <td>0</td>\n",
              "      <td>0</td>\n",
              "      <td>0</td>\n",
              "      <td>0</td>\n",
              "      <td>0</td>\n",
              "      <td>0</td>\n",
              "      <td>0</td>\n",
              "      <td>0</td>\n",
              "      <td>0</td>\n",
              "      <td>0</td>\n",
              "      <td>...</td>\n",
              "      <td>0</td>\n",
              "      <td>0</td>\n",
              "      <td>0</td>\n",
              "      <td>0</td>\n",
              "      <td>0</td>\n",
              "      <td>0</td>\n",
              "      <td>0</td>\n",
              "      <td>0</td>\n",
              "      <td>0</td>\n",
              "      <td>0</td>\n",
              "      <td>0</td>\n",
              "      <td>0</td>\n",
              "      <td>0</td>\n",
              "      <td>0</td>\n",
              "      <td>0</td>\n",
              "      <td>0</td>\n",
              "      <td>0</td>\n",
              "      <td>0</td>\n",
              "      <td>0</td>\n",
              "      <td>0</td>\n",
              "      <td>0</td>\n",
              "      <td>0</td>\n",
              "      <td>0</td>\n",
              "      <td>0</td>\n",
              "      <td>0</td>\n",
              "      <td>0</td>\n",
              "      <td>0</td>\n",
              "      <td>0</td>\n",
              "      <td>0</td>\n",
              "      <td>0</td>\n",
              "      <td>0</td>\n",
              "      <td>0</td>\n",
              "      <td>0</td>\n",
              "      <td>0</td>\n",
              "      <td>0</td>\n",
              "      <td>0</td>\n",
              "      <td>0</td>\n",
              "      <td>0</td>\n",
              "      <td>0</td>\n",
              "      <td>0</td>\n",
              "    </tr>\n",
              "    <tr>\n",
              "      <th>170133</th>\n",
              "      <td>23.0</td>\n",
              "      <td>0</td>\n",
              "      <td>2014</td>\n",
              "      <td>2000</td>\n",
              "      <td>1.000000e+00</td>\n",
              "      <td>6.123234e-17</td>\n",
              "      <td>-2.449294e-16</td>\n",
              "      <td>1.000000</td>\n",
              "      <td>0.500000</td>\n",
              "      <td>8.660254e-01</td>\n",
              "      <td>0.201299</td>\n",
              "      <td>0.979530</td>\n",
              "      <td>1</td>\n",
              "      <td>0</td>\n",
              "      <td>0</td>\n",
              "      <td>0</td>\n",
              "      <td>1</td>\n",
              "      <td>0</td>\n",
              "      <td>0</td>\n",
              "      <td>0</td>\n",
              "      <td>0</td>\n",
              "      <td>0</td>\n",
              "      <td>0</td>\n",
              "      <td>0</td>\n",
              "      <td>1</td>\n",
              "      <td>0</td>\n",
              "      <td>0</td>\n",
              "      <td>0</td>\n",
              "      <td>0</td>\n",
              "      <td>0</td>\n",
              "      <td>0</td>\n",
              "      <td>0</td>\n",
              "      <td>0</td>\n",
              "      <td>0</td>\n",
              "      <td>0</td>\n",
              "      <td>0</td>\n",
              "      <td>0</td>\n",
              "      <td>0</td>\n",
              "      <td>0</td>\n",
              "      <td>0</td>\n",
              "      <td>...</td>\n",
              "      <td>0</td>\n",
              "      <td>0</td>\n",
              "      <td>0</td>\n",
              "      <td>0</td>\n",
              "      <td>0</td>\n",
              "      <td>0</td>\n",
              "      <td>0</td>\n",
              "      <td>0</td>\n",
              "      <td>0</td>\n",
              "      <td>0</td>\n",
              "      <td>0</td>\n",
              "      <td>0</td>\n",
              "      <td>0</td>\n",
              "      <td>0</td>\n",
              "      <td>0</td>\n",
              "      <td>0</td>\n",
              "      <td>0</td>\n",
              "      <td>0</td>\n",
              "      <td>0</td>\n",
              "      <td>0</td>\n",
              "      <td>0</td>\n",
              "      <td>0</td>\n",
              "      <td>0</td>\n",
              "      <td>0</td>\n",
              "      <td>0</td>\n",
              "      <td>0</td>\n",
              "      <td>0</td>\n",
              "      <td>0</td>\n",
              "      <td>1</td>\n",
              "      <td>0</td>\n",
              "      <td>0</td>\n",
              "      <td>0</td>\n",
              "      <td>0</td>\n",
              "      <td>0</td>\n",
              "      <td>0</td>\n",
              "      <td>0</td>\n",
              "      <td>0</td>\n",
              "      <td>0</td>\n",
              "      <td>0</td>\n",
              "      <td>0</td>\n",
              "    </tr>\n",
              "    <tr>\n",
              "      <th>170134</th>\n",
              "      <td>32.0</td>\n",
              "      <td>0</td>\n",
              "      <td>2014</td>\n",
              "      <td>2014</td>\n",
              "      <td>1.000000e+00</td>\n",
              "      <td>6.123234e-17</td>\n",
              "      <td>-2.449294e-16</td>\n",
              "      <td>1.000000</td>\n",
              "      <td>0.866025</td>\n",
              "      <td>-5.000000e-01</td>\n",
              "      <td>0.201299</td>\n",
              "      <td>0.979530</td>\n",
              "      <td>1</td>\n",
              "      <td>0</td>\n",
              "      <td>0</td>\n",
              "      <td>0</td>\n",
              "      <td>1</td>\n",
              "      <td>0</td>\n",
              "      <td>0</td>\n",
              "      <td>0</td>\n",
              "      <td>0</td>\n",
              "      <td>0</td>\n",
              "      <td>0</td>\n",
              "      <td>0</td>\n",
              "      <td>1</td>\n",
              "      <td>0</td>\n",
              "      <td>0</td>\n",
              "      <td>0</td>\n",
              "      <td>0</td>\n",
              "      <td>0</td>\n",
              "      <td>0</td>\n",
              "      <td>0</td>\n",
              "      <td>0</td>\n",
              "      <td>0</td>\n",
              "      <td>0</td>\n",
              "      <td>0</td>\n",
              "      <td>0</td>\n",
              "      <td>0</td>\n",
              "      <td>0</td>\n",
              "      <td>0</td>\n",
              "      <td>...</td>\n",
              "      <td>0</td>\n",
              "      <td>0</td>\n",
              "      <td>0</td>\n",
              "      <td>0</td>\n",
              "      <td>1</td>\n",
              "      <td>0</td>\n",
              "      <td>0</td>\n",
              "      <td>0</td>\n",
              "      <td>0</td>\n",
              "      <td>0</td>\n",
              "      <td>0</td>\n",
              "      <td>0</td>\n",
              "      <td>0</td>\n",
              "      <td>0</td>\n",
              "      <td>0</td>\n",
              "      <td>0</td>\n",
              "      <td>0</td>\n",
              "      <td>0</td>\n",
              "      <td>0</td>\n",
              "      <td>0</td>\n",
              "      <td>0</td>\n",
              "      <td>0</td>\n",
              "      <td>0</td>\n",
              "      <td>0</td>\n",
              "      <td>0</td>\n",
              "      <td>0</td>\n",
              "      <td>0</td>\n",
              "      <td>0</td>\n",
              "      <td>0</td>\n",
              "      <td>0</td>\n",
              "      <td>0</td>\n",
              "      <td>0</td>\n",
              "      <td>0</td>\n",
              "      <td>0</td>\n",
              "      <td>0</td>\n",
              "      <td>0</td>\n",
              "      <td>0</td>\n",
              "      <td>0</td>\n",
              "      <td>0</td>\n",
              "      <td>4</td>\n",
              "    </tr>\n",
              "    <tr>\n",
              "      <th>170135</th>\n",
              "      <td>30.0</td>\n",
              "      <td>0</td>\n",
              "      <td>2014</td>\n",
              "      <td>2000</td>\n",
              "      <td>1.000000e+00</td>\n",
              "      <td>6.123234e-17</td>\n",
              "      <td>-2.449294e-16</td>\n",
              "      <td>1.000000</td>\n",
              "      <td>0.500000</td>\n",
              "      <td>8.660254e-01</td>\n",
              "      <td>0.201299</td>\n",
              "      <td>0.979530</td>\n",
              "      <td>0</td>\n",
              "      <td>1</td>\n",
              "      <td>0</td>\n",
              "      <td>0</td>\n",
              "      <td>0</td>\n",
              "      <td>1</td>\n",
              "      <td>0</td>\n",
              "      <td>0</td>\n",
              "      <td>0</td>\n",
              "      <td>0</td>\n",
              "      <td>0</td>\n",
              "      <td>0</td>\n",
              "      <td>1</td>\n",
              "      <td>0</td>\n",
              "      <td>0</td>\n",
              "      <td>0</td>\n",
              "      <td>0</td>\n",
              "      <td>0</td>\n",
              "      <td>0</td>\n",
              "      <td>0</td>\n",
              "      <td>0</td>\n",
              "      <td>0</td>\n",
              "      <td>0</td>\n",
              "      <td>0</td>\n",
              "      <td>0</td>\n",
              "      <td>0</td>\n",
              "      <td>0</td>\n",
              "      <td>0</td>\n",
              "      <td>...</td>\n",
              "      <td>0</td>\n",
              "      <td>0</td>\n",
              "      <td>0</td>\n",
              "      <td>0</td>\n",
              "      <td>0</td>\n",
              "      <td>0</td>\n",
              "      <td>0</td>\n",
              "      <td>0</td>\n",
              "      <td>0</td>\n",
              "      <td>0</td>\n",
              "      <td>0</td>\n",
              "      <td>0</td>\n",
              "      <td>0</td>\n",
              "      <td>0</td>\n",
              "      <td>0</td>\n",
              "      <td>0</td>\n",
              "      <td>0</td>\n",
              "      <td>0</td>\n",
              "      <td>0</td>\n",
              "      <td>0</td>\n",
              "      <td>0</td>\n",
              "      <td>0</td>\n",
              "      <td>0</td>\n",
              "      <td>0</td>\n",
              "      <td>0</td>\n",
              "      <td>0</td>\n",
              "      <td>0</td>\n",
              "      <td>0</td>\n",
              "      <td>0</td>\n",
              "      <td>0</td>\n",
              "      <td>0</td>\n",
              "      <td>0</td>\n",
              "      <td>0</td>\n",
              "      <td>0</td>\n",
              "      <td>0</td>\n",
              "      <td>0</td>\n",
              "      <td>0</td>\n",
              "      <td>0</td>\n",
              "      <td>0</td>\n",
              "      <td>0</td>\n",
              "    </tr>\n",
              "    <tr>\n",
              "      <th>170136</th>\n",
              "      <td>99.0</td>\n",
              "      <td>0</td>\n",
              "      <td>2014</td>\n",
              "      <td>2000</td>\n",
              "      <td>1.000000e+00</td>\n",
              "      <td>6.123234e-17</td>\n",
              "      <td>-2.449294e-16</td>\n",
              "      <td>1.000000</td>\n",
              "      <td>0.500000</td>\n",
              "      <td>8.660254e-01</td>\n",
              "      <td>0.201299</td>\n",
              "      <td>0.979530</td>\n",
              "      <td>0</td>\n",
              "      <td>1</td>\n",
              "      <td>0</td>\n",
              "      <td>0</td>\n",
              "      <td>1</td>\n",
              "      <td>0</td>\n",
              "      <td>0</td>\n",
              "      <td>0</td>\n",
              "      <td>0</td>\n",
              "      <td>0</td>\n",
              "      <td>0</td>\n",
              "      <td>0</td>\n",
              "      <td>1</td>\n",
              "      <td>0</td>\n",
              "      <td>0</td>\n",
              "      <td>0</td>\n",
              "      <td>0</td>\n",
              "      <td>0</td>\n",
              "      <td>0</td>\n",
              "      <td>0</td>\n",
              "      <td>0</td>\n",
              "      <td>0</td>\n",
              "      <td>0</td>\n",
              "      <td>0</td>\n",
              "      <td>0</td>\n",
              "      <td>0</td>\n",
              "      <td>0</td>\n",
              "      <td>0</td>\n",
              "      <td>...</td>\n",
              "      <td>0</td>\n",
              "      <td>0</td>\n",
              "      <td>0</td>\n",
              "      <td>0</td>\n",
              "      <td>0</td>\n",
              "      <td>0</td>\n",
              "      <td>0</td>\n",
              "      <td>0</td>\n",
              "      <td>0</td>\n",
              "      <td>0</td>\n",
              "      <td>0</td>\n",
              "      <td>0</td>\n",
              "      <td>0</td>\n",
              "      <td>0</td>\n",
              "      <td>0</td>\n",
              "      <td>0</td>\n",
              "      <td>0</td>\n",
              "      <td>0</td>\n",
              "      <td>0</td>\n",
              "      <td>0</td>\n",
              "      <td>0</td>\n",
              "      <td>0</td>\n",
              "      <td>0</td>\n",
              "      <td>0</td>\n",
              "      <td>0</td>\n",
              "      <td>0</td>\n",
              "      <td>0</td>\n",
              "      <td>0</td>\n",
              "      <td>0</td>\n",
              "      <td>0</td>\n",
              "      <td>0</td>\n",
              "      <td>0</td>\n",
              "      <td>0</td>\n",
              "      <td>0</td>\n",
              "      <td>0</td>\n",
              "      <td>0</td>\n",
              "      <td>0</td>\n",
              "      <td>0</td>\n",
              "      <td>0</td>\n",
              "      <td>0</td>\n",
              "    </tr>\n",
              "  </tbody>\n",
              "</table>\n",
              "<p>170137 rows × 135 columns</p>\n",
              "</div>"
            ],
            "text/plain": [
              "         age  signup_flow  ...  first_browser_wOSBrowser  country_destination\n",
              "0       34.0            0  ...                         0                    0\n",
              "1       38.0            0  ...                         0                    0\n",
              "2       56.0            3  ...                         0                    1\n",
              "3       42.0            0  ...                         0                    2\n",
              "4       41.0            0  ...                         0                    1\n",
              "...      ...          ...  ...                       ...                  ...\n",
              "170132  34.0            0  ...                         0                    0\n",
              "170133  23.0            0  ...                         0                    0\n",
              "170134  32.0            0  ...                         0                    4\n",
              "170135  30.0            0  ...                         0                    0\n",
              "170136  99.0            0  ...                         0                    0\n",
              "\n",
              "[170137 rows x 135 columns]"
            ]
          },
          "metadata": {
            "tags": []
          },
          "execution_count": 65
        }
      ]
    },
    {
      "cell_type": "code",
      "metadata": {
        "colab": {
          "base_uri": "https://localhost:8080/"
        },
        "id": "mP8W_qFvz3wD",
        "outputId": "79baaf53-fa04-496c-9c1c-2a83771c7e34"
      },
      "source": [
        "train[\"country_destination\"].value_counts()"
      ],
      "execution_count": null,
      "outputs": [
        {
          "output_type": "execute_result",
          "data": {
            "text/plain": [
              "0     97807\n",
              "1     50864\n",
              "2      8075\n",
              "3      4163\n",
              "7      2268\n",
              "5      1881\n",
              "6      1824\n",
              "4      1124\n",
              "10      906\n",
              "9       601\n",
              "11      461\n",
              "8       163\n",
              "Name: country_destination, dtype: int64"
            ]
          },
          "metadata": {
            "tags": []
          },
          "execution_count": 66
        }
      ]
    },
    {
      "cell_type": "markdown",
      "metadata": {
        "id": "ptdOl1uZD7W9"
      },
      "source": [
        "* This is clearly a case of class imbalance in case of Multi-Class Classification Problem.\n",
        "* So we are going to resample our data and upscale the minority class samples to atleast 16.2k"
      ]
    },
    {
      "cell_type": "code",
      "metadata": {
        "id": "F8i1iTVZJXbU"
      },
      "source": [
        "new_df = train"
      ],
      "execution_count": null,
      "outputs": []
    },
    {
      "cell_type": "code",
      "metadata": {
        "id": "4JE-99cvETbE"
      },
      "source": [
        "# df_minority3 = train[train.country_destination == 3]\n",
        "# df_minority2 = train[train.country_destination == 2]\n",
        "# df_minority4 = train[train.country_destination == 4]\n",
        "# df_minority5 = train[train.country_destination == 5]\n",
        "# df_minority6 = train[train.country_destination == 6]\n",
        "# df_minority7 = train[train.country_destination == 7]\n",
        "# df_minority8 = train[train.country_destination == 8]\n",
        "# df_minority9 = train[train.country_destination == 9]\n",
        "# df_minority10 = train[train.country_destination == 10]\n",
        "# df_minority11 = train[train.country_destination == 11]\n",
        "\n",
        "# def upsample(df_minority):\n",
        "#     df_minority_upsample = resample(df_minority,\n",
        "#                                     n_samples=9999,\n",
        "#                                     random_state=99)\n",
        "#     return df_minority_upsample"
      ],
      "execution_count": null,
      "outputs": []
    },
    {
      "cell_type": "code",
      "metadata": {
        "id": "v17BX458FlnD"
      },
      "source": [
        "# lst = [df_minority2, df_minority3, df_minority4, df_minority5, df_minority6, df_minority7, df_minority8,\n",
        "#        df_minority9, df_minority10, df_minority11]\n",
        "\n",
        "# for df in lst:\n",
        "#     frame = upsample(df)\n",
        "#     new_df = pd.concat([new_df, frame], ignore_index=True)"
      ],
      "execution_count": null,
      "outputs": []
    },
    {
      "cell_type": "code",
      "metadata": {
        "colab": {
          "base_uri": "https://localhost:8080/"
        },
        "id": "rOOz5Xmz2MY7",
        "outputId": "4566238a-7f19-4b44-94be-241c280194d1"
      },
      "source": [
        "new_df[\"country_destination\"].value_counts()"
      ],
      "execution_count": null,
      "outputs": [
        {
          "output_type": "execute_result",
          "data": {
            "text/plain": [
              "0     97807\n",
              "1     50864\n",
              "2      8075\n",
              "3      4163\n",
              "7      2268\n",
              "5      1881\n",
              "6      1824\n",
              "4      1124\n",
              "10      906\n",
              "9       601\n",
              "11      461\n",
              "8       163\n",
              "Name: country_destination, dtype: int64"
            ]
          },
          "metadata": {
            "tags": []
          },
          "execution_count": 70
        }
      ]
    },
    {
      "cell_type": "markdown",
      "metadata": {
        "id": "QXg2q7lDj2yD"
      },
      "source": [
        "# Modelling"
      ]
    },
    {
      "cell_type": "markdown",
      "metadata": {
        "id": "EiYFH4_6B4tJ"
      },
      "source": [
        "## First attempt RandomForestClassifier"
      ]
    },
    {
      "cell_type": "code",
      "metadata": {
        "colab": {
          "base_uri": "https://localhost:8080/",
          "height": 456
        },
        "id": "jDZ50Hv9Omnv",
        "outputId": "3ea8b8d4-e25c-4af0-a887-0597e8d59549"
      },
      "source": [
        "new_df"
      ],
      "execution_count": null,
      "outputs": [
        {
          "output_type": "execute_result",
          "data": {
            "text/html": [
              "<div>\n",
              "<style scoped>\n",
              "    .dataframe tbody tr th:only-of-type {\n",
              "        vertical-align: middle;\n",
              "    }\n",
              "\n",
              "    .dataframe tbody tr th {\n",
              "        vertical-align: top;\n",
              "    }\n",
              "\n",
              "    .dataframe thead th {\n",
              "        text-align: right;\n",
              "    }\n",
              "</style>\n",
              "<table border=\"1\" class=\"dataframe\">\n",
              "  <thead>\n",
              "    <tr style=\"text-align: right;\">\n",
              "      <th></th>\n",
              "      <th>age</th>\n",
              "      <th>signup_flow</th>\n",
              "      <th>account_created_year</th>\n",
              "      <th>first_booking_year</th>\n",
              "      <th>account_created_month_sin</th>\n",
              "      <th>account_created_month_cos</th>\n",
              "      <th>account_created_day_sin</th>\n",
              "      <th>account_created_day_cos</th>\n",
              "      <th>first_booking_month_sin</th>\n",
              "      <th>first_booking_month_cos</th>\n",
              "      <th>first_booking_day_sin</th>\n",
              "      <th>first_booking_day_cos</th>\n",
              "      <th>gender_-unknown-</th>\n",
              "      <th>gender_FEMALE</th>\n",
              "      <th>gender_MALE</th>\n",
              "      <th>gender_OTHER</th>\n",
              "      <th>signup_method_basic</th>\n",
              "      <th>signup_method_facebook</th>\n",
              "      <th>signup_method_google</th>\n",
              "      <th>language_ca</th>\n",
              "      <th>language_cs</th>\n",
              "      <th>language_da</th>\n",
              "      <th>language_de</th>\n",
              "      <th>language_el</th>\n",
              "      <th>language_en</th>\n",
              "      <th>language_es</th>\n",
              "      <th>language_fi</th>\n",
              "      <th>language_fr</th>\n",
              "      <th>language_hr</th>\n",
              "      <th>language_hu</th>\n",
              "      <th>language_id</th>\n",
              "      <th>language_is</th>\n",
              "      <th>language_it</th>\n",
              "      <th>language_ja</th>\n",
              "      <th>language_ko</th>\n",
              "      <th>language_nl</th>\n",
              "      <th>language_no</th>\n",
              "      <th>language_pl</th>\n",
              "      <th>language_pt</th>\n",
              "      <th>language_ru</th>\n",
              "      <th>...</th>\n",
              "      <th>first_browser_Conkeror</th>\n",
              "      <th>first_browser_CoolNovo</th>\n",
              "      <th>first_browser_Crazy Browser</th>\n",
              "      <th>first_browser_Epic</th>\n",
              "      <th>first_browser_Firefox</th>\n",
              "      <th>first_browser_Flock</th>\n",
              "      <th>first_browser_Google Earth</th>\n",
              "      <th>first_browser_Googlebot</th>\n",
              "      <th>first_browser_IE</th>\n",
              "      <th>first_browser_IE Mobile</th>\n",
              "      <th>first_browser_IceDragon</th>\n",
              "      <th>first_browser_IceWeasel</th>\n",
              "      <th>first_browser_Iron</th>\n",
              "      <th>first_browser_Kindle Browser</th>\n",
              "      <th>first_browser_Maxthon</th>\n",
              "      <th>first_browser_Mobile Firefox</th>\n",
              "      <th>first_browser_Mobile Safari</th>\n",
              "      <th>first_browser_Mozilla</th>\n",
              "      <th>first_browser_NetNewsWire</th>\n",
              "      <th>first_browser_OmniWeb</th>\n",
              "      <th>first_browser_Opera</th>\n",
              "      <th>first_browser_Opera Mini</th>\n",
              "      <th>first_browser_Opera Mobile</th>\n",
              "      <th>first_browser_Outlook 2007</th>\n",
              "      <th>first_browser_PS Vita browser</th>\n",
              "      <th>first_browser_Pale Moon</th>\n",
              "      <th>first_browser_Palm Pre web browser</th>\n",
              "      <th>first_browser_RockMelt</th>\n",
              "      <th>first_browser_Safari</th>\n",
              "      <th>first_browser_SeaMonkey</th>\n",
              "      <th>first_browser_Silk</th>\n",
              "      <th>first_browser_SiteKiosk</th>\n",
              "      <th>first_browser_SlimBrowser</th>\n",
              "      <th>first_browser_Sogou Explorer</th>\n",
              "      <th>first_browser_Stainless</th>\n",
              "      <th>first_browser_TenFourFox</th>\n",
              "      <th>first_browser_TheWorld Browser</th>\n",
              "      <th>first_browser_Yandex.Browser</th>\n",
              "      <th>first_browser_wOSBrowser</th>\n",
              "      <th>country_destination</th>\n",
              "    </tr>\n",
              "  </thead>\n",
              "  <tbody>\n",
              "    <tr>\n",
              "      <th>0</th>\n",
              "      <td>34.0</td>\n",
              "      <td>0</td>\n",
              "      <td>2010</td>\n",
              "      <td>2000</td>\n",
              "      <td>1.224647e-16</td>\n",
              "      <td>-1.000000e+00</td>\n",
              "      <td>-0.571268</td>\n",
              "      <td>0.820763</td>\n",
              "      <td>5.000000e-01</td>\n",
              "      <td>8.660254e-01</td>\n",
              "      <td>0.201299</td>\n",
              "      <td>0.979530</td>\n",
              "      <td>1</td>\n",
              "      <td>0</td>\n",
              "      <td>0</td>\n",
              "      <td>0</td>\n",
              "      <td>0</td>\n",
              "      <td>1</td>\n",
              "      <td>0</td>\n",
              "      <td>0</td>\n",
              "      <td>0</td>\n",
              "      <td>0</td>\n",
              "      <td>0</td>\n",
              "      <td>0</td>\n",
              "      <td>1</td>\n",
              "      <td>0</td>\n",
              "      <td>0</td>\n",
              "      <td>0</td>\n",
              "      <td>0</td>\n",
              "      <td>0</td>\n",
              "      <td>0</td>\n",
              "      <td>0</td>\n",
              "      <td>0</td>\n",
              "      <td>0</td>\n",
              "      <td>0</td>\n",
              "      <td>0</td>\n",
              "      <td>0</td>\n",
              "      <td>0</td>\n",
              "      <td>0</td>\n",
              "      <td>0</td>\n",
              "      <td>...</td>\n",
              "      <td>0</td>\n",
              "      <td>0</td>\n",
              "      <td>0</td>\n",
              "      <td>0</td>\n",
              "      <td>0</td>\n",
              "      <td>0</td>\n",
              "      <td>0</td>\n",
              "      <td>0</td>\n",
              "      <td>0</td>\n",
              "      <td>0</td>\n",
              "      <td>0</td>\n",
              "      <td>0</td>\n",
              "      <td>0</td>\n",
              "      <td>0</td>\n",
              "      <td>0</td>\n",
              "      <td>0</td>\n",
              "      <td>0</td>\n",
              "      <td>0</td>\n",
              "      <td>0</td>\n",
              "      <td>0</td>\n",
              "      <td>0</td>\n",
              "      <td>0</td>\n",
              "      <td>0</td>\n",
              "      <td>0</td>\n",
              "      <td>0</td>\n",
              "      <td>0</td>\n",
              "      <td>0</td>\n",
              "      <td>0</td>\n",
              "      <td>0</td>\n",
              "      <td>0</td>\n",
              "      <td>0</td>\n",
              "      <td>0</td>\n",
              "      <td>0</td>\n",
              "      <td>0</td>\n",
              "      <td>0</td>\n",
              "      <td>0</td>\n",
              "      <td>0</td>\n",
              "      <td>0</td>\n",
              "      <td>0</td>\n",
              "      <td>0</td>\n",
              "    </tr>\n",
              "    <tr>\n",
              "      <th>1</th>\n",
              "      <td>38.0</td>\n",
              "      <td>0</td>\n",
              "      <td>2011</td>\n",
              "      <td>2000</td>\n",
              "      <td>5.000000e-01</td>\n",
              "      <td>-8.660254e-01</td>\n",
              "      <td>-0.937752</td>\n",
              "      <td>0.347305</td>\n",
              "      <td>5.000000e-01</td>\n",
              "      <td>8.660254e-01</td>\n",
              "      <td>0.201299</td>\n",
              "      <td>0.979530</td>\n",
              "      <td>0</td>\n",
              "      <td>0</td>\n",
              "      <td>1</td>\n",
              "      <td>0</td>\n",
              "      <td>0</td>\n",
              "      <td>1</td>\n",
              "      <td>0</td>\n",
              "      <td>0</td>\n",
              "      <td>0</td>\n",
              "      <td>0</td>\n",
              "      <td>0</td>\n",
              "      <td>0</td>\n",
              "      <td>1</td>\n",
              "      <td>0</td>\n",
              "      <td>0</td>\n",
              "      <td>0</td>\n",
              "      <td>0</td>\n",
              "      <td>0</td>\n",
              "      <td>0</td>\n",
              "      <td>0</td>\n",
              "      <td>0</td>\n",
              "      <td>0</td>\n",
              "      <td>0</td>\n",
              "      <td>0</td>\n",
              "      <td>0</td>\n",
              "      <td>0</td>\n",
              "      <td>0</td>\n",
              "      <td>0</td>\n",
              "      <td>...</td>\n",
              "      <td>0</td>\n",
              "      <td>0</td>\n",
              "      <td>0</td>\n",
              "      <td>0</td>\n",
              "      <td>0</td>\n",
              "      <td>0</td>\n",
              "      <td>0</td>\n",
              "      <td>0</td>\n",
              "      <td>0</td>\n",
              "      <td>0</td>\n",
              "      <td>0</td>\n",
              "      <td>0</td>\n",
              "      <td>0</td>\n",
              "      <td>0</td>\n",
              "      <td>0</td>\n",
              "      <td>0</td>\n",
              "      <td>0</td>\n",
              "      <td>0</td>\n",
              "      <td>0</td>\n",
              "      <td>0</td>\n",
              "      <td>0</td>\n",
              "      <td>0</td>\n",
              "      <td>0</td>\n",
              "      <td>0</td>\n",
              "      <td>0</td>\n",
              "      <td>0</td>\n",
              "      <td>0</td>\n",
              "      <td>0</td>\n",
              "      <td>0</td>\n",
              "      <td>0</td>\n",
              "      <td>0</td>\n",
              "      <td>0</td>\n",
              "      <td>0</td>\n",
              "      <td>0</td>\n",
              "      <td>0</td>\n",
              "      <td>0</td>\n",
              "      <td>0</td>\n",
              "      <td>0</td>\n",
              "      <td>0</td>\n",
              "      <td>0</td>\n",
              "    </tr>\n",
              "    <tr>\n",
              "      <th>2</th>\n",
              "      <td>56.0</td>\n",
              "      <td>3</td>\n",
              "      <td>2010</td>\n",
              "      <td>2010</td>\n",
              "      <td>-1.000000e+00</td>\n",
              "      <td>-1.836970e-16</td>\n",
              "      <td>-0.571268</td>\n",
              "      <td>0.820763</td>\n",
              "      <td>-8.660254e-01</td>\n",
              "      <td>-5.000000e-01</td>\n",
              "      <td>0.394356</td>\n",
              "      <td>0.918958</td>\n",
              "      <td>0</td>\n",
              "      <td>1</td>\n",
              "      <td>0</td>\n",
              "      <td>0</td>\n",
              "      <td>1</td>\n",
              "      <td>0</td>\n",
              "      <td>0</td>\n",
              "      <td>0</td>\n",
              "      <td>0</td>\n",
              "      <td>0</td>\n",
              "      <td>0</td>\n",
              "      <td>0</td>\n",
              "      <td>1</td>\n",
              "      <td>0</td>\n",
              "      <td>0</td>\n",
              "      <td>0</td>\n",
              "      <td>0</td>\n",
              "      <td>0</td>\n",
              "      <td>0</td>\n",
              "      <td>0</td>\n",
              "      <td>0</td>\n",
              "      <td>0</td>\n",
              "      <td>0</td>\n",
              "      <td>0</td>\n",
              "      <td>0</td>\n",
              "      <td>0</td>\n",
              "      <td>0</td>\n",
              "      <td>0</td>\n",
              "      <td>...</td>\n",
              "      <td>0</td>\n",
              "      <td>0</td>\n",
              "      <td>0</td>\n",
              "      <td>0</td>\n",
              "      <td>0</td>\n",
              "      <td>0</td>\n",
              "      <td>0</td>\n",
              "      <td>0</td>\n",
              "      <td>1</td>\n",
              "      <td>0</td>\n",
              "      <td>0</td>\n",
              "      <td>0</td>\n",
              "      <td>0</td>\n",
              "      <td>0</td>\n",
              "      <td>0</td>\n",
              "      <td>0</td>\n",
              "      <td>0</td>\n",
              "      <td>0</td>\n",
              "      <td>0</td>\n",
              "      <td>0</td>\n",
              "      <td>0</td>\n",
              "      <td>0</td>\n",
              "      <td>0</td>\n",
              "      <td>0</td>\n",
              "      <td>0</td>\n",
              "      <td>0</td>\n",
              "      <td>0</td>\n",
              "      <td>0</td>\n",
              "      <td>0</td>\n",
              "      <td>0</td>\n",
              "      <td>0</td>\n",
              "      <td>0</td>\n",
              "      <td>0</td>\n",
              "      <td>0</td>\n",
              "      <td>0</td>\n",
              "      <td>0</td>\n",
              "      <td>0</td>\n",
              "      <td>0</td>\n",
              "      <td>0</td>\n",
              "      <td>1</td>\n",
              "    </tr>\n",
              "    <tr>\n",
              "      <th>3</th>\n",
              "      <td>42.0</td>\n",
              "      <td>0</td>\n",
              "      <td>2011</td>\n",
              "      <td>2012</td>\n",
              "      <td>-2.449294e-16</td>\n",
              "      <td>1.000000e+00</td>\n",
              "      <td>0.848644</td>\n",
              "      <td>0.528964</td>\n",
              "      <td>-1.000000e+00</td>\n",
              "      <td>-1.836970e-16</td>\n",
              "      <td>0.998717</td>\n",
              "      <td>-0.050649</td>\n",
              "      <td>0</td>\n",
              "      <td>1</td>\n",
              "      <td>0</td>\n",
              "      <td>0</td>\n",
              "      <td>0</td>\n",
              "      <td>1</td>\n",
              "      <td>0</td>\n",
              "      <td>0</td>\n",
              "      <td>0</td>\n",
              "      <td>0</td>\n",
              "      <td>0</td>\n",
              "      <td>0</td>\n",
              "      <td>1</td>\n",
              "      <td>0</td>\n",
              "      <td>0</td>\n",
              "      <td>0</td>\n",
              "      <td>0</td>\n",
              "      <td>0</td>\n",
              "      <td>0</td>\n",
              "      <td>0</td>\n",
              "      <td>0</td>\n",
              "      <td>0</td>\n",
              "      <td>0</td>\n",
              "      <td>0</td>\n",
              "      <td>0</td>\n",
              "      <td>0</td>\n",
              "      <td>0</td>\n",
              "      <td>0</td>\n",
              "      <td>...</td>\n",
              "      <td>0</td>\n",
              "      <td>0</td>\n",
              "      <td>0</td>\n",
              "      <td>0</td>\n",
              "      <td>1</td>\n",
              "      <td>0</td>\n",
              "      <td>0</td>\n",
              "      <td>0</td>\n",
              "      <td>0</td>\n",
              "      <td>0</td>\n",
              "      <td>0</td>\n",
              "      <td>0</td>\n",
              "      <td>0</td>\n",
              "      <td>0</td>\n",
              "      <td>0</td>\n",
              "      <td>0</td>\n",
              "      <td>0</td>\n",
              "      <td>0</td>\n",
              "      <td>0</td>\n",
              "      <td>0</td>\n",
              "      <td>0</td>\n",
              "      <td>0</td>\n",
              "      <td>0</td>\n",
              "      <td>0</td>\n",
              "      <td>0</td>\n",
              "      <td>0</td>\n",
              "      <td>0</td>\n",
              "      <td>0</td>\n",
              "      <td>0</td>\n",
              "      <td>0</td>\n",
              "      <td>0</td>\n",
              "      <td>0</td>\n",
              "      <td>0</td>\n",
              "      <td>0</td>\n",
              "      <td>0</td>\n",
              "      <td>0</td>\n",
              "      <td>0</td>\n",
              "      <td>0</td>\n",
              "      <td>0</td>\n",
              "      <td>2</td>\n",
              "    </tr>\n",
              "    <tr>\n",
              "      <th>4</th>\n",
              "      <td>41.0</td>\n",
              "      <td>0</td>\n",
              "      <td>2010</td>\n",
              "      <td>2010</td>\n",
              "      <td>-1.000000e+00</td>\n",
              "      <td>-1.836970e-16</td>\n",
              "      <td>0.299363</td>\n",
              "      <td>-0.954139</td>\n",
              "      <td>8.660254e-01</td>\n",
              "      <td>5.000000e-01</td>\n",
              "      <td>-0.485302</td>\n",
              "      <td>-0.874347</td>\n",
              "      <td>1</td>\n",
              "      <td>0</td>\n",
              "      <td>0</td>\n",
              "      <td>0</td>\n",
              "      <td>1</td>\n",
              "      <td>0</td>\n",
              "      <td>0</td>\n",
              "      <td>0</td>\n",
              "      <td>0</td>\n",
              "      <td>0</td>\n",
              "      <td>0</td>\n",
              "      <td>0</td>\n",
              "      <td>1</td>\n",
              "      <td>0</td>\n",
              "      <td>0</td>\n",
              "      <td>0</td>\n",
              "      <td>0</td>\n",
              "      <td>0</td>\n",
              "      <td>0</td>\n",
              "      <td>0</td>\n",
              "      <td>0</td>\n",
              "      <td>0</td>\n",
              "      <td>0</td>\n",
              "      <td>0</td>\n",
              "      <td>0</td>\n",
              "      <td>0</td>\n",
              "      <td>0</td>\n",
              "      <td>0</td>\n",
              "      <td>...</td>\n",
              "      <td>0</td>\n",
              "      <td>0</td>\n",
              "      <td>0</td>\n",
              "      <td>0</td>\n",
              "      <td>0</td>\n",
              "      <td>0</td>\n",
              "      <td>0</td>\n",
              "      <td>0</td>\n",
              "      <td>0</td>\n",
              "      <td>0</td>\n",
              "      <td>0</td>\n",
              "      <td>0</td>\n",
              "      <td>0</td>\n",
              "      <td>0</td>\n",
              "      <td>0</td>\n",
              "      <td>0</td>\n",
              "      <td>0</td>\n",
              "      <td>0</td>\n",
              "      <td>0</td>\n",
              "      <td>0</td>\n",
              "      <td>0</td>\n",
              "      <td>0</td>\n",
              "      <td>0</td>\n",
              "      <td>0</td>\n",
              "      <td>0</td>\n",
              "      <td>0</td>\n",
              "      <td>0</td>\n",
              "      <td>0</td>\n",
              "      <td>0</td>\n",
              "      <td>0</td>\n",
              "      <td>0</td>\n",
              "      <td>0</td>\n",
              "      <td>0</td>\n",
              "      <td>0</td>\n",
              "      <td>0</td>\n",
              "      <td>0</td>\n",
              "      <td>0</td>\n",
              "      <td>0</td>\n",
              "      <td>0</td>\n",
              "      <td>1</td>\n",
              "    </tr>\n",
              "    <tr>\n",
              "      <th>...</th>\n",
              "      <td>...</td>\n",
              "      <td>...</td>\n",
              "      <td>...</td>\n",
              "      <td>...</td>\n",
              "      <td>...</td>\n",
              "      <td>...</td>\n",
              "      <td>...</td>\n",
              "      <td>...</td>\n",
              "      <td>...</td>\n",
              "      <td>...</td>\n",
              "      <td>...</td>\n",
              "      <td>...</td>\n",
              "      <td>...</td>\n",
              "      <td>...</td>\n",
              "      <td>...</td>\n",
              "      <td>...</td>\n",
              "      <td>...</td>\n",
              "      <td>...</td>\n",
              "      <td>...</td>\n",
              "      <td>...</td>\n",
              "      <td>...</td>\n",
              "      <td>...</td>\n",
              "      <td>...</td>\n",
              "      <td>...</td>\n",
              "      <td>...</td>\n",
              "      <td>...</td>\n",
              "      <td>...</td>\n",
              "      <td>...</td>\n",
              "      <td>...</td>\n",
              "      <td>...</td>\n",
              "      <td>...</td>\n",
              "      <td>...</td>\n",
              "      <td>...</td>\n",
              "      <td>...</td>\n",
              "      <td>...</td>\n",
              "      <td>...</td>\n",
              "      <td>...</td>\n",
              "      <td>...</td>\n",
              "      <td>...</td>\n",
              "      <td>...</td>\n",
              "      <td>...</td>\n",
              "      <td>...</td>\n",
              "      <td>...</td>\n",
              "      <td>...</td>\n",
              "      <td>...</td>\n",
              "      <td>...</td>\n",
              "      <td>...</td>\n",
              "      <td>...</td>\n",
              "      <td>...</td>\n",
              "      <td>...</td>\n",
              "      <td>...</td>\n",
              "      <td>...</td>\n",
              "      <td>...</td>\n",
              "      <td>...</td>\n",
              "      <td>...</td>\n",
              "      <td>...</td>\n",
              "      <td>...</td>\n",
              "      <td>...</td>\n",
              "      <td>...</td>\n",
              "      <td>...</td>\n",
              "      <td>...</td>\n",
              "      <td>...</td>\n",
              "      <td>...</td>\n",
              "      <td>...</td>\n",
              "      <td>...</td>\n",
              "      <td>...</td>\n",
              "      <td>...</td>\n",
              "      <td>...</td>\n",
              "      <td>...</td>\n",
              "      <td>...</td>\n",
              "      <td>...</td>\n",
              "      <td>...</td>\n",
              "      <td>...</td>\n",
              "      <td>...</td>\n",
              "      <td>...</td>\n",
              "      <td>...</td>\n",
              "      <td>...</td>\n",
              "      <td>...</td>\n",
              "      <td>...</td>\n",
              "      <td>...</td>\n",
              "      <td>...</td>\n",
              "    </tr>\n",
              "    <tr>\n",
              "      <th>332132</th>\n",
              "      <td>52.0</td>\n",
              "      <td>0</td>\n",
              "      <td>2013</td>\n",
              "      <td>2013</td>\n",
              "      <td>8.660254e-01</td>\n",
              "      <td>-5.000000e-01</td>\n",
              "      <td>-0.988468</td>\n",
              "      <td>0.151428</td>\n",
              "      <td>8.660254e-01</td>\n",
              "      <td>-5.000000e-01</td>\n",
              "      <td>-0.937752</td>\n",
              "      <td>0.347305</td>\n",
              "      <td>0</td>\n",
              "      <td>1</td>\n",
              "      <td>0</td>\n",
              "      <td>0</td>\n",
              "      <td>0</td>\n",
              "      <td>1</td>\n",
              "      <td>0</td>\n",
              "      <td>0</td>\n",
              "      <td>0</td>\n",
              "      <td>0</td>\n",
              "      <td>0</td>\n",
              "      <td>0</td>\n",
              "      <td>1</td>\n",
              "      <td>0</td>\n",
              "      <td>0</td>\n",
              "      <td>0</td>\n",
              "      <td>0</td>\n",
              "      <td>0</td>\n",
              "      <td>0</td>\n",
              "      <td>0</td>\n",
              "      <td>0</td>\n",
              "      <td>0</td>\n",
              "      <td>0</td>\n",
              "      <td>0</td>\n",
              "      <td>0</td>\n",
              "      <td>0</td>\n",
              "      <td>0</td>\n",
              "      <td>0</td>\n",
              "      <td>...</td>\n",
              "      <td>0</td>\n",
              "      <td>0</td>\n",
              "      <td>0</td>\n",
              "      <td>0</td>\n",
              "      <td>1</td>\n",
              "      <td>0</td>\n",
              "      <td>0</td>\n",
              "      <td>0</td>\n",
              "      <td>0</td>\n",
              "      <td>0</td>\n",
              "      <td>0</td>\n",
              "      <td>0</td>\n",
              "      <td>0</td>\n",
              "      <td>0</td>\n",
              "      <td>0</td>\n",
              "      <td>0</td>\n",
              "      <td>0</td>\n",
              "      <td>0</td>\n",
              "      <td>0</td>\n",
              "      <td>0</td>\n",
              "      <td>0</td>\n",
              "      <td>0</td>\n",
              "      <td>0</td>\n",
              "      <td>0</td>\n",
              "      <td>0</td>\n",
              "      <td>0</td>\n",
              "      <td>0</td>\n",
              "      <td>0</td>\n",
              "      <td>0</td>\n",
              "      <td>0</td>\n",
              "      <td>0</td>\n",
              "      <td>0</td>\n",
              "      <td>0</td>\n",
              "      <td>0</td>\n",
              "      <td>0</td>\n",
              "      <td>0</td>\n",
              "      <td>0</td>\n",
              "      <td>0</td>\n",
              "      <td>0</td>\n",
              "      <td>11</td>\n",
              "    </tr>\n",
              "    <tr>\n",
              "      <th>332133</th>\n",
              "      <td>34.0</td>\n",
              "      <td>2</td>\n",
              "      <td>2011</td>\n",
              "      <td>2012</td>\n",
              "      <td>-2.449294e-16</td>\n",
              "      <td>1.000000e+00</td>\n",
              "      <td>0.571268</td>\n",
              "      <td>0.820763</td>\n",
              "      <td>8.660254e-01</td>\n",
              "      <td>5.000000e-01</td>\n",
              "      <td>0.201299</td>\n",
              "      <td>0.979530</td>\n",
              "      <td>1</td>\n",
              "      <td>0</td>\n",
              "      <td>0</td>\n",
              "      <td>0</td>\n",
              "      <td>1</td>\n",
              "      <td>0</td>\n",
              "      <td>0</td>\n",
              "      <td>0</td>\n",
              "      <td>0</td>\n",
              "      <td>0</td>\n",
              "      <td>0</td>\n",
              "      <td>0</td>\n",
              "      <td>1</td>\n",
              "      <td>0</td>\n",
              "      <td>0</td>\n",
              "      <td>0</td>\n",
              "      <td>0</td>\n",
              "      <td>0</td>\n",
              "      <td>0</td>\n",
              "      <td>0</td>\n",
              "      <td>0</td>\n",
              "      <td>0</td>\n",
              "      <td>0</td>\n",
              "      <td>0</td>\n",
              "      <td>0</td>\n",
              "      <td>0</td>\n",
              "      <td>0</td>\n",
              "      <td>0</td>\n",
              "      <td>...</td>\n",
              "      <td>0</td>\n",
              "      <td>0</td>\n",
              "      <td>0</td>\n",
              "      <td>0</td>\n",
              "      <td>0</td>\n",
              "      <td>0</td>\n",
              "      <td>0</td>\n",
              "      <td>0</td>\n",
              "      <td>1</td>\n",
              "      <td>0</td>\n",
              "      <td>0</td>\n",
              "      <td>0</td>\n",
              "      <td>0</td>\n",
              "      <td>0</td>\n",
              "      <td>0</td>\n",
              "      <td>0</td>\n",
              "      <td>0</td>\n",
              "      <td>0</td>\n",
              "      <td>0</td>\n",
              "      <td>0</td>\n",
              "      <td>0</td>\n",
              "      <td>0</td>\n",
              "      <td>0</td>\n",
              "      <td>0</td>\n",
              "      <td>0</td>\n",
              "      <td>0</td>\n",
              "      <td>0</td>\n",
              "      <td>0</td>\n",
              "      <td>0</td>\n",
              "      <td>0</td>\n",
              "      <td>0</td>\n",
              "      <td>0</td>\n",
              "      <td>0</td>\n",
              "      <td>0</td>\n",
              "      <td>0</td>\n",
              "      <td>0</td>\n",
              "      <td>0</td>\n",
              "      <td>0</td>\n",
              "      <td>0</td>\n",
              "      <td>11</td>\n",
              "    </tr>\n",
              "    <tr>\n",
              "      <th>332134</th>\n",
              "      <td>29.0</td>\n",
              "      <td>0</td>\n",
              "      <td>2013</td>\n",
              "      <td>2014</td>\n",
              "      <td>-8.660254e-01</td>\n",
              "      <td>-5.000000e-01</td>\n",
              "      <td>0.848644</td>\n",
              "      <td>0.528964</td>\n",
              "      <td>5.000000e-01</td>\n",
              "      <td>8.660254e-01</td>\n",
              "      <td>-0.790776</td>\n",
              "      <td>-0.612106</td>\n",
              "      <td>0</td>\n",
              "      <td>0</td>\n",
              "      <td>1</td>\n",
              "      <td>0</td>\n",
              "      <td>0</td>\n",
              "      <td>1</td>\n",
              "      <td>0</td>\n",
              "      <td>0</td>\n",
              "      <td>0</td>\n",
              "      <td>0</td>\n",
              "      <td>0</td>\n",
              "      <td>0</td>\n",
              "      <td>1</td>\n",
              "      <td>0</td>\n",
              "      <td>0</td>\n",
              "      <td>0</td>\n",
              "      <td>0</td>\n",
              "      <td>0</td>\n",
              "      <td>0</td>\n",
              "      <td>0</td>\n",
              "      <td>0</td>\n",
              "      <td>0</td>\n",
              "      <td>0</td>\n",
              "      <td>0</td>\n",
              "      <td>0</td>\n",
              "      <td>0</td>\n",
              "      <td>0</td>\n",
              "      <td>0</td>\n",
              "      <td>...</td>\n",
              "      <td>0</td>\n",
              "      <td>0</td>\n",
              "      <td>0</td>\n",
              "      <td>0</td>\n",
              "      <td>0</td>\n",
              "      <td>0</td>\n",
              "      <td>0</td>\n",
              "      <td>0</td>\n",
              "      <td>0</td>\n",
              "      <td>0</td>\n",
              "      <td>0</td>\n",
              "      <td>0</td>\n",
              "      <td>0</td>\n",
              "      <td>0</td>\n",
              "      <td>0</td>\n",
              "      <td>0</td>\n",
              "      <td>0</td>\n",
              "      <td>0</td>\n",
              "      <td>0</td>\n",
              "      <td>0</td>\n",
              "      <td>0</td>\n",
              "      <td>0</td>\n",
              "      <td>0</td>\n",
              "      <td>0</td>\n",
              "      <td>0</td>\n",
              "      <td>0</td>\n",
              "      <td>0</td>\n",
              "      <td>0</td>\n",
              "      <td>1</td>\n",
              "      <td>0</td>\n",
              "      <td>0</td>\n",
              "      <td>0</td>\n",
              "      <td>0</td>\n",
              "      <td>0</td>\n",
              "      <td>0</td>\n",
              "      <td>0</td>\n",
              "      <td>0</td>\n",
              "      <td>0</td>\n",
              "      <td>0</td>\n",
              "      <td>11</td>\n",
              "    </tr>\n",
              "    <tr>\n",
              "      <th>332135</th>\n",
              "      <td>34.0</td>\n",
              "      <td>2</td>\n",
              "      <td>2012</td>\n",
              "      <td>2012</td>\n",
              "      <td>5.000000e-01</td>\n",
              "      <td>8.660254e-01</td>\n",
              "      <td>0.937752</td>\n",
              "      <td>0.347305</td>\n",
              "      <td>5.000000e-01</td>\n",
              "      <td>8.660254e-01</td>\n",
              "      <td>0.937752</td>\n",
              "      <td>0.347305</td>\n",
              "      <td>1</td>\n",
              "      <td>0</td>\n",
              "      <td>0</td>\n",
              "      <td>0</td>\n",
              "      <td>1</td>\n",
              "      <td>0</td>\n",
              "      <td>0</td>\n",
              "      <td>0</td>\n",
              "      <td>0</td>\n",
              "      <td>0</td>\n",
              "      <td>0</td>\n",
              "      <td>0</td>\n",
              "      <td>1</td>\n",
              "      <td>0</td>\n",
              "      <td>0</td>\n",
              "      <td>0</td>\n",
              "      <td>0</td>\n",
              "      <td>0</td>\n",
              "      <td>0</td>\n",
              "      <td>0</td>\n",
              "      <td>0</td>\n",
              "      <td>0</td>\n",
              "      <td>0</td>\n",
              "      <td>0</td>\n",
              "      <td>0</td>\n",
              "      <td>0</td>\n",
              "      <td>0</td>\n",
              "      <td>0</td>\n",
              "      <td>...</td>\n",
              "      <td>0</td>\n",
              "      <td>0</td>\n",
              "      <td>0</td>\n",
              "      <td>0</td>\n",
              "      <td>0</td>\n",
              "      <td>0</td>\n",
              "      <td>0</td>\n",
              "      <td>0</td>\n",
              "      <td>0</td>\n",
              "      <td>0</td>\n",
              "      <td>0</td>\n",
              "      <td>0</td>\n",
              "      <td>0</td>\n",
              "      <td>0</td>\n",
              "      <td>0</td>\n",
              "      <td>0</td>\n",
              "      <td>0</td>\n",
              "      <td>0</td>\n",
              "      <td>0</td>\n",
              "      <td>0</td>\n",
              "      <td>0</td>\n",
              "      <td>0</td>\n",
              "      <td>0</td>\n",
              "      <td>0</td>\n",
              "      <td>0</td>\n",
              "      <td>0</td>\n",
              "      <td>0</td>\n",
              "      <td>0</td>\n",
              "      <td>0</td>\n",
              "      <td>0</td>\n",
              "      <td>0</td>\n",
              "      <td>0</td>\n",
              "      <td>0</td>\n",
              "      <td>0</td>\n",
              "      <td>0</td>\n",
              "      <td>0</td>\n",
              "      <td>0</td>\n",
              "      <td>0</td>\n",
              "      <td>0</td>\n",
              "      <td>11</td>\n",
              "    </tr>\n",
              "    <tr>\n",
              "      <th>332136</th>\n",
              "      <td>38.0</td>\n",
              "      <td>0</td>\n",
              "      <td>2011</td>\n",
              "      <td>2011</td>\n",
              "      <td>-2.449294e-16</td>\n",
              "      <td>1.000000e+00</td>\n",
              "      <td>-0.651372</td>\n",
              "      <td>-0.758758</td>\n",
              "      <td>-2.449294e-16</td>\n",
              "      <td>1.000000e+00</td>\n",
              "      <td>-0.897805</td>\n",
              "      <td>-0.440394</td>\n",
              "      <td>0</td>\n",
              "      <td>1</td>\n",
              "      <td>0</td>\n",
              "      <td>0</td>\n",
              "      <td>0</td>\n",
              "      <td>1</td>\n",
              "      <td>0</td>\n",
              "      <td>0</td>\n",
              "      <td>0</td>\n",
              "      <td>0</td>\n",
              "      <td>0</td>\n",
              "      <td>0</td>\n",
              "      <td>1</td>\n",
              "      <td>0</td>\n",
              "      <td>0</td>\n",
              "      <td>0</td>\n",
              "      <td>0</td>\n",
              "      <td>0</td>\n",
              "      <td>0</td>\n",
              "      <td>0</td>\n",
              "      <td>0</td>\n",
              "      <td>0</td>\n",
              "      <td>0</td>\n",
              "      <td>0</td>\n",
              "      <td>0</td>\n",
              "      <td>0</td>\n",
              "      <td>0</td>\n",
              "      <td>0</td>\n",
              "      <td>...</td>\n",
              "      <td>0</td>\n",
              "      <td>0</td>\n",
              "      <td>0</td>\n",
              "      <td>0</td>\n",
              "      <td>1</td>\n",
              "      <td>0</td>\n",
              "      <td>0</td>\n",
              "      <td>0</td>\n",
              "      <td>0</td>\n",
              "      <td>0</td>\n",
              "      <td>0</td>\n",
              "      <td>0</td>\n",
              "      <td>0</td>\n",
              "      <td>0</td>\n",
              "      <td>0</td>\n",
              "      <td>0</td>\n",
              "      <td>0</td>\n",
              "      <td>0</td>\n",
              "      <td>0</td>\n",
              "      <td>0</td>\n",
              "      <td>0</td>\n",
              "      <td>0</td>\n",
              "      <td>0</td>\n",
              "      <td>0</td>\n",
              "      <td>0</td>\n",
              "      <td>0</td>\n",
              "      <td>0</td>\n",
              "      <td>0</td>\n",
              "      <td>0</td>\n",
              "      <td>0</td>\n",
              "      <td>0</td>\n",
              "      <td>0</td>\n",
              "      <td>0</td>\n",
              "      <td>0</td>\n",
              "      <td>0</td>\n",
              "      <td>0</td>\n",
              "      <td>0</td>\n",
              "      <td>0</td>\n",
              "      <td>0</td>\n",
              "      <td>11</td>\n",
              "    </tr>\n",
              "  </tbody>\n",
              "</table>\n",
              "<p>332137 rows × 135 columns</p>\n",
              "</div>"
            ],
            "text/plain": [
              "         age  signup_flow  ...  first_browser_wOSBrowser  country_destination\n",
              "0       34.0            0  ...                         0                    0\n",
              "1       38.0            0  ...                         0                    0\n",
              "2       56.0            3  ...                         0                    1\n",
              "3       42.0            0  ...                         0                    2\n",
              "4       41.0            0  ...                         0                    1\n",
              "...      ...          ...  ...                       ...                  ...\n",
              "332132  52.0            0  ...                         0                   11\n",
              "332133  34.0            2  ...                         0                   11\n",
              "332134  29.0            0  ...                         0                   11\n",
              "332135  34.0            2  ...                         0                   11\n",
              "332136  38.0            0  ...                         0                   11\n",
              "\n",
              "[332137 rows x 135 columns]"
            ]
          },
          "metadata": {
            "tags": []
          },
          "execution_count": 180
        }
      ]
    },
    {
      "cell_type": "code",
      "metadata": {
        "id": "a_ilEbJckFLt"
      },
      "source": [
        "x = new_df.drop(\"country_destination\", axis=1)\n",
        "y = new_df[\"country_destination\"]"
      ],
      "execution_count": null,
      "outputs": []
    },
    {
      "cell_type": "code",
      "metadata": {
        "colab": {
          "base_uri": "https://localhost:8080/",
          "height": 270
        },
        "id": "nJGjQAYaOASM",
        "outputId": "c40b31ba-f4dc-4876-8d24-4c9c601059af"
      },
      "source": [
        "x.head()"
      ],
      "execution_count": null,
      "outputs": [
        {
          "output_type": "execute_result",
          "data": {
            "text/html": [
              "<div>\n",
              "<style scoped>\n",
              "    .dataframe tbody tr th:only-of-type {\n",
              "        vertical-align: middle;\n",
              "    }\n",
              "\n",
              "    .dataframe tbody tr th {\n",
              "        vertical-align: top;\n",
              "    }\n",
              "\n",
              "    .dataframe thead th {\n",
              "        text-align: right;\n",
              "    }\n",
              "</style>\n",
              "<table border=\"1\" class=\"dataframe\">\n",
              "  <thead>\n",
              "    <tr style=\"text-align: right;\">\n",
              "      <th></th>\n",
              "      <th>age</th>\n",
              "      <th>signup_flow</th>\n",
              "      <th>account_created_year</th>\n",
              "      <th>first_booking_year</th>\n",
              "      <th>account_created_month_sin</th>\n",
              "      <th>account_created_month_cos</th>\n",
              "      <th>account_created_day_sin</th>\n",
              "      <th>account_created_day_cos</th>\n",
              "      <th>first_booking_month_sin</th>\n",
              "      <th>first_booking_month_cos</th>\n",
              "      <th>first_booking_day_sin</th>\n",
              "      <th>first_booking_day_cos</th>\n",
              "      <th>gender_-unknown-</th>\n",
              "      <th>gender_FEMALE</th>\n",
              "      <th>gender_MALE</th>\n",
              "      <th>gender_OTHER</th>\n",
              "      <th>signup_method_basic</th>\n",
              "      <th>signup_method_facebook</th>\n",
              "      <th>signup_method_google</th>\n",
              "      <th>language_ca</th>\n",
              "      <th>language_cs</th>\n",
              "      <th>language_da</th>\n",
              "      <th>language_de</th>\n",
              "      <th>language_el</th>\n",
              "      <th>language_en</th>\n",
              "      <th>language_es</th>\n",
              "      <th>language_fi</th>\n",
              "      <th>language_fr</th>\n",
              "      <th>language_hr</th>\n",
              "      <th>language_hu</th>\n",
              "      <th>language_id</th>\n",
              "      <th>language_is</th>\n",
              "      <th>language_it</th>\n",
              "      <th>language_ja</th>\n",
              "      <th>language_ko</th>\n",
              "      <th>language_nl</th>\n",
              "      <th>language_no</th>\n",
              "      <th>language_pl</th>\n",
              "      <th>language_pt</th>\n",
              "      <th>language_ru</th>\n",
              "      <th>...</th>\n",
              "      <th>first_browser_Comodo Dragon</th>\n",
              "      <th>first_browser_Conkeror</th>\n",
              "      <th>first_browser_CoolNovo</th>\n",
              "      <th>first_browser_Crazy Browser</th>\n",
              "      <th>first_browser_Epic</th>\n",
              "      <th>first_browser_Firefox</th>\n",
              "      <th>first_browser_Flock</th>\n",
              "      <th>first_browser_Google Earth</th>\n",
              "      <th>first_browser_Googlebot</th>\n",
              "      <th>first_browser_IE</th>\n",
              "      <th>first_browser_IE Mobile</th>\n",
              "      <th>first_browser_IceDragon</th>\n",
              "      <th>first_browser_IceWeasel</th>\n",
              "      <th>first_browser_Iron</th>\n",
              "      <th>first_browser_Kindle Browser</th>\n",
              "      <th>first_browser_Maxthon</th>\n",
              "      <th>first_browser_Mobile Firefox</th>\n",
              "      <th>first_browser_Mobile Safari</th>\n",
              "      <th>first_browser_Mozilla</th>\n",
              "      <th>first_browser_NetNewsWire</th>\n",
              "      <th>first_browser_OmniWeb</th>\n",
              "      <th>first_browser_Opera</th>\n",
              "      <th>first_browser_Opera Mini</th>\n",
              "      <th>first_browser_Opera Mobile</th>\n",
              "      <th>first_browser_Outlook 2007</th>\n",
              "      <th>first_browser_PS Vita browser</th>\n",
              "      <th>first_browser_Pale Moon</th>\n",
              "      <th>first_browser_Palm Pre web browser</th>\n",
              "      <th>first_browser_RockMelt</th>\n",
              "      <th>first_browser_Safari</th>\n",
              "      <th>first_browser_SeaMonkey</th>\n",
              "      <th>first_browser_Silk</th>\n",
              "      <th>first_browser_SiteKiosk</th>\n",
              "      <th>first_browser_SlimBrowser</th>\n",
              "      <th>first_browser_Sogou Explorer</th>\n",
              "      <th>first_browser_Stainless</th>\n",
              "      <th>first_browser_TenFourFox</th>\n",
              "      <th>first_browser_TheWorld Browser</th>\n",
              "      <th>first_browser_Yandex.Browser</th>\n",
              "      <th>first_browser_wOSBrowser</th>\n",
              "    </tr>\n",
              "  </thead>\n",
              "  <tbody>\n",
              "    <tr>\n",
              "      <th>0</th>\n",
              "      <td>34.0</td>\n",
              "      <td>0</td>\n",
              "      <td>2010</td>\n",
              "      <td>2000</td>\n",
              "      <td>1.224647e-16</td>\n",
              "      <td>-1.000000e+00</td>\n",
              "      <td>-0.571268</td>\n",
              "      <td>0.820763</td>\n",
              "      <td>0.500000</td>\n",
              "      <td>8.660254e-01</td>\n",
              "      <td>0.201299</td>\n",
              "      <td>0.979530</td>\n",
              "      <td>1</td>\n",
              "      <td>0</td>\n",
              "      <td>0</td>\n",
              "      <td>0</td>\n",
              "      <td>0</td>\n",
              "      <td>1</td>\n",
              "      <td>0</td>\n",
              "      <td>0</td>\n",
              "      <td>0</td>\n",
              "      <td>0</td>\n",
              "      <td>0</td>\n",
              "      <td>0</td>\n",
              "      <td>1</td>\n",
              "      <td>0</td>\n",
              "      <td>0</td>\n",
              "      <td>0</td>\n",
              "      <td>0</td>\n",
              "      <td>0</td>\n",
              "      <td>0</td>\n",
              "      <td>0</td>\n",
              "      <td>0</td>\n",
              "      <td>0</td>\n",
              "      <td>0</td>\n",
              "      <td>0</td>\n",
              "      <td>0</td>\n",
              "      <td>0</td>\n",
              "      <td>0</td>\n",
              "      <td>0</td>\n",
              "      <td>...</td>\n",
              "      <td>0</td>\n",
              "      <td>0</td>\n",
              "      <td>0</td>\n",
              "      <td>0</td>\n",
              "      <td>0</td>\n",
              "      <td>0</td>\n",
              "      <td>0</td>\n",
              "      <td>0</td>\n",
              "      <td>0</td>\n",
              "      <td>0</td>\n",
              "      <td>0</td>\n",
              "      <td>0</td>\n",
              "      <td>0</td>\n",
              "      <td>0</td>\n",
              "      <td>0</td>\n",
              "      <td>0</td>\n",
              "      <td>0</td>\n",
              "      <td>0</td>\n",
              "      <td>0</td>\n",
              "      <td>0</td>\n",
              "      <td>0</td>\n",
              "      <td>0</td>\n",
              "      <td>0</td>\n",
              "      <td>0</td>\n",
              "      <td>0</td>\n",
              "      <td>0</td>\n",
              "      <td>0</td>\n",
              "      <td>0</td>\n",
              "      <td>0</td>\n",
              "      <td>0</td>\n",
              "      <td>0</td>\n",
              "      <td>0</td>\n",
              "      <td>0</td>\n",
              "      <td>0</td>\n",
              "      <td>0</td>\n",
              "      <td>0</td>\n",
              "      <td>0</td>\n",
              "      <td>0</td>\n",
              "      <td>0</td>\n",
              "      <td>0</td>\n",
              "    </tr>\n",
              "    <tr>\n",
              "      <th>1</th>\n",
              "      <td>38.0</td>\n",
              "      <td>0</td>\n",
              "      <td>2011</td>\n",
              "      <td>2000</td>\n",
              "      <td>5.000000e-01</td>\n",
              "      <td>-8.660254e-01</td>\n",
              "      <td>-0.937752</td>\n",
              "      <td>0.347305</td>\n",
              "      <td>0.500000</td>\n",
              "      <td>8.660254e-01</td>\n",
              "      <td>0.201299</td>\n",
              "      <td>0.979530</td>\n",
              "      <td>0</td>\n",
              "      <td>0</td>\n",
              "      <td>1</td>\n",
              "      <td>0</td>\n",
              "      <td>0</td>\n",
              "      <td>1</td>\n",
              "      <td>0</td>\n",
              "      <td>0</td>\n",
              "      <td>0</td>\n",
              "      <td>0</td>\n",
              "      <td>0</td>\n",
              "      <td>0</td>\n",
              "      <td>1</td>\n",
              "      <td>0</td>\n",
              "      <td>0</td>\n",
              "      <td>0</td>\n",
              "      <td>0</td>\n",
              "      <td>0</td>\n",
              "      <td>0</td>\n",
              "      <td>0</td>\n",
              "      <td>0</td>\n",
              "      <td>0</td>\n",
              "      <td>0</td>\n",
              "      <td>0</td>\n",
              "      <td>0</td>\n",
              "      <td>0</td>\n",
              "      <td>0</td>\n",
              "      <td>0</td>\n",
              "      <td>...</td>\n",
              "      <td>0</td>\n",
              "      <td>0</td>\n",
              "      <td>0</td>\n",
              "      <td>0</td>\n",
              "      <td>0</td>\n",
              "      <td>0</td>\n",
              "      <td>0</td>\n",
              "      <td>0</td>\n",
              "      <td>0</td>\n",
              "      <td>0</td>\n",
              "      <td>0</td>\n",
              "      <td>0</td>\n",
              "      <td>0</td>\n",
              "      <td>0</td>\n",
              "      <td>0</td>\n",
              "      <td>0</td>\n",
              "      <td>0</td>\n",
              "      <td>0</td>\n",
              "      <td>0</td>\n",
              "      <td>0</td>\n",
              "      <td>0</td>\n",
              "      <td>0</td>\n",
              "      <td>0</td>\n",
              "      <td>0</td>\n",
              "      <td>0</td>\n",
              "      <td>0</td>\n",
              "      <td>0</td>\n",
              "      <td>0</td>\n",
              "      <td>0</td>\n",
              "      <td>0</td>\n",
              "      <td>0</td>\n",
              "      <td>0</td>\n",
              "      <td>0</td>\n",
              "      <td>0</td>\n",
              "      <td>0</td>\n",
              "      <td>0</td>\n",
              "      <td>0</td>\n",
              "      <td>0</td>\n",
              "      <td>0</td>\n",
              "      <td>0</td>\n",
              "    </tr>\n",
              "    <tr>\n",
              "      <th>2</th>\n",
              "      <td>56.0</td>\n",
              "      <td>3</td>\n",
              "      <td>2010</td>\n",
              "      <td>2010</td>\n",
              "      <td>-1.000000e+00</td>\n",
              "      <td>-1.836970e-16</td>\n",
              "      <td>-0.571268</td>\n",
              "      <td>0.820763</td>\n",
              "      <td>-0.866025</td>\n",
              "      <td>-5.000000e-01</td>\n",
              "      <td>0.394356</td>\n",
              "      <td>0.918958</td>\n",
              "      <td>0</td>\n",
              "      <td>1</td>\n",
              "      <td>0</td>\n",
              "      <td>0</td>\n",
              "      <td>1</td>\n",
              "      <td>0</td>\n",
              "      <td>0</td>\n",
              "      <td>0</td>\n",
              "      <td>0</td>\n",
              "      <td>0</td>\n",
              "      <td>0</td>\n",
              "      <td>0</td>\n",
              "      <td>1</td>\n",
              "      <td>0</td>\n",
              "      <td>0</td>\n",
              "      <td>0</td>\n",
              "      <td>0</td>\n",
              "      <td>0</td>\n",
              "      <td>0</td>\n",
              "      <td>0</td>\n",
              "      <td>0</td>\n",
              "      <td>0</td>\n",
              "      <td>0</td>\n",
              "      <td>0</td>\n",
              "      <td>0</td>\n",
              "      <td>0</td>\n",
              "      <td>0</td>\n",
              "      <td>0</td>\n",
              "      <td>...</td>\n",
              "      <td>0</td>\n",
              "      <td>0</td>\n",
              "      <td>0</td>\n",
              "      <td>0</td>\n",
              "      <td>0</td>\n",
              "      <td>0</td>\n",
              "      <td>0</td>\n",
              "      <td>0</td>\n",
              "      <td>0</td>\n",
              "      <td>1</td>\n",
              "      <td>0</td>\n",
              "      <td>0</td>\n",
              "      <td>0</td>\n",
              "      <td>0</td>\n",
              "      <td>0</td>\n",
              "      <td>0</td>\n",
              "      <td>0</td>\n",
              "      <td>0</td>\n",
              "      <td>0</td>\n",
              "      <td>0</td>\n",
              "      <td>0</td>\n",
              "      <td>0</td>\n",
              "      <td>0</td>\n",
              "      <td>0</td>\n",
              "      <td>0</td>\n",
              "      <td>0</td>\n",
              "      <td>0</td>\n",
              "      <td>0</td>\n",
              "      <td>0</td>\n",
              "      <td>0</td>\n",
              "      <td>0</td>\n",
              "      <td>0</td>\n",
              "      <td>0</td>\n",
              "      <td>0</td>\n",
              "      <td>0</td>\n",
              "      <td>0</td>\n",
              "      <td>0</td>\n",
              "      <td>0</td>\n",
              "      <td>0</td>\n",
              "      <td>0</td>\n",
              "    </tr>\n",
              "    <tr>\n",
              "      <th>3</th>\n",
              "      <td>42.0</td>\n",
              "      <td>0</td>\n",
              "      <td>2011</td>\n",
              "      <td>2012</td>\n",
              "      <td>-2.449294e-16</td>\n",
              "      <td>1.000000e+00</td>\n",
              "      <td>0.848644</td>\n",
              "      <td>0.528964</td>\n",
              "      <td>-1.000000</td>\n",
              "      <td>-1.836970e-16</td>\n",
              "      <td>0.998717</td>\n",
              "      <td>-0.050649</td>\n",
              "      <td>0</td>\n",
              "      <td>1</td>\n",
              "      <td>0</td>\n",
              "      <td>0</td>\n",
              "      <td>0</td>\n",
              "      <td>1</td>\n",
              "      <td>0</td>\n",
              "      <td>0</td>\n",
              "      <td>0</td>\n",
              "      <td>0</td>\n",
              "      <td>0</td>\n",
              "      <td>0</td>\n",
              "      <td>1</td>\n",
              "      <td>0</td>\n",
              "      <td>0</td>\n",
              "      <td>0</td>\n",
              "      <td>0</td>\n",
              "      <td>0</td>\n",
              "      <td>0</td>\n",
              "      <td>0</td>\n",
              "      <td>0</td>\n",
              "      <td>0</td>\n",
              "      <td>0</td>\n",
              "      <td>0</td>\n",
              "      <td>0</td>\n",
              "      <td>0</td>\n",
              "      <td>0</td>\n",
              "      <td>0</td>\n",
              "      <td>...</td>\n",
              "      <td>0</td>\n",
              "      <td>0</td>\n",
              "      <td>0</td>\n",
              "      <td>0</td>\n",
              "      <td>0</td>\n",
              "      <td>1</td>\n",
              "      <td>0</td>\n",
              "      <td>0</td>\n",
              "      <td>0</td>\n",
              "      <td>0</td>\n",
              "      <td>0</td>\n",
              "      <td>0</td>\n",
              "      <td>0</td>\n",
              "      <td>0</td>\n",
              "      <td>0</td>\n",
              "      <td>0</td>\n",
              "      <td>0</td>\n",
              "      <td>0</td>\n",
              "      <td>0</td>\n",
              "      <td>0</td>\n",
              "      <td>0</td>\n",
              "      <td>0</td>\n",
              "      <td>0</td>\n",
              "      <td>0</td>\n",
              "      <td>0</td>\n",
              "      <td>0</td>\n",
              "      <td>0</td>\n",
              "      <td>0</td>\n",
              "      <td>0</td>\n",
              "      <td>0</td>\n",
              "      <td>0</td>\n",
              "      <td>0</td>\n",
              "      <td>0</td>\n",
              "      <td>0</td>\n",
              "      <td>0</td>\n",
              "      <td>0</td>\n",
              "      <td>0</td>\n",
              "      <td>0</td>\n",
              "      <td>0</td>\n",
              "      <td>0</td>\n",
              "    </tr>\n",
              "    <tr>\n",
              "      <th>4</th>\n",
              "      <td>41.0</td>\n",
              "      <td>0</td>\n",
              "      <td>2010</td>\n",
              "      <td>2010</td>\n",
              "      <td>-1.000000e+00</td>\n",
              "      <td>-1.836970e-16</td>\n",
              "      <td>0.299363</td>\n",
              "      <td>-0.954139</td>\n",
              "      <td>0.866025</td>\n",
              "      <td>5.000000e-01</td>\n",
              "      <td>-0.485302</td>\n",
              "      <td>-0.874347</td>\n",
              "      <td>1</td>\n",
              "      <td>0</td>\n",
              "      <td>0</td>\n",
              "      <td>0</td>\n",
              "      <td>1</td>\n",
              "      <td>0</td>\n",
              "      <td>0</td>\n",
              "      <td>0</td>\n",
              "      <td>0</td>\n",
              "      <td>0</td>\n",
              "      <td>0</td>\n",
              "      <td>0</td>\n",
              "      <td>1</td>\n",
              "      <td>0</td>\n",
              "      <td>0</td>\n",
              "      <td>0</td>\n",
              "      <td>0</td>\n",
              "      <td>0</td>\n",
              "      <td>0</td>\n",
              "      <td>0</td>\n",
              "      <td>0</td>\n",
              "      <td>0</td>\n",
              "      <td>0</td>\n",
              "      <td>0</td>\n",
              "      <td>0</td>\n",
              "      <td>0</td>\n",
              "      <td>0</td>\n",
              "      <td>0</td>\n",
              "      <td>...</td>\n",
              "      <td>0</td>\n",
              "      <td>0</td>\n",
              "      <td>0</td>\n",
              "      <td>0</td>\n",
              "      <td>0</td>\n",
              "      <td>0</td>\n",
              "      <td>0</td>\n",
              "      <td>0</td>\n",
              "      <td>0</td>\n",
              "      <td>0</td>\n",
              "      <td>0</td>\n",
              "      <td>0</td>\n",
              "      <td>0</td>\n",
              "      <td>0</td>\n",
              "      <td>0</td>\n",
              "      <td>0</td>\n",
              "      <td>0</td>\n",
              "      <td>0</td>\n",
              "      <td>0</td>\n",
              "      <td>0</td>\n",
              "      <td>0</td>\n",
              "      <td>0</td>\n",
              "      <td>0</td>\n",
              "      <td>0</td>\n",
              "      <td>0</td>\n",
              "      <td>0</td>\n",
              "      <td>0</td>\n",
              "      <td>0</td>\n",
              "      <td>0</td>\n",
              "      <td>0</td>\n",
              "      <td>0</td>\n",
              "      <td>0</td>\n",
              "      <td>0</td>\n",
              "      <td>0</td>\n",
              "      <td>0</td>\n",
              "      <td>0</td>\n",
              "      <td>0</td>\n",
              "      <td>0</td>\n",
              "      <td>0</td>\n",
              "      <td>0</td>\n",
              "    </tr>\n",
              "  </tbody>\n",
              "</table>\n",
              "<p>5 rows × 134 columns</p>\n",
              "</div>"
            ],
            "text/plain": [
              "    age  signup_flow  ...  first_browser_Yandex.Browser  first_browser_wOSBrowser\n",
              "0  34.0            0  ...                             0                         0\n",
              "1  38.0            0  ...                             0                         0\n",
              "2  56.0            3  ...                             0                         0\n",
              "3  42.0            0  ...                             0                         0\n",
              "4  41.0            0  ...                             0                         0\n",
              "\n",
              "[5 rows x 134 columns]"
            ]
          },
          "metadata": {
            "tags": []
          },
          "execution_count": 182
        }
      ]
    },
    {
      "cell_type": "code",
      "metadata": {
        "colab": {
          "base_uri": "https://localhost:8080/"
        },
        "id": "REaoEP8wlAur",
        "outputId": "61525077-8c91-4e8f-fab8-e4d32e49c5e6"
      },
      "source": [
        "y"
      ],
      "execution_count": null,
      "outputs": [
        {
          "output_type": "execute_result",
          "data": {
            "text/plain": [
              "0          0\n",
              "1          0\n",
              "2          1\n",
              "3          2\n",
              "4          1\n",
              "          ..\n",
              "332132    11\n",
              "332133    11\n",
              "332134    11\n",
              "332135    11\n",
              "332136    11\n",
              "Name: country_destination, Length: 332137, dtype: int64"
            ]
          },
          "metadata": {
            "tags": []
          },
          "execution_count": 183
        }
      ]
    },
    {
      "cell_type": "markdown",
      "metadata": {
        "id": "xy4xtnBF16ES"
      },
      "source": [
        "* We'll train 3 different Classification models"
      ]
    },
    {
      "cell_type": "code",
      "metadata": {
        "id": "VbHKHkLlLoDt"
      },
      "source": [
        "x_train, x_test, y_train, y_test = train_test_split(x, y, test_size=0.2, stratify=y)"
      ],
      "execution_count": null,
      "outputs": []
    },
    {
      "cell_type": "code",
      "metadata": {
        "id": "pHX6_DYk1wO4"
      },
      "source": [
        "models = {\"Logistic Regression\": LogisticRegression(),\n",
        "          \"KNN\": KNeighborsClassifier(),\n",
        "          \"Random Forest\": RandomForestClassifier()}\n",
        "\n",
        "def fit_and_score(models, x_train, x_test, y_train, y_test):\n",
        "\n",
        "    np.random.seed(99)\n",
        "    model_scores = {}\n",
        "    for name, model in models.items():\n",
        "        model.fit(x_train, y_train)\n",
        "        model_scores[name] = model.score(x_test, y_test)\n",
        "    return model_scores"
      ],
      "execution_count": null,
      "outputs": []
    },
    {
      "cell_type": "code",
      "metadata": {
        "colab": {
          "base_uri": "https://localhost:8080/"
        },
        "id": "VZuZiPOG2CI4",
        "outputId": "e5e9c6f6-fd87-4d52-9037-c08d3d7853ad"
      },
      "source": [
        "model_scores = fit_and_score(models, x_train, x_test, y_train, y_test)\n",
        "model_scores"
      ],
      "execution_count": null,
      "outputs": [
        {
          "output_type": "execute_result",
          "data": {
            "text/plain": [
              "{'KNN': 0.8615192388751731,\n",
              " 'Logistic Regression': 0.44729632082856624,\n",
              " 'Random Forest': 0.9831697476967544}"
            ]
          },
          "metadata": {
            "tags": []
          },
          "execution_count": 186
        }
      ]
    },
    {
      "cell_type": "code",
      "metadata": {
        "colab": {
          "base_uri": "https://localhost:8080/",
          "height": 351
        },
        "id": "nG9KXBbZDBPt",
        "outputId": "71178ad8-5aa2-42d7-ba9b-952f0937e772"
      },
      "source": [
        "model_scores = {'KNN': 0.8615192388751731,\n",
        " 'Logistic Regression': 0.44729632082856624,\n",
        " 'Random Forest': 0.9831697476967544}\n",
        "\n",
        "model_compare = pd.DataFrame(model_scores, index=[\"accuracy\"])\n",
        "model_compare.T.plot.bar();"
      ],
      "execution_count": null,
      "outputs": [
        {
          "output_type": "display_data",
          "data": {
            "image/png": "[encoded data removed]",
            "text/plain": [
              "<Figure size 432x288 with 1 Axes>"
            ]
          },
          "metadata": {
            "tags": []
          }
        }
      ]
    },
    {
      "cell_type": "code",
      "metadata": {
        "colab": {
          "base_uri": "https://localhost:8080/"
        },
        "id": "Sat_76x02EpV",
        "outputId": "02373c2d-803c-4c4c-9034-c839bf064b68"
      },
      "source": [
        "rf = RandomForestClassifier()\n",
        "rf.fit(x_train, y_train)"
      ],
      "execution_count": null,
      "outputs": [
        {
          "output_type": "execute_result",
          "data": {
            "text/plain": [
              "RandomForestClassifier(bootstrap=True, ccp_alpha=0.0, class_weight=None,\n",
              "                       criterion='gini', max_depth=None, max_features='auto',\n",
              "                       max_leaf_nodes=None, max_samples=None,\n",
              "                       min_impurity_decrease=0.0, min_impurity_split=None,\n",
              "                       min_samples_leaf=1, min_samples_split=2,\n",
              "                       min_weight_fraction_leaf=0.0, n_estimators=100,\n",
              "                       n_jobs=None, oob_score=False, random_state=None,\n",
              "                       verbose=0, warm_start=False)"
            ]
          },
          "metadata": {
            "tags": []
          },
          "execution_count": 187
        }
      ]
    },
    {
      "cell_type": "code",
      "metadata": {
        "colab": {
          "base_uri": "https://localhost:8080/"
        },
        "id": "HMCiSQL8CouF",
        "outputId": "e7b58694-0f86-4722-dbe1-247c9a1646c5"
      },
      "source": [
        "rf.score(x_test, y_test)"
      ],
      "execution_count": null,
      "outputs": [
        {
          "output_type": "execute_result",
          "data": {
            "text/plain": [
              "0.9831998554826278"
            ]
          },
          "metadata": {
            "tags": []
          },
          "execution_count": 189
        }
      ]
    },
    {
      "cell_type": "code",
      "metadata": {
        "id": "wxDYO3f1Ct-m"
      },
      "source": [
        "y_preds = rf.predict(x_test)"
      ],
      "execution_count": null,
      "outputs": []
    },
    {
      "cell_type": "code",
      "metadata": {
        "colab": {
          "base_uri": "https://localhost:8080/"
        },
        "id": "pNSsqg-RC1l2",
        "outputId": "fd3ce13f-c650-43a9-a25b-03c82e05315c"
      },
      "source": [
        "print(classification_report(y_test, y_preds))"
      ],
      "execution_count": null,
      "outputs": [
        {
          "output_type": "stream",
          "text": [
            "              precision    recall  f1-score   support\n",
            "\n",
            "           0       1.00      1.00      1.00     19561\n",
            "           1       0.95      0.95      0.95     10173\n",
            "           2       0.95      0.90      0.92      4855\n",
            "           3       0.97      0.98      0.98      4073\n",
            "           4       0.99      1.00      1.00      3465\n",
            "           5       0.98      1.00      0.99      3616\n",
            "           6       0.98      1.00      0.99      3605\n",
            "           7       0.98      1.00      0.99      3694\n",
            "           8       1.00      1.00      1.00      3273\n",
            "           9       1.00      1.00      1.00      3360\n",
            "          10       0.99      1.00      1.00      3421\n",
            "          11       1.00      1.00      1.00      3332\n",
            "\n",
            "    accuracy                           0.98     66428\n",
            "   macro avg       0.98      0.99      0.98     66428\n",
            "weighted avg       0.98      0.98      0.98     66428\n",
            "\n"
          ],
          "name": "stdout"
        }
      ]
    },
    {
      "cell_type": "code",
      "metadata": {
        "colab": {
          "base_uri": "https://localhost:8080/"
        },
        "id": "wXl-dgerDLQ5",
        "outputId": "0e199a18-230b-4490-968a-0996ab5756fb"
      },
      "source": [
        "cv_acc = cross_val_score(rf, x, y, cv=5, scoring=\"accuracy\")\n",
        "cv_acc = np.mean(cv_acc)\n",
        "cv_acc"
      ],
      "execution_count": null,
      "outputs": [
        {
          "output_type": "execute_result",
          "data": {
            "text/plain": [
              "0.8730704417607408"
            ]
          },
          "metadata": {
            "tags": []
          },
          "execution_count": 193
        }
      ]
    },
    {
      "cell_type": "code",
      "metadata": {
        "colab": {
          "base_uri": "https://localhost:8080/"
        },
        "id": "mqe2L6vIp97w",
        "outputId": "e183a2b9-151c-459a-beed-2d5af083022e"
      },
      "source": [
        "precision = precision_score(y_test,y_preds, average='weighted')\n",
        "precision"
      ],
      "execution_count": null,
      "outputs": [
        {
          "output_type": "execute_result",
          "data": {
            "text/plain": [
              "0.9830435963359392"
            ]
          },
          "metadata": {
            "tags": []
          },
          "execution_count": 194
        }
      ]
    },
    {
      "cell_type": "code",
      "metadata": {
        "colab": {
          "base_uri": "https://localhost:8080/"
        },
        "id": "NeeCji0KqKsV",
        "outputId": "cf45242c-0227-488c-8a15-6b0f746aca8c"
      },
      "source": [
        "recall = recall_score(y_test,y_preds, average='weighted')\n",
        "recall"
      ],
      "execution_count": null,
      "outputs": [
        {
          "output_type": "execute_result",
          "data": {
            "text/plain": [
              "0.9831998554826278"
            ]
          },
          "metadata": {
            "tags": []
          },
          "execution_count": 195
        }
      ]
    },
    {
      "cell_type": "code",
      "metadata": {
        "colab": {
          "base_uri": "https://localhost:8080/"
        },
        "id": "-P-Z5jXXqQs-",
        "outputId": "09521ac9-a635-4e5d-8ad4-efc6d526f7bd"
      },
      "source": [
        "f1 = f1_score(y_test, y_preds, average='weighted')\n",
        "f1"
      ],
      "execution_count": null,
      "outputs": [
        {
          "output_type": "execute_result",
          "data": {
            "text/plain": [
              "0.9830670768564296"
            ]
          },
          "metadata": {
            "tags": []
          },
          "execution_count": 196
        }
      ]
    },
    {
      "cell_type": "markdown",
      "metadata": {
        "id": "7o6aRm28BgNu"
      },
      "source": [
        "## Now Trying Ensembling and Advanced Tree Based Models"
      ]
    },
    {
      "cell_type": "code",
      "metadata": {
        "id": "951nylRdBgsG"
      },
      "source": [
        "x = new_df.drop(\"country_destination\", axis=1)\n",
        "y = new_df[\"country_destination\"]"
      ],
      "execution_count": null,
      "outputs": []
    },
    {
      "cell_type": "code",
      "metadata": {
        "id": "TpjLWwz1BuKK"
      },
      "source": [
        "x_train, x_test, y_train, y_test = train_test_split(x, y, test_size=0.18, stratify=y)"
      ],
      "execution_count": null,
      "outputs": []
    },
    {
      "cell_type": "code",
      "metadata": {
        "id": "-3LrX5auZcgA"
      },
      "source": [
        "knn_grid = {\n",
        "        'n_neighbors': np.arange(99,1000,99),\n",
        "}"
      ],
      "execution_count": null,
      "outputs": []
    },
    {
      "cell_type": "markdown",
      "metadata": {
        "id": "KHeWNXHZXc-8"
      },
      "source": [
        "### RandomForest Classifier"
      ]
    },
    {
      "cell_type": "code",
      "metadata": {
        "id": "FNHwnRBcXhze"
      },
      "source": [
        "rf_grid = {\"n_estimators\": np.arange(100, 2000, 150),\n",
        "           \"max_depth\": np.arange(0, 21, 3),\n",
        "           \"min_samples_split\": np.arange(0, 21, 3),\n",
        "           \"min_samples_leaf\": np.arange(0, 21, 3)}"
      ],
      "execution_count": null,
      "outputs": []
    },
    {
      "cell_type": "code",
      "metadata": {
        "id": "e_uSXKC3bykr"
      },
      "source": [
        "np.random.seed(99)\n",
        "NFOLDS = 2\n",
        "kf = StratifiedKFold(n_splits= NFOLDS)"
      ],
      "execution_count": null,
      "outputs": []
    },
    {
      "cell_type": "code",
      "metadata": {
        "colab": {
          "base_uri": "https://localhost:8080/"
        },
        "id": "htnPp53TXiMp",
        "outputId": "ef5df489-ee75-46c4-b3da-81855f49a690"
      },
      "source": [
        "np.random.seed(99)\n",
        "\n",
        "fin_rs_rf = RandomizedSearchCV(RandomForestClassifier(),\n",
        "                           param_distributions=rf_grid,\n",
        "                           cv=kf.split(x, y),\n",
        "                           n_iter=300,\n",
        "                           verbose=72,\n",
        "                           n_jobs=-1)\n",
        "\n",
        "fin_rs_rf.fit(x, y)\n",
        "fin_rs_rf.best_params_"
      ],
      "execution_count": null,
      "outputs": [
        {
          "output_type": "stream",
          "text": [
            "Fitting 2 folds for each of 300 candidates, totalling 600 fits\n",
            "[Parallel(n_jobs=-1)]: Using backend LokyBackend with 2 concurrent workers.\n",
            "[Parallel(n_jobs=-1)]: Done   1 tasks      | elapsed:  5.0min\n",
            "[Parallel(n_jobs=-1)]: Done   2 tasks      | elapsed:  5.0min\n",
            "[Parallel(n_jobs=-1)]: Done   3 tasks      | elapsed:  5.1min\n",
            "[Parallel(n_jobs=-1)]: Done   4 tasks      | elapsed:  5.2min\n",
            "[Parallel(n_jobs=-1)]: Done   5 tasks      | elapsed:  7.2min\n",
            "[Parallel(n_jobs=-1)]: Done   6 tasks      | elapsed:  7.4min\n",
            "[Parallel(n_jobs=-1)]: Done   7 tasks      | elapsed: 12.7min\n",
            "[Parallel(n_jobs=-1)]: Done   8 tasks      | elapsed: 12.9min\n",
            "[Parallel(n_jobs=-1)]: Done   9 tasks      | elapsed: 14.6min\n",
            "[Parallel(n_jobs=-1)]: Done  10 tasks      | elapsed: 14.9min\n",
            "[Parallel(n_jobs=-1)]: Done  11 tasks      | elapsed: 15.8min\n",
            "[Parallel(n_jobs=-1)]: Done  12 tasks      | elapsed: 16.1min\n",
            "[Parallel(n_jobs=-1)]: Done  13 tasks      | elapsed: 16.4min\n",
            "[Parallel(n_jobs=-1)]: Done  14 tasks      | elapsed: 16.8min\n",
            "[Parallel(n_jobs=-1)]: Done  15 tasks      | elapsed: 17.9min\n",
            "[Parallel(n_jobs=-1)]: Done  16 tasks      | elapsed: 18.1min\n",
            "[Parallel(n_jobs=-1)]: Done  17 tasks      | elapsed: 18.3min\n",
            "[Parallel(n_jobs=-1)]: Done  18 tasks      | elapsed: 18.3min\n",
            "[Parallel(n_jobs=-1)]: Done  19 tasks      | elapsed: 18.3min\n",
            "[Parallel(n_jobs=-1)]: Done  20 tasks      | elapsed: 18.4min\n",
            "[Parallel(n_jobs=-1)]: Done  21 tasks      | elapsed: 22.4min\n",
            "[Parallel(n_jobs=-1)]: Done  22 tasks      | elapsed: 22.4min\n",
            "[Parallel(n_jobs=-1)]: Done  23 tasks      | elapsed: 22.4min\n",
            "[Parallel(n_jobs=-1)]: Done  24 tasks      | elapsed: 22.4min\n",
            "[Parallel(n_jobs=-1)]: Done  25 tasks      | elapsed: 22.4min\n",
            "[Parallel(n_jobs=-1)]: Done  26 tasks      | elapsed: 22.4min\n",
            "[Parallel(n_jobs=-1)]: Done  27 tasks      | elapsed: 22.4min\n",
            "[Parallel(n_jobs=-1)]: Done  28 tasks      | elapsed: 22.5min\n",
            "[Parallel(n_jobs=-1)]: Done  29 tasks      | elapsed: 22.5min\n",
            "[Parallel(n_jobs=-1)]: Done  30 tasks      | elapsed: 22.5min\n",
            "[Parallel(n_jobs=-1)]: Done  31 tasks      | elapsed: 22.5min\n",
            "[Parallel(n_jobs=-1)]: Done  32 tasks      | elapsed: 22.5min\n",
            "[Parallel(n_jobs=-1)]: Done  33 tasks      | elapsed: 22.5min\n",
            "[Parallel(n_jobs=-1)]: Done  34 tasks      | elapsed: 22.5min\n",
            "[Parallel(n_jobs=-1)]: Done  35 tasks      | elapsed: 23.8min\n",
            "[Parallel(n_jobs=-1)]: Done  36 tasks      | elapsed: 23.8min\n",
            "[Parallel(n_jobs=-1)]: Done  37 tasks      | elapsed: 23.8min\n",
            "[Parallel(n_jobs=-1)]: Done  38 tasks      | elapsed: 23.9min\n",
            "[Parallel(n_jobs=-1)]: Done  39 tasks      | elapsed: 23.9min\n",
            "[Parallel(n_jobs=-1)]: Done  40 tasks      | elapsed: 23.9min\n",
            "[Parallel(n_jobs=-1)]: Done  41 tasks      | elapsed: 26.9min\n",
            "[Parallel(n_jobs=-1)]: Done  42 tasks      | elapsed: 26.9min\n",
            "[Parallel(n_jobs=-1)]: Done  43 tasks      | elapsed: 26.9min\n",
            "[Parallel(n_jobs=-1)]: Done  44 tasks      | elapsed: 26.9min\n",
            "[Parallel(n_jobs=-1)]: Done  45 tasks      | elapsed: 30.4min\n",
            "[Parallel(n_jobs=-1)]: Done  46 tasks      | elapsed: 30.4min\n",
            "[Parallel(n_jobs=-1)]: Done  47 tasks      | elapsed: 30.4min\n",
            "[Parallel(n_jobs=-1)]: Done  48 tasks      | elapsed: 30.5min\n",
            "[Parallel(n_jobs=-1)]: Done  49 tasks      | elapsed: 30.5min\n",
            "[Parallel(n_jobs=-1)]: Done  50 tasks      | elapsed: 30.5min\n",
            "[Parallel(n_jobs=-1)]: Done  51 tasks      | elapsed: 32.6min\n",
            "[Parallel(n_jobs=-1)]: Done  52 tasks      | elapsed: 32.6min\n",
            "[Parallel(n_jobs=-1)]: Done  53 tasks      | elapsed: 32.6min\n",
            "[Parallel(n_jobs=-1)]: Done  54 tasks      | elapsed: 32.6min\n",
            "[Parallel(n_jobs=-1)]: Done  55 tasks      | elapsed: 32.6min\n",
            "[Parallel(n_jobs=-1)]: Done  56 tasks      | elapsed: 32.7min\n",
            "[Parallel(n_jobs=-1)]: Done  57 tasks      | elapsed: 34.0min\n",
            "[Parallel(n_jobs=-1)]: Done  58 tasks      | elapsed: 34.1min\n",
            "[Parallel(n_jobs=-1)]: Done  59 tasks      | elapsed: 35.5min\n",
            "[Parallel(n_jobs=-1)]: Done  60 tasks      | elapsed: 35.6min\n",
            "[Parallel(n_jobs=-1)]: Done  61 tasks      | elapsed: 40.2min\n",
            "[Parallel(n_jobs=-1)]: Done  62 tasks      | elapsed: 40.4min\n",
            "[Parallel(n_jobs=-1)]: Done  63 tasks      | elapsed: 40.5min\n",
            "[Parallel(n_jobs=-1)]: Done  64 tasks      | elapsed: 40.5min\n",
            "[Parallel(n_jobs=-1)]: Done  65 tasks      | elapsed: 40.5min\n",
            "[Parallel(n_jobs=-1)]: Done  66 tasks      | elapsed: 40.6min\n",
            "[Parallel(n_jobs=-1)]: Done  67 tasks      | elapsed: 43.7min\n",
            "[Parallel(n_jobs=-1)]: Done  68 tasks      | elapsed: 44.0min\n",
            "[Parallel(n_jobs=-1)]: Done  69 tasks      | elapsed: 44.0min\n",
            "[Parallel(n_jobs=-1)]: Done  70 tasks      | elapsed: 44.2min\n",
            "[Parallel(n_jobs=-1)]: Done  71 tasks      | elapsed: 46.3min\n",
            "[Parallel(n_jobs=-1)]: Done  72 tasks      | elapsed: 46.6min\n",
            "[Parallel(n_jobs=-1)]: Done  73 tasks      | elapsed: 47.0min\n",
            "[Parallel(n_jobs=-1)]: Done  74 tasks      | elapsed: 47.3min\n",
            "[Parallel(n_jobs=-1)]: Done  75 tasks      | elapsed: 49.3min\n",
            "[Parallel(n_jobs=-1)]: Done  76 tasks      | elapsed: 49.7min\n",
            "[Parallel(n_jobs=-1)]: Done  77 tasks      | elapsed: 50.7min\n",
            "[Parallel(n_jobs=-1)]: Done  78 tasks      | elapsed: 51.1min\n",
            "[Parallel(n_jobs=-1)]: Done  79 tasks      | elapsed: 55.3min\n",
            "[Parallel(n_jobs=-1)]: Done  80 tasks      | elapsed: 55.8min\n",
            "[Parallel(n_jobs=-1)]: Done  81 tasks      | elapsed: 58.0min\n",
            "[Parallel(n_jobs=-1)]: Done  82 tasks      | elapsed: 58.0min\n",
            "[Parallel(n_jobs=-1)]: Done  83 tasks      | elapsed: 58.0min\n",
            "[Parallel(n_jobs=-1)]: Done  84 tasks      | elapsed: 58.5min\n",
            "[Parallel(n_jobs=-1)]: Done  85 tasks      | elapsed: 61.1min\n",
            "[Parallel(n_jobs=-1)]: Done  86 tasks      | elapsed: 61.7min\n",
            "[Parallel(n_jobs=-1)]: Done  87 tasks      | elapsed: 61.8min\n",
            "[Parallel(n_jobs=-1)]: Done  88 tasks      | elapsed: 62.5min\n",
            "[Parallel(n_jobs=-1)]: Done  89 tasks      | elapsed: 64.0min\n",
            "[Parallel(n_jobs=-1)]: Done  90 tasks      | elapsed: 64.8min\n",
            "[Parallel(n_jobs=-1)]: Done  91 tasks      | elapsed: 68.8min\n",
            "[Parallel(n_jobs=-1)]: Done  92 tasks      | elapsed: 69.1min\n",
            "[Parallel(n_jobs=-1)]: Done  93 tasks      | elapsed: 69.3min\n",
            "[Parallel(n_jobs=-1)]: Done  94 tasks      | elapsed: 69.3min\n",
            "[Parallel(n_jobs=-1)]: Done  95 tasks      | elapsed: 69.4min\n",
            "[Parallel(n_jobs=-1)]: Done  96 tasks      | elapsed: 69.4min\n",
            "[Parallel(n_jobs=-1)]: Done  97 tasks      | elapsed: 69.4min\n",
            "[Parallel(n_jobs=-1)]: Done  98 tasks      | elapsed: 69.4min\n",
            "[Parallel(n_jobs=-1)]: Done  99 tasks      | elapsed: 70.0min\n",
            "[Parallel(n_jobs=-1)]: Done 100 tasks      | elapsed: 70.1min\n",
            "[Parallel(n_jobs=-1)]: Done 101 tasks      | elapsed: 71.8min\n",
            "[Parallel(n_jobs=-1)]: Done 102 tasks      | elapsed: 71.9min\n",
            "[Parallel(n_jobs=-1)]: Done 103 tasks      | elapsed: 74.2min\n",
            "[Parallel(n_jobs=-1)]: Done 104 tasks      | elapsed: 74.3min\n",
            "[Parallel(n_jobs=-1)]: Done 105 tasks      | elapsed: 76.2min\n",
            "[Parallel(n_jobs=-1)]: Done 106 tasks      | elapsed: 76.4min\n",
            "[Parallel(n_jobs=-1)]: Done 107 tasks      | elapsed: 80.0min\n",
            "[Parallel(n_jobs=-1)]: Done 108 tasks      | elapsed: 80.0min\n",
            "[Parallel(n_jobs=-1)]: Done 109 tasks      | elapsed: 80.0min\n",
            "[Parallel(n_jobs=-1)]: Done 110 tasks      | elapsed: 80.2min\n",
            "[Parallel(n_jobs=-1)]: Done 111 tasks      | elapsed: 80.7min\n",
            "[Parallel(n_jobs=-1)]: Done 112 tasks      | elapsed: 80.9min\n",
            "[Parallel(n_jobs=-1)]: Done 113 tasks      | elapsed: 82.2min\n",
            "[Parallel(n_jobs=-1)]: Done 114 tasks      | elapsed: 82.4min\n",
            "[Parallel(n_jobs=-1)]: Done 115 tasks      | elapsed: 84.2min\n",
            "[Parallel(n_jobs=-1)]: Done 116 tasks      | elapsed: 84.5min\n",
            "[Parallel(n_jobs=-1)]: Done 117 tasks      | elapsed: 85.3min\n",
            "[Parallel(n_jobs=-1)]: Done 118 tasks      | elapsed: 85.3min\n",
            "[Parallel(n_jobs=-1)]: Done 119 tasks      | elapsed: 85.4min\n",
            "[Parallel(n_jobs=-1)]: Done 120 tasks      | elapsed: 85.7min\n",
            "[Parallel(n_jobs=-1)]: Done 121 tasks      | elapsed: 88.0min\n",
            "[Parallel(n_jobs=-1)]: Done 122 tasks      | elapsed: 88.0min\n",
            "[Parallel(n_jobs=-1)]: Done 123 tasks      | elapsed: 88.1min\n",
            "[Parallel(n_jobs=-1)]: Done 124 tasks      | elapsed: 88.3min\n",
            "[Parallel(n_jobs=-1)]: Done 125 tasks      | elapsed: 88.6min\n",
            "[Parallel(n_jobs=-1)]: Done 126 tasks      | elapsed: 88.6min\n",
            "[Parallel(n_jobs=-1)]: Done 127 tasks      | elapsed: 88.6min\n",
            "[Parallel(n_jobs=-1)]: Done 128 tasks      | elapsed: 88.9min\n",
            "[Parallel(n_jobs=-1)]: Done 129 tasks      | elapsed: 88.9min\n",
            "[Parallel(n_jobs=-1)]: Done 130 tasks      | elapsed: 88.9min\n",
            "[Parallel(n_jobs=-1)]: Done 131 tasks      | elapsed: 88.9min\n",
            "[Parallel(n_jobs=-1)]: Done 132 tasks      | elapsed: 88.9min\n",
            "[Parallel(n_jobs=-1)]: Done 133 tasks      | elapsed: 89.0min\n",
            "[Parallel(n_jobs=-1)]: Done 134 tasks      | elapsed: 89.2min\n",
            "[Parallel(n_jobs=-1)]: Done 135 tasks      | elapsed: 89.2min\n",
            "[Parallel(n_jobs=-1)]: Done 136 tasks      | elapsed: 89.3min\n",
            "[Parallel(n_jobs=-1)]: Done 137 tasks      | elapsed: 89.3min\n",
            "[Parallel(n_jobs=-1)]: Done 138 tasks      | elapsed: 89.3min\n",
            "[Parallel(n_jobs=-1)]: Done 139 tasks      | elapsed: 89.3min\n",
            "[Parallel(n_jobs=-1)]: Done 140 tasks      | elapsed: 89.4min\n",
            "[Parallel(n_jobs=-1)]: Done 141 tasks      | elapsed: 91.2min\n",
            "[Parallel(n_jobs=-1)]: Done 142 tasks      | elapsed: 91.3min\n",
            "[Parallel(n_jobs=-1)]: Done 143 tasks      | elapsed: 93.7min\n",
            "[Parallel(n_jobs=-1)]: Done 144 tasks      | elapsed: 93.8min\n",
            "[Parallel(n_jobs=-1)]: Done 145 tasks      | elapsed: 93.8min\n",
            "[Parallel(n_jobs=-1)]: Done 146 tasks      | elapsed: 93.8min\n",
            "[Parallel(n_jobs=-1)]: Done 147 tasks      | elapsed: 93.8min\n",
            "[Parallel(n_jobs=-1)]: Done 148 tasks      | elapsed: 93.9min\n",
            "[Parallel(n_jobs=-1)]: Done 149 tasks      | elapsed: 94.4min\n",
            "[Parallel(n_jobs=-1)]: Done 150 tasks      | elapsed: 94.6min\n",
            "[Parallel(n_jobs=-1)]: Done 151 tasks      | elapsed: 95.2min\n",
            "[Parallel(n_jobs=-1)]: Done 152 tasks      | elapsed: 95.2min\n",
            "[Parallel(n_jobs=-1)]: Done 153 tasks      | elapsed: 95.2min\n",
            "[Parallel(n_jobs=-1)]: Done 154 tasks      | elapsed: 95.3min\n",
            "[Parallel(n_jobs=-1)]: Done 155 tasks      | elapsed: 95.3min\n",
            "[Parallel(n_jobs=-1)]: Done 156 tasks      | elapsed: 95.4min\n",
            "[Parallel(n_jobs=-1)]: Done 157 tasks      | elapsed: 95.9min\n",
            "[Parallel(n_jobs=-1)]: Done 158 tasks      | elapsed: 96.0min\n",
            "[Parallel(n_jobs=-1)]: Done 159 tasks      | elapsed: 98.6min\n",
            "[Parallel(n_jobs=-1)]: Done 160 tasks      | elapsed: 98.7min\n",
            "[Parallel(n_jobs=-1)]: Done 161 tasks      | elapsed: 100.7min\n",
            "[Parallel(n_jobs=-1)]: Done 162 tasks      | elapsed: 100.9min\n",
            "[Parallel(n_jobs=-1)]: Done 163 tasks      | elapsed: 105.2min\n",
            "[Parallel(n_jobs=-1)]: Done 164 tasks      | elapsed: 105.2min\n",
            "[Parallel(n_jobs=-1)]: Done 165 tasks      | elapsed: 105.2min\n",
            "[Parallel(n_jobs=-1)]: Done 166 tasks      | elapsed: 105.4min\n",
            "[Parallel(n_jobs=-1)]: Done 167 tasks      | elapsed: 107.2min\n",
            "[Parallel(n_jobs=-1)]: Done 168 tasks      | elapsed: 107.2min\n",
            "[Parallel(n_jobs=-1)]: Done 169 tasks      | elapsed: 107.2min\n",
            "[Parallel(n_jobs=-1)]: Done 170 tasks      | elapsed: 107.6min\n",
            "[Parallel(n_jobs=-1)]: Done 171 tasks      | elapsed: 110.7min\n",
            "[Parallel(n_jobs=-1)]: Done 172 tasks      | elapsed: 111.1min\n",
            "[Parallel(n_jobs=-1)]: Done 173 tasks      | elapsed: 113.7min\n",
            "[Parallel(n_jobs=-1)]: Done 174 tasks      | elapsed: 113.7min\n",
            "[Parallel(n_jobs=-1)]: Done 175 tasks      | elapsed: 113.7min\n",
            "[Parallel(n_jobs=-1)]: Done 176 tasks      | elapsed: 114.1min\n",
            "[Parallel(n_jobs=-1)]: Done 177 tasks      | elapsed: 114.9min\n",
            "[Parallel(n_jobs=-1)]: Done 178 tasks      | elapsed: 115.4min\n",
            "[Parallel(n_jobs=-1)]: Done 179 tasks      | elapsed: 116.2min\n",
            "[Parallel(n_jobs=-1)]: Done 180 tasks      | elapsed: 116.6min\n",
            "[Parallel(n_jobs=-1)]: Done 181 tasks      | elapsed: 121.0min\n",
            "[Parallel(n_jobs=-1)]: Done 182 tasks      | elapsed: 121.0min\n",
            "[Parallel(n_jobs=-1)]: Done 183 tasks      | elapsed: 121.1min\n",
            "[Parallel(n_jobs=-1)]: Done 184 tasks      | elapsed: 121.1min\n",
            "[Parallel(n_jobs=-1)]: Done 185 tasks      | elapsed: 121.1min\n",
            "[Parallel(n_jobs=-1)]: Done 186 tasks      | elapsed: 121.4min\n",
            "[Parallel(n_jobs=-1)]: Done 187 tasks      | elapsed: 124.9min\n",
            "[Parallel(n_jobs=-1)]: Done 188 tasks      | elapsed: 124.9min\n",
            "[Parallel(n_jobs=-1)]: Done 189 tasks      | elapsed: 125.0min\n",
            "[Parallel(n_jobs=-1)]: Done 190 tasks      | elapsed: 125.4min\n",
            "[Parallel(n_jobs=-1)]: Done 191 tasks      | elapsed: 129.0min\n",
            "[Parallel(n_jobs=-1)]: Done 192 tasks      | elapsed: 129.0min\n",
            "[Parallel(n_jobs=-1)]: Done 193 tasks      | elapsed: 129.0min\n",
            "[Parallel(n_jobs=-1)]: Done 194 tasks      | elapsed: 129.0min\n",
            "[Parallel(n_jobs=-1)]: Done 195 tasks      | elapsed: 129.1min\n",
            "[Parallel(n_jobs=-1)]: Done 196 tasks      | elapsed: 129.5min\n",
            "[Parallel(n_jobs=-1)]: Done 197 tasks      | elapsed: 129.6min\n",
            "[Parallel(n_jobs=-1)]: Done 198 tasks      | elapsed: 130.1min\n",
            "[Parallel(n_jobs=-1)]: Done 199 tasks      | elapsed: 130.1min\n",
            "[Parallel(n_jobs=-1)]: Done 200 tasks      | elapsed: 130.1min\n",
            "[Parallel(n_jobs=-1)]: Done 201 tasks      | elapsed: 130.1min\n",
            "[Parallel(n_jobs=-1)]: Done 202 tasks      | elapsed: 130.6min\n",
            "[Parallel(n_jobs=-1)]: Done 203 tasks      | elapsed: 132.6min\n",
            "[Parallel(n_jobs=-1)]: Done 204 tasks      | elapsed: 133.1min\n",
            "[Parallel(n_jobs=-1)]: Done 205 tasks      | elapsed: 135.1min\n",
            "[Parallel(n_jobs=-1)]: Done 206 tasks      | elapsed: 135.2min\n",
            "[Parallel(n_jobs=-1)]: Done 207 tasks      | elapsed: 135.2min\n",
            "[Parallel(n_jobs=-1)]: Done 208 tasks      | elapsed: 135.2min\n",
            "[Parallel(n_jobs=-1)]: Done 209 tasks      | elapsed: 135.2min\n",
            "[Parallel(n_jobs=-1)]: Done 210 tasks      | elapsed: 135.6min\n",
            "[Parallel(n_jobs=-1)]: Done 211 tasks      | elapsed: 135.8min\n",
            "[Parallel(n_jobs=-1)]: Done 212 tasks      | elapsed: 135.9min\n",
            "[Parallel(n_jobs=-1)]: Done 213 tasks      | elapsed: 138.5min\n",
            "[Parallel(n_jobs=-1)]: Done 214 tasks      | elapsed: 138.6min\n",
            "[Parallel(n_jobs=-1)]: Done 215 tasks      | elapsed: 139.8min\n",
            "[Parallel(n_jobs=-1)]: Done 216 tasks      | elapsed: 139.8min\n",
            "[Parallel(n_jobs=-1)]: Done 217 tasks      | elapsed: 139.8min\n",
            "[Parallel(n_jobs=-1)]: Done 218 tasks      | elapsed: 140.0min\n",
            "[Parallel(n_jobs=-1)]: Done 219 tasks      | elapsed: 141.8min\n",
            "[Parallel(n_jobs=-1)]: Done 220 tasks      | elapsed: 142.1min\n",
            "[Parallel(n_jobs=-1)]: Done 221 tasks      | elapsed: 144.2min\n",
            "[Parallel(n_jobs=-1)]: Done 222 tasks      | elapsed: 144.2min\n",
            "[Parallel(n_jobs=-1)]: Done 223 tasks      | elapsed: 144.2min\n",
            "[Parallel(n_jobs=-1)]: Done 224 tasks      | elapsed: 144.7min\n",
            "[Parallel(n_jobs=-1)]: Done 225 tasks      | elapsed: 148.2min\n",
            "[Parallel(n_jobs=-1)]: Done 226 tasks      | elapsed: 148.8min\n",
            "[Parallel(n_jobs=-1)]: Done 227 tasks      | elapsed: 148.8min\n",
            "[Parallel(n_jobs=-1)]: Done 228 tasks      | elapsed: 149.3min\n",
            "[Parallel(n_jobs=-1)]: Done 229 tasks      | elapsed: 152.2min\n",
            "[Parallel(n_jobs=-1)]: Done 230 tasks      | elapsed: 152.2min\n",
            "[Parallel(n_jobs=-1)]: Done 231 tasks      | elapsed: 152.2min\n",
            "[Parallel(n_jobs=-1)]: Done 232 tasks      | elapsed: 152.2min\n",
            "[Parallel(n_jobs=-1)]: Done 233 tasks      | elapsed: 152.3min\n",
            "[Parallel(n_jobs=-1)]: Done 234 tasks      | elapsed: 152.5min\n",
            "[Parallel(n_jobs=-1)]: Done 235 tasks      | elapsed: 156.0min\n",
            "[Parallel(n_jobs=-1)]: Done 236 tasks      | elapsed: 156.1min\n",
            "[Parallel(n_jobs=-1)]: Done 237 tasks      | elapsed: 158.9min\n",
            "[Parallel(n_jobs=-1)]: Done 238 tasks      | elapsed: 158.9min\n",
            "[Parallel(n_jobs=-1)]: Done 239 tasks      | elapsed: 159.5min\n",
            "[Parallel(n_jobs=-1)]: Done 240 tasks      | elapsed: 159.5min\n",
            "[Parallel(n_jobs=-1)]: Done 241 tasks      | elapsed: 159.5min\n",
            "[Parallel(n_jobs=-1)]: Done 242 tasks      | elapsed: 159.6min\n",
            "[Parallel(n_jobs=-1)]: Done 243 tasks      | elapsed: 161.7min\n",
            "[Parallel(n_jobs=-1)]: Done 244 tasks      | elapsed: 161.9min\n",
            "[Parallel(n_jobs=-1)]: Done 245 tasks      | elapsed: 164.7min\n",
            "[Parallel(n_jobs=-1)]: Done 246 tasks      | elapsed: 165.1min\n",
            "[Parallel(n_jobs=-1)]: Done 247 tasks      | elapsed: 165.5min\n",
            "[Parallel(n_jobs=-1)]: Done 248 tasks      | elapsed: 165.5min\n",
            "[Parallel(n_jobs=-1)]: Done 249 tasks      | elapsed: 165.5min\n",
            "[Parallel(n_jobs=-1)]: Done 250 tasks      | elapsed: 166.0min\n",
            "[Parallel(n_jobs=-1)]: Done 251 tasks      | elapsed: 169.0min\n",
            "[Parallel(n_jobs=-1)]: Done 252 tasks      | elapsed: 169.0min\n",
            "[Parallel(n_jobs=-1)]: Done 253 tasks      | elapsed: 169.0min\n",
            "[Parallel(n_jobs=-1)]: Done 254 tasks      | elapsed: 169.0min\n",
            "[Parallel(n_jobs=-1)]: Done 255 tasks      | elapsed: 169.0min\n",
            "[Parallel(n_jobs=-1)]: Done 256 tasks      | elapsed: 169.5min\n",
            "[Parallel(n_jobs=-1)]: Done 257 tasks      | elapsed: 169.6min\n",
            "[Parallel(n_jobs=-1)]: Done 258 tasks      | elapsed: 170.1min\n",
            "[Parallel(n_jobs=-1)]: Done 259 tasks      | elapsed: 170.2min\n",
            "[Parallel(n_jobs=-1)]: Done 260 tasks      | elapsed: 170.2min\n",
            "[Parallel(n_jobs=-1)]: Done 261 tasks      | elapsed: 170.2min\n",
            "[Parallel(n_jobs=-1)]: Done 262 tasks      | elapsed: 170.6min\n",
            "[Parallel(n_jobs=-1)]: Done 263 tasks      | elapsed: 175.3min\n",
            "[Parallel(n_jobs=-1)]: Done 264 tasks      | elapsed: 175.3min\n",
            "[Parallel(n_jobs=-1)]: Done 265 tasks      | elapsed: 175.3min\n",
            "[Parallel(n_jobs=-1)]: Done 266 tasks      | elapsed: 175.6min\n",
            "[Parallel(n_jobs=-1)]: Done 267 tasks      | elapsed: 176.6min\n",
            "[Parallel(n_jobs=-1)]: Done 268 tasks      | elapsed: 176.6min\n",
            "[Parallel(n_jobs=-1)]: Done 269 tasks      | elapsed: 176.7min\n",
            "[Parallel(n_jobs=-1)]: Done 270 tasks      | elapsed: 176.7min\n",
            "[Parallel(n_jobs=-1)]: Done 271 tasks      | elapsed: 176.7min\n",
            "[Parallel(n_jobs=-1)]: Done 272 tasks      | elapsed: 176.7min\n",
            "[Parallel(n_jobs=-1)]: Done 273 tasks      | elapsed: 176.7min\n",
            "[Parallel(n_jobs=-1)]: Done 274 tasks      | elapsed: 177.0min\n",
            "[Parallel(n_jobs=-1)]: Done 275 tasks      | elapsed: 178.4min\n",
            "[Parallel(n_jobs=-1)]: Done 276 tasks      | elapsed: 178.4min\n",
            "[Parallel(n_jobs=-1)]: Done 277 tasks      | elapsed: 178.4min\n",
            "[Parallel(n_jobs=-1)]: Done 278 tasks      | elapsed: 178.4min\n",
            "[Parallel(n_jobs=-1)]: Done 279 tasks      | elapsed: 178.4min\n",
            "[Parallel(n_jobs=-1)]: Done 280 tasks      | elapsed: 178.5min\n",
            "[Parallel(n_jobs=-1)]: Done 281 tasks      | elapsed: 178.5min\n",
            "[Parallel(n_jobs=-1)]: Done 282 tasks      | elapsed: 178.7min\n",
            "[Parallel(n_jobs=-1)]: Done 283 tasks      | elapsed: 181.1min\n",
            "[Parallel(n_jobs=-1)]: Done 284 tasks      | elapsed: 181.1min\n",
            "[Parallel(n_jobs=-1)]: Done 285 tasks      | elapsed: 181.1min\n",
            "[Parallel(n_jobs=-1)]: Done 286 tasks      | elapsed: 181.1min\n",
            "[Parallel(n_jobs=-1)]: Done 287 tasks      | elapsed: 181.2min\n",
            "[Parallel(n_jobs=-1)]: Done 288 tasks      | elapsed: 181.2min\n",
            "[Parallel(n_jobs=-1)]: Done 289 tasks      | elapsed: 181.2min\n",
            "[Parallel(n_jobs=-1)]: Done 290 tasks      | elapsed: 181.4min\n",
            "[Parallel(n_jobs=-1)]: Done 291 tasks      | elapsed: 184.0min\n",
            "[Parallel(n_jobs=-1)]: Done 292 tasks      | elapsed: 184.3min\n",
            "[Parallel(n_jobs=-1)]: Done 293 tasks      | elapsed: 184.9min\n",
            "[Parallel(n_jobs=-1)]: Done 294 tasks      | elapsed: 185.3min\n",
            "[Parallel(n_jobs=-1)]: Done 295 tasks      | elapsed: 186.3min\n",
            "[Parallel(n_jobs=-1)]: Done 296 tasks      | elapsed: 186.6min\n",
            "[Parallel(n_jobs=-1)]: Done 297 tasks      | elapsed: 190.5min\n",
            "[Parallel(n_jobs=-1)]: Done 298 tasks      | elapsed: 190.6min\n",
            "[Parallel(n_jobs=-1)]: Done 299 tasks      | elapsed: 190.6min\n",
            "[Parallel(n_jobs=-1)]: Done 300 tasks      | elapsed: 190.9min\n",
            "[Parallel(n_jobs=-1)]: Done 301 tasks      | elapsed: 193.5min\n",
            "[Parallel(n_jobs=-1)]: Done 302 tasks      | elapsed: 194.0min\n",
            "[Parallel(n_jobs=-1)]: Done 303 tasks      | elapsed: 195.2min\n",
            "[Parallel(n_jobs=-1)]: Done 304 tasks      | elapsed: 195.6min\n",
            "[Parallel(n_jobs=-1)]: Done 305 tasks      | elapsed: 200.0min\n",
            "[Parallel(n_jobs=-1)]: Done 306 tasks      | elapsed: 200.0min\n",
            "[Parallel(n_jobs=-1)]: Done 307 tasks      | elapsed: 200.1min\n",
            "[Parallel(n_jobs=-1)]: Done 308 tasks      | elapsed: 200.1min\n",
            "[Parallel(n_jobs=-1)]: Done 309 tasks      | elapsed: 200.1min\n",
            "[Parallel(n_jobs=-1)]: Done 310 tasks      | elapsed: 200.1min\n",
            "[Parallel(n_jobs=-1)]: Done 311 tasks      | elapsed: 200.1min\n",
            "[Parallel(n_jobs=-1)]: Done 312 tasks      | elapsed: 200.5min\n",
            "[Parallel(n_jobs=-1)]: Done 313 tasks      | elapsed: 202.6min\n",
            "[Parallel(n_jobs=-1)]: Done 314 tasks      | elapsed: 202.6min\n",
            "[Parallel(n_jobs=-1)]: Done 315 tasks      | elapsed: 202.7min\n",
            "[Parallel(n_jobs=-1)]: Done 316 tasks      | elapsed: 203.1min\n",
            "[Parallel(n_jobs=-1)]: Done 317 tasks      | elapsed: 205.0min\n",
            "[Parallel(n_jobs=-1)]: Done 318 tasks      | elapsed: 205.4min\n",
            "[Parallel(n_jobs=-1)]: Done 319 tasks      | elapsed: 207.3min\n",
            "[Parallel(n_jobs=-1)]: Done 320 tasks      | elapsed: 207.6min\n",
            "[Parallel(n_jobs=-1)]: Done 321 tasks      | elapsed: 207.8min\n",
            "[Parallel(n_jobs=-1)]: Done 322 tasks      | elapsed: 207.8min\n",
            "[Parallel(n_jobs=-1)]: Done 323 tasks      | elapsed: 209.5min\n",
            "[Parallel(n_jobs=-1)]: Done 324 tasks      | elapsed: 209.5min\n",
            "[Parallel(n_jobs=-1)]: Done 325 tasks      | elapsed: 209.5min\n",
            "[Parallel(n_jobs=-1)]: Done 326 tasks      | elapsed: 209.5min\n",
            "[Parallel(n_jobs=-1)]: Done 327 tasks      | elapsed: 209.5min\n",
            "[Parallel(n_jobs=-1)]: Done 328 tasks      | elapsed: 209.6min\n",
            "[Parallel(n_jobs=-1)]: Done 329 tasks      | elapsed: 210.5min\n",
            "[Parallel(n_jobs=-1)]: Done 330 tasks      | elapsed: 210.6min\n",
            "[Parallel(n_jobs=-1)]: Done 331 tasks      | elapsed: 211.8min\n",
            "[Parallel(n_jobs=-1)]: Done 332 tasks      | elapsed: 212.0min\n",
            "[Parallel(n_jobs=-1)]: Done 333 tasks      | elapsed: 213.5min\n",
            "[Parallel(n_jobs=-1)]: Done 334 tasks      | elapsed: 213.8min\n",
            "[Parallel(n_jobs=-1)]: Done 335 tasks      | elapsed: 215.1min\n",
            "[Parallel(n_jobs=-1)]: Done 336 tasks      | elapsed: 215.1min\n",
            "[Parallel(n_jobs=-1)]: Done 337 tasks      | elapsed: 215.2min\n",
            "[Parallel(n_jobs=-1)]: Done 338 tasks      | elapsed: 215.5min\n",
            "[Parallel(n_jobs=-1)]: Done 339 tasks      | elapsed: 216.1min\n",
            "[Parallel(n_jobs=-1)]: Done 340 tasks      | elapsed: 216.5min\n",
            "[Parallel(n_jobs=-1)]: Done 341 tasks      | elapsed: 216.7min\n",
            "[Parallel(n_jobs=-1)]: Done 342 tasks      | elapsed: 216.7min\n",
            "[Parallel(n_jobs=-1)]: Done 343 tasks      | elapsed: 216.7min\n",
            "[Parallel(n_jobs=-1)]: Done 344 tasks      | elapsed: 217.1min\n",
            "[Parallel(n_jobs=-1)]: Done 345 tasks      | elapsed: 221.0min\n",
            "[Parallel(n_jobs=-1)]: Done 346 tasks      | elapsed: 221.5min\n",
            "[Parallel(n_jobs=-1)]: Done 347 tasks      | elapsed: 222.3min\n",
            "[Parallel(n_jobs=-1)]: Done 348 tasks      | elapsed: 222.9min\n",
            "[Parallel(n_jobs=-1)]: Done 349 tasks      | elapsed: 225.8min\n",
            "[Parallel(n_jobs=-1)]: Done 350 tasks      | elapsed: 226.5min\n",
            "[Parallel(n_jobs=-1)]: Done 351 tasks      | elapsed: 227.0min\n",
            "[Parallel(n_jobs=-1)]: Done 352 tasks      | elapsed: 227.7min\n",
            "[Parallel(n_jobs=-1)]: Done 353 tasks      | elapsed: 229.3min\n",
            "[Parallel(n_jobs=-1)]: Done 354 tasks      | elapsed: 230.0min\n",
            "[Parallel(n_jobs=-1)]: Done 355 tasks      | elapsed: 233.3min\n",
            "[Parallel(n_jobs=-1)]: Done 356 tasks      | elapsed: 233.3min\n",
            "[Parallel(n_jobs=-1)]: Done 357 tasks      | elapsed: 233.3min\n",
            "[Parallel(n_jobs=-1)]: Done 358 tasks      | elapsed: 233.3min\n",
            "[Parallel(n_jobs=-1)]: Done 359 tasks      | elapsed: 233.4min\n",
            "[Parallel(n_jobs=-1)]: Done 360 tasks      | elapsed: 233.4min\n",
            "[Parallel(n_jobs=-1)]: Done 361 tasks      | elapsed: 233.4min\n",
            "[Parallel(n_jobs=-1)]: Done 362 tasks      | elapsed: 234.1min\n",
            "[Parallel(n_jobs=-1)]: Done 363 tasks      | elapsed: 236.3min\n",
            "[Parallel(n_jobs=-1)]: Done 364 tasks      | elapsed: 236.9min\n",
            "[Parallel(n_jobs=-1)]: Done 365 tasks      | elapsed: 237.4min\n",
            "[Parallel(n_jobs=-1)]: Done 366 tasks      | elapsed: 237.8min\n",
            "[Parallel(n_jobs=-1)]: Done 367 tasks      | elapsed: 238.0min\n",
            "[Parallel(n_jobs=-1)]: Done 368 tasks      | elapsed: 238.1min\n",
            "[Parallel(n_jobs=-1)]: Done 369 tasks      | elapsed: 238.1min\n",
            "[Parallel(n_jobs=-1)]: Done 370 tasks      | elapsed: 238.1min\n",
            "[Parallel(n_jobs=-1)]: Done 371 tasks      | elapsed: 238.1min\n",
            "[Parallel(n_jobs=-1)]: Done 372 tasks      | elapsed: 238.2min\n",
            "[Parallel(n_jobs=-1)]: Done 373 tasks      | elapsed: 241.8min\n",
            "[Parallel(n_jobs=-1)]: Done 374 tasks      | elapsed: 242.0min\n",
            "[Parallel(n_jobs=-1)]: Done 375 tasks      | elapsed: 244.1min\n",
            "[Parallel(n_jobs=-1)]: Done 376 tasks      | elapsed: 244.4min\n",
            "[Parallel(n_jobs=-1)]: Done 377 tasks      | elapsed: 247.0min\n",
            "[Parallel(n_jobs=-1)]: Done 378 tasks      | elapsed: 247.1min\n",
            "[Parallel(n_jobs=-1)]: Done 379 tasks      | elapsed: 247.1min\n",
            "[Parallel(n_jobs=-1)]: Done 380 tasks      | elapsed: 247.4min\n",
            "[Parallel(n_jobs=-1)]: Done 381 tasks      | elapsed: 249.0min\n",
            "[Parallel(n_jobs=-1)]: Done 382 tasks      | elapsed: 249.0min\n",
            "[Parallel(n_jobs=-1)]: Done 383 tasks      | elapsed: 249.1min\n",
            "[Parallel(n_jobs=-1)]: Done 384 tasks      | elapsed: 249.3min\n",
            "[Parallel(n_jobs=-1)]: Done 385 tasks      | elapsed: 249.4min\n",
            "[Parallel(n_jobs=-1)]: Done 386 tasks      | elapsed: 249.6min\n",
            "[Parallel(n_jobs=-1)]: Done 387 tasks      | elapsed: 250.1min\n",
            "[Parallel(n_jobs=-1)]: Done 388 tasks      | elapsed: 250.3min\n",
            "[Parallel(n_jobs=-1)]: Done 389 tasks      | elapsed: 255.2min\n",
            "[Parallel(n_jobs=-1)]: Done 390 tasks      | elapsed: 255.5min\n",
            "[Parallel(n_jobs=-1)]: Done 391 tasks      | elapsed: 255.6min\n",
            "[Parallel(n_jobs=-1)]: Done 392 tasks      | elapsed: 256.0min\n",
            "[Parallel(n_jobs=-1)]: Done 393 tasks      | elapsed: 261.3min\n",
            "[Parallel(n_jobs=-1)]: Done 394 tasks      | elapsed: 262.0min\n",
            "[Parallel(n_jobs=-1)]: Done 395 tasks      | elapsed: 262.1min\n",
            "[Parallel(n_jobs=-1)]: Done 396 tasks      | elapsed: 262.8min\n",
            "[Parallel(n_jobs=-1)]: Done 397 tasks      | elapsed: 266.8min\n",
            "[Parallel(n_jobs=-1)]: Done 398 tasks      | elapsed: 267.4min\n",
            "[Parallel(n_jobs=-1)]: Done 399 tasks      | elapsed: 268.6min\n",
            "[Parallel(n_jobs=-1)]: Done 400 tasks      | elapsed: 268.6min\n",
            "[Parallel(n_jobs=-1)]: Done 401 tasks      | elapsed: 268.6min\n",
            "[Parallel(n_jobs=-1)]: Done 402 tasks      | elapsed: 268.6min\n",
            "[Parallel(n_jobs=-1)]: Done 403 tasks      | elapsed: 268.6min\n",
            "[Parallel(n_jobs=-1)]: Done 404 tasks      | elapsed: 269.2min\n",
            "[Parallel(n_jobs=-1)]: Done 405 tasks      | elapsed: 271.0min\n",
            "[Parallel(n_jobs=-1)]: Done 406 tasks      | elapsed: 271.6min\n",
            "[Parallel(n_jobs=-1)]: Done 407 tasks      | elapsed: 271.7min\n",
            "[Parallel(n_jobs=-1)]: Done 408 tasks      | elapsed: 271.7min\n",
            "[Parallel(n_jobs=-1)]: Done 409 tasks      | elapsed: 271.7min\n",
            "[Parallel(n_jobs=-1)]: Done 410 tasks      | elapsed: 272.3min\n",
            "[Parallel(n_jobs=-1)]: Done 411 tasks      | elapsed: 272.8min\n",
            "[Parallel(n_jobs=-1)]: Done 412 tasks      | elapsed: 273.4min\n",
            "[Parallel(n_jobs=-1)]: Done 413 tasks      | elapsed: 273.4min\n",
            "[Parallel(n_jobs=-1)]: Done 414 tasks      | elapsed: 273.9min\n",
            "[Parallel(n_jobs=-1)]: Done 415 tasks      | elapsed: 277.9min\n",
            "[Parallel(n_jobs=-1)]: Done 416 tasks      | elapsed: 278.3min\n",
            "[Parallel(n_jobs=-1)]: Done 417 tasks      | elapsed: 279.0min\n",
            "[Parallel(n_jobs=-1)]: Done 418 tasks      | elapsed: 279.2min\n",
            "[Parallel(n_jobs=-1)]: Done 419 tasks      | elapsed: 279.3min\n",
            "[Parallel(n_jobs=-1)]: Done 420 tasks      | elapsed: 279.3min\n",
            "[Parallel(n_jobs=-1)]: Done 421 tasks      | elapsed: 279.4min\n",
            "[Parallel(n_jobs=-1)]: Done 422 tasks      | elapsed: 279.4min\n",
            "[Parallel(n_jobs=-1)]: Done 423 tasks      | elapsed: 279.4min\n",
            "[Parallel(n_jobs=-1)]: Done 424 tasks      | elapsed: 279.4min\n",
            "[Parallel(n_jobs=-1)]: Done 425 tasks      | elapsed: 283.6min\n",
            "[Parallel(n_jobs=-1)]: Done 426 tasks      | elapsed: 283.6min\n",
            "[Parallel(n_jobs=-1)]: Done 427 tasks      | elapsed: 286.4min\n",
            "[Parallel(n_jobs=-1)]: Done 428 tasks      | elapsed: 286.4min\n",
            "[Parallel(n_jobs=-1)]: Done 429 tasks      | elapsed: 286.4min\n",
            "[Parallel(n_jobs=-1)]: Done 430 tasks      | elapsed: 286.4min\n",
            "[Parallel(n_jobs=-1)]: Done 431 tasks      | elapsed: 286.4min\n",
            "[Parallel(n_jobs=-1)]: Done 432 tasks      | elapsed: 286.4min\n",
            "[Parallel(n_jobs=-1)]: Done 433 tasks      | elapsed: 286.5min\n",
            "[Parallel(n_jobs=-1)]: Done 434 tasks      | elapsed: 286.6min\n",
            "[Parallel(n_jobs=-1)]: Done 435 tasks      | elapsed: 290.9min\n",
            "[Parallel(n_jobs=-1)]: Done 436 tasks      | elapsed: 291.2min\n",
            "[Parallel(n_jobs=-1)]: Done 437 tasks      | elapsed: 294.2min\n",
            "[Parallel(n_jobs=-1)]: Done 438 tasks      | elapsed: 294.7min\n",
            "[Parallel(n_jobs=-1)]: Done 439 tasks      | elapsed: 297.7min\n",
            "[Parallel(n_jobs=-1)]: Done 440 tasks      | elapsed: 297.7min\n",
            "[Parallel(n_jobs=-1)]: Done 441 tasks      | elapsed: 297.8min\n",
            "[Parallel(n_jobs=-1)]: Done 442 tasks      | elapsed: 298.3min\n",
            "[Parallel(n_jobs=-1)]: Done 443 tasks      | elapsed: 298.8min\n",
            "[Parallel(n_jobs=-1)]: Done 444 tasks      | elapsed: 298.9min\n",
            "[Parallel(n_jobs=-1)]: Done 445 tasks      | elapsed: 298.9min\n",
            "[Parallel(n_jobs=-1)]: Done 446 tasks      | elapsed: 299.5min\n",
            "[Parallel(n_jobs=-1)]: Done 447 tasks      | elapsed: 299.7min\n",
            "[Parallel(n_jobs=-1)]: Done 448 tasks      | elapsed: 299.7min\n",
            "[Parallel(n_jobs=-1)]: Done 449 tasks      | elapsed: 299.7min\n",
            "[Parallel(n_jobs=-1)]: Done 450 tasks      | elapsed: 300.3min\n",
            "[Parallel(n_jobs=-1)]: Done 451 tasks      | elapsed: 300.3min\n",
            "[Parallel(n_jobs=-1)]: Done 452 tasks      | elapsed: 300.9min\n",
            "[Parallel(n_jobs=-1)]: Done 453 tasks      | elapsed: 301.7min\n",
            "[Parallel(n_jobs=-1)]: Done 454 tasks      | elapsed: 301.7min\n",
            "[Parallel(n_jobs=-1)]: Done 455 tasks      | elapsed: 301.7min\n",
            "[Parallel(n_jobs=-1)]: Done 456 tasks      | elapsed: 301.7min\n",
            "[Parallel(n_jobs=-1)]: Done 457 tasks      | elapsed: 301.8min\n",
            "[Parallel(n_jobs=-1)]: Done 458 tasks      | elapsed: 302.0min\n",
            "[Parallel(n_jobs=-1)]: Done 459 tasks      | elapsed: 302.2min\n",
            "[Parallel(n_jobs=-1)]: Done 460 tasks      | elapsed: 302.5min\n",
            "[Parallel(n_jobs=-1)]: Done 461 tasks      | elapsed: 304.9min\n",
            "[Parallel(n_jobs=-1)]: Done 462 tasks      | elapsed: 304.9min\n",
            "[Parallel(n_jobs=-1)]: Done 463 tasks      | elapsed: 304.9min\n",
            "[Parallel(n_jobs=-1)]: Done 464 tasks      | elapsed: 305.4min\n",
            "[Parallel(n_jobs=-1)]: Done 465 tasks      | elapsed: 306.8min\n",
            "[Parallel(n_jobs=-1)]: Done 466 tasks      | elapsed: 307.3min\n",
            "[Parallel(n_jobs=-1)]: Done 467 tasks      | elapsed: 308.1min\n",
            "[Parallel(n_jobs=-1)]: Done 468 tasks      | elapsed: 308.7min\n",
            "[Parallel(n_jobs=-1)]: Done 469 tasks      | elapsed: 311.8min\n",
            "[Parallel(n_jobs=-1)]: Done 470 tasks      | elapsed: 312.4min\n",
            "[Parallel(n_jobs=-1)]: Done 471 tasks      | elapsed: 313.1min\n",
            "[Parallel(n_jobs=-1)]: Done 472 tasks      | elapsed: 313.7min\n",
            "[Parallel(n_jobs=-1)]: Done 473 tasks      | elapsed: 315.7min\n",
            "[Parallel(n_jobs=-1)]: Done 474 tasks      | elapsed: 315.7min\n",
            "[Parallel(n_jobs=-1)]: Done 475 tasks      | elapsed: 315.7min\n",
            "[Parallel(n_jobs=-1)]: Done 476 tasks      | elapsed: 315.8min\n",
            "[Parallel(n_jobs=-1)]: Done 477 tasks      | elapsed: 315.8min\n",
            "[Parallel(n_jobs=-1)]: Done 478 tasks      | elapsed: 316.3min\n",
            "[Parallel(n_jobs=-1)]: Done 479 tasks      | elapsed: 318.8min\n",
            "[Parallel(n_jobs=-1)]: Done 480 tasks      | elapsed: 318.8min\n",
            "[Parallel(n_jobs=-1)]: Done 481 tasks      | elapsed: 318.8min\n",
            "[Parallel(n_jobs=-1)]: Done 482 tasks      | elapsed: 318.9min\n",
            "[Parallel(n_jobs=-1)]: Done 483 tasks      | elapsed: 318.9min\n",
            "[Parallel(n_jobs=-1)]: Done 484 tasks      | elapsed: 319.4min\n",
            "[Parallel(n_jobs=-1)]: Done 485 tasks      | elapsed: 319.4min\n",
            "[Parallel(n_jobs=-1)]: Done 486 tasks      | elapsed: 320.0min\n",
            "[Parallel(n_jobs=-1)]: Done 487 tasks      | elapsed: 322.7min\n",
            "[Parallel(n_jobs=-1)]: Done 488 tasks      | elapsed: 322.7min\n",
            "[Parallel(n_jobs=-1)]: Done 489 tasks      | elapsed: 322.7min\n",
            "[Parallel(n_jobs=-1)]: Done 490 tasks      | elapsed: 322.8min\n",
            "[Parallel(n_jobs=-1)]: Done 491 tasks      | elapsed: 322.8min\n",
            "[Parallel(n_jobs=-1)]: Done 492 tasks      | elapsed: 323.3min\n",
            "[Parallel(n_jobs=-1)]: Done 493 tasks      | elapsed: 327.1min\n",
            "[Parallel(n_jobs=-1)]: Done 494 tasks      | elapsed: 327.2min\n",
            "[Parallel(n_jobs=-1)]: Done 495 tasks      | elapsed: 327.2min\n",
            "[Parallel(n_jobs=-1)]: Done 496 tasks      | elapsed: 327.3min\n",
            "[Parallel(n_jobs=-1)]: Done 497 tasks      | elapsed: 327.4min\n",
            "[Parallel(n_jobs=-1)]: Done 498 tasks      | elapsed: 327.7min\n",
            "[Parallel(n_jobs=-1)]: Done 499 tasks      | elapsed: 330.1min\n",
            "[Parallel(n_jobs=-1)]: Done 500 tasks      | elapsed: 330.5min\n",
            "[Parallel(n_jobs=-1)]: Done 501 tasks      | elapsed: 331.3min\n",
            "[Parallel(n_jobs=-1)]: Done 502 tasks      | elapsed: 331.3min\n",
            "[Parallel(n_jobs=-1)]: Done 503 tasks      | elapsed: 331.3min\n",
            "[Parallel(n_jobs=-1)]: Done 504 tasks      | elapsed: 331.8min\n",
            "[Parallel(n_jobs=-1)]: Done 505 tasks      | elapsed: 335.2min\n",
            "[Parallel(n_jobs=-1)]: Done 506 tasks      | elapsed: 335.2min\n",
            "[Parallel(n_jobs=-1)]: Done 507 tasks      | elapsed: 335.2min\n",
            "[Parallel(n_jobs=-1)]: Done 508 tasks      | elapsed: 335.7min\n",
            "[Parallel(n_jobs=-1)]: Done 509 tasks      | elapsed: 335.8min\n",
            "[Parallel(n_jobs=-1)]: Done 510 tasks      | elapsed: 335.9min\n",
            "[Parallel(n_jobs=-1)]: Done 511 tasks      | elapsed: 335.9min\n",
            "[Parallel(n_jobs=-1)]: Done 512 tasks      | elapsed: 336.2min\n",
            "[Parallel(n_jobs=-1)]: Done 513 tasks      | elapsed: 336.5min\n",
            "[Parallel(n_jobs=-1)]: Done 514 tasks      | elapsed: 336.7min\n",
            "[Parallel(n_jobs=-1)]: Done 515 tasks      | elapsed: 336.8min\n",
            "[Parallel(n_jobs=-1)]: Done 516 tasks      | elapsed: 336.8min\n",
            "[Parallel(n_jobs=-1)]: Done 517 tasks      | elapsed: 336.9min\n",
            "[Parallel(n_jobs=-1)]: Done 518 tasks      | elapsed: 336.9min\n",
            "[Parallel(n_jobs=-1)]: Done 519 tasks      | elapsed: 339.6min\n",
            "[Parallel(n_jobs=-1)]: Done 520 tasks      | elapsed: 339.6min\n",
            "[Parallel(n_jobs=-1)]: Done 521 tasks      | elapsed: 339.6min\n",
            "[Parallel(n_jobs=-1)]: Done 522 tasks      | elapsed: 339.6min\n",
            "[Parallel(n_jobs=-1)]: Done 523 tasks      | elapsed: 339.6min\n",
            "[Parallel(n_jobs=-1)]: Done 524 tasks      | elapsed: 339.8min\n",
            "[Parallel(n_jobs=-1)]: Done 525 tasks      | elapsed: 341.3min\n",
            "[Parallel(n_jobs=-1)]: Done 526 tasks      | elapsed: 341.6min\n",
            "[Parallel(n_jobs=-1)]: Done 527 tasks      | elapsed: 344.8min\n",
            "[Parallel(n_jobs=-1)]: Done 528 tasks      | elapsed: 344.9min\n",
            "[Parallel(n_jobs=-1)]: Done 529 tasks      | elapsed: 344.9min\n",
            "[Parallel(n_jobs=-1)]: Done 530 tasks      | elapsed: 345.0min\n",
            "[Parallel(n_jobs=-1)]: Done 531 tasks      | elapsed: 347.6min\n",
            "[Parallel(n_jobs=-1)]: Done 532 tasks      | elapsed: 347.6min\n",
            "[Parallel(n_jobs=-1)]: Done 533 tasks      | elapsed: 347.6min\n",
            "[Parallel(n_jobs=-1)]: Done 534 tasks      | elapsed: 347.6min\n",
            "[Parallel(n_jobs=-1)]: Done 535 tasks      | elapsed: 347.6min\n",
            "[Parallel(n_jobs=-1)]: Done 536 tasks      | elapsed: 347.6min\n",
            "[Parallel(n_jobs=-1)]: Done 537 tasks      | elapsed: 347.6min\n",
            "[Parallel(n_jobs=-1)]: Done 538 tasks      | elapsed: 347.9min\n",
            "[Parallel(n_jobs=-1)]: Done 539 tasks      | elapsed: 348.8min\n",
            "[Parallel(n_jobs=-1)]: Done 540 tasks      | elapsed: 348.8min\n",
            "[Parallel(n_jobs=-1)]: Done 541 tasks      | elapsed: 348.8min\n",
            "[Parallel(n_jobs=-1)]: Done 542 tasks      | elapsed: 348.9min\n",
            "[Parallel(n_jobs=-1)]: Done 543 tasks      | elapsed: 349.0min\n",
            "[Parallel(n_jobs=-1)]: Done 544 tasks      | elapsed: 349.1min\n",
            "[Parallel(n_jobs=-1)]: Done 545 tasks      | elapsed: 353.5min\n",
            "[Parallel(n_jobs=-1)]: Done 546 tasks      | elapsed: 353.8min\n",
            "[Parallel(n_jobs=-1)]: Done 547 tasks      | elapsed: 356.5min\n",
            "[Parallel(n_jobs=-1)]: Done 548 tasks      | elapsed: 356.5min\n",
            "[Parallel(n_jobs=-1)]: Done 549 tasks      | elapsed: 356.6min\n",
            "[Parallel(n_jobs=-1)]: Done 550 tasks      | elapsed: 356.7min\n",
            "[Parallel(n_jobs=-1)]: Done 551 tasks      | elapsed: 360.1min\n",
            "[Parallel(n_jobs=-1)]: Done 552 tasks      | elapsed: 360.1min\n",
            "[Parallel(n_jobs=-1)]: Done 553 tasks      | elapsed: 360.1min\n",
            "[Parallel(n_jobs=-1)]: Done 554 tasks      | elapsed: 360.1min\n",
            "[Parallel(n_jobs=-1)]: Done 555 tasks      | elapsed: 360.1min\n",
            "[Parallel(n_jobs=-1)]: Done 556 tasks      | elapsed: 360.2min\n",
            "[Parallel(n_jobs=-1)]: Done 557 tasks      | elapsed: 362.4min\n",
            "[Parallel(n_jobs=-1)]: Done 558 tasks      | elapsed: 362.7min\n",
            "[Parallel(n_jobs=-1)]: Done 559 tasks      | elapsed: 363.9min\n",
            "[Parallel(n_jobs=-1)]: Done 560 tasks      | elapsed: 364.2min\n",
            "[Parallel(n_jobs=-1)]: Done 561 tasks      | elapsed: 365.5min\n",
            "[Parallel(n_jobs=-1)]: Done 562 tasks      | elapsed: 365.8min\n",
            "[Parallel(n_jobs=-1)]: Done 563 tasks      | elapsed: 366.6min\n",
            "[Parallel(n_jobs=-1)]: Done 564 tasks      | elapsed: 366.8min\n",
            "[Parallel(n_jobs=-1)]: Done 565 tasks      | elapsed: 368.6min\n",
            "[Parallel(n_jobs=-1)]: Done 566 tasks      | elapsed: 368.7min\n",
            "[Parallel(n_jobs=-1)]: Done 567 tasks      | elapsed: 368.7min\n",
            "[Parallel(n_jobs=-1)]: Done 568 tasks      | elapsed: 368.9min\n",
            "[Parallel(n_jobs=-1)]: Done 569 tasks      | elapsed: 370.2min\n",
            "[Parallel(n_jobs=-1)]: Done 570 tasks      | elapsed: 370.4min\n",
            "[Parallel(n_jobs=-1)]: Done 571 tasks      | elapsed: 374.1min\n",
            "[Parallel(n_jobs=-1)]: Done 572 tasks      | elapsed: 374.2min\n",
            "[Parallel(n_jobs=-1)]: Done 573 tasks      | elapsed: 374.2min\n",
            "[Parallel(n_jobs=-1)]: Done 574 tasks      | elapsed: 374.3min\n",
            "[Parallel(n_jobs=-1)]: Done 575 tasks      | elapsed: 375.2min\n",
            "[Parallel(n_jobs=-1)]: Done 576 tasks      | elapsed: 375.3min\n",
            "[Parallel(n_jobs=-1)]: Done 577 tasks      | elapsed: 375.3min\n",
            "[Parallel(n_jobs=-1)]: Done 578 tasks      | elapsed: 375.4min\n",
            "[Parallel(n_jobs=-1)]: Done 579 tasks      | elapsed: 376.5min\n",
            "[Parallel(n_jobs=-1)]: Done 580 tasks      | elapsed: 376.7min\n",
            "[Parallel(n_jobs=-1)]: Done 581 tasks      | elapsed: 379.5min\n",
            "[Parallel(n_jobs=-1)]: Done 582 tasks      | elapsed: 379.5min\n",
            "[Parallel(n_jobs=-1)]: Done 583 tasks      | elapsed: 379.5min\n",
            "[Parallel(n_jobs=-1)]: Done 584 tasks      | elapsed: 379.5min\n",
            "[Parallel(n_jobs=-1)]: Done 585 tasks      | elapsed: 379.5min\n",
            "[Parallel(n_jobs=-1)]: Done 586 tasks      | elapsed: 379.7min\n",
            "[Parallel(n_jobs=-1)]: Done 587 tasks      | elapsed: 381.3min\n",
            "[Parallel(n_jobs=-1)]: Done 588 tasks      | elapsed: 381.6min\n",
            "[Parallel(n_jobs=-1)]: Done 589 tasks      | elapsed: 381.9min\n",
            "[Parallel(n_jobs=-1)]: Done 590 tasks      | elapsed: 381.9min\n",
            "[Parallel(n_jobs=-1)]: Done 591 tasks      | elapsed: 381.9min\n",
            "[Parallel(n_jobs=-1)]: Done 592 tasks      | elapsed: 382.2min\n",
            "[Parallel(n_jobs=-1)]: Done 593 tasks      | elapsed: 383.0min\n",
            "[Parallel(n_jobs=-1)]: Done 594 tasks      | elapsed: 383.3min\n",
            "[Parallel(n_jobs=-1)]: Done 595 tasks      | elapsed: 383.7min\n",
            "[Parallel(n_jobs=-1)]: Done 596 tasks      | elapsed: 383.9min\n",
            "[Parallel(n_jobs=-1)]: Done 597 tasks      | elapsed: 384.4min\n",
            "[Parallel(n_jobs=-1)]: Done 600 out of 600 | elapsed: 387.4min finished\n"
          ],
          "name": "stdout"
        },
        {
          "output_type": "execute_result",
          "data": {
            "text/plain": [
              "{'max_depth': 6,\n",
              " 'min_samples_leaf': 6,\n",
              " 'min_samples_split': 15,\n",
              " 'n_estimators': 400}"
            ]
          },
          "metadata": {
            "tags": []
          },
          "execution_count": 75
        }
      ]
    },
    {
      "cell_type": "code",
      "metadata": {
        "id": "lubuC8lAXieM"
      },
      "source": [
        "{'max_depth': 6,\n",
        " 'min_samples_leaf': 15,\n",
        " 'min_samples_split': 12,\n",
        " 'n_estimators': 1300}\n",
        " \n",
        "{'max_depth': 8,\n",
        "'min_samples_leaf': 12,\n",
        "'min_samples_split': 4,\n",
        "'n_estimators': 1099}\n",
        "\n",
        "{'max_depth': 6,\n",
        " 'min_samples_leaf': 6,\n",
        " 'min_samples_split': 15,\n",
        " 'n_estimators': 400}"
      ],
      "execution_count": null,
      "outputs": []
    },
    {
      "cell_type": "markdown",
      "metadata": {
        "id": "lSEhm7yDCAcC"
      },
      "source": [
        "### XGBoost Classifier"
      ]
    },
    {
      "cell_type": "code",
      "metadata": {
        "colab": {
          "base_uri": "https://localhost:8080/"
        },
        "id": "EXrgjs_sCC7s",
        "outputId": "0920f41b-a44b-430e-ff27-e3b7561fa2ad"
      },
      "source": [
        "xgb_clf = XGBClassifier()\n",
        "xgb_clf.fit(x_train, y_train)\n",
        "xgb_clf.score(x_test, y_test)"
      ],
      "execution_count": null,
      "outputs": [
        {
          "output_type": "execute_result",
          "data": {
            "text/plain": [
              "0.4588878183898356"
            ]
          },
          "metadata": {
            "tags": []
          },
          "execution_count": 154
        }
      ]
    },
    {
      "cell_type": "code",
      "metadata": {
        "colab": {
          "base_uri": "https://localhost:8080/"
        },
        "id": "h7phD6iVMu6l",
        "outputId": "ca6fef8f-4044-4ac2-ce95-a08bb457a0a5"
      },
      "source": [
        "np.random.seed(99)\n",
        "xgb_clf2 = XGBClassifier(\n",
        "                    objective='multi:softmax',\n",
        "                    num_class=12,\n",
        "                    verbosity=1, n_jobs=-1, max_depth=9, tree_method='gpu_hist')\n",
        "xgb_clf2.fit(x, y)"
      ],
      "execution_count": null,
      "outputs": [
        {
          "output_type": "execute_result",
          "data": {
            "text/plain": [
              "XGBClassifier(base_score=0.5, booster='gbtree', colsample_bylevel=1,\n",
              "              colsample_bynode=1, colsample_bytree=1, gamma=0,\n",
              "              learning_rate=0.1, max_delta_step=0, max_depth=9,\n",
              "              min_child_weight=1, missing=None, n_estimators=1620, n_jobs=-1,\n",
              "              nthread=None, num_class=12, objective='multi:softprob',\n",
              "              random_state=0, reg_alpha=0, reg_lambda=1, scale_pos_weight=1,\n",
              "              seed=None, silent=None, subsample=1, tree_method='gpu_hist',\n",
              "              verbosity=1)"
            ]
          },
          "metadata": {
            "tags": []
          },
          "execution_count": 73
        }
      ]
    },
    {
      "cell_type": "code",
      "metadata": {
        "id": "L43lfItACTDa"
      },
      "source": [
        "XGB_best_params = {\n",
        "    'n_estimators' : 400, \n",
        "    'max_depth' : 5, \n",
        "    'min_child_weight' : 1,\n",
        "    'gamma' : 0, \n",
        "    'subsample' : 0.8, \n",
        "    'colsamble_bytree' : 0.8,\n",
        "    'objective' : 'multi:softmax', \n",
        "    'num_class' : 12, \n",
        "    'tree_method' : 'hist'\n",
        "}\n"
      ],
      "execution_count": null,
      "outputs": []
    },
    {
      "cell_type": "code",
      "metadata": {
        "id": "5kfzu_nVVh89"
      },
      "source": [
        "np.random.seed(99)\n",
        "NFOLDS = 2\n",
        "kf = StratifiedKFold(n_splits= NFOLDS)"
      ],
      "execution_count": null,
      "outputs": []
    },
    {
      "cell_type": "code",
      "metadata": {
        "id": "WQPaX1YXVBQF"
      },
      "source": [
        "np.random.seed(99)\n",
        "\n",
        "xgb = XGBClassifier(objective='multi:softmax',\n",
        "                    num_class=12,\n",
        "                    verbosity=1, n_jobs=-1, tree_method='gpu_hist')\n",
        "\n",
        "xgb_rscv = RandomizedSearchCV(xgb, params, cv=kf.split(x, y), n_iter=36, verbose=66, n_jobs=-1)\n",
        "xgb_rscv.fit(x,y)\n",
        "print(xgb_rscv.best_params_)"
      ],
      "execution_count": null,
      "outputs": []
    },
    {
      "cell_type": "markdown",
      "metadata": {
        "id": "wRecNJq9CDSj"
      },
      "source": [
        "### LightGBM CLassifier"
      ]
    },
    {
      "cell_type": "code",
      "metadata": {
        "colab": {
          "base_uri": "https://localhost:8080/"
        },
        "id": "WGneNaWQCDns",
        "outputId": "9706230f-8fe4-478e-b775-f5371c9e7c23"
      },
      "source": [
        "lgb_clf = lgb.LGBMClassifier()\n",
        "lgb_clf.fit(x_train, y_train)\n",
        "lgb_clf.score(x_test, y_test)"
      ],
      "execution_count": null,
      "outputs": [
        {
          "output_type": "execute_result",
          "data": {
            "text/plain": [
              "0.6346119106400915"
            ]
          },
          "metadata": {
            "tags": []
          },
          "execution_count": 157
        }
      ]
    },
    {
      "cell_type": "code",
      "metadata": {
        "colab": {
          "base_uri": "https://localhost:8080/"
        },
        "id": "8xBetC1lCD9k",
        "outputId": "ca62c7a3-efdd-4074-8678-e7812053b55d"
      },
      "source": [
        "np.random.seed(99)\n",
        "lgb_clf2 = lgb.LGBMClassifier(n_estimators=3330, objective='multiclass')\n",
        "lgb_clf2.fit(x_train, y_train)\n",
        "lgb_clf2.score(x_test, y_test)"
      ],
      "execution_count": null,
      "outputs": [
        {
          "output_type": "execute_result",
          "data": {
            "text/plain": [
              "0.8684318796285412"
            ]
          },
          "metadata": {
            "tags": []
          },
          "execution_count": 74
        }
      ]
    },
    {
      "cell_type": "code",
      "metadata": {
        "id": "DQ7OK2ShUxgk"
      },
      "source": [
        "np.random.seed(99)\n",
        "NFOLDS = 2\n",
        "kf = StratifiedKFold(n_splits= NFOLDS, shuffle=False)"
      ],
      "execution_count": null,
      "outputs": []
    },
    {
      "cell_type": "code",
      "metadata": {
        "id": "fZW_LgTUCES0"
      },
      "source": [
        "lgb_grid = {\n",
        "        'num_leaves': np.arange(99,1000,99),\n",
        "        'min_child_weight': np.arange(0.01,1,0.01),\n",
        "        'feature_fraction': np.arange(0.1,0.54,0.09),\n",
        "        'bagging_fraction':np.arange(0.3,0.9,0.03),\n",
        "        'bagging_freq': np.arange(0, 50, 10),\n",
        "        'min_data_in_leaf': np.arange(100,1629,99),\n",
        "        'max_bin': np.arange(99, 369, 33),\n",
        "        'max_depth': np.arange(0, 1000, 36),\n",
        "        \"n_estimators\": np.arange(100, 2000, 150)\n",
        "}"
      ],
      "execution_count": null,
      "outputs": []
    },
    {
      "cell_type": "code",
      "metadata": {
        "colab": {
          "base_uri": "https://localhost:8080/"
        },
        "id": "c56yLSR-BuOD",
        "outputId": "e964d065-70fe-493a-9f89-755ae936c9d6"
      },
      "source": [
        "np.random.seed(99)\n",
        "\n",
        "fin_rs_lgbm = RandomizedSearchCV(lgb.LGBMClassifier(objective='multiclass', num_classes=12),\n",
        "                                 param_distributions=lgb_grid, cv=kf.split(x, y),\n",
        "                                 n_iter=72, verbose=72, n_jobs=-1)\n",
        "\n",
        "fin_rs_lgbm.fit(x, y)\n",
        "fin_rs_lgbm.best_params_"
      ],
      "execution_count": null,
      "outputs": [
        {
          "output_type": "stream",
          "text": [
            "Fitting 2 folds for each of 72 candidates, totalling 144 fits\n",
            "[Parallel(n_jobs=-1)]: Using backend LokyBackend with 2 concurrent workers.\n",
            "[Parallel(n_jobs=-1)]: Done   1 tasks      | elapsed:  3.8min\n",
            "[Parallel(n_jobs=-1)]: Done   2 tasks      | elapsed:  3.8min\n",
            "[Parallel(n_jobs=-1)]: Done   3 tasks      | elapsed:  8.0min\n",
            "[Parallel(n_jobs=-1)]: Done   4 tasks      | elapsed:  8.0min\n",
            "[Parallel(n_jobs=-1)]: Done   5 tasks      | elapsed: 18.0min\n",
            "[Parallel(n_jobs=-1)]: Done   6 tasks      | elapsed: 18.0min\n",
            "[Parallel(n_jobs=-1)]: Done   7 tasks      | elapsed: 20.9min\n",
            "[Parallel(n_jobs=-1)]: Done   8 tasks      | elapsed: 20.9min\n",
            "[Parallel(n_jobs=-1)]: Done   9 tasks      | elapsed: 38.6min\n",
            "[Parallel(n_jobs=-1)]: Done  10 tasks      | elapsed: 39.2min\n",
            "[Parallel(n_jobs=-1)]: Done  11 tasks      | elapsed: 47.2min\n",
            "[Parallel(n_jobs=-1)]: Done  12 tasks      | elapsed: 47.9min\n",
            "[Parallel(n_jobs=-1)]: Done  13 tasks      | elapsed: 58.5min\n",
            "[Parallel(n_jobs=-1)]: Done  14 tasks      | elapsed: 58.8min\n",
            "[Parallel(n_jobs=-1)]: Done  15 tasks      | elapsed: 73.4min\n",
            "[Parallel(n_jobs=-1)]: Done  16 tasks      | elapsed: 74.4min\n",
            "[Parallel(n_jobs=-1)]: Done  17 tasks      | elapsed: 92.9min\n",
            "[Parallel(n_jobs=-1)]: Done  18 tasks      | elapsed: 93.2min\n",
            "[Parallel(n_jobs=-1)]: Done  19 tasks      | elapsed: 112.3min\n",
            "[Parallel(n_jobs=-1)]: Done  20 tasks      | elapsed: 112.5min\n",
            "[Parallel(n_jobs=-1)]: Done  21 tasks      | elapsed: 114.9min\n",
            "[Parallel(n_jobs=-1)]: Done  22 tasks      | elapsed: 115.2min\n",
            "[Parallel(n_jobs=-1)]: Done  23 tasks      | elapsed: 133.3min\n",
            "[Parallel(n_jobs=-1)]: Done  24 tasks      | elapsed: 133.6min\n",
            "[Parallel(n_jobs=-1)]: Done  25 tasks      | elapsed: 137.1min\n",
            "[Parallel(n_jobs=-1)]: Done  26 tasks      | elapsed: 137.3min\n",
            "[Parallel(n_jobs=-1)]: Done  27 tasks      | elapsed: 149.2min\n",
            "[Parallel(n_jobs=-1)]: Done  28 tasks      | elapsed: 149.6min\n",
            "[Parallel(n_jobs=-1)]: Done  29 tasks      | elapsed: 154.2min\n",
            "[Parallel(n_jobs=-1)]: Done  30 tasks      | elapsed: 154.6min\n",
            "[Parallel(n_jobs=-1)]: Done  31 tasks      | elapsed: 161.0min\n",
            "[Parallel(n_jobs=-1)]: Done  32 tasks      | elapsed: 161.8min\n",
            "[Parallel(n_jobs=-1)]: Done  33 tasks      | elapsed: 173.4min\n",
            "[Parallel(n_jobs=-1)]: Done  34 tasks      | elapsed: 174.6min\n",
            "[Parallel(n_jobs=-1)]: Done  35 tasks      | elapsed: 176.8min\n",
            "[Parallel(n_jobs=-1)]: Done  36 tasks      | elapsed: 178.0min\n",
            "[Parallel(n_jobs=-1)]: Done  37 tasks      | elapsed: 187.8min\n",
            "[Parallel(n_jobs=-1)]: Done  38 tasks      | elapsed: 188.4min\n",
            "[Parallel(n_jobs=-1)]: Done  39 tasks      | elapsed: 198.4min\n",
            "[Parallel(n_jobs=-1)]: Done  40 tasks      | elapsed: 199.9min\n",
            "[Parallel(n_jobs=-1)]: Done  41 tasks      | elapsed: 203.9min\n",
            "[Parallel(n_jobs=-1)]: Done  42 tasks      | elapsed: 205.4min\n",
            "[Parallel(n_jobs=-1)]: Done  43 tasks      | elapsed: 210.3min\n",
            "[Parallel(n_jobs=-1)]: Done  44 tasks      | elapsed: 211.8min\n",
            "[Parallel(n_jobs=-1)]: Done  45 tasks      | elapsed: 234.5min\n",
            "[Parallel(n_jobs=-1)]: Done  46 tasks      | elapsed: 234.7min\n",
            "[Parallel(n_jobs=-1)]: Done  47 tasks      | elapsed: 239.1min\n",
            "[Parallel(n_jobs=-1)]: Done  48 tasks      | elapsed: 239.4min\n",
            "[Parallel(n_jobs=-1)]: Done  49 tasks      | elapsed: 243.6min\n",
            "[Parallel(n_jobs=-1)]: Done  50 tasks      | elapsed: 243.8min\n",
            "[Parallel(n_jobs=-1)]: Done  51 tasks      | elapsed: 248.0min\n",
            "[Parallel(n_jobs=-1)]: Done  52 tasks      | elapsed: 248.1min\n",
            "[Parallel(n_jobs=-1)]: Done  53 tasks      | elapsed: 270.8min\n",
            "[Parallel(n_jobs=-1)]: Done  54 tasks      | elapsed: 271.3min\n",
            "[Parallel(n_jobs=-1)]: Done  55 tasks      | elapsed: 275.7min\n",
            "[Parallel(n_jobs=-1)]: Done  56 tasks      | elapsed: 276.5min\n",
            "[Parallel(n_jobs=-1)]: Done  57 tasks      | elapsed: 277.1min\n",
            "[Parallel(n_jobs=-1)]: Done  58 tasks      | elapsed: 277.9min\n",
            "[Parallel(n_jobs=-1)]: Done  59 tasks      | elapsed: 286.2min\n",
            "[Parallel(n_jobs=-1)]: Done  60 tasks      | elapsed: 286.9min\n",
            "[Parallel(n_jobs=-1)]: Done  61 tasks      | elapsed: 288.7min\n",
            "[Parallel(n_jobs=-1)]: Done  62 tasks      | elapsed: 289.3min\n",
            "[Parallel(n_jobs=-1)]: Done  63 tasks      | elapsed: 289.6min\n",
            "[Parallel(n_jobs=-1)]: Done  64 tasks      | elapsed: 290.2min\n",
            "[Parallel(n_jobs=-1)]: Done  65 tasks      | elapsed: 290.3min\n",
            "[Parallel(n_jobs=-1)]: Done  66 tasks      | elapsed: 290.8min\n",
            "[Parallel(n_jobs=-1)]: Done  67 tasks      | elapsed: 299.0min\n",
            "[Parallel(n_jobs=-1)]: Done  68 tasks      | elapsed: 300.4min\n",
            "[Parallel(n_jobs=-1)]: Done  69 tasks      | elapsed: 301.8min\n",
            "[Parallel(n_jobs=-1)]: Done  70 tasks      | elapsed: 302.4min\n",
            "[Parallel(n_jobs=-1)]: Done  71 tasks      | elapsed: 303.1min\n",
            "[Parallel(n_jobs=-1)]: Done  72 tasks      | elapsed: 303.3min\n",
            "[Parallel(n_jobs=-1)]: Done  73 tasks      | elapsed: 318.0min\n",
            "[Parallel(n_jobs=-1)]: Done  74 tasks      | elapsed: 318.1min\n",
            "[Parallel(n_jobs=-1)]: Done  75 tasks      | elapsed: 326.9min\n",
            "[Parallel(n_jobs=-1)]: Done  76 tasks      | elapsed: 327.4min\n",
            "[Parallel(n_jobs=-1)]: Done  77 tasks      | elapsed: 340.8min\n",
            "[Parallel(n_jobs=-1)]: Done  78 tasks      | elapsed: 341.7min\n",
            "[Parallel(n_jobs=-1)]: Done  79 tasks      | elapsed: 345.9min\n",
            "[Parallel(n_jobs=-1)]: Done  80 tasks      | elapsed: 346.6min\n",
            "[Parallel(n_jobs=-1)]: Done  81 tasks      | elapsed: 361.4min\n",
            "[Parallel(n_jobs=-1)]: Done  82 tasks      | elapsed: 362.0min\n",
            "[Parallel(n_jobs=-1)]: Done  83 tasks      | elapsed: 366.1min\n",
            "[Parallel(n_jobs=-1)]: Done  84 tasks      | elapsed: 367.6min\n",
            "[Parallel(n_jobs=-1)]: Done  85 tasks      | elapsed: 382.0min\n",
            "[Parallel(n_jobs=-1)]: Done  86 tasks      | elapsed: 383.1min\n",
            "[Parallel(n_jobs=-1)]: Done  87 tasks      | elapsed: 383.8min\n",
            "[Parallel(n_jobs=-1)]: Done  88 tasks      | elapsed: 384.9min\n",
            "[Parallel(n_jobs=-1)]: Done  89 tasks      | elapsed: 405.5min\n",
            "[Parallel(n_jobs=-1)]: Done  90 tasks      | elapsed: 406.2min\n",
            "[Parallel(n_jobs=-1)]: Done  91 tasks      | elapsed: 418.7min\n",
            "[Parallel(n_jobs=-1)]: Done  92 tasks      | elapsed: 419.5min\n",
            "[Parallel(n_jobs=-1)]: Done  93 tasks      | elapsed: 431.5min\n",
            "[Parallel(n_jobs=-1)]: Done  94 tasks      | elapsed: 432.3min\n",
            "[Parallel(n_jobs=-1)]: Done  95 tasks      | elapsed: 438.2min\n",
            "[Parallel(n_jobs=-1)]: Done  96 tasks      | elapsed: 439.0min\n",
            "[Parallel(n_jobs=-1)]: Done  97 tasks      | elapsed: 446.4min\n",
            "[Parallel(n_jobs=-1)]: Done  98 tasks      | elapsed: 447.1min\n",
            "[Parallel(n_jobs=-1)]: Done  99 tasks      | elapsed: 450.8min\n",
            "[Parallel(n_jobs=-1)]: Done 100 tasks      | elapsed: 451.5min\n",
            "[Parallel(n_jobs=-1)]: Done 101 tasks      | elapsed: 451.5min\n",
            "[Parallel(n_jobs=-1)]: Done 102 tasks      | elapsed: 452.2min\n",
            "[Parallel(n_jobs=-1)]: Done 103 tasks      | elapsed: 462.4min\n",
            "[Parallel(n_jobs=-1)]: Done 104 tasks      | elapsed: 463.0min\n",
            "[Parallel(n_jobs=-1)]: Done 105 tasks      | elapsed: 468.1min\n",
            "[Parallel(n_jobs=-1)]: Done 106 tasks      | elapsed: 469.0min\n",
            "[Parallel(n_jobs=-1)]: Done 107 tasks      | elapsed: 477.6min\n",
            "[Parallel(n_jobs=-1)]: Done 108 tasks      | elapsed: 478.7min\n",
            "[Parallel(n_jobs=-1)]: Done 109 tasks      | elapsed: 486.5min\n",
            "[Parallel(n_jobs=-1)]: Done 110 tasks      | elapsed: 487.7min\n",
            "[Parallel(n_jobs=-1)]: Done 111 tasks      | elapsed: 519.6min\n",
            "[Parallel(n_jobs=-1)]: Done 112 tasks      | elapsed: 519.6min\n",
            "[Parallel(n_jobs=-1)]: Done 113 tasks      | elapsed: 541.9min\n",
            "[Parallel(n_jobs=-1)]: Done 114 tasks      | elapsed: 542.2min\n",
            "[Parallel(n_jobs=-1)]: Done 115 tasks      | elapsed: 544.7min\n",
            "[Parallel(n_jobs=-1)]: Done 116 tasks      | elapsed: 545.1min\n",
            "[Parallel(n_jobs=-1)]: Done 117 tasks      | elapsed: 560.3min\n",
            "[Parallel(n_jobs=-1)]: Done 118 tasks      | elapsed: 560.7min\n",
            "[Parallel(n_jobs=-1)]: Done 119 tasks      | elapsed: 576.3min\n",
            "[Parallel(n_jobs=-1)]: Done 120 tasks      | elapsed: 576.4min\n",
            "[Parallel(n_jobs=-1)]: Done 121 tasks      | elapsed: 580.3min\n",
            "[Parallel(n_jobs=-1)]: Done 122 tasks      | elapsed: 580.4min\n",
            "[Parallel(n_jobs=-1)]: Done 123 tasks      | elapsed: 580.8min\n",
            "[Parallel(n_jobs=-1)]: Done 124 tasks      | elapsed: 581.0min\n",
            "[Parallel(n_jobs=-1)]: Done 125 tasks      | elapsed: 583.0min\n",
            "[Parallel(n_jobs=-1)]: Done 126 tasks      | elapsed: 583.2min\n",
            "[Parallel(n_jobs=-1)]: Done 127 tasks      | elapsed: 602.3min\n",
            "[Parallel(n_jobs=-1)]: Done 128 tasks      | elapsed: 602.3min\n",
            "[Parallel(n_jobs=-1)]: Done 129 tasks      | elapsed: 613.9min\n",
            "[Parallel(n_jobs=-1)]: Done 130 tasks      | elapsed: 614.0min\n",
            "[Parallel(n_jobs=-1)]: Done 131 tasks      | elapsed: 614.3min\n",
            "[Parallel(n_jobs=-1)]: Done 132 tasks      | elapsed: 614.5min\n",
            "[Parallel(n_jobs=-1)]: Done 133 tasks      | elapsed: 618.6min\n",
            "[Parallel(n_jobs=-1)]: Done 134 tasks      | elapsed: 618.6min\n",
            "[Parallel(n_jobs=-1)]: Done 135 tasks      | elapsed: 631.0min\n",
            "[Parallel(n_jobs=-1)]: Done 136 tasks      | elapsed: 631.0min\n",
            "[Parallel(n_jobs=-1)]: Done 137 tasks      | elapsed: 642.5min\n",
            "[Parallel(n_jobs=-1)]: Done 138 tasks      | elapsed: 642.8min\n",
            "[Parallel(n_jobs=-1)]: Done 139 tasks      | elapsed: 645.2min\n",
            "[Parallel(n_jobs=-1)]: Done 140 tasks      | elapsed: 645.6min\n",
            "[Parallel(n_jobs=-1)]: Done 141 tasks      | elapsed: 657.5min\n",
            "[Parallel(n_jobs=-1)]: Done 144 out of 144 | elapsed: 665.7min remaining:    0.0s\n",
            "[Parallel(n_jobs=-1)]: Done 144 out of 144 | elapsed: 665.7min finished\n"
          ],
          "name": "stdout"
        },
        {
          "output_type": "execute_result",
          "data": {
            "text/plain": [
              "{'bagging_fraction': 0.3,\n",
              " 'bagging_freq': 30,\n",
              " 'feature_fraction': 0.19,\n",
              " 'max_bin': 132,\n",
              " 'max_depth': 180,\n",
              " 'min_child_weight': 0.74,\n",
              " 'min_data_in_leaf': 397,\n",
              " 'n_estimators': 100,\n",
              " 'num_leaves': 594}"
            ]
          },
          "metadata": {
            "tags": []
          },
          "execution_count": 74
        }
      ]
    },
    {
      "cell_type": "code",
      "metadata": {
        "id": "cIv57Zc85F13"
      },
      "source": [
        "lgbm_best_params = {\n",
        "    'bagging_fraction': 0.3,\n",
        "    'bagging_freq': 30,\n",
        "    'feature_fraction': 0.19,\n",
        "    'max_bin': 132,\n",
        "    'max_depth': 180,\n",
        "    'min_child_weight': 0.74,\n",
        "    'min_data_in_leaf': 397,\n",
        "    'n_estimators': 100,\n",
        "    'num_leaves': 594\n",
        "}"
      ],
      "execution_count": null,
      "outputs": []
    },
    {
      "cell_type": "code",
      "metadata": {
        "colab": {
          "base_uri": "https://localhost:8080/"
        },
        "id": "jL5cIljRCFDp",
        "outputId": "372a2f77-32c3-4de2-a39c-ae266d1fd241"
      },
      "source": [
        "fin_lgbm = lgb.LGBMClassifier(objective='multiclass', num_classes=12, num_leaves=190, \n",
        "                              n_estimators=999, min_child_weight=0.11,\n",
        "                              min_data_in_leaf=950, feature_fraction=0.14999999999999997, \n",
        "                              bagging_fraction=0.4100000000000001)\n",
        "\n",
        "fin_lgbm.fit(x, y)"
      ],
      "execution_count": null,
      "outputs": [
        {
          "output_type": "execute_result",
          "data": {
            "text/plain": [
              "LGBMClassifier(bagging_fraction=0.4100000000000001, boosting_type='gbdt',\n",
              "               class_weight=None, colsample_bytree=1.0,\n",
              "               feature_fraction=0.14999999999999997, importance_type='split',\n",
              "               learning_rate=0.1, max_depth=-1, min_child_samples=20,\n",
              "               min_child_weight=0.11, min_data_in_leaf=950, min_split_gain=0.0,\n",
              "               n_estimators=3333, n_jobs=-1, num_classes=12, num_leaves=190,\n",
              "               objective='multiclass', random_state=None, reg_alpha=0.0,\n",
              "               reg_lambda=0.0, silent=True, subsample=1.0,\n",
              "               subsample_for_bin=200000, subsample_freq=0)"
            ]
          },
          "metadata": {
            "tags": []
          },
          "execution_count": 74
        }
      ]
    },
    {
      "cell_type": "markdown",
      "metadata": {
        "id": "BZ1o_5PgrsB0"
      },
      "source": [
        "### StackingClassifier"
      ]
    },
    {
      "cell_type": "code",
      "metadata": {
        "id": "yHigLjp4r3f6"
      },
      "source": [
        "lgbm_clf = lgb.LGBMClassifier(objective='multiclass', num_classes=12, num_leaves=594, \n",
        "                              n_estimators=100, min_child_weight=0.74,\n",
        "                              min_data_in_leaf=397, feature_fraction=0.19, \n",
        "                              bagging_fraction=0.3, bagging_freq=30, max_bin=132, max_depth=180, boosting_type='dart')"
      ],
      "execution_count": null,
      "outputs": []
    },
    {
      "cell_type": "code",
      "metadata": {
        "id": "bL7EQlmAr3FB"
      },
      "source": [
        "{'max_depth': 6,\n",
        " 'min_samples_leaf': 6,\n",
        " 'min_samples_split': 15,\n",
        " 'n_estimators': 400}\n",
        "rf_clf = RandomForestClassifier(max_depth=6, min_samples_leaf=6,\n",
        "                                 min_samples_split=15, n_estimators=400)"
      ],
      "execution_count": null,
      "outputs": []
    },
    {
      "cell_type": "code",
      "metadata": {
        "id": "ll5-cS_lr2JA"
      },
      "source": [
        "xgb_clf = XGBClassifier(n_estimators=400, \n",
        "                        max_depth=5, \n",
        "                        min_child_weight=1,\n",
        "                        gamma=0, \n",
        "                        subsample=0.8, \n",
        "                        colsamble_bytree=0.8,\n",
        "                        objective='multi:softmax', \n",
        "                        num_class=12, \n",
        "                        tree_method='hist'\n",
        "                        )"
      ],
      "execution_count": null,
      "outputs": []
    },
    {
      "cell_type": "code",
      "metadata": {
        "id": "eLfm_NhzvCgu"
      },
      "source": [
        "fin_est = lgb.LGBMClassifier(n_estimators=3333)"
      ],
      "execution_count": null,
      "outputs": []
    },
    {
      "cell_type": "code",
      "metadata": {
        "id": "mwlkusS6rxJT",
        "colab": {
          "base_uri": "https://localhost:8080/"
        },
        "outputId": "cc00b22c-64b5-4713-fec5-3ee7648d1d47"
      },
      "source": [
        "np.random.seed(99)\n",
        "\n",
        "estimators = [\n",
        "   ('rf', rf_clf),\n",
        "   ('lgm', lgbm_clf),\n",
        "   ('xgb', xgb_clf),\n",
        "   ('knn', KNeighborsClassifier())]\n",
        "\n",
        "s_clf = StackingClassifier(estimators=estimators,\n",
        "                           n_jobs=-1, passthrough=True)\n",
        "\n",
        "# s_clf.fit(x_train, y_train).score(x_test, y_test)\n",
        "s_clf.fit(x, y)"
      ],
      "execution_count": null,
      "outputs": [
        {
          "output_type": "execute_result",
          "data": {
            "text/plain": [
              "StackingClassifier(cv=None,\n",
              "                   estimators=[('rf',\n",
              "                                RandomForestClassifier(bootstrap=True,\n",
              "                                                       ccp_alpha=0.0,\n",
              "                                                       class_weight=None,\n",
              "                                                       criterion='gini',\n",
              "                                                       max_depth=6,\n",
              "                                                       max_features='auto',\n",
              "                                                       max_leaf_nodes=None,\n",
              "                                                       max_samples=None,\n",
              "                                                       min_impurity_decrease=0.0,\n",
              "                                                       min_impurity_split=None,\n",
              "                                                       min_samples_leaf=6,\n",
              "                                                       min_samples_split=15,\n",
              "                                                       min_weight_fraction_leaf=0.0,\n",
              "                                                       n_estimators=400,\n",
              "                                                       n_jobs=None,\n",
              "                                                       o...\n",
              "                                              random_state=0, reg_alpha=0,\n",
              "                                              reg_lambda=1, scale_pos_weight=1,\n",
              "                                              seed=None, silent=None,\n",
              "                                              subsample=0.8, tree_method='hist',\n",
              "                                              verbosity=1)),\n",
              "                               ('knn',\n",
              "                                KNeighborsClassifier(algorithm='auto',\n",
              "                                                     leaf_size=30,\n",
              "                                                     metric='minkowski',\n",
              "                                                     metric_params=None,\n",
              "                                                     n_jobs=None, n_neighbors=5,\n",
              "                                                     p=2, weights='uniform'))],\n",
              "                   final_estimator=None, n_jobs=-1, passthrough=True,\n",
              "                   stack_method='auto', verbose=0)"
            ]
          },
          "metadata": {
            "tags": []
          },
          "execution_count": 76
        }
      ]
    },
    {
      "cell_type": "markdown",
      "metadata": {
        "id": "mnyXnkYGLVq7"
      },
      "source": [
        "# Making Submission File"
      ]
    },
    {
      "cell_type": "markdown",
      "metadata": {
        "id": "J5TL0YoD-AAh"
      },
      "source": [
        "* Now we'll predict on test data"
      ]
    },
    {
      "cell_type": "code",
      "metadata": {
        "id": "Zb8tkNnW-Equ"
      },
      "source": [
        "np.random.seed(99)\n",
        "test_pred = s_clf.predict_proba(test)"
      ],
      "execution_count": null,
      "outputs": []
    },
    {
      "cell_type": "code",
      "metadata": {
        "colab": {
          "base_uri": "https://localhost:8080/"
        },
        "id": "XQ94h3AFOQXA",
        "outputId": "782fef84-05d6-47bd-a2e4-4b99273cb94d"
      },
      "source": [
        "test_pred"
      ],
      "execution_count": null,
      "outputs": [
        {
          "output_type": "execute_result",
          "data": {
            "text/plain": [
              "array([[9.99236581e-01, 1.63825225e-06, 1.40170394e-04, ...,\n",
              "        3.74725531e-05, 5.35518985e-05, 2.89583363e-05],\n",
              "       [9.28720573e-03, 7.02399277e-01, 1.02131560e-01, ...,\n",
              "        9.46080566e-03, 1.40870840e-02, 7.16841636e-03],\n",
              "       [9.99185812e-01, 1.68308154e-06, 1.50759314e-04, ...,\n",
              "        3.95862906e-05, 5.66199888e-05, 3.06308279e-05],\n",
              "       ...,\n",
              "       [9.99259732e-01, 1.67678238e-06, 1.35224932e-04, ...,\n",
              "        3.66302894e-05, 5.23377477e-05, 2.82652268e-05],\n",
              "       [9.99918089e-01, 9.25031287e-08, 1.33759272e-05, ...,\n",
              "        4.59938467e-06, 6.43398570e-06, 3.65888028e-06],\n",
              "       [9.99917478e-01, 9.35765049e-08, 1.34778109e-05, ...,\n",
              "        4.63276768e-06, 6.48147195e-06, 3.68524591e-06]])"
            ]
          },
          "metadata": {
            "tags": []
          },
          "execution_count": 78
        }
      ]
    },
    {
      "cell_type": "code",
      "metadata": {
        "colab": {
          "base_uri": "https://localhost:8080/"
        },
        "id": "qRIINIwutYNk",
        "outputId": "1b30a434-9324-4dcc-b04a-ce88e46114d7"
      },
      "source": [
        "test_df_id = pd.read_csv(\"/content/drive/My Drive/DataSets/airbnb-new-user/test.csv\")\n",
        "test_df_id = test_df_id[\"id\"]\n",
        "len(test_df_id)"
      ],
      "execution_count": null,
      "outputs": [
        {
          "output_type": "execute_result",
          "data": {
            "text/plain": [
              "43314"
            ]
          },
          "metadata": {
            "tags": []
          },
          "execution_count": 79
        }
      ]
    },
    {
      "cell_type": "code",
      "metadata": {
        "id": "e5XiiP8n9-QQ"
      },
      "source": [
        "ids = []\n",
        "cts = []\n",
        "for i in range(len(test_df_id)):\n",
        "    idx = test_df_id[i]\n",
        "    ids += [idx] * 3\n",
        "    cts += (np.argsort(test_pred[i])[::-1])[:3].tolist()"
      ],
      "execution_count": null,
      "outputs": []
    },
    {
      "cell_type": "code",
      "metadata": {
        "colab": {
          "base_uri": "https://localhost:8080/",
          "height": 419
        },
        "id": "Y1OGzRNV_arG",
        "outputId": "cdf52c01-3ffd-41c9-bf4c-0cee6ace8d97"
      },
      "source": [
        "sub = pd.DataFrame(np.column_stack((ids, cts)), columns=['id', 'country_destination'])\n",
        "sub"
      ],
      "execution_count": null,
      "outputs": [
        {
          "output_type": "execute_result",
          "data": {
            "text/html": [
              "<div>\n",
              "<style scoped>\n",
              "    .dataframe tbody tr th:only-of-type {\n",
              "        vertical-align: middle;\n",
              "    }\n",
              "\n",
              "    .dataframe tbody tr th {\n",
              "        vertical-align: top;\n",
              "    }\n",
              "\n",
              "    .dataframe thead th {\n",
              "        text-align: right;\n",
              "    }\n",
              "</style>\n",
              "<table border=\"1\" class=\"dataframe\">\n",
              "  <thead>\n",
              "    <tr style=\"text-align: right;\">\n",
              "      <th></th>\n",
              "      <th>id</th>\n",
              "      <th>country_destination</th>\n",
              "    </tr>\n",
              "  </thead>\n",
              "  <tbody>\n",
              "    <tr>\n",
              "      <th>0</th>\n",
              "      <td>f3g7ae12j0</td>\n",
              "      <td>0</td>\n",
              "    </tr>\n",
              "    <tr>\n",
              "      <th>1</th>\n",
              "      <td>f3g7ae12j0</td>\n",
              "      <td>2</td>\n",
              "    </tr>\n",
              "    <tr>\n",
              "      <th>2</th>\n",
              "      <td>f3g7ae12j0</td>\n",
              "      <td>3</td>\n",
              "    </tr>\n",
              "    <tr>\n",
              "      <th>3</th>\n",
              "      <td>ks0uq0sd8x</td>\n",
              "      <td>1</td>\n",
              "    </tr>\n",
              "    <tr>\n",
              "      <th>4</th>\n",
              "      <td>ks0uq0sd8x</td>\n",
              "      <td>2</td>\n",
              "    </tr>\n",
              "    <tr>\n",
              "      <th>...</th>\n",
              "      <td>...</td>\n",
              "      <td>...</td>\n",
              "    </tr>\n",
              "    <tr>\n",
              "      <th>129937</th>\n",
              "      <td>jh95kwisub</td>\n",
              "      <td>2</td>\n",
              "    </tr>\n",
              "    <tr>\n",
              "      <th>129938</th>\n",
              "      <td>jh95kwisub</td>\n",
              "      <td>3</td>\n",
              "    </tr>\n",
              "    <tr>\n",
              "      <th>129939</th>\n",
              "      <td>nw9fwlyb5f</td>\n",
              "      <td>0</td>\n",
              "    </tr>\n",
              "    <tr>\n",
              "      <th>129940</th>\n",
              "      <td>nw9fwlyb5f</td>\n",
              "      <td>2</td>\n",
              "    </tr>\n",
              "    <tr>\n",
              "      <th>129941</th>\n",
              "      <td>nw9fwlyb5f</td>\n",
              "      <td>3</td>\n",
              "    </tr>\n",
              "  </tbody>\n",
              "</table>\n",
              "<p>129942 rows × 2 columns</p>\n",
              "</div>"
            ],
            "text/plain": [
              "                id country_destination\n",
              "0       f3g7ae12j0                   0\n",
              "1       f3g7ae12j0                   2\n",
              "2       f3g7ae12j0                   3\n",
              "3       ks0uq0sd8x                   1\n",
              "4       ks0uq0sd8x                   2\n",
              "...            ...                 ...\n",
              "129937  jh95kwisub                   2\n",
              "129938  jh95kwisub                   3\n",
              "129939  nw9fwlyb5f                   0\n",
              "129940  nw9fwlyb5f                   2\n",
              "129941  nw9fwlyb5f                   3\n",
              "\n",
              "[129942 rows x 2 columns]"
            ]
          },
          "metadata": {
            "tags": []
          },
          "execution_count": 81
        }
      ]
    },
    {
      "cell_type": "code",
      "metadata": {
        "id": "j7HSZiNxA18s"
      },
      "source": [
        "country_reverse_encoding = { '0' : 'NDF', '1' : 'US', '2' : 'other', '3' : 'FR', '4' : 'CA', '5' : 'GB', '6' : 'ES', '7' : 'IT', \n",
        "                    '8' : 'PT', '9' : 'NL', '10' : 'DE', '11' : 'AU'}\n",
        "\n",
        "sub[\"country_destination\"] = sub[\"country_destination\"].map(str)\n",
        "\n",
        "new = sub.loc[:, \"country_destination\"]\n",
        "new = new.to_frame()\n",
        "for data in [new]:\n",
        "    data['country_destination'] = data['country_destination'].apply(lambda x: country_reverse_encoding[x])\n",
        "sub[\"country_destination\"] = new[\"country_destination\"]"
      ],
      "execution_count": null,
      "outputs": []
    },
    {
      "cell_type": "code",
      "metadata": {
        "colab": {
          "base_uri": "https://localhost:8080/",
          "height": 419
        },
        "id": "P13i9_hCE2Ub",
        "outputId": "170bd2b5-9aa4-4b18-9574-4b9ea54b52d7"
      },
      "source": [
        "sub"
      ],
      "execution_count": null,
      "outputs": [
        {
          "output_type": "execute_result",
          "data": {
            "text/html": [
              "<div>\n",
              "<style scoped>\n",
              "    .dataframe tbody tr th:only-of-type {\n",
              "        vertical-align: middle;\n",
              "    }\n",
              "\n",
              "    .dataframe tbody tr th {\n",
              "        vertical-align: top;\n",
              "    }\n",
              "\n",
              "    .dataframe thead th {\n",
              "        text-align: right;\n",
              "    }\n",
              "</style>\n",
              "<table border=\"1\" class=\"dataframe\">\n",
              "  <thead>\n",
              "    <tr style=\"text-align: right;\">\n",
              "      <th></th>\n",
              "      <th>id</th>\n",
              "      <th>country_destination</th>\n",
              "    </tr>\n",
              "  </thead>\n",
              "  <tbody>\n",
              "    <tr>\n",
              "      <th>0</th>\n",
              "      <td>f3g7ae12j0</td>\n",
              "      <td>NDF</td>\n",
              "    </tr>\n",
              "    <tr>\n",
              "      <th>1</th>\n",
              "      <td>f3g7ae12j0</td>\n",
              "      <td>other</td>\n",
              "    </tr>\n",
              "    <tr>\n",
              "      <th>2</th>\n",
              "      <td>f3g7ae12j0</td>\n",
              "      <td>FR</td>\n",
              "    </tr>\n",
              "    <tr>\n",
              "      <th>3</th>\n",
              "      <td>ks0uq0sd8x</td>\n",
              "      <td>US</td>\n",
              "    </tr>\n",
              "    <tr>\n",
              "      <th>4</th>\n",
              "      <td>ks0uq0sd8x</td>\n",
              "      <td>other</td>\n",
              "    </tr>\n",
              "    <tr>\n",
              "      <th>...</th>\n",
              "      <td>...</td>\n",
              "      <td>...</td>\n",
              "    </tr>\n",
              "    <tr>\n",
              "      <th>129937</th>\n",
              "      <td>jh95kwisub</td>\n",
              "      <td>other</td>\n",
              "    </tr>\n",
              "    <tr>\n",
              "      <th>129938</th>\n",
              "      <td>jh95kwisub</td>\n",
              "      <td>FR</td>\n",
              "    </tr>\n",
              "    <tr>\n",
              "      <th>129939</th>\n",
              "      <td>nw9fwlyb5f</td>\n",
              "      <td>NDF</td>\n",
              "    </tr>\n",
              "    <tr>\n",
              "      <th>129940</th>\n",
              "      <td>nw9fwlyb5f</td>\n",
              "      <td>other</td>\n",
              "    </tr>\n",
              "    <tr>\n",
              "      <th>129941</th>\n",
              "      <td>nw9fwlyb5f</td>\n",
              "      <td>FR</td>\n",
              "    </tr>\n",
              "  </tbody>\n",
              "</table>\n",
              "<p>129942 rows × 2 columns</p>\n",
              "</div>"
            ],
            "text/plain": [
              "                id country_destination\n",
              "0       f3g7ae12j0                 NDF\n",
              "1       f3g7ae12j0               other\n",
              "2       f3g7ae12j0                  FR\n",
              "3       ks0uq0sd8x                  US\n",
              "4       ks0uq0sd8x               other\n",
              "...            ...                 ...\n",
              "129937  jh95kwisub               other\n",
              "129938  jh95kwisub                  FR\n",
              "129939  nw9fwlyb5f                 NDF\n",
              "129940  nw9fwlyb5f               other\n",
              "129941  nw9fwlyb5f                  FR\n",
              "\n",
              "[129942 rows x 2 columns]"
            ]
          },
          "metadata": {
            "tags": []
          },
          "execution_count": 83
        }
      ]
    },
    {
      "cell_type": "code",
      "metadata": {
        "id": "1t28W-7O_bxV"
      },
      "source": [
        "sub.to_csv('s_clf_16.csv', index=False)"
      ],
      "execution_count": null,
      "outputs": []
    }
  ]
}